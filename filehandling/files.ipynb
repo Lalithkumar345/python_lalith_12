{
 "cells": [
  {
   "cell_type": "markdown",
   "metadata": {},
   "source": [
    "FILE HANDLING:\n",
    "\n",
    "CREATE FILE \n",
    "OPEN FILE\n",
    "OPERATOR\n",
    "  .WRITE(W)\n",
    "  .READ(R)\n",
    "  .APPEND(A)\n",
    "  CURSER POINTER=FP.TELL()\n",
    "  CHANGE THE CUSOR POSITION=FP.SEAK(VALUE)\n",
    "SAVE FILE\n",
    "CLOSE FILE\n",
    "\n",
    "OPEN FILE =FP=OPEN(\"FILE PATH.EXTENSION\",OPERATION MODE)\n",
    "\n",
    "CLOSE FILE=FP.CLOSE()\n",
    "WRITE     =WRITE(DATA)\n",
    "           WRITELINE([DATA,DATA,DATA])\n",
    "REAL      =READ()\n",
    "           READ LINE()\n",
    "           READ LINES()\n",
    "\n",
    "FILES :\n",
    "    .FLAT FILE\n",
    "    .BINARY FILE\n",
    "\n",
    "MODES:\n",
    "     .FLAT FILE MODE\n",
    "         .BASIC MODE \n",
    "           .WRITE(W)\n",
    "           .READ(R)\n",
    "           .APPEND(A)\n",
    "         .ADWANCE MODE\n",
    "           .WRITE+READ(W+)\n",
    "           .REAL+APPEND(R+)\n",
    "           .APPEND+READ(A+)\n",
    "      .BINARY FILES MODE\n",
    "          .BASIC MODE\n",
    "             .BINARY WRITE(WRITE)\n",
    "             .BINARY READ(RB)\n",
    "             .BINARY APPEND(AB)\n",
    "          .ADWANCED MODE\n",
    "             .WRITE+READ(WB+)\n",
    "             .READ+APPEND(RB+)\n",
    "             .APPEND+READ(AB+)"
   ]
  },
  {
   "cell_type": "code",
   "execution_count": 2,
   "metadata": {},
   "outputs": [
    {
     "name": "stdout",
     "output_type": "stream",
     "text": [
      "<_io.TextIOWrapper name='file1.txt' mode='w' encoding='cp1252'>\n"
     ]
    }
   ],
   "source": [
    "#open the new file or existing file\n",
    "#it will accept the file path address with extension.\n",
    "#it provide the mode(it will take permission from the operating system)\n",
    "#it will return the file pointer address(file wrapper)\n",
    "fp=open('file1.txt','w')\n",
    "print(fp)\n",
    "\n",
    "# it will close the file pointer connection  \n",
    "fp.close()\n"
   ]
  },
  {
   "cell_type": "code",
   "execution_count": 4,
   "metadata": {},
   "outputs": [],
   "source": [
    "fp=open('file1.txt','w')\n",
    "fp.write('hello everyone')\n",
    "fp.close()"
   ]
  },
  {
   "cell_type": "code",
   "execution_count": 6,
   "metadata": {},
   "outputs": [
    {
     "name": "stdout",
     "output_type": "stream",
     "text": [
      "hello everyone\n"
     ]
    }
   ],
   "source": [
    "fp=open('file1.txt','r')\n",
    "res=fp.read()\n",
    "print(res)\n",
    "fp.close()"
   ]
  },
  {
   "cell_type": "code",
   "execution_count": 7,
   "metadata": {},
   "outputs": [],
   "source": [
    "fp=open('file1.txt','a')\n",
    "fp.write('today file handling')\n",
    "fp.close()"
   ]
  },
  {
   "cell_type": "code",
   "execution_count": 8,
   "metadata": {},
   "outputs": [
    {
     "name": "stdout",
     "output_type": "stream",
     "text": [
      "0\n",
      "40\n"
     ]
    }
   ],
   "source": [
    "fp=open('file2.txt','w')\n",
    "print(fp.tell())\n",
    "fp.write('python is a dynamic programming language')\n",
    "print(fp.tell())\n",
    "fp.close()"
   ]
  },
  {
   "cell_type": "code",
   "execution_count": 9,
   "metadata": {},
   "outputs": [
    {
     "name": "stdout",
     "output_type": "stream",
     "text": [
      "0\n",
      "python is a dynamic programming language\n",
      "40\n"
     ]
    }
   ],
   "source": [
    "fp=open('file2.txt','r')\n",
    "print(fp.tell())\n",
    "res=fp.read()\n",
    "print(res)\n",
    "print(fp.tell())\n",
    "fp.close()"
   ]
  },
  {
   "cell_type": "code",
   "execution_count": 10,
   "metadata": {},
   "outputs": [
    {
     "name": "stdout",
     "output_type": "stream",
     "text": [
      "40\n",
      "80\n"
     ]
    }
   ],
   "source": [
    "fp=open('file2.txt','a')\n",
    "print(fp.tell())\n",
    "fp.write('python is a dynamic programming language')\n",
    "print(fp.tell())\n",
    "fp.close()"
   ]
  },
  {
   "cell_type": "code",
   "execution_count": 11,
   "metadata": {},
   "outputs": [],
   "source": [
    "fp=open('file3.txt','w')\n",
    "fp.write('hello haii \\nhow are you')\n",
    "fp.close()"
   ]
  },
  {
   "cell_type": "code",
   "execution_count": 12,
   "metadata": {},
   "outputs": [],
   "source": [
    "fp=open('file3.txt','w')\n",
    "fp.write('123455678890')\n",
    "fp.close()"
   ]
  },
  {
   "cell_type": "code",
   "execution_count": 15,
   "metadata": {},
   "outputs": [
    {
     "name": "stdout",
     "output_type": "stream",
     "text": [
      "0\n",
      "40\n",
      "0\n",
      "python is a dynamic programming language\n",
      "40\n"
     ]
    }
   ],
   "source": [
    "fp=open('file4.txt','w+')\n",
    "print(fp.tell())\n",
    "fp.write('python is a dynamic programming language')\n",
    "print(fp.tell())\n",
    "fp.seek(0)\n",
    "print(fp.tell())\n",
    "res=fp.read()\n",
    "print(res)\n",
    "print(fp.tell())\n",
    "fp.close()\n"
   ]
  },
  {
   "cell_type": "code",
   "execution_count": 16,
   "metadata": {},
   "outputs": [
    {
     "name": "stdout",
     "output_type": "stream",
     "text": [
      "0\n",
      "python is a dynamic programming language\n",
      "40\n",
      "51\n",
      "python is a dynamic programming languagehello world\n",
      "51\n"
     ]
    }
   ],
   "source": [
    "fp=open('file4.txt','r+')\n",
    "print(fp.tell())\n",
    "res=fp.read()\n",
    "print(res)\n",
    "print(fp.tell())\n",
    "fp.write('hello world')\n",
    "print(fp.tell())\n",
    "fp.seek(0)\n",
    "res=fp.read()\n",
    "print(res)\n",
    "print(fp.tell())\n",
    "fp.close()\n"
   ]
  },
  {
   "cell_type": "code",
   "execution_count": 28,
   "metadata": {},
   "outputs": [
    {
     "name": "stdout",
     "output_type": "stream",
     "text": [
      "494\n",
      "534\n",
      "0\n",
      "python is a dynamic programming languagehello world\n",
      " python is a dynamic programming language\n",
      " java is a static programming language\n",
      " java is a static programming language\n",
      " java is a static programming language\n",
      " java is a static programming language\n",
      " java is a static programming language\n",
      " java is a static programming language\n",
      " java is a static programming language\n",
      " java is a static programming language\n",
      " java is a static programming language\n",
      " java is a static programming language\n",
      " java is a static programming language\n",
      "534\n"
     ]
    }
   ],
   "source": [
    "fp=open('file4.txt','a+')\n",
    "print(fp.tell())\n",
    "fp.write('\\n java is a static programming language')\n",
    "print(fp.tell())\n",
    "fp.seek(0)\n",
    "print(fp.tell())\n",
    "res=fp.read()\n",
    "print(res)\n",
    "print(fp.tell())\n",
    "fp.close()"
   ]
  },
  {
   "cell_type": "code",
   "execution_count": 9,
   "metadata": {},
   "outputs": [
    {
     "name": "stdout",
     "output_type": "stream",
     "text": [
      "python is a dynamic programming languagehello world\n",
      " python is a dynamic programming language\n",
      " java is a static programming language\n",
      " java is a static programming language\n",
      " java is a static programming language\n",
      " java is a static programming language\n",
      " java is a static programming language\n",
      " java is a static programming language\n",
      " java is a static programming language\n",
      " java is a static programming language\n",
      " java is a static programming language\n",
      " java is a static programming language\n",
      " java is a static programming language\n",
      "c is a programming language\n",
      "c is a programming language \n",
      "c is programming language\n",
      " c is a programming language \n",
      " c is programming language\n",
      "c is a programming language\n",
      "c is a programming language\n"
     ]
    },
    {
     "data": {
      "text/plain": [
       "<function TextIOWrapper.close()>"
      ]
     },
     "execution_count": 9,
     "metadata": {},
     "output_type": "execute_result"
    }
   ],
   "source": [
    "fp=open('file4.txt','a+')\n",
    "fp.write('\\nc is a programming language')\n",
    "fp.seek(0)\n",
    "res=fp.read()  #it returns list of all the libes in string format\n",
    "print(res)\n",
    "fp.close"
   ]
  },
  {
   "cell_type": "code",
   "execution_count": 6,
   "metadata": {},
   "outputs": [
    {
     "name": "stdout",
     "output_type": "stream",
     "text": [
      "python is a dynamic programming languagehello world\n",
      "\n"
     ]
    }
   ],
   "source": [
    "fp=open('file4.txt','a+')\n",
    "fp.write('\\n c is a programming language ')\n",
    "fp.seek(0)\n",
    "res=fp.readline()#it returns first line\n",
    "print(res)\n",
    "fp.close()"
   ]
  },
  {
   "cell_type": "code",
   "execution_count": 10,
   "metadata": {},
   "outputs": [
    {
     "name": "stdout",
     "output_type": "stream",
     "text": [
      "['python is a dynamic programming languagehello world\\n', ' python is a dynamic programming language\\n', ' java is a static programming language\\n', ' java is a static programming language\\n', ' java is a static programming language\\n', ' java is a static programming language\\n', ' java is a static programming language\\n', ' java is a static programming language\\n', ' java is a static programming language\\n', ' java is a static programming language\\n', ' java is a static programming language\\n', ' java is a static programming language\\n', ' java is a static programming language\\n', 'c is a programming language\\n', 'c is a programming language \\n', 'c is programming language\\n', ' c is a programming language \\n', ' c is programming language\\n', 'c is a programming language\\n', 'c is a programming language\\n', ' c is programming language']\n"
     ]
    }
   ],
   "source": [
    "fp=open('file4.txt','a+')\n",
    "fp.write('\\n c is programming language')\n",
    "fp.seek(0)\n",
    "res=fp.readlines() #it returns list of all the lines in list format\n",
    "print(res)\n",
    "fp.close()"
   ]
  },
  {
   "cell_type": "code",
   "execution_count": 15,
   "metadata": {},
   "outputs": [
    {
     "name": "stdout",
     "output_type": "stream",
     "text": [
      "python is a dynamic programming languagehello world\n",
      " python is a dynamic programming language\n",
      " java is a static programming language\n",
      " java is a static programming language\n",
      " java is a static programmin\n"
     ]
    }
   ],
   "source": [
    "fp=open('file4.txt','a+')\n",
    "fp.write('\\nc is a programming language')\n",
    "fp.seek(0)\n",
    "res=fp.read(200) #it returns characters based on size\n",
    "print(res)\n",
    "fp.close()"
   ]
  },
  {
   "cell_type": "code",
   "execution_count": 16,
   "metadata": {},
   "outputs": [],
   "source": [
    "fp=open('file5.txt','w')\n",
    "fp.write('c is a programming language')\n",
    "fp.close()\n",
    "#write() will accept only string format data"
   ]
  },
  {
   "cell_type": "code",
   "execution_count": 17,
   "metadata": {},
   "outputs": [],
   "source": [
    "fp=open('file5.txt','a')\n",
    "fp.writelines(['\\n java is a programming language','\\nc++ is static language'])\n",
    "fp.close()\n",
    "\n",
    "#writelines()"
   ]
  },
  {
   "cell_type": "code",
   "execution_count": null,
   "metadata": {},
   "outputs": [],
   "source": []
  }
 ],
 "metadata": {
  "kernelspec": {
   "display_name": "Python 3",
   "language": "python",
   "name": "python3"
  },
  "language_info": {
   "codemirror_mode": {
    "name": "ipython",
    "version": 3
   },
   "file_extension": ".py",
   "mimetype": "text/x-python",
   "name": "python",
   "nbconvert_exporter": "python",
   "pygments_lexer": "ipython3",
   "version": "3.11.4"
  }
 },
 "nbformat": 4,
 "nbformat_minor": 2
}
