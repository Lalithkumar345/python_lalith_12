{
 "cells": [
  {
   "cell_type": "code",
   "execution_count": 1,
   "metadata": {},
   "outputs": [
    {
     "name": "stdout",
     "output_type": "stream",
     "text": [
      "19 * 1 = 19\n",
      "19 * 2 = 38\n",
      "19 * 3 = 57\n",
      "19 * 4 = 76\n",
      "19 * 5 = 95\n",
      "19 * 6 = 114\n",
      "19 * 7 = 133\n",
      "19 * 8 = 152\n",
      "19 * 9 = 171\n",
      "19 * 10 = 190\n"
     ]
    }
   ],
   "source": [
    "def table(n):\n",
    "    for i in range(1,11):\n",
    "        print(n , \"*\", i, \"=\", n * i)\n",
    "n=19\n",
    "(table(n))"
   ]
  },
  {
   "cell_type": "code",
   "execution_count": 2,
   "metadata": {},
   "outputs": [
    {
     "name": "stdout",
     "output_type": "stream",
     "text": [
      "SrEdIpSyP\n"
     ]
    }
   ],
   "source": [
    "def reverse(a):\n",
    "    s=\"\"\n",
    "    for i in range(len(a)-1,-1,-1):\n",
    "        if i%2==0:\n",
    "            s+=a[i]\n",
    "        else:\n",
    "            s+=a[i].lower()\n",
    "    return s\n",
    "a=\"PYSPIDERS\"\n",
    "print(reverse(a))"
   ]
  },
  {
   "cell_type": "code",
   "execution_count": 3,
   "metadata": {},
   "outputs": [
    {
     "name": "stdout",
     "output_type": "stream",
     "text": [
      "factorial of 2 = 2\n",
      "factorial of 3 = 6\n",
      "factorial of 4 = 24\n",
      "factorial of 5 = 120\n",
      "factorial of 6 = 720\n",
      "factorial of 7 = 5040\n",
      "factorial of 8 = 40320\n",
      "factorial of 9 = 362880\n",
      "factorial of 10 = 3628800\n"
     ]
    }
   ],
   "source": [
    "def factorial(num):\n",
    "    if num == 0 or num == 1:\n",
    "        return 1\n",
    "    else:\n",
    "        return num * factorial(num - 1)\n",
    "def fact(start, end):\n",
    "    for i in range(start, end + 1):\n",
    "        fact = factorial(i)\n",
    "        print(\"factorial of\" , i ,\"=\",fact)\n",
    "s=2\n",
    "e=10\n",
    "fact(s,e)"
   ]
  },
  {
   "cell_type": "code",
   "execution_count": 4,
   "metadata": {},
   "outputs": [
    {
     "name": "stdout",
     "output_type": "stream",
     "text": [
      "{'I': 2, 'love': 2, 'india': 1, 'my': 1, 'country': 1}\n"
     ]
    }
   ],
   "source": [
    "def word_frequency(a):\n",
    "    a = a.split()\n",
    "    d = {}\n",
    "    for i in a:\n",
    "        d [i] = d.get(i, 0) + 1\n",
    "    return d\n",
    "a = \"I love india I love my country\"\n",
    "result = word_frequency(a)\n",
    "print(result)"
   ]
  },
  {
   "cell_type": "code",
   "execution_count": 6,
   "metadata": {},
   "outputs": [
    {
     "name": "stdout",
     "output_type": "stream",
     "text": [
      "{1: 1, 2: 8, 3: 27, 4: 64, 5: 125, 6: 216, 7: 343, 8: 512}\n"
     ]
    }
   ],
   "source": [
    "def cube(n):\n",
    "    d={}\n",
    "    for i in range(1,n):\n",
    "        d[i] = i**3\n",
    "    print(d)\n",
    "n=9\n",
    "(cube(n))"
   ]
  },
  {
   "cell_type": "code",
   "execution_count": 7,
   "metadata": {},
   "outputs": [
    {
     "name": "stdout",
     "output_type": "stream",
     "text": [
      "0 1 1 2 3 5 8 13 21 "
     ]
    }
   ],
   "source": [
    "n=int(input())\n",
    "a, b = 0, 1\n",
    "print(a, b, end=\" \")\n",
    "while a <= n:  \n",
    "    c = a + b\n",
    "    print(c, end=\" \")\n",
    "    a, b = b, c"
   ]
  },
  {
   "cell_type": "code",
   "execution_count": 8,
   "metadata": {},
   "outputs": [
    {
     "name": "stdout",
     "output_type": "stream",
     "text": [
      "6\n",
      "28\n",
      "496\n"
     ]
    }
   ],
   "source": [
    "a,b=1,1800\n",
    "for i in range(a,b+1):\n",
    "    s = 0\n",
    "    for j in range(1, i):\n",
    "        if i % j == 0:\n",
    "            s += j\n",
    "    if s == i:\n",
    "        print(i)"
   ]
  },
  {
   "cell_type": "code",
   "execution_count": 9,
   "metadata": {},
   "outputs": [
    {
     "name": "stdout",
     "output_type": "stream",
     "text": [
      "{'l': 2, 'a': 2, 'k': 2, 's': 1, 'h': 1, 'm': 1, 'n': 1, ' ': 1, 'u': 1, 'c': 1, 'y': 1}\n"
     ]
    }
   ],
   "source": [
    "a = \"lakshman lucky\"\n",
    "d={}\n",
    "for i in a:\n",
    "    d[i] = a.count(i)\n",
    "print(d)"
   ]
  }
 ],
 "metadata": {
  "kernelspec": {
   "display_name": "Python 3",
   "language": "python",
   "name": "python3"
  },
  "language_info": {
   "codemirror_mode": {
    "name": "ipython",
    "version": 3
   },
   "file_extension": ".py",
   "mimetype": "text/x-python",
   "name": "python",
   "nbconvert_exporter": "python",
   "pygments_lexer": "ipython3",
   "version": "3.11.4"
  },
  "orig_nbformat": 4
 },
 "nbformat": 4,
 "nbformat_minor": 2
}
