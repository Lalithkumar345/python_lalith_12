{
 "cells": [
  {
   "cell_type": "code",
   "execution_count": 5,
   "metadata": {},
   "outputs": [
    {
     "name": "stdout",
     "output_type": "stream",
     "text": [
      "<sqlite3.Connection object at 0x0000020D430F0F40>\n",
      "<sqlite3.Cursor object at 0x0000020D4309B9C0>\n"
     ]
    },
    {
     "data": {
      "text/plain": [
       "<sqlite3.Cursor at 0x20d4309b9c0>"
      ]
     },
     "execution_count": 5,
     "metadata": {},
     "output_type": "execute_result"
    }
   ],
   "source": [
    "import sqlite3 as sq     #import the sqlite3 module\n",
    "db=sq.connect('employee')  #create the connection in btw sqlite3 to python\n",
    "print(db)\n",
    "cus=db.cursor()   #create the sqlite3 cursor inside the python\n",
    "print(cus)\n",
    "cus.execute(\"create table employee(id int ,name varchar(20))\")   #to execute the qurey\n",
    "cus.executemany(\"create table employee(id int ,name varchar(20))\")  #to execute the multiple query's\n",
    "cus.fetchall() #it convert sql data to python data and it will fetch all the records\n",
    "cus.fetchone()  # it convert sql data to python data and it will fetch only one the records\n",
    "cus.fetchmany() #it convert sql data to python data and it will fetch  the records based on size\n",
    "db.commit  # to save all the transcations\n",
    "db.close # close the connection\n",
    "\n"
   ]
  },
  {
   "cell_type": "code",
   "execution_count": 17,
   "metadata": {},
   "outputs": [],
   "source": [
    "#configuration\n",
    "\n",
    "db=sq.connect('student.sqlite3')\n",
    "cur=db.cursor()"
   ]
  },
  {
   "cell_type": "code",
   "execution_count": 18,
   "metadata": {},
   "outputs": [
    {
     "ename": "OperationalError",
     "evalue": "table student already exists",
     "output_type": "error",
     "traceback": [
      "\u001b[1;31m---------------------------------------------------------------------------\u001b[0m",
      "\u001b[1;31mOperationalError\u001b[0m                          Traceback (most recent call last)",
      "\u001b[1;32mc:\\Users\\lvlyl\\OneDrive\\Documents\\GitHub\\python_lalith_12\\sqlconnection.ipynb Cell 3\u001b[0m line \u001b[0;36m9\n\u001b[0;32m      <a href='vscode-notebook-cell:/c%3A/Users/lvlyl/OneDrive/Documents/GitHub/python_lalith_12/sqlconnection.ipynb#W4sZmlsZQ%3D%3D?line=0'>1</a>\u001b[0m query\u001b[39m=\u001b[39m\u001b[39m'''\u001b[39m\u001b[39mcreate table student(\u001b[39m\n\u001b[0;32m      <a href='vscode-notebook-cell:/c%3A/Users/lvlyl/OneDrive/Documents/GitHub/python_lalith_12/sqlconnection.ipynb#W4sZmlsZQ%3D%3D?line=1'>2</a>\u001b[0m \u001b[39msid int primary key,\u001b[39m\n\u001b[0;32m      <a href='vscode-notebook-cell:/c%3A/Users/lvlyl/OneDrive/Documents/GitHub/python_lalith_12/sqlconnection.ipynb#W4sZmlsZQ%3D%3D?line=2'>3</a>\u001b[0m \u001b[39mname varchar(50),\u001b[39m\n\u001b[1;32m   (...)\u001b[0m\n\u001b[0;32m      <a href='vscode-notebook-cell:/c%3A/Users/lvlyl/OneDrive/Documents/GitHub/python_lalith_12/sqlconnection.ipynb#W4sZmlsZQ%3D%3D?line=6'>7</a>\u001b[0m \u001b[39maddress varchar(100),\u001b[39m\n\u001b[0;32m      <a href='vscode-notebook-cell:/c%3A/Users/lvlyl/OneDrive/Documents/GitHub/python_lalith_12/sqlconnection.ipynb#W4sZmlsZQ%3D%3D?line=7'>8</a>\u001b[0m \u001b[39mmarks int)\u001b[39m\u001b[39m'''\u001b[39m\n\u001b[1;32m----> <a href='vscode-notebook-cell:/c%3A/Users/lvlyl/OneDrive/Documents/GitHub/python_lalith_12/sqlconnection.ipynb#W4sZmlsZQ%3D%3D?line=8'>9</a>\u001b[0m cur\u001b[39m.\u001b[39;49mexecute(query)\n\u001b[0;32m     <a href='vscode-notebook-cell:/c%3A/Users/lvlyl/OneDrive/Documents/GitHub/python_lalith_12/sqlconnection.ipynb#W4sZmlsZQ%3D%3D?line=9'>10</a>\u001b[0m \u001b[39mprint\u001b[39m(cur\u001b[39m.\u001b[39mrowcount,\u001b[39m\"\u001b[39m\u001b[39mroe affected\u001b[39m\u001b[39m\"\u001b[39m)\n",
      "\u001b[1;31mOperationalError\u001b[0m: table student already exists"
     ]
    }
   ],
   "source": [
    "query='''create table student(\n",
    "sid int primary key,\n",
    "name varchar(50),\n",
    "age int,\n",
    "email varchar(50) unique,\n",
    "phone bigint number,\n",
    "address varchar(100),\n",
    "marks int)'''\n",
    "cur.execute(query)\n",
    "print(cur.rowcount,\"roe affected\")"
   ]
  },
  {
   "cell_type": "code",
   "execution_count": 16,
   "metadata": {},
   "outputs": [
    {
     "name": "stdout",
     "output_type": "stream",
     "text": [
      "1 row created\n"
     ]
    }
   ],
   "source": [
    "query='''insert into student(sid,name,age,email,phone,address,marks)\n",
    "values(2,'gopi',26,'gopi@gmail.com',9977554422,'hyd',98)'''\n",
    "cur.execute(query)\n",
    "print(cur.rowcount,\"row created\")\n",
    "db.commit()"
   ]
  },
  {
   "cell_type": "code",
   "execution_count": 19,
   "metadata": {},
   "outputs": [
    {
     "name": "stdout",
     "output_type": "stream",
     "text": [
      "(2, 'gopi', 26, 'gopi@gmail.com', 9977554422, 'hyd', 98)\n"
     ]
    }
   ],
   "source": [
    "query='''select * from student'''\n",
    "cur.execute(query)\n",
    "res=cur.fetchall()\n",
    "for i in res:\n",
    "    print(i)\n"
   ]
  },
  {
   "cell_type": "code",
   "execution_count": 20,
   "metadata": {},
   "outputs": [
    {
     "name": "stdout",
     "output_type": "stream",
     "text": [
      "1 row updated\n"
     ]
    }
   ],
   "source": [
    "query='''update student set email='kumar@gmail.com' where sid=2'''\n",
    "cur.execute(query)\n",
    "print(cur.rowcount,\"row updated\")\n"
   ]
  },
  {
   "cell_type": "code",
   "execution_count": 22,
   "metadata": {},
   "outputs": [
    {
     "name": "stdout",
     "output_type": "stream",
     "text": [
      "(2, 'gopi', 26, 'kumar@gmail.com', 9977554422, 'hyd', 98)\n"
     ]
    }
   ],
   "source": [
    "query='''select * from student'''\n",
    "cur.execute(query)\n",
    "res=cur.fetchall()\n",
    "for i in res:\n",
    "    print(i)\n"
   ]
  },
  {
   "cell_type": "code",
   "execution_count": 23,
   "metadata": {},
   "outputs": [
    {
     "name": "stdout",
     "output_type": "stream",
     "text": [
      "1 row delete\n"
     ]
    }
   ],
   "source": [
    "query='''delete  from student  where sid=2'''\n",
    "cur.execute(query)\n",
    "print(cur.rowcount,\"row delete\")\n"
   ]
  },
  {
   "cell_type": "code",
   "execution_count": 24,
   "metadata": {},
   "outputs": [
    {
     "data": {
      "text/plain": [
       "[]"
      ]
     },
     "execution_count": 24,
     "metadata": {},
     "output_type": "execute_result"
    }
   ],
   "source": [
    "cur.fetchmany()"
   ]
  },
  {
   "cell_type": "code",
   "execution_count": 25,
   "metadata": {},
   "outputs": [
    {
     "name": "stdout",
     "output_type": "stream",
     "text": [
      "0 row created\n"
     ]
    }
   ],
   "source": [
    "def insert_record(sid,name,age,email,phone,address,marks):\n",
    "    query='''insert into student(sid,name,age,email,phone,address,marks)\n",
    "values(?,?,?,?,?,?,?)'''\n",
    "cur.execute(query)\n",
    "print(cur.rowcount,\"row created\")\n",
    "db.commit()\n",
    "insert_record(2,'gopi',26,'gopi@gmail.com',9977554422,'hyd',98)\n"
   ]
  },
  {
   "cell_type": "code",
   "execution_count": null,
   "metadata": {},
   "outputs": [],
   "source": [
    "def fetch_record():\n",
    "    query='''select * from student'''\n",
    "    cur"
   ]
  },
  {
   "cell_type": "code",
   "execution_count": null,
   "metadata": {},
   "outputs": [],
   "source": [
    "def update_record(sid,phone):\n",
    "    query=''' update student set phone=? where sid=?'''\n",
    "    val=[sid]\n",
    "    "
   ]
  }
 ],
 "metadata": {
  "kernelspec": {
   "display_name": "Python 3",
   "language": "python",
   "name": "python3"
  },
  "language_info": {
   "codemirror_mode": {
    "name": "ipython",
    "version": 3
   },
   "file_extension": ".py",
   "mimetype": "text/x-python",
   "name": "python",
   "nbconvert_exporter": "python",
   "pygments_lexer": "ipython3",
   "version": "3.11.4"
  }
 },
 "nbformat": 4,
 "nbformat_minor": 2
}
