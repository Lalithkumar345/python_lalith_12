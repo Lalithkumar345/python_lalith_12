{
 "cells": [
  {
   "cell_type": "code",
   "execution_count": 1,
   "metadata": {},
   "outputs": [
    {
     "name": "stdout",
     "output_type": "stream",
     "text": [
      "0\n",
      "1\n",
      "2\n",
      "3\n",
      "4\n",
      "5\n",
      "6\n",
      "7\n",
      "8\n",
      "9\n"
     ]
    }
   ],
   "source": [
    "for num in range(0,10):\n",
    "    print(num)\n",
    "\n"
   ]
  },
  {
   "cell_type": "code",
   "execution_count": 4,
   "metadata": {},
   "outputs": [
    {
     "name": "stdout",
     "output_type": "stream",
     "text": [
      "haii\n",
      "hello\n",
      "bye\n"
     ]
    }
   ],
   "source": [
    "lalith=[\"haii\", \"hello\", \"bye\"]\n",
    "for  lalith  in lalith:\n",
    "    print(lalith)\n"
   ]
  },
  {
   "cell_type": "code",
   "execution_count": 13,
   "metadata": {},
   "outputs": [
    {
     "name": "stdout",
     "output_type": "stream",
     "text": [
      "pendrive\n"
     ]
    }
   ],
   "source": [
    "st=[\"pendrive\"]\n",
    "for st in (st):\n",
    "    print(st)"
   ]
  },
  {
   "cell_type": "code",
   "execution_count": 37,
   "metadata": {},
   "outputs": [
    {
     "name": "stdout",
     "output_type": "stream",
     "text": [
      "6\n"
     ]
    }
   ],
   "source": [
    "a=3\n",
    "\n",
    "s=1\n",
    "for i in range(1,a+1):\n",
    "    s*=i\n",
    "print(s)    "
   ]
  },
  {
   "cell_type": "code",
   "execution_count": 39,
   "metadata": {},
   "outputs": [
    {
     "name": "stdout",
     "output_type": "stream",
     "text": [
      "2540\n"
     ]
    }
   ],
   "source": [
    "a=2540\n",
    "for a in range(a,a+1):\n",
    "    print(a)"
   ]
  },
  {
   "cell_type": "code",
   "execution_count": 64,
   "metadata": {},
   "outputs": [
    {
     "name": "stdout",
     "output_type": "stream",
     "text": [
      "1\n"
     ]
    }
   ],
   "source": [
    "a=\"2542134\"\n",
    "na=9\n",
    "for i in (a):\n",
    "    if(int(i)<na):\n",
    "        na=int(i)\n",
    "print(na)"
   ]
  },
  {
   "cell_type": "code",
   "execution_count": 6,
   "metadata": {},
   "outputs": [
    {
     "name": "stdout",
     "output_type": "stream",
     "text": [
      "invalid\n",
      "invalid\n",
      "invalid\n",
      "invalid\n",
      "invalid\n",
      "invalid\n",
      "invalid\n",
      "invalid\n",
      "invalid\n",
      "invalid pw\n"
     ]
    }
   ],
   "source": [
    "st=input()\n",
    "num=''\n",
    "sp=''\n",
    "lw=''\n",
    "up=''\n",
    "for i in st:\n",
    "    if type(st)==str and 8<=len(st)<=20 and 'A'<=st[0]<='Z' or 'A'<=st[-1]<='Z':\n",
    "        if 'a'<=i<='z':\n",
    "            lw+=i\n",
    "        elif '0'<=i<='9':\n",
    "            num+=i\n",
    "        elif not('a'<=i<='z' or 'A'<=i<='Z' or '0'<=i<='9' or '.' or '()' or '[]' or '{}' or ' '):\n",
    "            sp+=i\n",
    "        elif 'A'<=i<='Z':\n",
    "            up+=i\n",
    "    if len(num)>=1 and len(sp)>=2 and 1<=len(lw)<=5 and len(up)>=2:\n",
    "        print('valid')\n",
    "    else:\n",
    "        print('invalid')\n",
    "else:\n",
    "    print('invalid pw')"
   ]
  },
  {
   "cell_type": "code",
   "execution_count": null,
   "metadata": {},
   "outputs": [],
   "source": []
  },
  {
   "cell_type": "code",
   "execution_count": 46,
   "metadata": {},
   "outputs": [
    {
     "name": "stdout",
     "output_type": "stream",
     "text": [
      "4\n"
     ]
    }
   ],
   "source": [
    "a=\"2054\"\n",
    "b=len(a)\n",
    "print(b)"
   ]
  },
  {
   "cell_type": "code",
   "execution_count": 10,
   "metadata": {},
   "outputs": [
    {
     "name": "stdout",
     "output_type": "stream",
     "text": [
      "invalid\n",
      "invalid\n"
     ]
    }
   ],
   "source": [
    "a=\"Lalith@12#K\"\n",
    "u=''\n",
    "l=''\n",
    "n=''\n",
    "sp=''\n",
    "\n",
    "\n",
    "if(type(a)==str and 8<=len(a)<=20 and 'A'<=a[0]<='Z' and 'A'<=a[-1]<='Z'):\n",
    " \n",
    "    for i in a:\n",
    "        if('A'<=i<='Z'):\n",
    "            u+=i\n",
    "        elif('a'<=i<='z'):\n",
    "            l+=i\n",
    "        elif('0'<=i<='9'):\n",
    "            n+=i\n",
    "        elif(i not in '  . () [] {}'):\n",
    "            sp+=i\n",
    "            if(len(u)>=2 and len(1<=len(l)<=5) and len(n)>=1 and len(sp)>=2):\n",
    "                print(\"valid\")\n",
    "            else:\n",
    "                print(\"invalid\")\n",
    "    "
   ]
  },
  {
   "cell_type": "code",
   "execution_count": 2,
   "metadata": {},
   "outputs": [
    {
     "name": "stdout",
     "output_type": "stream",
     "text": [
      "{'L': 1, 'a': 2, 'l': 1, 'i': 1, 't': 1, 'h': 1, ' ': 1, 'k': 1, 'u': 1, 'm': 1, 'r': 1}\n"
     ]
    }
   ],
   "source": [
    "a=\"Lalith kumar\"\n",
    "d={}\n",
    "for i in a:\n",
    "    d[i]=a.count(i)\n",
    "print(d)"
   ]
  },
  {
   "cell_type": "code",
   "execution_count": 15,
   "metadata": {},
   "outputs": [
    {
     "name": "stdout",
     "output_type": "stream",
     "text": [
      "laith\n",
      "[['l', 2], ['a', 1], ['i', 1], ['t', 1], ['h', 1]]\n",
      "1\n",
      "1\n"
     ]
    }
   ],
   "source": [
    "a=\"lalith\"\n",
    "b=\"\"\n",
    "count=0\n",
    "for i in a:\n",
    "    if(i not in b):\n",
    "        b+=i\n",
    "print(b) \n",
    "l=[]\n",
    "for i in b:\n",
    "    count=0\n",
    "    for j in a:\n",
    "        if i==j:\n",
    "            count+=1\n",
    "    l+=[[i,count]]\n",
    "print(l)\n",
    "u=dict(l)\n",
    "print(u[\"t\"]) \n",
    "print(count)           \n",
    "       \n"
   ]
  },
  {
   "cell_type": "code",
   "execution_count": 12,
   "metadata": {},
   "outputs": [
    {
     "name": "stdout",
     "output_type": "stream",
     "text": [
      "{'h': 1, 'e': 1, 'l': 3, 'o': 2, ' ': 1, 'w': 1, 'r': 1, 'd': 1}\n",
      "{1: ['h', 'e', ' ', 'w', 'r', 'd'], 3: ['l'], 2: ['o']}\n"
     ]
    }
   ],
   "source": [
    "st='hello world'\n",
    "d={}\n",
    "for i in st:\n",
    "    if i not in d:\n",
    "        d[i]=1\n",
    "    else:\n",
    "        d[i]+=1\n",
    "print(d)\n",
    "res={}\n",
    "for j in d:\n",
    "    if d[j] not in res: \n",
    "       res[d[j]]=[j]\n",
    "    else:\n",
    "        res[d[j]]+=[j]\n",
    "print(res)"
   ]
  },
  {
   "cell_type": "code",
   "execution_count": 25,
   "metadata": {},
   "outputs": [
    {
     "name": "stdout",
     "output_type": "stream",
     "text": [
      "{'h': 1, 'e': 1, 'l': 3, 'o': 2, ' ': 1, 'w': 1, 'r': 1, 'd': 1}\n",
      "h 1\n",
      "6\n"
     ]
    }
   ],
   "source": [
    "st='hello world'\n",
    "d={}\n",
    "#count=0\n",
    "for i in st:\n",
    "    if i not in d:\n",
    "        d[i]=1\n",
    "    else:\n",
    "        d[i]+=1\n",
    "       \n",
    "print(d)\n",
    "u=[]\n",
    "min=len(st)\n",
    "ch=None\n",
    "for i in d:\n",
    "    if(min>d[i]):\n",
    "        min=d[i]\n",
    "        ch=i\n",
    "    elif(min==d[i]):\n",
    "        u+=[[i,d[i]]]\n",
    "u+=[[ch,min]]\n",
    "print(ch,min)\n",
    "print(len(u))             "
   ]
  },
  {
   "cell_type": "code",
   "execution_count": 30,
   "metadata": {},
   "outputs": [
    {
     "name": "stdout",
     "output_type": "stream",
     "text": [
      "htilal\n"
     ]
    }
   ],
   "source": [
    "a=\"lalith\"\n",
    "res=\"\"\n",
    "\n",
    "for i in a:\n",
    "   res=i+res\n",
    "   \n",
    "print(res)    \n",
    "    "
   ]
  },
  {
   "cell_type": "code",
   "execution_count": 35,
   "metadata": {},
   "outputs": [
    {
     "name": "stdout",
     "output_type": "stream",
     "text": [
      "not a palindrom\n"
     ]
    }
   ],
   "source": [
    "a=\"lalith\"\n",
    "res=\"\"\n",
    "\n",
    "for i in a:\n",
    "   res=i+res\n",
    "if(st==res):\n",
    "   \n",
    "    print(\"palindrom\")\n",
    "else:\n",
    "    print(\"not a palindrom\") "
   ]
  },
  {
   "cell_type": "code",
   "execution_count": 27,
   "metadata": {},
   "outputs": [
    {
     "name": "stdout",
     "output_type": "stream",
     "text": [
      "j\n",
      "ja\n",
      "jag\n",
      "jaga\n",
      "jagat\n",
      "jagath\n"
     ]
    }
   ],
   "source": [
    "a=\"jagath\"\n",
    "count=1\n",
    "for i in a:\n",
    "    print(a[0:count])  \n",
    "    count+=1  \n"
   ]
  },
  {
   "cell_type": "code",
   "execution_count": 50,
   "metadata": {},
   "outputs": [
    {
     "name": "stdout",
     "output_type": "stream",
     "text": [
      "\n",
      "a\n",
      "al\n",
      "ali\n",
      "alit\n",
      "alith\n"
     ]
    }
   ],
   "source": [
    "\n",
    "count=1\n",
    "for i in  \"lalith\":\n",
    "    print(\"lalith\"[1:count])\n",
    "    count+=1\n",
    "    \n",
    "        \n",
    "    "
   ]
  },
  {
   "cell_type": "code",
   "execution_count": 59,
   "metadata": {},
   "outputs": [
    {
     "name": "stdout",
     "output_type": "stream",
     "text": [
      "list[range]\n",
      "list[range]\n",
      "list[range]\n",
      "list[range]\n",
      "list[range]\n",
      "list[range]\n",
      "list[range]\n",
      "list[range]\n",
      "list[range]\n",
      "list[range]\n"
     ]
    }
   ],
   "source": [
    "for i in range(0,10):\n",
    "    print(list[range])\n",
    " \n"
   ]
  },
  {
   "cell_type": "code",
   "execution_count": 69,
   "metadata": {},
   "outputs": [
    {
     "name": "stdout",
     "output_type": "stream",
     "text": [
      "\n",
      "l\n",
      "le\n",
      "lev\n",
      "leve\n",
      "level\n"
     ]
    }
   ],
   "source": [
    "st=\"level\"\n",
    "for i in range(0,len(st)+1):\n",
    "    print(st[0:i])"
   ]
  },
  {
   "cell_type": "code",
   "execution_count": 65,
   "metadata": {},
   "outputs": [
    {
     "name": "stdout",
     "output_type": "stream",
     "text": [
      "l\n",
      "le\n",
      "lev\n",
      "leve\n",
      "level\n"
     ]
    }
   ],
   "source": [
    "a=\"level\"\n",
    "res=\"\"\n",
    "for i in range(0,len(st)):\n",
    "    res+=st[i]\n",
    "    print(res)"
   ]
  },
  {
   "cell_type": "code",
   "execution_count": 81,
   "metadata": {},
   "outputs": [
    {
     "name": "stdout",
     "output_type": "stream",
     "text": [
      "l\n",
      "le\n",
      "lev\n",
      "leve\n",
      "level\n",
      "e\n",
      "ev\n",
      "eve\n",
      "evel\n",
      "v\n",
      "ve\n",
      "vel\n",
      "e\n",
      "el\n",
      "l\n"
     ]
    }
   ],
   "source": [
    "st=\"level\"\n",
    "for j in range(0,len(st)):\n",
    "    for i in range(j+1,len(st)+1):\n",
    "        print(st[j:i])"
   ]
  },
  {
   "cell_type": "markdown",
   "metadata": {},
   "source": [
    "FOR LOOP QUESTIONS\n"
   ]
  },
  {
   "cell_type": "code",
   "execution_count": 11,
   "metadata": {},
   "outputs": [
    {
     "name": "stdout",
     "output_type": "stream",
     "text": [
      "t\n",
      "h\n",
      "k\n",
      "u\n"
     ]
    }
   ],
   "source": [
    "#1.WAP to print all the items present in the string between the range from m to n.\n",
    "l=\"lalithkumar\"\n",
    "for i in range(4,8):\n",
    "    print(l[i])\n",
    "\n"
   ]
  },
  {
   "cell_type": "code",
   "execution_count": 15,
   "metadata": {},
   "outputs": [
    {
     "name": "stdout",
     "output_type": "stream",
     "text": [
      "L\n",
      "A\n",
      "L\n",
      "I\n",
      "T\n",
      "H\n"
     ]
    }
   ],
   "source": [
    "#2. WAP to print the uppercase characters in a given string.\n",
    "l=\"LALITHkumar1223@#$$%\"\n",
    "for i in l:\n",
    "    if(\"A\"<=i<=\"Z\"):\n",
    "        print(i)\n"
   ]
  },
  {
   "cell_type": "code",
   "execution_count": 20,
   "metadata": {},
   "outputs": [
    {
     "name": "stdout",
     "output_type": "stream",
     "text": [
      "k\n",
      "u\n",
      "m\n",
      "a\n",
      "r\n"
     ]
    }
   ],
   "source": [
    "#3.WAP to print the lowercase characters in a given string.\n",
    "l=\"LALITHkumar1223@#$$%\"\n",
    "for i in l:\n",
    "    if(\"a\"<=i<=\"z\"):\n",
    "        print(i)\n",
    "\n"
   ]
  },
  {
   "cell_type": "code",
   "execution_count": 21,
   "metadata": {},
   "outputs": [
    {
     "name": "stdout",
     "output_type": "stream",
     "text": [
      "1\n",
      "2\n",
      "2\n",
      "3\n"
     ]
    }
   ],
   "source": [
    "#4.WAP to print the ascii numbers(Digits) characters in a given string.\n",
    "l=\"LALITHkumar1223@#$$%\"\n",
    "for i in l:\n",
    "    if(\"0\"<=i<=\"9\"):\n",
    "        print(i)"
   ]
  },
  {
   "cell_type": "code",
   "execution_count": 23,
   "metadata": {},
   "outputs": [
    {
     "name": "stdout",
     "output_type": "stream",
     "text": [
      "@\n",
      "#\n",
      "$\n",
      "$\n",
      "%\n"
     ]
    }
   ],
   "source": [
    "#5. WAP to print the special characters in a given string.\n",
    "l=\"LALITHkumar1223@#$$%\"\n",
    "for i in l:\n",
    "    if( not (\"A\"<=i<=\"Z\" or \"a\"<=i<=\"z\" or \"0\"<=i<=\"9\")):\n",
    "        print(i)"
   ]
  },
  {
   "cell_type": "code",
   "execution_count": 24,
   "metadata": {},
   "outputs": [
    {
     "name": "stdout",
     "output_type": "stream",
     "text": [
      "A\n",
      "I\n",
      "u\n",
      "a\n"
     ]
    }
   ],
   "source": [
    "#6.WAP to Print the vowels in a given string.\n",
    "l=\"LALITHkumar1223@#$$%\"\n",
    "for i in l:\n",
    "    if(i in \"aeiouAEIOU\"):\n",
    "        print(i)\n"
   ]
  },
  {
   "cell_type": "code",
   "execution_count": 39,
   "metadata": {},
   "outputs": [
    {
     "name": "stdout",
     "output_type": "stream",
     "text": [
      "L\n",
      "L\n",
      "T\n",
      "H\n",
      "k\n",
      "m\n",
      "r\n"
     ]
    }
   ],
   "source": [
    "#7.WAP to Print the consonants in a given string.\n",
    "l=\"LALITHkumar1233@#$\"\n",
    "for i in l:\n",
    "    if(\"A\"<=i<=\"Z\" or \"a\"<=i<=\"z\"):\n",
    "        if(i not in \"aeiouAEIOU\"):\n",
    "            print(i)\n"
   ]
  },
  {
   "cell_type": "code",
   "execution_count": 60,
   "metadata": {},
   "outputs": [
    {
     "name": "stdout",
     "output_type": "stream",
     "text": [
      "ramukhtilal\n"
     ]
    }
   ],
   "source": [
    "#8.WAP to print the reverse of the characters in a given string.\n",
    "l=\"lalithkumar\"\n",
    "b=\"\"\n",
    "for i in l:\n",
    "    b=i+b\n",
    "print(b)"
   ]
  },
  {
   "cell_type": "code",
   "execution_count": 64,
   "metadata": {},
   "outputs": [
    {
     "name": "stdout",
     "output_type": "stream",
     "text": [
      "l\n",
      "l\n",
      "t\n",
      "k\n",
      "m\n",
      "r\n"
     ]
    }
   ],
   "source": [
    "#9. WAP to print even position values characters in a given string.\n",
    "l=\"lalithkumar\"\n",
    "for i in range(0,len(l)):\n",
    "    if(i%2==0):\n",
    "        print(l[i])"
   ]
  },
  {
   "cell_type": "code",
   "execution_count": 65,
   "metadata": {},
   "outputs": [
    {
     "name": "stdout",
     "output_type": "stream",
     "text": [
      "a\n",
      "i\n",
      "h\n",
      "u\n",
      "a\n"
     ]
    }
   ],
   "source": [
    "#10.WAP to print odd position values characters in a given string\n",
    "l=\"lalithkumar\"\n",
    "for i in range(0,len(l)):\n",
    "    if(i%2!=0):\n",
    "        print(l[i])"
   ]
  },
  {
   "cell_type": "code",
   "execution_count": 66,
   "metadata": {},
   "outputs": [
    {
     "name": "stdout",
     "output_type": "stream",
     "text": [
      "11\n"
     ]
    }
   ],
   "source": [
    "#11.WAP to count the total Number of characters in a given string.(with length function)\n",
    "l=\"lalithkumar\"\n",
    "print(len(l))"
   ]
  },
  {
   "cell_type": "code",
   "execution_count": 67,
   "metadata": {},
   "outputs": [
    {
     "name": "stdout",
     "output_type": "stream",
     "text": [
      "11\n"
     ]
    }
   ],
   "source": [
    "#12.WAP to count the total Number of characters in a given string.(without length function)\n",
    "l=\"lalithkumar\"\n",
    "count=0\n",
    "for i in l:\n",
    "    count+=1\n",
    "print(count)\n",
    "    "
   ]
  },
  {
   "cell_type": "code",
   "execution_count": 68,
   "metadata": {},
   "outputs": [
    {
     "name": "stdout",
     "output_type": "stream",
     "text": [
      "11\n"
     ]
    }
   ],
   "source": [
    "#13. WAP to count alphabets in a given string.\n",
    "l=\"LALITHkumar1233@#$\"\n",
    "count=0\n",
    "for i in l:\n",
    "    if(\"A\"<=i<=\"Z\" or \"a\"<=i<=\"z\"):\n",
    "      count+=1\n",
    "print(count)\n"
   ]
  },
  {
   "cell_type": "code",
   "execution_count": 69,
   "metadata": {},
   "outputs": [
    {
     "name": "stdout",
     "output_type": "stream",
     "text": [
      "6\n"
     ]
    }
   ],
   "source": [
    "#14. WAP to count Number of uppercase in a given string.\n",
    "l=\"LALITHkumar1233@#$\"\n",
    "count=0\n",
    "for i in l:\n",
    "    if(\"A\"<=i<=\"Z\" ):\n",
    "      count+=1\n",
    "print(count)\n"
   ]
  },
  {
   "cell_type": "code",
   "execution_count": 72,
   "metadata": {},
   "outputs": [
    {
     "name": "stdout",
     "output_type": "stream",
     "text": [
      "5\n"
     ]
    }
   ],
   "source": [
    "#15.WAP to count lowercase in a given string.\n",
    "l=\"LALITHkumar1233@#$\"\n",
    "count=0\n",
    "for i in l:\n",
    "    if(\"a\"<=i<=\"z\"):\n",
    "      count+=1\n",
    "print(count)"
   ]
  },
  {
   "cell_type": "code",
   "execution_count": 76,
   "metadata": {},
   "outputs": [
    {
     "name": "stdout",
     "output_type": "stream",
     "text": [
      "3\n"
     ]
    }
   ],
   "source": [
    "#16.WAP to count Number of special symbols in a given string.\n",
    "l=\"LALITHkumar1233@#$\"\n",
    "count=0\n",
    "for i in l:\n",
    "    if( not (\"a\"<=i<=\"z\" or \"A\"<=i<=\"Z\" or \"0\"<=i<=\"9\")):\n",
    "      count+=1\n",
    "print(count)"
   ]
  },
  {
   "cell_type": "code",
   "execution_count": 77,
   "metadata": {},
   "outputs": [
    {
     "name": "stdout",
     "output_type": "stream",
     "text": [
      "11\n"
     ]
    }
   ],
   "source": [
    "#17.. WAP to count uppercase and lowercase in a given string.\n",
    "l=\"LALITHkumar1233@#$\"\n",
    "count=0\n",
    "for i in l:\n",
    "    if(\"A\"<=i<=\"Z\" or \"a\"<=i<=\"z\"):\n",
    "      count+=1\n",
    "print(count)\n"
   ]
  },
  {
   "cell_type": "code",
   "execution_count": 78,
   "metadata": {},
   "outputs": [
    {
     "name": "stdout",
     "output_type": "stream",
     "text": [
      "4\n"
     ]
    }
   ],
   "source": [
    "#18.WAP to count Number of ascii numbers in a given string.\n",
    "l=\"LALITHkumar1233@#$\"\n",
    "count=0\n",
    "for i in l:\n",
    "    if(\"0\"<=i<=\"9\"):\n",
    "      count+=1\n",
    "print(count)"
   ]
  },
  {
   "cell_type": "code",
   "execution_count": 22,
   "metadata": {},
   "outputs": [
    {
     "name": "stdout",
     "output_type": "stream",
     "text": [
      "2\n",
      "2\n",
      "2\n"
     ]
    }
   ],
   "source": [
    "#19.WAP to Count Total Number of Words in a String.\n",
    "st=\" lalith kumar \"\n",
    "s=\"\"\n",
    "l=[]\n",
    "for i in st:\n",
    "    if i!=\" \":\n",
    "        s+=i\n",
    "    else:\n",
    "        if len(s)>0:\n",
    "            l+=[s]\n",
    "            s=\"\"\n",
    "if len(s)>0:\n",
    "    l+=[s]\n",
    "    s=\"\"\n",
    "print(len(l))\n",
    "#or\n",
    "a=\"lalith kumar\".split()\n",
    "print(len(a))\n",
    "\n",
    "#or\n",
    "a=\" lalith kumar \"\n",
    "c=1\n",
    "a=a.strip()\n",
    "for i in a:\n",
    "    if i==\" \":\n",
    "        c+=1\n",
    "print(c)        \n"
   ]
  },
  {
   "cell_type": "code",
   "execution_count": 2,
   "metadata": {},
   "outputs": [
    {
     "name": "stdout",
     "output_type": "stream",
     "text": [
      "3\n"
     ]
    }
   ],
   "source": [
    "#20.WAP to Count Total Number of spaces in a String.\n",
    "l=\" lalith kumar \"\n",
    "count=0\n",
    "for i in range(0,len(l)):\n",
    "    if l[i]==\" \":\n",
    "        count+=1\n",
    "        \n",
    "print(count)     "
   ]
  },
  {
   "cell_type": "code",
   "execution_count": 5,
   "metadata": {},
   "outputs": [
    {
     "name": "stdout",
     "output_type": "stream",
     "text": [
      "4\n"
     ]
    }
   ],
   "source": [
    "#21.WAP to Count Vowels in a String.\n",
    "l=\"lalithkumar\"\n",
    "count=0\n",
    "for i in l:\n",
    "    if (i in \"aeiouAEIOU\"):\n",
    "        count+=1\n",
    "print(count)        "
   ]
  },
  {
   "cell_type": "code",
   "execution_count": 6,
   "metadata": {},
   "outputs": [
    {
     "name": "stdout",
     "output_type": "stream",
     "text": [
      "7\n"
     ]
    }
   ],
   "source": [
    "#22.WAP to Count consonants in a String.\n",
    "l=\"lalithkumar\"\n",
    "count=0\n",
    "for i in l:\n",
    "    if (i  not in \"aeiouAEIOU\"):\n",
    "        count+=1\n",
    "print(count) "
   ]
  },
  {
   "cell_type": "code",
   "execution_count": 8,
   "metadata": {},
   "outputs": [
    {
     "name": "stdout",
     "output_type": "stream",
     "text": [
      "11\n"
     ]
    }
   ],
   "source": [
    "#23.WAP to Count Vowels and Consonants in a String.\n",
    "l=\"lalithkumar1233@#$\"\n",
    "count=0\n",
    "for i in l:\n",
    "    if(\"A\"<=i<=\"Z\" or \"a\"<=i<=\"z\"):\n",
    "      count+=1\n",
    "print(count)\n"
   ]
  },
  {
   "cell_type": "code",
   "execution_count": 16,
   "metadata": {},
   "outputs": [
    {
     "name": "stdout",
     "output_type": "stream",
     "text": [
      "2\n"
     ]
    }
   ],
   "source": [
    "#24. WAP to count Number of new lines in a given string. \n",
    "l=\"lalith\\nkumar\\nvenkata\\n\"\n",
    "count=0\n",
    "for i in l:\n",
    "    if(i==\"\\n\"):\n",
    "        count+=1\n",
    "print(count-1)        "
   ]
  },
  {
   "cell_type": "code",
   "execution_count": 17,
   "metadata": {},
   "outputs": [
    {
     "name": "stdout",
     "output_type": "stream",
     "text": [
      "3\n"
     ]
    }
   ],
   "source": [
    "#25.WAP to count Number of lines in a given string.\n",
    "l=\"lalith\\nkumar\\nvenkata\\n\"\n",
    "count=0\n",
    "for i in l:\n",
    "    if(i==\"\\n\"):\n",
    "        count+=1\n",
    "print(count) "
   ]
  },
  {
   "cell_type": "code",
   "execution_count": 23,
   "metadata": {},
   "outputs": [
    {
     "name": "stdout",
     "output_type": "stream",
     "text": [
      "11 4 3\n",
      "18\n"
     ]
    }
   ],
   "source": [
    "#26.WAP to count no of alphabets, numbers, and special characters in a given string.\n",
    "l=\"Lalithkumar1234@#$\"\n",
    "a=0\n",
    "n=0\n",
    "s=0\n",
    "for i in l:\n",
    "    if(\"A\"<=i<=\"Z\" or \"a\"<=i<=\"z\"):\n",
    "        a+=1\n",
    "    elif(\"0\"<=i<=\"9\"):\n",
    "        n+=1\n",
    "    else:\n",
    "        s+=1\n",
    "print(a,n,s)  \n",
    "#or\n",
    "l=\"Lalithkumar1234@#$\"\n",
    "count=0\n",
    "for i in l:\n",
    "    count+=1\n",
    "print(count)    "
   ]
  },
  {
   "cell_type": "code",
   "execution_count": 3,
   "metadata": {},
   "outputs": [
    {
     "name": "stdout",
     "output_type": "stream",
     "text": [
      "1\n"
     ]
    }
   ],
   "source": [
    "#27.WAP to Count Total no of words in a first line of the Doc String.\n",
    "l=\"\"\"python is easy \n",
    "we can learn\n",
    "with out\n",
    "other program\n",
    "course\"\"\"\n",
    "count=0\n",
    "for i in l:\n",
    "    if(i=='\\n'):\n",
    "        count+=1\n",
    "        break\n",
    "print(count)        "
   ]
  },
  {
   "cell_type": "code",
   "execution_count": 29,
   "metadata": {},
   "outputs": [
    {
     "name": "stdout",
     "output_type": "stream",
     "text": [
      "13\n"
     ]
    }
   ],
   "source": [
    "#28.WAP to sum of digits in a given string.\n",
    "l=\"lalith 2 1 2 3 5 @#$\"\n",
    "s=0\n",
    "for i in l:\n",
    "    if(\"0\"<=i<=\"9\"):\n",
    "        s+=int(i)\n",
    "print(s)        \n",
    "        "
   ]
  },
  {
   "cell_type": "code",
   "execution_count": 11,
   "metadata": {},
   "outputs": [
    {
     "name": "stdout",
     "output_type": "stream",
     "text": [
      "{'l': 2, 'a': 2, 'i': 1, 't': 1, 'h': 1, 'k': 1, 'u': 1, 'm': 1, 'r': 1}\n",
      "l\n"
     ]
    }
   ],
   "source": [
    "#29.WAP to Print First Occurrence of a Character in a String.\n",
    "l=\"lalithkumar\"\n",
    "d={}\n",
    "for i in l:\n",
    "    if i not in d:\n",
    "        d[i]=1\n",
    "    else:\n",
    "        d[i]+=1\n",
    "print(d)\n",
    "s=list(d)\n",
    "for j in s:\n",
    "    if d[j]>1:\n",
    "        print(j)\n",
    "        break "
   ]
  },
  {
   "cell_type": "code",
   "execution_count": 12,
   "metadata": {},
   "outputs": [
    {
     "name": "stdout",
     "output_type": "stream",
     "text": [
      "{'l': 2, 'a': 2, 'i': 1, 't': 1, 'h': 1, 'k': 1, 'u': 1, 'm': 1, 'r': 1}\n",
      "a\n"
     ]
    }
   ],
   "source": [
    "#30. WAP to Print Last Occurrence of a Character in a String.\n",
    "l=\"lalithkumar\"\n",
    "d={}\n",
    "for i in l:\n",
    "    if i not in d:\n",
    "        d[i]=1\n",
    "    else:\n",
    "        d[i]+=1\n",
    "print(d)\n",
    "s=list(d)\n",
    "for j in s[::-1]:\n",
    "    if d[j]>1:\n",
    "        print(j)\n",
    "        break\n",
    "    "
   ]
  },
  {
   "cell_type": "code",
   "execution_count": 1,
   "metadata": {},
   "outputs": [
    {
     "name": "stdout",
     "output_type": "stream",
     "text": [
      "{'p': 1, 'r': 2, 'o': 1, 'g': 5, 'a': 3, 'm': 2, 'i': 1, 'n': 2, ' ': 1, 'l': 1, 'u': 1, 'e': 1}\n",
      "p\n"
     ]
    }
   ],
   "source": [
    "# 31 WAP to Print First not Occurrence of a Character in a String.\n",
    "s=\"programming langugage\"\n",
    "d={}\n",
    "for x in s:\n",
    "    if x not in d:\n",
    "        d[x]=1\n",
    "    else:\n",
    "        d[x]+=1\n",
    "print(d)\n",
    "l=list(d)\n",
    "for m in l:\n",
    "    if d[m]==1:\n",
    "        print(m)\n",
    "        break"
   ]
  },
  {
   "cell_type": "code",
   "execution_count": 2,
   "metadata": {},
   "outputs": [
    {
     "name": "stdout",
     "output_type": "stream",
     "text": [
      "{'p': 1, 'r': 2, 'o': 1, 'g': 5, 'a': 3, 'm': 2, 'i': 1, 'n': 2, ' ': 1, 'l': 1, 'u': 1, 'e': 1}\n",
      "e\n"
     ]
    }
   ],
   "source": [
    "# 32 WAP to Print last not Occurrence of a Character in a String.\n",
    "s=\"programming langugage\"\n",
    "d={}\n",
    "for x in s:\n",
    "    if x not in d:\n",
    "        d[x]=1\n",
    "    else:\n",
    "        d[x]+=1\n",
    "print(d)\n",
    "l=list(d)\n",
    "x=[]\n",
    "for i in l:\n",
    "    if d[i]==1:\n",
    "        x+=[i]\n",
    "print(x[-1])"
   ]
  },
  {
   "cell_type": "code",
   "execution_count": 3,
   "metadata": {},
   "outputs": [
    {
     "name": "stdout",
     "output_type": "stream",
     "text": [
      "{'p': 1, 'r': 2, 'o': 1, 'g': 4, 'a': 3, 'm': 2, 'i': 1, 'n': 2, ' ': 1, 'l': 1, 'u': 1, 'e': 1}\n",
      "['p', 'r', 'o', 'g', 'a', 'm', 'i', 'n', ' ', 'l', 'u', 'e']\n",
      "['p', 'o', 'g', 'a', 'm', 'i', 'n', ' ', 'l', 'u', 'e']\n"
     ]
    }
   ],
   "source": [
    "# 33 WAP to Remove First Occurrence of a Character in a String.\n",
    "st=\"programming language\"\n",
    "uni={}\n",
    "for i in st:\n",
    "    if i not in uni:\n",
    "        uni[i]=1\n",
    "    else:\n",
    "        uni[i]+=1\n",
    "print(uni)\n",
    "l=list(uni)\n",
    "print(l)\n",
    "for x in range(len(l)):\n",
    "    if uni[l[x]]>1:\n",
    "        del l[x]\n",
    "        break\n",
    "print(l)"
   ]
  },
  {
   "cell_type": "code",
   "execution_count": 4,
   "metadata": {},
   "outputs": [
    {
     "name": "stdout",
     "output_type": "stream",
     "text": [
      "{'p': 1, 'r': 2, 'o': 1, 'g': 4, 'a': 3, 'm': 2, 'i': 1, 'n': 2, ' ': 1, 'l': 1, 'u': 1, 'e': 1}\n",
      "['r', 'g', 'a', 'm', 'n']\n",
      "['r', 'g', 'a', 'm']\n"
     ]
    }
   ],
   "source": [
    "# 34 WAP to Remove Last Occurred Character in a String.\n",
    "st=\"programming language\"\n",
    "d={}\n",
    "for i in st:\n",
    "    if i not in d:\n",
    "        d[i]=1\n",
    "    else:\n",
    "        d[i]+=1\n",
    "print(d)\n",
    "l=list(d)\n",
    "u=[]\n",
    "for x in range(0,len(l)):\n",
    "    if d[l[x]]>1:\n",
    "        u+=[l[x]]\n",
    "print(u)\n",
    "del u[-1]\n",
    "print(u)"
   ]
  },
  {
   "cell_type": "code",
   "execution_count": 5,
   "metadata": {},
   "outputs": [
    {
     "name": "stdout",
     "output_type": "stream",
     "text": [
      "2\n"
     ]
    }
   ],
   "source": [
    "# 35 WAP to count the occurrence of a specific character in a given string\n",
    "st=\"malayalam\"\n",
    "sp='m'\n",
    "c=0\n",
    "for i in st:\n",
    "    if i==sp:\n",
    "        c+=1\n",
    "print(c)"
   ]
  },
  {
   "cell_type": "code",
   "execution_count": 6,
   "metadata": {},
   "outputs": [
    {
     "name": "stdout",
     "output_type": "stream",
     "text": [
      "{'h': 2, 'e': 2, 'l': 3, 'i': 1, 'u': 5, 'm': 2, ' ': 4, 'b': 1, 'a': 3, 'o': 2, 'n': 1, 's': 2, 'k': 1, 'g': 1}\n",
      "u\n"
     ]
    }
   ],
   "source": [
    "# 36 WAP to count the max occurrence of a character in a given string.\n",
    "st=\"helium baloons make us lauuugh\"\n",
    "d={}\n",
    "for i in st:\n",
    "    if i not in d:\n",
    "        d[i]=1\n",
    "    else:\n",
    "        d[i]+=1\n",
    "print(d)\n",
    "l=list(d)\n",
    "small=0\n",
    "ch=None\n",
    "for x in range(len(l)):\n",
    "    if small<d[l[x]]:\n",
    "        small=d[l[x]]\n",
    "        ch=l[x]\n",
    "print(ch)"
   ]
  },
  {
   "cell_type": "code",
   "execution_count": 7,
   "metadata": {},
   "outputs": [
    {
     "name": "stdout",
     "output_type": "stream",
     "text": [
      "{'h': 2, 'e': 2, 'l': 3, 'i': 1, 'u': 5, 'm': 2, ' ': 3, 'b': 1, 'a': 3, 'o': 2, 'n': 1, 's': 2, 'k': 1, 'g': 1}\n",
      "5\n"
     ]
    }
   ],
   "source": [
    "# 37 WAP to count the min occurrence of a character in a given string.\n",
    "st=\"helium baloons make uslauuugh\"\n",
    "d={}\n",
    "for i in st:\n",
    "    if i not in d:\n",
    "        d[i]=1\n",
    "    else:\n",
    "        d[i]+=1\n",
    "print(d)\n",
    "l=list(d)\n",
    "min=9\n",
    "k=[]\n",
    "for x in l:\n",
    "    if d[x]<min and d[x]>1:\n",
    "        min=d[x]\n",
    "    if d[x]==min:\n",
    "        k+=x\n",
    "print(len(k))"
   ]
  },
  {
   "cell_type": "code",
   "execution_count": 8,
   "metadata": {},
   "outputs": [
    {
     "name": "stdout",
     "output_type": "stream",
     "text": [
      "1\n"
     ]
    }
   ],
   "source": [
    "# 38 WAP to count the repeats of a specific character in a given string.\n",
    "st=\"helium baloons make uslauuugh\"\n",
    "sp='o'\n",
    "c=0\n",
    "for i in st:\n",
    "    if i==sp:\n",
    "        c+=1\n",
    "print(c-1)"
   ]
  },
  {
   "cell_type": "code",
   "execution_count": 9,
   "metadata": {},
   "outputs": [
    {
     "name": "stdout",
     "output_type": "stream",
     "text": [
      "{'h': 2, 'e': 2, 'l': 3, 'i': 1, 'u': 5, 'm': 2, ' ': 3, 'b': 1, 'a': 3, 'o': 2, 'n': 1, 's': 2, 'k': 1, 'g': 1}\n",
      "1\n"
     ]
    }
   ],
   "source": [
    "# 39 WAP to count the max repeated character in a given string.\n",
    "st=\"helium baloons make uslauuugh\"\n",
    "d={}\n",
    "for x in st:\n",
    "    if x not in d:\n",
    "        d[x]=1\n",
    "    else:\n",
    "        d[x]+=1\n",
    "print(d)\n",
    "s=list(d)\n",
    "small=0\n",
    "for i in s:\n",
    "    if d[i]>small:\n",
    "        small=d[i]\n",
    "c=0\n",
    "for p in s:\n",
    "    if small==d[p]:\n",
    "        c+=1\n",
    "print(c)"
   ]
  },
  {
   "cell_type": "code",
   "execution_count": 10,
   "metadata": {},
   "outputs": [
    {
     "name": "stdout",
     "output_type": "stream",
     "text": [
      "{'h': 2, 'e': 2, 'l': 3, 'i': 1, 'u': 5, 'm': 2, ' ': 3, 'b': 1, 'a': 3, 'o': 2, 'n': 1, 's': 2, 'k': 1, 'g': 1}\n",
      "5\n"
     ]
    }
   ],
   "source": [
    "# 40 WAP to count the min repeated character in a given string.\n",
    "st=\"helium baloons make uslauuugh\"\n",
    "d={}\n",
    "for i in st:\n",
    "    if i not in d:\n",
    "        d[i]=1\n",
    "    else:\n",
    "        d[i]+=1\n",
    "print(d)\n",
    "l=list(d)\n",
    "min=9\n",
    "k=[]\n",
    "for x in l:\n",
    "    if d[x]<min and d[x]>1:\n",
    "        min=d[x]\n",
    "    if d[x]==min:\n",
    "        k+=x\n",
    "print(len(k))"
   ]
  },
  {
   "cell_type": "code",
   "execution_count": 12,
   "metadata": {},
   "outputs": [
    {
     "name": "stdout",
     "output_type": "stream",
     "text": [
      "sea-witch\n",
      "sea-witch\n"
     ]
    }
   ],
   "source": [
    "# 41 WAP to replace a specific character into a new character.\n",
    "s=\"sea witch\"\n",
    "sp=\" \"\n",
    "for i in range(len(s)):\n",
    "    if s[i]==sp:\n",
    "        s=s[0:i]+'-'+s[i+1:]\n",
    "print(s)\n",
    "\n",
    "\n",
    "\n",
    "# without slicing\n",
    "s=\"sea witch\"\n",
    "sp=\" \"\n",
    "res=\"\"\n",
    "for i in s:\n",
    "    if i!=sp:\n",
    "        res+=i\n",
    "    else: \n",
    "        res+='-'\n",
    "print(res)"
   ]
  },
  {
   "cell_type": "code",
   "execution_count": 13,
   "metadata": {},
   "outputs": [
    {
     "name": "stdout",
     "output_type": "stream",
     "text": [
      "HELLOO HII5W345#$5\n"
     ]
    }
   ],
   "source": [
    "# 42 WAP to convert lowercase to uppercase in a given string.\n",
    "st=\"hellOO Hii5w345#$5\"\n",
    "res=\"\"\n",
    "for i in st:\n",
    "    if 'a'<=i<='z':\n",
    "        res+=chr(ord(i)-32)\n",
    "    else:\n",
    "        res+=i\n",
    "print(res)"
   ]
  },
  {
   "cell_type": "code",
   "execution_count": 14,
   "metadata": {},
   "outputs": [
    {
     "name": "stdout",
     "output_type": "stream",
     "text": [
      "helloo hii5w345#$5\n"
     ]
    }
   ],
   "source": [
    "# 43 WAP to convert uppercase to lowercase in a given string.\n",
    "st=\"hellOO Hii5w345#$5\"\n",
    "res=\"\"\n",
    "for i in st:\n",
    "    if 'A'<=i<='Z':\n",
    "        res+=chr(ord(i)+32)\n",
    "    else:\n",
    "        res+=i\n",
    "print(res)"
   ]
  },
  {
   "cell_type": "code",
   "execution_count": 15,
   "metadata": {},
   "outputs": [
    {
     "name": "stdout",
     "output_type": "stream",
     "text": [
      "jmndl\n"
     ]
    }
   ],
   "source": [
    "# 44 WAP to convert uppercase to lowercase in even position characters in a given string.\n",
    "s=\"34JU$%MANjeaDBfdfgjOL.\"\n",
    "res=\"\"\n",
    "for i in range(len(s)):\n",
    "    if 'A'<=s[i]<='Z' and i%2==0:\n",
    "        res+=chr(ord(s[i])+32)\n",
    "\n",
    "print(res)"
   ]
  },
  {
   "cell_type": "code",
   "execution_count": 16,
   "metadata": {},
   "outputs": [
    {
     "name": "stdout",
     "output_type": "stream",
     "text": [
      "uabo\n"
     ]
    }
   ],
   "source": [
    "# 45 WAP to convert uppercase to lowercase in odd position characters in a given string.\n",
    "s=\"34JU$%MANjeaDBfdfgjOL.\"\n",
    "res=\"\"\n",
    "for i in range(len(s)):\n",
    "    if 'A'<=s[i]<='Z' and i%2!=0:\n",
    "        res+=chr(ord(s[i])+32)\n",
    "\n",
    "print(res)"
   ]
  },
  {
   "cell_type": "code",
   "execution_count": 17,
   "metadata": {},
   "outputs": [
    {
     "name": "stdout",
     "output_type": "stream",
     "text": [
      "34ju**manJEAdbFDFGJol*\n"
     ]
    }
   ],
   "source": [
    "# 46 WAP to convert the uppercase letter to lowercase letter and lowercase letter to uppercase letter,if the character is special symbol replace with * for the given input string.\n",
    "s=\"34JU$%MANjeaDBfdfgjOL.\"\n",
    "res=\"\"\n",
    "for i in s:\n",
    "    if 'A'<=i<='Z':\n",
    "        res+=chr(ord(i)+32)\n",
    "    elif 'a'<=i<='z':\n",
    "        res+=chr(ord(i)-32)\n",
    "    elif '0'<=i<='9':\n",
    "        res+=i\n",
    "    else:\n",
    "        res+='*'\n",
    "print(res)"
   ]
  },
  {
   "cell_type": "code",
   "execution_count": 18,
   "metadata": {},
   "outputs": [
    {
     "name": "stdout",
     "output_type": "stream",
     "text": [
      "Hello Wwo233Rrld @@##  Iipl\n"
     ]
    }
   ],
   "source": [
    "# 47 WAP to convert title case in a given string.\n",
    "s=\"hello wo23rld @# ipl\"\n",
    "res=\"\"\n",
    "temp=0\n",
    "if 'a'<=s[0]<='z':\n",
    "    res+=chr(ord(s[0])-32)\n",
    "    temp=1\n",
    "elif 'A'<=s[0]<='Z':\n",
    "    res+=s[0]\n",
    "    temp=1\n",
    "for temp in range(1,len(s)):\n",
    "    if not('A'<=s[temp]<='Z' or 'a'<=s[temp]<='z'):\n",
    "        res+=s[temp]\n",
    "        if 'a'<=s[temp+1]<='z':\n",
    "            res+=chr(ord(s[temp+1])-32)\n",
    "        else:\n",
    "            res+=s[temp+1]\n",
    "    elif 'A'<=s[temp]<='Z':\n",
    "        res+=chr(ord(s[temp])+32)\n",
    "    else:\n",
    "        res+=s[temp]\n",
    "print(res)\n"
   ]
  },
  {
   "cell_type": "code",
   "execution_count": 19,
   "metadata": {},
   "outputs": [
    {
     "name": "stdout",
     "output_type": "stream",
     "text": [
      "hello_world_123#$56\n"
     ]
    }
   ],
   "source": [
    "# 48 WAP to convert snake_case in a given string.\n",
    "s='Hello WorlD 123#$56'\n",
    "res=''\n",
    "for i in s:\n",
    "    if 'A'<=i<='Z':\n",
    "        res+=chr(ord(i)+32)\n",
    "    elif i==\" \":\n",
    "        res+=\"_\"\n",
    "    else:\n",
    "        res+=i\n",
    "print(res)"
   ]
  },
  {
   "cell_type": "code",
   "execution_count": 20,
   "metadata": {},
   "outputs": [
    {
     "name": "stdout",
     "output_type": "stream",
     "text": [
      "HELLO WORLS 1234aweds#$\n"
     ]
    }
   ],
   "source": [
    "# 49 WAP to Toggle Characters Case in a String.\n",
    "st=\"hello worls 1234AWEDS#$\"\n",
    "res=\"\"\n",
    "for i in st:\n",
    "    if 'a'<=i<='z':\n",
    "        res+=chr(ord(i)-32)\n",
    "    elif 'A'<=i<='Z':\n",
    "        res+=chr(ord(i)+32)\n",
    "    else:\n",
    "        res+=i\n",
    "print(res)"
   ]
  },
  {
   "cell_type": "code",
   "execution_count": 21,
   "metadata": {},
   "outputs": [
    {
     "name": "stdout",
     "output_type": "stream",
     "text": [
      "h101l111111\n"
     ]
    }
   ],
   "source": [
    "#50 WAP to replace vowels into ascii values in a given string.(both with temp variable)\n",
    "st=\"heloo\"\n",
    "res=\"\"\n",
    "for i in st:\n",
    "    if i in 'AEIOUaeiou':\n",
    "        res+=str(ord(i))\n",
    "    else:\n",
    "        res+=i\n",
    "print(res)"
   ]
  },
  {
   "cell_type": "code",
   "execution_count": 22,
   "metadata": {},
   "outputs": [
    {
     "name": "stdout",
     "output_type": "stream",
     "text": [
      "104e108$108o 119o114108100\n"
     ]
    }
   ],
   "source": [
    "# 51 WAP to replace consonants into ascii values in a given string. (with temp variable)\n",
    "st=\"hel$lo world\"\n",
    "res=\"\"\n",
    "for i in st:\n",
    "    if '0'<=i<='9'or not('A'<=i<='Z' or 'a'<=i<='z'):\n",
    "        res+=i\n",
    "    elif i in 'AEIOUaeiou':\n",
    "        res+=i\n",
    "    else:\n",
    "        res+=str(ord(i))\n",
    "print(res)"
   ]
  },
  {
   "cell_type": "code",
   "execution_count": 23,
   "metadata": {},
   "outputs": [
    {
     "name": "stdout",
     "output_type": "stream",
     "text": [
      "hel$lo 119o114l100\n"
     ]
    }
   ],
   "source": [
    "# 52 WAP to replace consonants to ascii values in odd position characters in a given string.(both with and with temp variable)\n",
    "st=\"hel$lo world\"\n",
    "res=\"\"\n",
    "for i in range(len(st)):\n",
    "    if '0'<=st[i]<='9'or not('A'<=st[i]<='Z' or 'a'<=st[i]<='z'):\n",
    "        res+=st[i]\n",
    "    elif st[i] in 'AEIOUaeiou':\n",
    "        res+=st[i]\n",
    "    else:\n",
    "        if i%2!=0:\n",
    "            res+=str(ord(st[i]))\n",
    "        else:\n",
    "            res+=st[i]\n",
    "print(res)"
   ]
  },
  {
   "cell_type": "code",
   "execution_count": 24,
   "metadata": {},
   "outputs": [
    {
     "name": "stdout",
     "output_type": "stream",
     "text": [
      "hel$lo w111rld\n"
     ]
    }
   ],
   "source": [
    "# 53 WAP to replace vowels to ascii values in even position characters in a given string.(both with and with temp variable)\n",
    "st=\"hel$lo world\"\n",
    "res=\"\"\n",
    "for i in range(len(st)):\n",
    "    if st[i] in 'AEIOUaeiou' and i%2==0:\n",
    "        res+=str(ord(st[i]))\n",
    "    else:\n",
    "        res+=st[i]\n",
    "print(res)"
   ]
  },
  {
   "cell_type": "code",
   "execution_count": 25,
   "metadata": {},
   "outputs": [
    {
     "name": "stdout",
     "output_type": "stream",
     "text": [
      "google-space-area\n"
     ]
    }
   ],
   "source": [
    "# 54 WAP to Replace white Spaces with Hyphen in a String.(both with and with temp variable)\n",
    "s=\"google space area\"\n",
    "res=\"\"\n",
    "for t in s:\n",
    "    if t==\" \":\n",
    "        res+='-'\n",
    "    else:\n",
    "        res+=t\n",
    "print(res)"
   ]
  },
  {
   "cell_type": "code",
   "execution_count": 26,
   "metadata": {},
   "outputs": [
    {
     "name": "stdout",
     "output_type": "stream",
     "text": [
      "gol\n"
     ]
    }
   ],
   "source": [
    "# 55 WAP to Remove Odd position Characters in a given String.\n",
    "s=\"google\"\n",
    "res=\"\"\n",
    "for i in range(0,len(s)):\n",
    "    if i%2==0:\n",
    "        res+=s[i]\n",
    "print(res)"
   ]
  },
  {
   "cell_type": "code",
   "execution_count": 27,
   "metadata": {},
   "outputs": [
    {
     "name": "stdout",
     "output_type": "stream",
     "text": [
      "ogesae\n"
     ]
    }
   ],
   "source": [
    "#56 WAP to Remove even position Characters in a given String.\n",
    "st=\"google space\"\n",
    "res=\"\"\n",
    "for i in range(len(st)):\n",
    "    if i%2!=0:\n",
    "        res+=st[i]\n",
    "print(res)"
   ]
  },
  {
   "cell_type": "code",
   "execution_count": 28,
   "metadata": {},
   "outputs": [
    {
     "name": "stdout",
     "output_type": "stream",
     "text": [
      "45#$%987\n"
     ]
    }
   ],
   "source": [
    " # 57 WAP to Remove alphabets in a given String.\n",
    "s=\"he45ll#$%jhk987owe\"\n",
    "temp=\"\"\n",
    "for i in s:\n",
    "    if not('a'<=i<='z'or 'A'<=i<='Z'):\n",
    "        temp+=i\n",
    "print(temp)"
   ]
  },
  {
   "cell_type": "code",
   "execution_count": 29,
   "metadata": {},
   "outputs": [
    {
     "name": "stdout",
     "output_type": "stream",
     "text": [
      "hell#$%jhkowe\n"
     ]
    }
   ],
   "source": [
    "# 58 WAP to Remove ascii numbers in a given String.\n",
    "s=\"he45ll#$%jhk987owe\"\n",
    "temp=\"\"\n",
    "for i in s:\n",
    "    if not('0'<=i<='9'):\n",
    "        temp+=i\n",
    "print(temp)"
   ]
  },
  {
   "cell_type": "code",
   "execution_count": 30,
   "metadata": {},
   "outputs": [
    {
     "name": "stdout",
     "output_type": "stream",
     "text": [
      "he45lljhk987owe\n"
     ]
    }
   ],
   "source": [
    "# 59 WAP to Remove special characters in a given String.\n",
    "s=\"he45ll#$%jhk987owe\"\n",
    "temp=\"\"\n",
    "for i in s:\n",
    "    if 'A'<=i<='Z' or 'a'<=i<='z' or '0'<=i<='9':\n",
    "        temp+=i\n",
    "print(temp)"
   ]
  },
  {
   "cell_type": "code",
   "execution_count": 32,
   "metadata": {},
   "outputs": [
    {
     "name": "stdout",
     "output_type": "stream",
     "text": [
      "palindrome\n",
      "palindrome\n"
     ]
    }
   ],
   "source": [
    "# 60 WAP to check if the given string is Palindrome or Not.\n",
    "st=\"dad\"\n",
    "rev=\"\"\n",
    "for i in st:\n",
    "    rev=i+rev\n",
    "if rev==st:\n",
    "    print(\"palindrome\")\n",
    "else:\n",
    "    print(\"not palindrome\")\n",
    "    \n",
    "    \n",
    "    \n",
    "st=\"dad\"\n",
    "rev=\"\"\n",
    "for i in st:\n",
    "    rev+=i\n",
    "if rev[::-1]==st:\n",
    "    print(\"palindrome\")\n",
    "else:\n",
    "    print(\"not palindrome\")    "
   ]
  },
  {
   "cell_type": "code",
   "execution_count": 33,
   "metadata": {},
   "outputs": [
    {
     "name": "stdout",
     "output_type": "stream",
     "text": [
      "False\n"
     ]
    }
   ],
   "source": [
    "# 61 WAP to check whether the given string is lowercase or not.\n",
    "st=\"w134567tikjmnbvcxzWDFGH@#$%^&\"\n",
    "for i in st:\n",
    "    if 'A'<=i<='Z':\n",
    "        break\n",
    "print(False)"
   ]
  },
  {
   "cell_type": "code",
   "execution_count": 34,
   "metadata": {},
   "outputs": [
    {
     "name": "stdout",
     "output_type": "stream",
     "text": [
      "True\n"
     ]
    }
   ],
   "source": [
    "# 62WAP to check whether the given number is string or not.\n",
    "s=\"23479\"\n",
    "n=\"7\"\n",
    "if type(s)==str:\n",
    "    for i in s:\n",
    "        if '0'<=i<='9' and n==i:\n",
    "            print(True)\n",
    "else:\n",
    "    print(\"not a string\")"
   ]
  },
  {
   "cell_type": "code",
   "execution_count": 35,
   "metadata": {},
   "outputs": [
    {
     "name": "stdout",
     "output_type": "stream",
     "text": [
      "eoo123aii\n"
     ]
    }
   ],
   "source": [
    "# 63 I/p: ‘hello world 123 haii’ o/p:’eoo123aii’\n",
    "st='hello world 123 haii'\n",
    "r=\"\"\n",
    "for i in st:\n",
    "    if i in 'AEIOUaeiou':\n",
    "        r+=i\n",
    "    elif '0'<=i<='9':\n",
    "        r+=i\n",
    "print(r)"
   ]
  },
  {
   "cell_type": "code",
   "execution_count": 36,
   "metadata": {},
   "outputs": [
    {
     "name": "stdout",
     "output_type": "stream",
     "text": [
      "eo o 123 aii\n"
     ]
    }
   ],
   "source": [
    "#64 I/p: ‘hello world 123 haii’ o/p:’eo o 123 aii’\n",
    "s='hello world 123 haii'\n",
    "r=\"\"\n",
    "for i in st:\n",
    "    if i in 'aeiouAEIOU':\n",
    "        r+=i\n",
    "    elif '0'<=i<='9' or i==\" \":\n",
    "        r+=i\n",
    "print(r)"
   ]
  },
  {
   "cell_type": "code",
   "execution_count": 37,
   "metadata": {},
   "outputs": [
    {
     "name": "stdout",
     "output_type": "stream",
     "text": [
      "eo o  aii\n"
     ]
    }
   ],
   "source": [
    "# 65 I/p: ‘hello world 123 haii’ o/p:’eo o aii’\n",
    "s='hello world 123 haii'\n",
    "t=\"\"\n",
    "for i in s:\n",
    "    if i in 'AEIOUaeiou':\n",
    "        t+=i\n",
    "    elif i==\" \":\n",
    "        t+=i\n",
    "print(t)"
   ]
  },
  {
   "cell_type": "code",
   "execution_count": 38,
   "metadata": {},
   "outputs": [
    {
     "name": "stdout",
     "output_type": "stream",
     "text": [
      "hll world haii\n"
     ]
    }
   ],
   "source": [
    "# 66 I/p: ‘hello world 123 haii’ o/p:’hll world haii’\n",
    "s='hello world 123 haii'\n",
    "res=\"\"\n",
    "for i in s:\n",
    "    if i!=\" \":\n",
    "        if  i not in 'aeiou':\n",
    "            res+=i\n",
    "    else:\n",
    "        break\n",
    "#print(res)\n",
    "l=[]\n",
    "t=\"\"\n",
    "for i in s:\n",
    "    if i!=\" \":\n",
    "        t+=i\n",
    "    else:\n",
    "        if len(t)>0:\n",
    "            l+=[t]\n",
    "            t=\"\"  \n",
    "if len(t)>0:\n",
    "    l+=[t]\n",
    "res+=\" \"+l[1]+\" \"+l[-1]\n",
    "print(res)"
   ]
  },
  {
   "cell_type": "code",
   "execution_count": 39,
   "metadata": {},
   "outputs": [
    {
     "name": "stdout",
     "output_type": "stream",
     "text": [
      "hll wrld\n",
      "eoo\n"
     ]
    }
   ],
   "source": [
    "#67 i/p:’hello world’ o/p:’hll wrld’ o/p:’eoo’\n",
    "s=\"hello world\"\n",
    "v,c=\"\",\"\"\n",
    "for i in s:\n",
    "    if i in 'AEIOUaeiou':\n",
    "        v+=i\n",
    "    else:\n",
    "        c+=i\n",
    "print(c)\n",
    "print(v)"
   ]
  },
  {
   "cell_type": "code",
   "execution_count": 40,
   "metadata": {},
   "outputs": [
    {
     "name": "stdout",
     "output_type": "stream",
     "text": [
      "hll wrld\n",
      "eoo\n",
      "12344\n"
     ]
    }
   ],
   "source": [
    "#68 i/p:’12hello3 4world4’ o/p:’hll wrld’ o/p:’eoo’ o/p:’12344’\n",
    "s=\"12hello3 4world4\"\n",
    "v,c,n=\"\",\"\",\"\"\n",
    "for i in s:\n",
    "    if i in 'AEIOUaeiou':\n",
    "        v+=i\n",
    "    elif '0'<=i<='9':\n",
    "        n+=i\n",
    "    else:\n",
    "        c+=i\n",
    "print(c)\n",
    "print(v)\n",
    "print(n)"
   ]
  },
  {
   "cell_type": "code",
   "execution_count": 41,
   "metadata": {},
   "outputs": [
    {
     "name": "stdout",
     "output_type": "stream",
     "text": [
      "hllwrld\n",
      "eoo\n",
      "12344\n",
      "(*$ $#*)\n"
     ]
    }
   ],
   "source": [
    "# 69 i/p:’(*12hello3$ $4#world4*)’ o/p:’hllwrld’ o/p:’eoo’ o/p:’12344’  o/p:’(*$ $#*)\n",
    "st=\"(*12hello3$ $4#world4*)\"\n",
    "c,v,n,sp=\"\",\"\",\"\",\"\"\n",
    "for i in st:\n",
    "    if i in 'AEIOUaeiou':\n",
    "        v+=i\n",
    "    elif '0'<=i<='9':\n",
    "        n+=i\n",
    "    elif not('A'<=i<='Z'or 'a'<=i<='z' or '0'<=i<='9'):\n",
    "        sp+=i\n",
    "    elif i not in 'AEIOUaeiou':\n",
    "        c+=i\n",
    "print(c)\n",
    "print(v)\n",
    "print(n)\n",
    "print(sp)"
   ]
  },
  {
   "cell_type": "code",
   "execution_count": 42,
   "metadata": {},
   "outputs": [
    {
     "name": "stdout",
     "output_type": "stream",
     "text": [
      ")*#$ $*(,44321,ooe,dlrwllh\n"
     ]
    }
   ],
   "source": [
    "# 70 i/p: ’(*12hello3$ $4#world4*)’      o/p: ')*#$ $*(,44321,ooe,dlrwllh'\n",
    "st=\"(*12hello3$ $4#world4*)\"\n",
    "c,v,n,sp=\"\",\"\",\"\",\"\"\n",
    "res=\"\"\n",
    "for i in st:\n",
    "    if i in 'AEIOUaeiou':\n",
    "        v+=i\n",
    "    elif '0'<=i<='9':\n",
    "        n+=i\n",
    "    elif not('A'<=i<='Z'or 'a'<=i<='z' or '0'<=i<='9'):\n",
    "        sp+=i\n",
    "    elif i not in 'AEIOUaeiou':\n",
    "        c+=i\n",
    "res+=sp[::-1]+','+n[::-1]+\",\"+v[::-1]+\",\"+c[::-1]\n",
    "print(res)\n"
   ]
  },
  {
   "cell_type": "code",
   "execution_count": 43,
   "metadata": {},
   "outputs": [
    {
     "name": "stdout",
     "output_type": "stream",
     "text": [
      "hllwrld,eoo,12344,(*$ $#*)\n"
     ]
    }
   ],
   "source": [
    "# 71 i/p:’(*12hello3$ $4#world4*)’    o/p:’hllwrld,eoo,12344,(*$ $#*)’\n",
    "s=\"(*12hello3$ $4#world4*)\"\n",
    "c,v,n,sp=\"\",\"\",\"\",\"\"\n",
    "res=\"\"\n",
    "for i in s:\n",
    "    if i in 'AEIOUaeiou':\n",
    "        v+=i\n",
    "    elif '0'<=i<='9':\n",
    "        n+=i\n",
    "    elif not('A'<=i<='Z'or 'a'<=i<='z' or '0'<=i<='9'):\n",
    "        sp+=i\n",
    "    elif i not in 'AEIOUaeiou':\n",
    "        c+=i\n",
    "res+=c+','+v+','+n+','+sp\n",
    "print(res)\n"
   ]
  },
  {
   "cell_type": "code",
   "execution_count": 44,
   "metadata": {},
   "outputs": [
    {
     "name": "stdout",
     "output_type": "stream",
     "text": [
      ",hllwrld,)*#$ $*(,eoo,44321\n"
     ]
    }
   ],
   "source": [
    "# 72 i/p: ’(*12hello3$ $4#world4*)’          o/p:’,hllwrld,)*#$ $*(’,eoo,44321’\n",
    "s=\"(*12hello3$ $4#world4*)\"\n",
    "c,v,n,sp=\"\",\"\",\"\",\"\"\n",
    "res=\"\"\n",
    "for i in s:\n",
    "    if i in 'AEIOUaeiou':\n",
    "        v+=i\n",
    "    elif '0'<=i<='9':\n",
    "        n+=i\n",
    "    elif not('A'<=i<='Z'or 'a'<=i<='z' or '0'<=i<='9'):\n",
    "        sp+=i\n",
    "    elif i not in 'AEIOUaeiou':\n",
    "        c+=i\n",
    "res+=','+c+','+sp[::-1]+','+v+','+n[::-1]\n",
    "print(res)"
   ]
  },
  {
   "cell_type": "code",
   "execution_count": 45,
   "metadata": {},
   "outputs": [
    {
     "name": "stdout",
     "output_type": "stream",
     "text": [
      ")*#$ $*(,44321,eoo,hllwrld\n"
     ]
    }
   ],
   "source": [
    "# 73 i/p: ’(*12hello3$ $4#world4*)’      o/p: ')*#$ $*(,44321,ooe,dlrwllh'\n",
    "s=\"(*12hello3$ $4#world4*)\"\n",
    "c,v,n,sp=\"\",\"\",\"\",\"\"\n",
    "res=\"\"\n",
    "for i in s:\n",
    "    if i in 'AEIOUaeiou':\n",
    "        v+=i\n",
    "    elif '0'<=i<='9':\n",
    "        n+=i\n",
    "    elif not('A'<=i<='Z'or 'a'<=i<='z' or '0'<=i<='9'):\n",
    "        sp+=i\n",
    "    elif i not in 'AEIOUaeiou':\n",
    "        c+=i\n",
    "res+=sp[::-1]+','+n[::-1]+','+v+','+c\n",
    "print(res)"
   ]
  },
  {
   "cell_type": "code",
   "execution_count": 46,
   "metadata": {},
   "outputs": [
    {
     "name": "stdout",
     "output_type": "stream",
     "text": [
      "dlrwllh)*#$ $*(ooedlrwllh\n"
     ]
    }
   ],
   "source": [
    "# 74 i/p: ’(*12hello3$ $4#world4*)’ o/p:’dlrwllh)*#$ $*(ooe44321’\n",
    "st=\"(*12hello3$ $4#world4*)\"\n",
    "c,v,n,sp=\"\",\"\",\"\",\"\"\n",
    "res=\"\"\n",
    "for i in st:\n",
    "    if i in 'AEIOUaeiou':\n",
    "        v+=i\n",
    "    elif '0'<=i<='9':\n",
    "        n+=i\n",
    "    elif not('A'<=i<='Z'or 'a'<=i<='z' or '0'<=i<='9'):\n",
    "        sp+=i\n",
    "    elif i not in 'AEIOUaeiou':\n",
    "        c+=i\n",
    "res+=c[::-1]+sp[::-1]+v[::-1]+c[::-1]\n",
    "print(res)\n"
   ]
  },
  {
   "cell_type": "code",
   "execution_count": 47,
   "metadata": {},
   "outputs": [
    {
     "name": "stdout",
     "output_type": "stream",
     "text": [
      "h$ll*w*rld\n"
     ]
    }
   ],
   "source": [
    "# 75 I/p:’HELLOWORLD’   o/p:’h$ll*w*rld’\n",
    "s=\"HELLOWORLD\"\n",
    "res=\"\"\n",
    "for i in s:\n",
    "    if i in 'AEIOU':\n",
    "        if i=='E':\n",
    "            res+=\"$\"\n",
    "        elif i==\"O\":\n",
    "            res+=\"*\"\n",
    "    else: \n",
    "        res+=chr(ord(i)+32)\n",
    "print(res)"
   ]
  },
  {
   "cell_type": "code",
   "execution_count": 48,
   "metadata": {},
   "outputs": [
    {
     "name": "stdout",
     "output_type": "stream",
     "text": [
      "hllwrld21\n"
     ]
    }
   ],
   "source": [
    "# 76 #I/p:’123HELLO WORLD456’\n",
    "#o/p:’hllwrld21’\n",
    "s=\"123HELLO WORLD456\"\n",
    "c,n,v,sp=\"\",\"\",\"\",\"\"\n",
    "res=\"\"\n",
    "for i in s:\n",
    "    if '0'<=i<'9':\n",
    "        n+=i\n",
    "    elif i in 'AEIOU':\n",
    "        v+=i\n",
    "    elif not('a'<=i<='z' or 'A'<=i<='Z' or '0'<=i<='9'):\n",
    "        sp+=i\n",
    "    elif i not in 'AEIOU':\n",
    "        c+=chr(ord(i)+32)\n",
    "res+=c+n[0:2][::-1]\n",
    "print(res)"
   ]
  },
  {
   "cell_type": "code",
   "execution_count": 49,
   "metadata": {},
   "outputs": [
    {
     "name": "stdout",
     "output_type": "stream",
     "text": [
      "123hEllO wOrld456\n"
     ]
    }
   ],
   "source": [
    "#77 #I/p:’123HELLO WORLD456’\n",
    "#o/p:’123hEllO wOrld456’\n",
    "s=\"123HELLO WORLD456\"\n",
    "res=\"\"\n",
    "for i in s:\n",
    "    if '0'<=i<='9'or i==\" \":\n",
    "        res+=i\n",
    "    elif i in 'AEIOU':\n",
    "        res+=i\n",
    "    elif i not in 'AEIOU':\n",
    "        res+=chr(ord(i)+32)\n",
    "print(res)"
   ]
  },
  {
   "cell_type": "code",
   "execution_count": 50,
   "metadata": {},
   "outputs": [
    {
     "name": "stdout",
     "output_type": "stream",
     "text": [
      "321hEllO wOrld456\n"
     ]
    }
   ],
   "source": [
    "#78 #I/p:’123HELLO WORLD456’\n",
    "#o/p:’321hEllO wOrld654’\n",
    "s=\"123HELLO WORLD456\"\n",
    "res,ch=\"\",\"\"\n",
    "for i in s:\n",
    "    if '0'<=i<='9'or i==\" \":\n",
    "        res+=i\n",
    "    elif i in 'AEIOU':\n",
    "        res+=i\n",
    "    elif i not in 'AEIOU':\n",
    "        res+=chr(ord(i)+32)\n",
    "ch+=res[2::-1]+res[3::]\n",
    "print(ch)"
   ]
  },
  {
   "cell_type": "code",
   "execution_count": 51,
   "metadata": {},
   "outputs": [
    {
     "name": "stdout",
     "output_type": "stream",
     "text": [
      "321*E**O *O***456\n"
     ]
    }
   ],
   "source": [
    "#79\n",
    "#I/p:’123HELLO WORLD456’\n",
    "#o/p:’321*E**O *O***654’\n",
    "s=\"123HELLO WORLD456\"\n",
    "res,ch=\"\",\"\"\n",
    "for i in s:\n",
    "    if '0'<=i<='9'or i==\" \":\n",
    "        res+=i\n",
    "    elif i in 'AEIOU':\n",
    "        res+=i\n",
    "    elif i not in 'AEIOU':\n",
    "        res+='*'\n",
    "ch+=res[2::-1]+res[3::]\n",
    "print(ch)"
   ]
  },
  {
   "cell_type": "code",
   "execution_count": 52,
   "metadata": {},
   "outputs": [
    {
     "name": "stdout",
     "output_type": "stream",
     "text": [
      "123*E**O *O***456\n"
     ]
    }
   ],
   "source": [
    "# 80 #I/p:’123HELLO WORLD456’\n",
    "#o/p:’123*E**O *O***456’\n",
    "s=\"123HELLO WORLD456\"\n",
    "res=\"\"\n",
    "for i in s:\n",
    "    if '0'<=i<='9'or not('A'<=i<='z'or 'a'<=i<='z'):\n",
    "        res+=i\n",
    "    elif i in 'AEIOU':\n",
    "        res+=i\n",
    "    elif i not in 'AEIOU':\n",
    "        res+='*'\n",
    "print(res)"
   ]
  },
  {
   "cell_type": "code",
   "execution_count": 53,
   "metadata": {},
   "outputs": [
    {
     "name": "stdout",
     "output_type": "stream",
     "text": [
      "axbycz\n"
     ]
    }
   ],
   "source": [
    "# 82 i/p: ‘abc’ i/p: ‘xyz’\n",
    "# o/p:’axbycz’\n",
    "s=\"abc\"\n",
    "p=\"xyz\"\n",
    "r=\"\"\n",
    "for i in range(0,len(s)):\n",
    "    r+=s[i]+p[i]\n",
    "print(r)"
   ]
  },
  {
   "cell_type": "code",
   "execution_count": 54,
   "metadata": {},
   "outputs": [
    {
     "name": "stdout",
     "output_type": "stream",
     "text": [
      "axbyczw\n"
     ]
    }
   ],
   "source": [
    "# 83 i/p: ‘abc’     i/p: ‘xyzw’                     o/p:’axbyczw’\n",
    "s='abc'\n",
    "b='xyzw'\n",
    "r=\"\"\n",
    "for i in range(0,len(s)):\n",
    "    r+=s[i]+b[i]\n",
    "r+=b[-1]\n",
    "print(r)\n"
   ]
  },
  {
   "cell_type": "code",
   "execution_count": 55,
   "metadata": {},
   "outputs": [
    {
     "name": "stdout",
     "output_type": "stream",
     "text": [
      "axbyczd\n"
     ]
    }
   ],
   "source": [
    "# 84 i/p: ‘abcd’          i/p: ‘xyz’             o/p:’axbyczd’\n",
    "s='abcd'\n",
    "r='xyz'\n",
    "t=\"\"\n",
    "for i in range(0,len(r)):\n",
    "    t+=s[i]+r[i]\n",
    "t+=s[-1]\n",
    "print(t)"
   ]
  },
  {
   "cell_type": "code",
   "execution_count": 56,
   "metadata": {},
   "outputs": [
    {
     "name": "stdout",
     "output_type": "stream",
     "text": [
      "axbyczwop\n"
     ]
    }
   ],
   "source": [
    "# 85 i/p: ‘abc’   i/p: ‘xyzwop’\n",
    "# o/p:’axbyczwop’\n",
    "n='abc'\n",
    "m='xyzwop'\n",
    "res=\"\"\n",
    "for i in range(0,len(n)):\n",
    "    res+=n[i]+m[i]\n",
    "res+=m[i+1:]\n",
    "print(res)"
   ]
  },
  {
   "cell_type": "code",
   "execution_count": 1,
   "metadata": {},
   "outputs": [
    {
     "name": "stdout",
     "output_type": "stream",
     "text": [
      "[10, 20.2, (20+3j), [10, 20, 30], (10, 20), {'a': 10}]\n"
     ]
    }
   ],
   "source": [
    "#117. WAP to print the data items in a given list.\n",
    "l=[10,20.2,20+3j,[10,20,30],(10,20,),{\"a\":10}]\n",
    "#for i in range(0,len(l)):\n",
    "print(l)"
   ]
  },
  {
   "cell_type": "code",
   "execution_count": 2,
   "metadata": {},
   "outputs": [
    {
     "name": "stdout",
     "output_type": "stream",
     "text": [
      "[{'a': 10}, (10, 20), [10, 20, 30], (20+3j), 20.2, 10]\n"
     ]
    }
   ],
   "source": [
    "#118. WAP to reverse the data items in a given list.\n",
    "l=[10,20.2,20+3j,[10,20,30],(10,20,),{\"a\":10}]\n",
    "#for i in range(0,len(l)):\n",
    "print(l[::-1])"
   ]
  },
  {
   "cell_type": "code",
   "execution_count": 61,
   "metadata": {},
   "outputs": [
    {
     "name": "stdout",
     "output_type": "stream",
     "text": [
      "[10, 20.2, (20+3j), True]\n"
     ]
    }
   ],
   "source": [
    "#119. WAP to extract and store the single value data types in a given list.(store the values in list)\n",
    "l=[10,20.2,20+3j,[10,20,30],(10,20,),{\"a\":10},True]\n",
    "r=[]\n",
    "for i in l:\n",
    "    if(type(i) in [int,float,complex,bytes,bool,type(None)]):\n",
    "        r+=[i]\n",
    "print(r)   "
   ]
  },
  {
   "cell_type": "code",
   "execution_count": 62,
   "metadata": {},
   "outputs": [
    {
     "name": "stdout",
     "output_type": "stream",
     "text": [
      "[(100, 200), {'a': 10}, [2, 5, 6], {456, 23}]\n"
     ]
    }
   ],
   "source": [
    "# 120 WAP to extract and store the multi value data types in a given list. (store the values in tuple)\n",
    "l=[10,4+6j,(100,200),{'a':10},-99,False,[2,5,6],{23,456}]\n",
    "li=[]\n",
    "for  i in l:\n",
    "    if type(i) in [str,list,tuple,set,dict]:\n",
    "        li+=[i]\n",
    "print(li)"
   ]
  },
  {
   "cell_type": "code",
   "execution_count": 63,
   "metadata": {},
   "outputs": [
    {
     "name": "stdout",
     "output_type": "stream",
     "text": [
      "[{'a': 10}, [2, 5, 6], {456, 23}]\n"
     ]
    }
   ],
   "source": [
    "# 121 WAP to extract and store the mutable values data types in a given list. (store the values in set)\n",
    "l=[10,4+6j,(100,200),{'a':10},-99,False,[2,5,6],{23,456}]\n",
    "res=[]\n",
    "for i in l:\n",
    "    if type(i) in [list,set,dict]:\n",
    "        res+=[i]\n",
    "print(res)\n"
   ]
  },
  {
   "cell_type": "code",
   "execution_count": 64,
   "metadata": {},
   "outputs": [
    {
     "name": "stdout",
     "output_type": "stream",
     "text": [
      "[10, (4+6j), (100, 200), -99, False, 'hello']\n"
     ]
    }
   ],
   "source": [
    "# 122 WAP to extract and store the immutable value data types in a given list. (store the values in tuple)\n",
    "l=[10,4+6j,(100,200),{'a':10},-99,False,[2,5,6],{23,456},'hello']\n",
    "res=[]\n",
    "for i in l:\n",
    "    if type(i) not in [list,set,dict]:\n",
    "        res+=[i]\n",
    "print(res)"
   ]
  },
  {
   "cell_type": "code",
   "execution_count": 20,
   "metadata": {},
   "outputs": [
    {
     "name": "stdout",
     "output_type": "stream",
     "text": [
      "l\n",
      "1\n"
     ]
    }
   ],
   "source": [
    "l=\"laaaaalith\"\n",
    "c=0\n",
    "for i in range(len(l)):\n",
    "    for j in range(i+1,len(l)):\n",
    "        if l[i]==l[j]:\n",
    "            print(l[i])\n",
    "            c+=1\n",
    "    break\n",
    "    #break   \n",
    "print(c)     "
   ]
  },
  {
   "cell_type": "code",
   "execution_count": 24,
   "metadata": {},
   "outputs": [
    {
     "name": "stdout",
     "output_type": "stream",
     "text": [
      "['ABCDEFG', 'IJK', 'AB']\n"
     ]
    }
   ],
   "source": [
    "s=\"ABCDEFGIJKABC\"\n",
    "l=[]\n",
    "res=\"\"\n",
    "i=0\n",
    "while i<len(s):\n",
    "    if i!=len(s)-1 and s[i]==chr(ord(s[i+1])-1):\n",
    "        res=res+s[i]+s[i+1]\n",
    "        i+=1\n",
    "    else:\n",
    "        if i!=len(s)-1 and s[i]!=chr(ord(s[i+1])-1):\n",
    "            res+=s[i]\n",
    "        l+=[res]\n",
    "        res=\"\"\n",
    "    i+=1\n",
    "print(l)"
   ]
  },
  {
   "cell_type": "code",
   "execution_count": 25,
   "metadata": {},
   "outputs": [
    {
     "name": "stdout",
     "output_type": "stream",
     "text": [
      "['ABCDEFG', 'IJK', 'ABC']\n"
     ]
    }
   ],
   "source": [
    "s = \"ABCDEFGIJKABC\"\n",
    "l = []\n",
    "res = s[0]  # Start the result with the first character of the string\n",
    "for i in range(1, len(s)):\n",
    "    if ord(s[i]) == ord(s[i - 1]) + 1:\n",
    "        res += s[i]\n",
    "    else:\n",
    "        l.append(res)\n",
    "        res = s[i]  # Start a new result with the current character\n",
    "l.append(res)  # Add the last result to the list\n",
    "print(l)"
   ]
  },
  {
   "cell_type": "code",
   "execution_count": 26,
   "metadata": {},
   "outputs": [
    {
     "name": "stdout",
     "output_type": "stream",
     "text": [
      "['ABCDEFG', 'IJK', 'ABC']\n"
     ]
    }
   ],
   "source": [
    "s = \"ABCDEFGIJKABC\"\n",
    "l = []\n",
    "res = s[0]\n",
    "\n",
    "for i in range(1, len(s)):\n",
    "    if ord(s[i]) == ord(s[i - 1]) + 1:\n",
    "        res += s[i]\n",
    "    else:\n",
    "        l += [res]  \n",
    "        res = s[i]\n",
    "\n",
    "l += [res] \n",
    "print(l)"
   ]
  }
 ],
 "metadata": {
  "kernelspec": {
   "display_name": "Python 3",
   "language": "python",
   "name": "python3"
  },
  "language_info": {
   "codemirror_mode": {
    "name": "ipython",
    "version": 3
   },
   "file_extension": ".py",
   "mimetype": "text/x-python",
   "name": "python",
   "nbconvert_exporter": "python",
   "pygments_lexer": "ipython3",
   "version": "3.11.4"
  },
  "orig_nbformat": 4
 },
 "nbformat": 4,
 "nbformat_minor": 2
}
