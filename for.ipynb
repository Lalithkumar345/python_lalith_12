{
 "cells": [
  {
   "cell_type": "code",
   "execution_count": 1,
   "metadata": {},
   "outputs": [
    {
     "name": "stdout",
     "output_type": "stream",
     "text": [
      "0\n",
      "1\n",
      "2\n",
      "3\n",
      "4\n",
      "5\n",
      "6\n",
      "7\n",
      "8\n",
      "9\n"
     ]
    }
   ],
   "source": [
    "for num in range(0,10):\n",
    "    print(num)\n",
    "\n"
   ]
  },
  {
   "cell_type": "code",
   "execution_count": 4,
   "metadata": {},
   "outputs": [
    {
     "name": "stdout",
     "output_type": "stream",
     "text": [
      "haii\n",
      "hello\n",
      "bye\n"
     ]
    }
   ],
   "source": [
    "lalith=[\"haii\", \"hello\", \"bye\"]\n",
    "for  lalith  in lalith:\n",
    "    print(lalith)\n"
   ]
  },
  {
   "cell_type": "code",
   "execution_count": 13,
   "metadata": {},
   "outputs": [
    {
     "name": "stdout",
     "output_type": "stream",
     "text": [
      "pendrive\n"
     ]
    }
   ],
   "source": [
    "st=[\"pendrive\"]\n",
    "for st in (st):\n",
    "    print(st)"
   ]
  },
  {
   "cell_type": "code",
   "execution_count": 37,
   "metadata": {},
   "outputs": [
    {
     "name": "stdout",
     "output_type": "stream",
     "text": [
      "6\n"
     ]
    }
   ],
   "source": [
    "a=3\n",
    "\n",
    "s=1\n",
    "for i in range(1,a+1):\n",
    "    s*=i\n",
    "print(s)    "
   ]
  },
  {
   "cell_type": "code",
   "execution_count": 39,
   "metadata": {},
   "outputs": [
    {
     "name": "stdout",
     "output_type": "stream",
     "text": [
      "2540\n"
     ]
    }
   ],
   "source": [
    "a=2540\n",
    "for a in range(a,a+1):\n",
    "    print(a)"
   ]
  },
  {
   "cell_type": "code",
   "execution_count": 64,
   "metadata": {},
   "outputs": [
    {
     "name": "stdout",
     "output_type": "stream",
     "text": [
      "1\n"
     ]
    }
   ],
   "source": [
    "a=\"2542134\"\n",
    "na=9\n",
    "for i in (a):\n",
    "    if(int(i)<na):\n",
    "        na=int(i)\n",
    "print(na)"
   ]
  },
  {
   "cell_type": "code",
   "execution_count": 6,
   "metadata": {},
   "outputs": [
    {
     "name": "stdout",
     "output_type": "stream",
     "text": [
      "invalid\n",
      "invalid\n",
      "invalid\n",
      "invalid\n",
      "invalid\n",
      "invalid\n",
      "invalid\n",
      "invalid\n",
      "invalid\n",
      "invalid pw\n"
     ]
    }
   ],
   "source": [
    "st=input()\n",
    "num=''\n",
    "sp=''\n",
    "lw=''\n",
    "up=''\n",
    "for i in st:\n",
    "    if type(st)==str and 8<=len(st)<=20 and 'A'<=st[0]<='Z' or 'A'<=st[-1]<='Z':\n",
    "        if 'a'<=i<='z':\n",
    "            lw+=i\n",
    "        elif '0'<=i<='9':\n",
    "            num+=i\n",
    "        elif not('a'<=i<='z' or 'A'<=i<='Z' or '0'<=i<='9' or '.' or '()' or '[]' or '{}' or ' '):\n",
    "            sp+=i\n",
    "        elif 'A'<=i<='Z':\n",
    "            up+=i\n",
    "    if len(num)>=1 and len(sp)>=2 and 1<=len(lw)<=5 and len(up)>=2:\n",
    "        print('valid')\n",
    "    else:\n",
    "        print('invalid')\n",
    "else:\n",
    "    print('invalid pw')"
   ]
  },
  {
   "cell_type": "code",
   "execution_count": null,
   "metadata": {},
   "outputs": [],
   "source": []
  },
  {
   "cell_type": "code",
   "execution_count": 46,
   "metadata": {},
   "outputs": [
    {
     "name": "stdout",
     "output_type": "stream",
     "text": [
      "4\n"
     ]
    }
   ],
   "source": [
    "a=\"2054\"\n",
    "b=len(a)\n",
    "print(b)"
   ]
  },
  {
   "cell_type": "code",
   "execution_count": 10,
   "metadata": {},
   "outputs": [
    {
     "name": "stdout",
     "output_type": "stream",
     "text": [
      "invalid\n",
      "invalid\n"
     ]
    }
   ],
   "source": [
    "a=\"Lalith@12#K\"\n",
    "u=''\n",
    "l=''\n",
    "n=''\n",
    "sp=''\n",
    "\n",
    "\n",
    "if(type(a)==str and 8<=len(a)<=20 and 'A'<=a[0]<='Z' and 'A'<=a[-1]<='Z'):\n",
    " \n",
    "    for i in a:\n",
    "        if('A'<=i<='Z'):\n",
    "            u+=i\n",
    "        elif('a'<=i<='z'):\n",
    "            l+=i\n",
    "        elif('0'<=i<='9'):\n",
    "            n+=i\n",
    "        elif(i not in '  . () [] {}'):\n",
    "            sp+=i\n",
    "            if(len(u)>=2 and len(1<=len(l)<=5) and len(n)>=1 and len(sp)>=2):\n",
    "                print(\"valid\")\n",
    "            else:\n",
    "                print(\"invalid\")\n",
    "    "
   ]
  },
  {
   "cell_type": "code",
   "execution_count": 2,
   "metadata": {},
   "outputs": [
    {
     "name": "stdout",
     "output_type": "stream",
     "text": [
      "{'L': 1, 'a': 2, 'l': 1, 'i': 1, 't': 1, 'h': 1, ' ': 1, 'k': 1, 'u': 1, 'm': 1, 'r': 1}\n"
     ]
    }
   ],
   "source": [
    "a=\"Lalith kumar\"\n",
    "d={}\n",
    "for i in a:\n",
    "    d[i]=a.count(i)\n",
    "print(d)"
   ]
  },
  {
   "cell_type": "code",
   "execution_count": 15,
   "metadata": {},
   "outputs": [
    {
     "name": "stdout",
     "output_type": "stream",
     "text": [
      "laith\n",
      "[['l', 2], ['a', 1], ['i', 1], ['t', 1], ['h', 1]]\n",
      "1\n",
      "1\n"
     ]
    }
   ],
   "source": [
    "a=\"lalith\"\n",
    "b=\"\"\n",
    "count=0\n",
    "for i in a:\n",
    "    if(i not in b):\n",
    "        b+=i\n",
    "print(b) \n",
    "l=[]\n",
    "for i in b:\n",
    "    count=0\n",
    "    for j in a:\n",
    "        if i==j:\n",
    "            count+=1\n",
    "    l+=[[i,count]]\n",
    "print(l)\n",
    "u=dict(l)\n",
    "print(u[\"t\"]) \n",
    "print(count)           \n",
    "       \n"
   ]
  },
  {
   "cell_type": "code",
   "execution_count": 12,
   "metadata": {},
   "outputs": [
    {
     "name": "stdout",
     "output_type": "stream",
     "text": [
      "{'h': 1, 'e': 1, 'l': 3, 'o': 2, ' ': 1, 'w': 1, 'r': 1, 'd': 1}\n",
      "{1: ['h', 'e', ' ', 'w', 'r', 'd'], 3: ['l'], 2: ['o']}\n"
     ]
    }
   ],
   "source": [
    "st='hello world'\n",
    "d={}\n",
    "for i in st:\n",
    "    if i not in d:\n",
    "        d[i]=1\n",
    "    else:\n",
    "        d[i]+=1\n",
    "print(d)\n",
    "res={}\n",
    "for j in d:\n",
    "    if d[j] not in res: \n",
    "       res[d[j]]=[j]\n",
    "    else:\n",
    "        res[d[j]]+=[j]\n",
    "print(res)"
   ]
  },
  {
   "cell_type": "code",
   "execution_count": 25,
   "metadata": {},
   "outputs": [
    {
     "name": "stdout",
     "output_type": "stream",
     "text": [
      "{'h': 1, 'e': 1, 'l': 3, 'o': 2, ' ': 1, 'w': 1, 'r': 1, 'd': 1}\n",
      "h 1\n",
      "6\n"
     ]
    }
   ],
   "source": [
    "st='hello world'\n",
    "d={}\n",
    "#count=0\n",
    "for i in st:\n",
    "    if i not in d:\n",
    "        d[i]=1\n",
    "    else:\n",
    "        d[i]+=1\n",
    "       \n",
    "print(d)\n",
    "u=[]\n",
    "min=len(st)\n",
    "ch=None\n",
    "for i in d:\n",
    "    if(min>d[i]):\n",
    "        min=d[i]\n",
    "        ch=i\n",
    "    elif(min==d[i]):\n",
    "        u+=[[i,d[i]]]\n",
    "u+=[[ch,min]]\n",
    "print(ch,min)\n",
    "print(len(u))             "
   ]
  },
  {
   "cell_type": "code",
   "execution_count": 30,
   "metadata": {},
   "outputs": [
    {
     "name": "stdout",
     "output_type": "stream",
     "text": [
      "htilal\n"
     ]
    }
   ],
   "source": [
    "a=\"lalith\"\n",
    "res=\"\"\n",
    "\n",
    "for i in a:\n",
    "   res=i+res\n",
    "   \n",
    "print(res)    \n",
    "    "
   ]
  },
  {
   "cell_type": "code",
   "execution_count": 35,
   "metadata": {},
   "outputs": [
    {
     "name": "stdout",
     "output_type": "stream",
     "text": [
      "not a palindrom\n"
     ]
    }
   ],
   "source": [
    "a=\"lalith\"\n",
    "res=\"\"\n",
    "\n",
    "for i in a:\n",
    "   res=i+res\n",
    "if(st==res):\n",
    "   \n",
    "    print(\"palindrom\")\n",
    "else:\n",
    "    print(\"not a palindrom\") "
   ]
  },
  {
   "cell_type": "code",
   "execution_count": 27,
   "metadata": {},
   "outputs": [
    {
     "name": "stdout",
     "output_type": "stream",
     "text": [
      "j\n",
      "ja\n",
      "jag\n",
      "jaga\n",
      "jagat\n",
      "jagath\n"
     ]
    }
   ],
   "source": [
    "a=\"jagath\"\n",
    "count=1\n",
    "for i in a:\n",
    "    print(a[0:count])  \n",
    "    count+=1  \n"
   ]
  },
  {
   "cell_type": "code",
   "execution_count": 50,
   "metadata": {},
   "outputs": [
    {
     "name": "stdout",
     "output_type": "stream",
     "text": [
      "\n",
      "a\n",
      "al\n",
      "ali\n",
      "alit\n",
      "alith\n"
     ]
    }
   ],
   "source": [
    "\n",
    "count=1\n",
    "for i in  \"lalith\":\n",
    "    print(\"lalith\"[1:count])\n",
    "    count+=1\n",
    "    \n",
    "        \n",
    "    "
   ]
  },
  {
   "cell_type": "code",
   "execution_count": 59,
   "metadata": {},
   "outputs": [
    {
     "name": "stdout",
     "output_type": "stream",
     "text": [
      "list[range]\n",
      "list[range]\n",
      "list[range]\n",
      "list[range]\n",
      "list[range]\n",
      "list[range]\n",
      "list[range]\n",
      "list[range]\n",
      "list[range]\n",
      "list[range]\n"
     ]
    }
   ],
   "source": [
    "for i in range(0,10):\n",
    "    print(list[range])\n",
    " \n"
   ]
  },
  {
   "cell_type": "code",
   "execution_count": 69,
   "metadata": {},
   "outputs": [
    {
     "name": "stdout",
     "output_type": "stream",
     "text": [
      "\n",
      "l\n",
      "le\n",
      "lev\n",
      "leve\n",
      "level\n"
     ]
    }
   ],
   "source": [
    "st=\"level\"\n",
    "for i in range(0,len(st)+1):\n",
    "    print(st[0:i])"
   ]
  },
  {
   "cell_type": "code",
   "execution_count": 65,
   "metadata": {},
   "outputs": [
    {
     "name": "stdout",
     "output_type": "stream",
     "text": [
      "l\n",
      "le\n",
      "lev\n",
      "leve\n",
      "level\n"
     ]
    }
   ],
   "source": [
    "a=\"level\"\n",
    "res=\"\"\n",
    "for i in range(0,len(st)):\n",
    "    res+=st[i]\n",
    "    print(res)"
   ]
  },
  {
   "cell_type": "code",
   "execution_count": 81,
   "metadata": {},
   "outputs": [
    {
     "name": "stdout",
     "output_type": "stream",
     "text": [
      "l\n",
      "le\n",
      "lev\n",
      "leve\n",
      "level\n",
      "e\n",
      "ev\n",
      "eve\n",
      "evel\n",
      "v\n",
      "ve\n",
      "vel\n",
      "e\n",
      "el\n",
      "l\n"
     ]
    }
   ],
   "source": [
    "st=\"level\"\n",
    "for j in range(0,len(st)):\n",
    "    for i in range(j+1,len(st)+1):\n",
    "        print(st[j:i])"
   ]
  },
  {
   "cell_type": "markdown",
   "metadata": {},
   "source": [
    "FOR LOOP QUESTIONS\n"
   ]
  },
  {
   "cell_type": "code",
   "execution_count": 11,
   "metadata": {},
   "outputs": [
    {
     "name": "stdout",
     "output_type": "stream",
     "text": [
      "t\n",
      "h\n",
      "k\n",
      "u\n"
     ]
    }
   ],
   "source": [
    "#1.WAP to print all the items present in the string between the range from m to n.\n",
    "l=\"lalithkumar\"\n",
    "for i in range(4,8):\n",
    "    print(l[i])\n",
    "\n"
   ]
  },
  {
   "cell_type": "code",
   "execution_count": 15,
   "metadata": {},
   "outputs": [
    {
     "name": "stdout",
     "output_type": "stream",
     "text": [
      "L\n",
      "A\n",
      "L\n",
      "I\n",
      "T\n",
      "H\n"
     ]
    }
   ],
   "source": [
    "#2. WAP to print the uppercase characters in a given string.\n",
    "l=\"LALITHkumar1223@#$$%\"\n",
    "for i in l:\n",
    "    if(\"A\"<=i<=\"Z\"):\n",
    "        print(i)\n"
   ]
  },
  {
   "cell_type": "code",
   "execution_count": 20,
   "metadata": {},
   "outputs": [
    {
     "name": "stdout",
     "output_type": "stream",
     "text": [
      "k\n",
      "u\n",
      "m\n",
      "a\n",
      "r\n"
     ]
    }
   ],
   "source": [
    "#3.WAP to print the lowercase characters in a given string.\n",
    "l=\"LALITHkumar1223@#$$%\"\n",
    "for i in l:\n",
    "    if(\"a\"<=i<=\"z\"):\n",
    "        print(i)\n",
    "\n"
   ]
  },
  {
   "cell_type": "code",
   "execution_count": 21,
   "metadata": {},
   "outputs": [
    {
     "name": "stdout",
     "output_type": "stream",
     "text": [
      "1\n",
      "2\n",
      "2\n",
      "3\n"
     ]
    }
   ],
   "source": [
    "#4.WAP to print the ascii numbers(Digits) characters in a given string.\n",
    "l=\"LALITHkumar1223@#$$%\"\n",
    "for i in l:\n",
    "    if(\"0\"<=i<=\"9\"):\n",
    "        print(i)"
   ]
  },
  {
   "cell_type": "code",
   "execution_count": 23,
   "metadata": {},
   "outputs": [
    {
     "name": "stdout",
     "output_type": "stream",
     "text": [
      "@\n",
      "#\n",
      "$\n",
      "$\n",
      "%\n"
     ]
    }
   ],
   "source": [
    "#5. WAP to print the special characters in a given string.\n",
    "l=\"LALITHkumar1223@#$$%\"\n",
    "for i in l:\n",
    "    if( not (\"A\"<=i<=\"Z\" or \"a\"<=i<=\"z\" or \"0\"<=i<=\"9\")):\n",
    "        print(i)"
   ]
  },
  {
   "cell_type": "code",
   "execution_count": 24,
   "metadata": {},
   "outputs": [
    {
     "name": "stdout",
     "output_type": "stream",
     "text": [
      "A\n",
      "I\n",
      "u\n",
      "a\n"
     ]
    }
   ],
   "source": [
    "#6.WAP to Print the vowels in a given string.\n",
    "l=\"LALITHkumar1223@#$$%\"\n",
    "for i in l:\n",
    "    if(i in \"aeiouAEIOU\"):\n",
    "        print(i)\n"
   ]
  },
  {
   "cell_type": "code",
   "execution_count": 39,
   "metadata": {},
   "outputs": [
    {
     "name": "stdout",
     "output_type": "stream",
     "text": [
      "L\n",
      "L\n",
      "T\n",
      "H\n",
      "k\n",
      "m\n",
      "r\n"
     ]
    }
   ],
   "source": [
    "#7.WAP to Print the consonants in a given string.\n",
    "l=\"LALITHkumar1233@#$\"\n",
    "for i in l:\n",
    "    if(\"A\"<=i<=\"Z\" or \"a\"<=i<=\"z\"):\n",
    "        if(i not in \"aeiouAEIOU\"):\n",
    "            print(i)\n"
   ]
  },
  {
   "cell_type": "code",
   "execution_count": 60,
   "metadata": {},
   "outputs": [
    {
     "name": "stdout",
     "output_type": "stream",
     "text": [
      "ramukhtilal\n"
     ]
    }
   ],
   "source": [
    "#8.WAP to print the reverse of the characters in a given string.\n",
    "l=\"lalithkumar\"\n",
    "b=\"\"\n",
    "for i in l:\n",
    "    b=i+b\n",
    "print(b)"
   ]
  },
  {
   "cell_type": "code",
   "execution_count": 64,
   "metadata": {},
   "outputs": [
    {
     "name": "stdout",
     "output_type": "stream",
     "text": [
      "l\n",
      "l\n",
      "t\n",
      "k\n",
      "m\n",
      "r\n"
     ]
    }
   ],
   "source": [
    "#9. WAP to print even position values characters in a given string.\n",
    "l=\"lalithkumar\"\n",
    "for i in range(0,len(l)):\n",
    "    if(i%2==0):\n",
    "        print(l[i])"
   ]
  },
  {
   "cell_type": "code",
   "execution_count": 65,
   "metadata": {},
   "outputs": [
    {
     "name": "stdout",
     "output_type": "stream",
     "text": [
      "a\n",
      "i\n",
      "h\n",
      "u\n",
      "a\n"
     ]
    }
   ],
   "source": [
    "#10.WAP to print odd position values characters in a given string\n",
    "l=\"lalithkumar\"\n",
    "for i in range(0,len(l)):\n",
    "    if(i%2!=0):\n",
    "        print(l[i])"
   ]
  },
  {
   "cell_type": "code",
   "execution_count": 66,
   "metadata": {},
   "outputs": [
    {
     "name": "stdout",
     "output_type": "stream",
     "text": [
      "11\n"
     ]
    }
   ],
   "source": [
    "#11.WAP to count the total Number of characters in a given string.(with length function)\n",
    "l=\"lalithkumar\"\n",
    "print(len(l))"
   ]
  },
  {
   "cell_type": "code",
   "execution_count": 67,
   "metadata": {},
   "outputs": [
    {
     "name": "stdout",
     "output_type": "stream",
     "text": [
      "11\n"
     ]
    }
   ],
   "source": [
    "#12.WAP to count the total Number of characters in a given string.(without length function)\n",
    "l=\"lalithkumar\"\n",
    "count=0\n",
    "for i in l:\n",
    "    count+=1\n",
    "print(count)\n",
    "    "
   ]
  },
  {
   "cell_type": "code",
   "execution_count": 68,
   "metadata": {},
   "outputs": [
    {
     "name": "stdout",
     "output_type": "stream",
     "text": [
      "11\n"
     ]
    }
   ],
   "source": [
    "#13. WAP to count alphabets in a given string.\n",
    "l=\"LALITHkumar1233@#$\"\n",
    "count=0\n",
    "for i in l:\n",
    "    if(\"A\"<=i<=\"Z\" or \"a\"<=i<=\"z\"):\n",
    "      count+=1\n",
    "print(count)\n"
   ]
  },
  {
   "cell_type": "code",
   "execution_count": 69,
   "metadata": {},
   "outputs": [
    {
     "name": "stdout",
     "output_type": "stream",
     "text": [
      "6\n"
     ]
    }
   ],
   "source": [
    "#14. WAP to count Number of uppercase in a given string.\n",
    "l=\"LALITHkumar1233@#$\"\n",
    "count=0\n",
    "for i in l:\n",
    "    if(\"A\"<=i<=\"Z\" ):\n",
    "      count+=1\n",
    "print(count)\n"
   ]
  },
  {
   "cell_type": "code",
   "execution_count": 72,
   "metadata": {},
   "outputs": [
    {
     "name": "stdout",
     "output_type": "stream",
     "text": [
      "5\n"
     ]
    }
   ],
   "source": [
    "#15.WAP to count lowercase in a given string.\n",
    "l=\"LALITHkumar1233@#$\"\n",
    "count=0\n",
    "for i in l:\n",
    "    if(\"a\"<=i<=\"z\"):\n",
    "      count+=1\n",
    "print(count)"
   ]
  },
  {
   "cell_type": "code",
   "execution_count": 76,
   "metadata": {},
   "outputs": [
    {
     "name": "stdout",
     "output_type": "stream",
     "text": [
      "3\n"
     ]
    }
   ],
   "source": [
    "#16.WAP to count Number of special symbols in a given string.\n",
    "l=\"LALITHkumar1233@#$\"\n",
    "count=0\n",
    "for i in l:\n",
    "    if( not (\"a\"<=i<=\"z\" or \"A\"<=i<=\"Z\" or \"0\"<=i<=\"9\")):\n",
    "      count+=1\n",
    "print(count)"
   ]
  },
  {
   "cell_type": "code",
   "execution_count": 77,
   "metadata": {},
   "outputs": [
    {
     "name": "stdout",
     "output_type": "stream",
     "text": [
      "11\n"
     ]
    }
   ],
   "source": [
    "#17.. WAP to count uppercase and lowercase in a given string.\n",
    "l=\"LALITHkumar1233@#$\"\n",
    "count=0\n",
    "for i in l:\n",
    "    if(\"A\"<=i<=\"Z\" or \"a\"<=i<=\"z\"):\n",
    "      count+=1\n",
    "print(count)\n"
   ]
  },
  {
   "cell_type": "code",
   "execution_count": 78,
   "metadata": {},
   "outputs": [
    {
     "name": "stdout",
     "output_type": "stream",
     "text": [
      "4\n"
     ]
    }
   ],
   "source": [
    "#18.WAP to count Number of ascii numbers in a given string.\n",
    "l=\"LALITHkumar1233@#$\"\n",
    "count=0\n",
    "for i in l:\n",
    "    if(\"0\"<=i<=\"9\"):\n",
    "      count+=1\n",
    "print(count)"
   ]
  },
  {
   "cell_type": "code",
   "execution_count": 22,
   "metadata": {},
   "outputs": [
    {
     "name": "stdout",
     "output_type": "stream",
     "text": [
      "2\n",
      "2\n",
      "2\n"
     ]
    }
   ],
   "source": [
    "#19.WAP to Count Total Number of Words in a String.\n",
    "st=\" lalith kumar \"\n",
    "s=\"\"\n",
    "l=[]\n",
    "for i in st:\n",
    "    if i!=\" \":\n",
    "        s+=i\n",
    "    else:\n",
    "        if len(s)>0:\n",
    "            l+=[s]\n",
    "            s=\"\"\n",
    "if len(s)>0:\n",
    "    l+=[s]\n",
    "    s=\"\"\n",
    "print(len(l))\n",
    "#or\n",
    "a=\"lalith kumar\".split()\n",
    "print(len(a))\n",
    "\n",
    "#or\n",
    "a=\" lalith kumar \"\n",
    "c=1\n",
    "a=a.strip()\n",
    "for i in a:\n",
    "    if i==\" \":\n",
    "        c+=1\n",
    "print(c)        \n"
   ]
  },
  {
   "cell_type": "code",
   "execution_count": 2,
   "metadata": {},
   "outputs": [
    {
     "name": "stdout",
     "output_type": "stream",
     "text": [
      "3\n"
     ]
    }
   ],
   "source": [
    "#20.WAP to Count Total Number of spaces in a String.\n",
    "l=\" lalith kumar \"\n",
    "count=0\n",
    "for i in range(0,len(l)):\n",
    "    if l[i]==\" \":\n",
    "        count+=1\n",
    "        \n",
    "print(count)     "
   ]
  },
  {
   "cell_type": "code",
   "execution_count": 5,
   "metadata": {},
   "outputs": [
    {
     "name": "stdout",
     "output_type": "stream",
     "text": [
      "4\n"
     ]
    }
   ],
   "source": [
    "#21.WAP to Count Vowels in a String.\n",
    "l=\"lalithkumar\"\n",
    "count=0\n",
    "for i in l:\n",
    "    if (i in \"aeiouAEIOU\"):\n",
    "        count+=1\n",
    "print(count)        "
   ]
  },
  {
   "cell_type": "code",
   "execution_count": 6,
   "metadata": {},
   "outputs": [
    {
     "name": "stdout",
     "output_type": "stream",
     "text": [
      "7\n"
     ]
    }
   ],
   "source": [
    "#22.WAP to Count consonants in a String.\n",
    "l=\"lalithkumar\"\n",
    "count=0\n",
    "for i in l:\n",
    "    if (i  not in \"aeiouAEIOU\"):\n",
    "        count+=1\n",
    "print(count) "
   ]
  },
  {
   "cell_type": "code",
   "execution_count": 8,
   "metadata": {},
   "outputs": [
    {
     "name": "stdout",
     "output_type": "stream",
     "text": [
      "11\n"
     ]
    }
   ],
   "source": [
    "#23.WAP to Count Vowels and Consonants in a String.\n",
    "l=\"lalithkumar1233@#$\"\n",
    "count=0\n",
    "for i in l:\n",
    "    if(\"A\"<=i<=\"Z\" or \"a\"<=i<=\"z\"):\n",
    "      count+=1\n",
    "print(count)\n"
   ]
  },
  {
   "cell_type": "code",
   "execution_count": 16,
   "metadata": {},
   "outputs": [
    {
     "name": "stdout",
     "output_type": "stream",
     "text": [
      "2\n"
     ]
    }
   ],
   "source": [
    "#24. WAP to count Number of new lines in a given string. \n",
    "l=\"lalith\\nkumar\\nvenkata\\n\"\n",
    "count=0\n",
    "for i in l:\n",
    "    if(i==\"\\n\"):\n",
    "        count+=1\n",
    "print(count-1)        "
   ]
  },
  {
   "cell_type": "code",
   "execution_count": 17,
   "metadata": {},
   "outputs": [
    {
     "name": "stdout",
     "output_type": "stream",
     "text": [
      "3\n"
     ]
    }
   ],
   "source": [
    "#25.WAP to count Number of lines in a given string.\n",
    "l=\"lalith\\nkumar\\nvenkata\\n\"\n",
    "count=0\n",
    "for i in l:\n",
    "    if(i==\"\\n\"):\n",
    "        count+=1\n",
    "print(count) "
   ]
  },
  {
   "cell_type": "code",
   "execution_count": 23,
   "metadata": {},
   "outputs": [
    {
     "name": "stdout",
     "output_type": "stream",
     "text": [
      "11 4 3\n",
      "18\n"
     ]
    }
   ],
   "source": [
    "#26.WAP to count no of alphabets, numbers, and special characters in a given string.\n",
    "l=\"Lalithkumar1234@#$\"\n",
    "a=0\n",
    "n=0\n",
    "s=0\n",
    "for i in l:\n",
    "    if(\"A\"<=i<=\"Z\" or \"a\"<=i<=\"z\"):\n",
    "        a+=1\n",
    "    elif(\"0\"<=i<=\"9\"):\n",
    "        n+=1\n",
    "    else:\n",
    "        s+=1\n",
    "print(a,n,s)  \n",
    "#or\n",
    "l=\"Lalithkumar1234@#$\"\n",
    "count=0\n",
    "for i in l:\n",
    "    count+=1\n",
    "print(count)    "
   ]
  },
  {
   "cell_type": "code",
   "execution_count": 27,
   "metadata": {},
   "outputs": [
    {
     "name": "stdout",
     "output_type": "stream",
     "text": [
      "4\n"
     ]
    }
   ],
   "source": [
    "#27.WAP to Count Total no of words in a first line of the Doc String.\n",
    "l=\"\"\"python is easy cousre\\n we can learn\\n with out\\n other program\\n course\"\"\"\n",
    "count=0\n",
    "for i in l:\n",
    "    if(i=='\\n'):\n",
    "        count+=1\n",
    "print(count)        "
   ]
  },
  {
   "cell_type": "code",
   "execution_count": 29,
   "metadata": {},
   "outputs": [
    {
     "name": "stdout",
     "output_type": "stream",
     "text": [
      "13\n"
     ]
    }
   ],
   "source": [
    "#28.WAP to sum of digits in a given string.\n",
    "l=\"lalith 2 1 2 3 5 @#$\"\n",
    "s=0\n",
    "for i in l:\n",
    "    if(\"0\"<=i<=\"9\"):\n",
    "        s+=int(i)\n",
    "print(s)        \n",
    "        "
   ]
  },
  {
   "cell_type": "code",
   "execution_count": 5,
   "metadata": {},
   "outputs": [
    {
     "name": "stdout",
     "output_type": "stream",
     "text": [
      "valithkumarllllllll\n",
      "found for 9 time\n",
      "9\n"
     ]
    }
   ],
   "source": [
    "#29.WAP to Print First Occurrence of a Character in a String.\n",
    "l=\"valithkumarllllllll\"\n",
    "print(l)\n",
    "no=l.count(\"l\")\n",
    "print(\"found for\",no,\"time\")\n",
    "print(no)\n",
    "\n"
   ]
  }
 ],
 "metadata": {
  "kernelspec": {
   "display_name": "Python 3",
   "language": "python",
   "name": "python3"
  },
  "language_info": {
   "codemirror_mode": {
    "name": "ipython",
    "version": 3
   },
   "file_extension": ".py",
   "mimetype": "text/x-python",
   "name": "python",
   "nbconvert_exporter": "python",
   "pygments_lexer": "ipython3",
   "version": "3.11.4"
  },
  "orig_nbformat": 4
 },
 "nbformat": 4,
 "nbformat_minor": 2
}
