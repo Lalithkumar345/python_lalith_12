{
 "cells": [
  {
   "cell_type": "code",
   "execution_count": 28,
   "metadata": {},
   "outputs": [
    {
     "name": "stdout",
     "output_type": "stream",
     "text": [
      "0\n",
      "1\n",
      "2\n",
      "145\n",
      "40585\n"
     ]
    }
   ],
   "source": [
    "start=0\n",
    "end=100000\n",
    "while start<=end:\n",
    "    n=start\n",
    "    temp=n\n",
    "    sum1=0\n",
    "    while n:\n",
    "        id=n%10\n",
    "        x=1\n",
    "        y=id\n",
    "        prod=1\n",
    "        while x<=y:\n",
    "            prod*=x\n",
    "            x+=1\n",
    "        sum1+=prod\n",
    "        n=n//10\n",
    "    if(temp==sum1):\n",
    "        print(sum1)\n",
    "    start+=1    \n"
   ]
  },
  {
   "cell_type": "code",
   "execution_count": 29,
   "metadata": {},
   "outputs": [
    {
     "name": "stdout",
     "output_type": "stream",
     "text": [
      "3\n",
      "153\n"
     ]
    }
   ],
   "source": [
    "n=153\n",
    "s=n\n",
    "temp=n\n",
    "s1=0\n",
    "count=0\n",
    "while(s):\n",
    "    count+=1\n",
    "    s=s//10\n",
    "print(count)\n",
    "while(n):\n",
    "    id=n%10\n",
    "    s1+=id**count\n",
    "    n//=10\n",
    "if(temp==s1):\n",
    "    print(temp)        \n",
    "    "
   ]
  },
  {
   "cell_type": "code",
   "execution_count": 30,
   "metadata": {},
   "outputs": [
    {
     "name": "stdout",
     "output_type": "stream",
     "text": [
      "1\n",
      "2\n",
      "3\n",
      "4\n",
      "5\n",
      "6\n",
      "7\n",
      "8\n",
      "9\n",
      "153\n",
      "370\n",
      "371\n",
      "407\n",
      "1634\n",
      "8208\n",
      "9474\n",
      "54748\n",
      "92727\n",
      "93084\n",
      "548834\n"
     ]
    }
   ],
   "source": [
    "start=1\n",
    "end=1000000\n",
    "while(start<=end):\n",
    "    n=start\n",
    "\n",
    "    s=n\n",
    "    temp=n\n",
    "    s1=0\n",
    "    count=0\n",
    "    while(s):\n",
    "        count+=1\n",
    "        s=s//10\n",
    "\n",
    "    while(n):\n",
    "        id=n%10\n",
    "        s1+=id**count\n",
    "        n//=10\n",
    "    if(temp==s1):\n",
    "        print(temp)    \n",
    "    start+=1        \n",
    "    \n",
    "    \n",
    "#amstrong in range."
   ]
  },
  {
   "cell_type": "code",
   "execution_count": 31,
   "metadata": {},
   "outputs": [
    {
     "name": "stdout",
     "output_type": "stream",
     "text": [
      "1\n",
      "2\n",
      "3\n",
      "4\n",
      "5\n",
      "6\n",
      "7\n",
      "8\n",
      "9\n",
      "22\n",
      "123\n",
      "132\n",
      "213\n",
      "231\n",
      "312\n",
      "321\n",
      "1124\n",
      "1142\n",
      "1214\n",
      "1241\n",
      "1412\n",
      "1421\n",
      "2114\n",
      "2141\n",
      "2411\n",
      "4112\n",
      "4121\n",
      "4211\n"
     ]
    }
   ],
   "source": [
    "start=1\n",
    "end=10000\n",
    "while(start<=end):\n",
    "    n=start\n",
    "    temp=n\n",
    "    s=0\n",
    "    prod=1\n",
    "    while(n):\n",
    "        id=n%10\n",
    "        s+=id\n",
    "        prod*=id\n",
    "        n=n//10\n",
    "    if(s==prod):\n",
    "        print(temp)\n",
    "    start+=1        "
   ]
  },
  {
   "cell_type": "code",
   "execution_count": 32,
   "metadata": {},
   "outputs": [
    {
     "name": "stdout",
     "output_type": "stream",
     "text": [
      "1\n",
      "2\n",
      "3\n",
      "4\n",
      "5\n",
      "6\n",
      "7\n",
      "8\n",
      "9\n",
      "11\n",
      "22\n",
      "33\n",
      "44\n",
      "55\n",
      "66\n",
      "77\n",
      "88\n",
      "99\n"
     ]
    }
   ],
   "source": [
    "start=1\n",
    "end=100\n",
    "while(start<=end):\n",
    "    n=start\n",
    "    temp=n\n",
    "    r=0\n",
    "    while(n):\n",
    "        id=n%10\n",
    "        r=(r*10)+id\n",
    "        n=n//10\n",
    "    if(r==temp):\n",
    "    \n",
    "        print(temp)\n",
    "    start+=1        "
   ]
  },
  {
   "cell_type": "code",
   "execution_count": 1,
   "metadata": {},
   "outputs": [
    {
     "name": "stdout",
     "output_type": "stream",
     "text": [
      "4\n"
     ]
    }
   ],
   "source": [
    "a=12334\n",
    "while a>9:\n",
    "    b=0\n",
    "    while a:\n",
    "        c=a%10 \n",
    "        b+=c\n",
    "        a=a//10\n",
    "    #print(b)\n",
    "    a=b\n",
    "print(b)\n",
    "\n",
    "  \n",
    "  \n",
    "    \n",
    "           \n",
    "    \n",
    "\n",
    "       \n",
    "    "
   ]
  },
  {
   "cell_type": "code",
   "execution_count": 1,
   "metadata": {},
   "outputs": [
    {
     "name": "stdout",
     "output_type": "stream",
     "text": [
      "7\n",
      "4\n"
     ]
    }
   ],
   "source": [
    "a=1234533\n",
    "temp=a\n",
    "count=0\n",
    "while a:\n",
    "   \n",
    "    count+=1\n",
    "    a=a//10\n",
    "print(count)\n",
    "count=count//2\n",
    "while count:\n",
    "    temp=temp//10\n",
    "    count-=1\n",
    "print(temp%10)    \n",
    "    \n",
    "      \n",
    "    \n",
    "    "
   ]
  },
  {
   "cell_type": "code",
   "execution_count": 35,
   "metadata": {},
   "outputs": [
    {
     "name": "stdout",
     "output_type": "stream",
     "text": [
      "7\n"
     ]
    }
   ],
   "source": [
    "a=1234533\n",
    "temp=a\n",
    "count=0\n",
    "while a:\n",
    "   \n",
    "    count+=1\n",
    "    a=a//10\n",
    "print(count)\n"
   ]
  },
  {
   "cell_type": "code",
   "execution_count": 1,
   "metadata": {},
   "outputs": [
    {
     "name": "stdout",
     "output_type": "stream",
     "text": [
      "987\n"
     ]
    }
   ],
   "source": [
    "a=\"789\"\n",
    "a=a[-1::-1]\n",
    "print(a)"
   ]
  },
  {
   "cell_type": "code",
   "execution_count": 12,
   "metadata": {},
   "outputs": [
    {
     "ename": "TypeError",
     "evalue": "'>' not supported between instances of 'str' and 'int'",
     "output_type": "error",
     "traceback": [
      "\u001b[1;31m---------------------------------------------------------------------------\u001b[0m",
      "\u001b[1;31mTypeError\u001b[0m                                 Traceback (most recent call last)",
      "Cell \u001b[1;32mIn[12], line 7\u001b[0m\n\u001b[0;32m      3\u001b[0m s\u001b[39m=\u001b[39m\u001b[39m0\u001b[39m\n\u001b[0;32m      4\u001b[0m temp\u001b[39m=\u001b[39mn\n\u001b[1;32m----> 7\u001b[0m \u001b[39mwhile\u001b[39;00m(temp\u001b[39m>\u001b[39;49m\u001b[39m0\u001b[39;49m):\n\u001b[0;32m      8\u001b[0m     c\u001b[39m=\u001b[39mtemp\u001b[39m%\u001b[39m\u001b[39m10\u001b[39m\n\u001b[0;32m      9\u001b[0m     s\u001b[39m+\u001b[39m\u001b[39m=\u001b[39mc\u001b[39m*\u001b[39m\u001b[39m*\u001b[39m\u001b[39m3\u001b[39m\n",
      "\u001b[1;31mTypeError\u001b[0m: '>' not supported between instances of 'str' and 'int'"
     ]
    }
   ],
   "source": [
    "n=int(input())\n",
    "\n",
    "s=0\n",
    "temp=n\n",
    "\n",
    "\n",
    "while(temp>0):\n",
    "    c=temp%10\n",
    "    s+=c**3\n",
    "    temp//=10\n",
    "if (n==s):\n",
    "    start=1\n",
    "    end=n\n",
    "   \n",
    "    while(start<=end):\n",
    "        i=1\n",
    "        j=start\n",
    "        count=0\n",
    "        while(i<=j):\n",
    "            if(j%i==0):\n",
    "                count+=1\n",
    "            i+=1    \n",
    "        if(count!=2):\n",
    "            print(j)\n",
    "        start+=1    \n",
    "                    \n",
    "        \n",
    "\n",
    "    \n",
    "    \n",
    "    \n",
    "    \n",
    "    #wap to check given number is armstrong or not if armstrong to print not prime numbers from 1 to given number.\n",
    "    \n",
    "    "
   ]
  },
  {
   "cell_type": "markdown",
   "metadata": {},
   "source": [
    "while loop concpect\n"
   ]
  },
  {
   "cell_type": "code",
   "execution_count": 84,
   "metadata": {},
   "outputs": [
    {
     "name": "stdout",
     "output_type": "stream",
     "text": [
      "haii\n"
     ]
    }
   ],
   "source": [
    "a=True\n",
    "while a:\n",
    "    print(\"haii\")\n",
    "    a=False"
   ]
  },
  {
   "cell_type": "code",
   "execution_count": 85,
   "metadata": {},
   "outputs": [
    {
     "name": "stdout",
     "output_type": "stream",
     "text": [
      "haii 0\n",
      "haii 1\n",
      "haii 2\n",
      "haii 3\n",
      "haii 4\n"
     ]
    }
   ],
   "source": [
    "a=0\n",
    "b=5\n",
    "while a<b:\n",
    "    print(\"haii\",a)\n",
    "    a+=1"
   ]
  },
  {
   "cell_type": "code",
   "execution_count": 40,
   "metadata": {},
   "outputs": [
    {
     "name": "stdout",
     "output_type": "stream",
     "text": [
      "0\n",
      "1\n",
      "2\n",
      "3\n",
      "4\n",
      "5\n",
      "6\n",
      "7\n",
      "8\n",
      "9\n"
     ]
    }
   ],
   "source": [
    "a=0\n",
    "b=10\n",
    "while a<b:\n",
    "    print(a)\n",
    "    a+=1"
   ]
  },
  {
   "cell_type": "code",
   "execution_count": 41,
   "metadata": {},
   "outputs": [
    {
     "name": "stdout",
     "output_type": "stream",
     "text": [
      "p\n",
      "e\n",
      "n\n",
      "d\n",
      "r\n",
      "i\n",
      "v\n",
      "e\n"
     ]
    }
   ],
   "source": [
    "st=\"pendrive\"\n",
    "start=0\n",
    "end=len(st)\n",
    "while(start<end):\n",
    "    print(st[start])\n",
    "    start+=1"
   ]
  },
  {
   "cell_type": "code",
   "execution_count": 42,
   "metadata": {},
   "outputs": [
    {
     "name": "stdout",
     "output_type": "stream",
     "text": [
      "p 0\n",
      "e 1\n",
      "n 2\n",
      "d 3\n",
      "r 4\n",
      "i 5\n",
      "v 6\n",
      "e 7\n"
     ]
    }
   ],
   "source": [
    "st=\"pendrive\"\n",
    "start=0\n",
    "end=len(st)\n",
    "while(start<end):\n",
    "    print(st[start],start)\n",
    "    start+=1"
   ]
  },
  {
   "cell_type": "code",
   "execution_count": 13,
   "metadata": {},
   "outputs": [
    {
     "name": "stdout",
     "output_type": "stream",
     "text": [
      "l\n",
      "a\n",
      "l\n",
      "i\n",
      "t\n",
      "h\n",
      "length= 6\n"
     ]
    }
   ],
   "source": [
    "a=input()\n",
    "i=0\n",
    "c=0\n",
    "while(i<len(a)):\n",
    "\tc+=1\n",
    "\tprint(a[i])\n",
    "\ti+=1\n",
    "print(\"length=\",c)"
   ]
  },
  {
   "cell_type": "code",
   "execution_count": 43,
   "metadata": {},
   "outputs": [
    {
     "name": "stdout",
     "output_type": "stream",
     "text": [
      "e -1\n",
      "v -2\n",
      "i -3\n",
      "r -4\n",
      "d -5\n",
      "n -6\n",
      "e -7\n",
      "p -8\n"
     ]
    }
   ],
   "source": [
    "st=\"pendrive\"\n",
    "start=-1\n",
    "end=-(len(st)-(-1))\n",
    "while(start>end):\n",
    "    print(st[start],start)\n",
    "    start-=1"
   ]
  },
  {
   "cell_type": "code",
   "execution_count": 44,
   "metadata": {},
   "outputs": [
    {
     "name": "stdout",
     "output_type": "stream",
     "text": [
      "p 0 -8\n",
      "e 1 -7\n",
      "n 2 -6\n",
      "d 3 -5\n",
      "r 4 -4\n",
      "i 5 -3\n",
      "v 6 -2\n",
      "e 7 -1\n"
     ]
    }
   ],
   "source": [
    "st=\"pendrive\"\n",
    "start=0\n",
    "end=len(st)\n",
    "n=-(len(st))\n",
    "while(start<end):\n",
    "    print(st[start],start,n)\n",
    "    start+=1\n",
    "    n+=1"
   ]
  },
  {
   "cell_type": "code",
   "execution_count": 73,
   "metadata": {},
   "outputs": [
    {
     "name": "stdout",
     "output_type": "stream",
     "text": [
      "L\n",
      "T\n"
     ]
    }
   ],
   "source": [
    "#wap to extract uperr case chacter from given string.\n",
    "a=\"LaliTh\"\n",
    "start=0\n",
    "\n",
    "while(start<len(a)):\n",
    "    if('A'<=a[start]<='Z'):\n",
    "        print(a[start])\n",
    "    start+=1    "
   ]
  },
  {
   "cell_type": "code",
   "execution_count": 87,
   "metadata": {},
   "outputs": [
    {
     "name": "stdout",
     "output_type": "stream",
     "text": [
      "a\n",
      "l\n",
      "i\n",
      "h\n"
     ]
    }
   ],
   "source": [
    "#wap to extract lower case chacter from given string.\n",
    "a=\"LaliTh\"\n",
    "start=0\n",
    "\n",
    "while(start<len(a)):\n",
    "    if(a[start].islower()):\n",
    "        print(a[start])\n",
    "    start+=1 "
   ]
  },
  {
   "cell_type": "code",
   "execution_count": 58,
   "metadata": {},
   "outputs": [
    {
     "name": "stdout",
     "output_type": "stream",
     "text": [
      "1\n",
      "2\n",
      "3\n",
      "3\n"
     ]
    }
   ],
   "source": [
    "#wap to extract numbers chacter from given string.\n",
    "a=\"LaliTh1233\"\n",
    "start=0\n",
    "\n",
    "while(start<len(a)):\n",
    "    if('0'<=a[start]<='9'):\n",
    "        print(a[start])\n",
    "    start+=1 \n"
   ]
  },
  {
   "cell_type": "code",
   "execution_count": 72,
   "metadata": {},
   "outputs": [
    {
     "name": "stdout",
     "output_type": "stream",
     "text": [
      "@\n",
      "$\n",
      "^\n"
     ]
    }
   ],
   "source": [
    "#wap to extract spical chacter from given string.\n",
    "a=\"LaliTh1233@$^\"\n",
    "start=0\n",
    "\n",
    "while(start<len(a)):\n",
    "    if(not('0'<=a[start]<='9' or 'A'<=a[start]<='Z' or 'a'<=a[start]<='z')):\n",
    "        print(a[start])\n",
    "    start+=1 \n"
   ]
  },
  {
   "cell_type": "code",
   "execution_count": 75,
   "metadata": {},
   "outputs": [
    {
     "name": "stdout",
     "output_type": "stream",
     "text": [
      "a\n",
      "i\n"
     ]
    }
   ],
   "source": [
    "#wap to extract vowels from given string.\n",
    "a=\"LaliTh1233\"\n",
    "start=0\n",
    "\n",
    "while(start<len(a)):\n",
    "    if(a[start] in 'aeiouAEIOU'):\n",
    "        print(a[start])\n",
    "    start+=1 \n"
   ]
  },
  {
   "cell_type": "code",
   "execution_count": 76,
   "metadata": {},
   "outputs": [
    {
     "name": "stdout",
     "output_type": "stream",
     "text": [
      "L\n",
      "l\n",
      "T\n",
      "h\n",
      "1\n",
      "2\n",
      "3\n",
      "3\n"
     ]
    }
   ],
   "source": [
    "#wap to extract not vowels from given string.\n",
    "a=\"LaliTh1233\"\n",
    "start=0\n",
    "\n",
    "while(start<len(a)):\n",
    "    if(a[start] not in 'aeiouAEIOU'):\n",
    "        print(a[start])\n",
    "    start+=1 "
   ]
  },
  {
   "cell_type": "code",
   "execution_count": 1,
   "metadata": {},
   "outputs": [
    {
     "name": "stdout",
     "output_type": "stream",
     "text": [
      "2\n",
      "3\n",
      "5\n",
      "13\n",
      "89\n"
     ]
    }
   ],
   "source": [
    "#wap to print prime numbers form 1 to 100 in fibanacci series\n",
    "a, b = 0, 1\n",
    "while b <= 100:\n",
    "    if b > 1:\n",
    "        is_prime = True\n",
    "        for i in range(2, int(b ** 0.5) + 1):\n",
    "            if b % i == 0:\n",
    "                is_prime = False\n",
    "                break\n",
    "        if is_prime:\n",
    "            print(b)\n",
    "    a, b = b, a + b\n",
    "\n",
    "            "
   ]
  },
  {
   "cell_type": "code",
   "execution_count": 2,
   "metadata": {},
   "outputs": [
    {
     "name": "stdout",
     "output_type": "stream",
     "text": [
      "~\n"
     ]
    }
   ],
   "source": [
    "n='dfssdfsz$~'\n",
    "x=0\n",
    "l=n[x]\n",
    "while x<len(n):\n",
    "        if n[x]>l:\n",
    "            l=n[x]\n",
    "        x+=1\n",
    "print(l)"
   ]
  },
  {
   "cell_type": "code",
   "execution_count": 5,
   "metadata": {},
   "outputs": [
    {
     "name": "stdout",
     "output_type": "stream",
     "text": [
      "36\n"
     ]
    }
   ],
   "source": [
    "a=\"$\"\n",
    "print(ord(a))"
   ]
  },
  {
   "cell_type": "code",
   "execution_count": 8,
   "metadata": {},
   "outputs": [
    {
     "name": "stdout",
     "output_type": "stream",
     "text": [
      "6 lalith\n"
     ]
    }
   ],
   "source": [
    "#wap to count number of charater in given string.\n",
    "a=\"lalith\"\n",
    "\n",
    "e=len(a)\n",
    "i=1\n",
    "count=0\n",
    "while(i<=e):\n",
    "    count+=1\n",
    "    i+=1\n",
    "print(count,a)"
   ]
  },
  {
   "cell_type": "code",
   "execution_count": 34,
   "metadata": {},
   "outputs": [
    {
     "name": "stdout",
     "output_type": "stream",
     "text": [
      "lalith\n",
      "lalit\n",
      "lali\n",
      "lal\n",
      "la\n",
      "l\n",
      "6\n"
     ]
    }
   ],
   "source": [
    "#wap to count number of charater in given string.without lenth fuction.\n",
    "a=\"lalith\"\n",
    "count=0\n",
    "while(a):\n",
    "    print(a)\n",
    "    count+=1\n",
    "    a=a[:-1]\n",
    "print(count)    \n",
    "\n",
    "\n",
    "\n",
    "    \n",
    "    \n"
   ]
  },
  {
   "cell_type": "code",
   "execution_count": 41,
   "metadata": {},
   "outputs": [
    {
     "name": "stdout",
     "output_type": "stream",
     "text": [
      "3\n"
     ]
    }
   ],
   "source": [
    "#wap to count the upper case from the given string.\n",
    "a=\"LaLiTh\"\n",
    "start=0\n",
    "count=0\n",
    "\n",
    "\n",
    "while(start<len(a)):\n",
    "    if('A'<=a[start]<='Z'):\n",
    "        count+=1\n",
    "    \n",
    "    start+=1  \n",
    "print(count)      "
   ]
  },
  {
   "cell_type": "code",
   "execution_count": 47,
   "metadata": {},
   "outputs": [
    {
     "name": "stdout",
     "output_type": "stream",
     "text": [
      "aith\n"
     ]
    }
   ],
   "source": [
    "#wap to extract and store the  lower case chacter from given string.\n",
    "a=\"LaLith\"\n",
    "r=\"\"\n",
    "\n",
    "start=0\n",
    "\n",
    "\n",
    "while(start<len(a)):\n",
    "    if('a'<=a[start]<='z'):\n",
    "        r+=a[start]\n",
    "       \n",
    "    start+=1 \n",
    "print(r)    \n"
   ]
  },
  {
   "cell_type": "code",
   "execution_count": 50,
   "metadata": {},
   "outputs": [
    {
     "name": "stdout",
     "output_type": "stream",
     "text": [
      "1223@#^\n"
     ]
    }
   ],
   "source": [
    "#wap to extract and store spical characters with ascii numbers from given string.\n",
    "a=\"LaLith1223@#^\"\n",
    "r=\"\"\n",
    "\n",
    "start=0\n",
    "\n",
    "\n",
    "while(start<len(a)):\n",
    "    if( not('A'<=a[start]<='Z' or 'a'<=a[start]<='z')):\n",
    "        r+=a[start]\n",
    "       \n",
    "    start+=1 \n",
    "print(r)\n"
   ]
  },
  {
   "cell_type": "code",
   "execution_count": 69,
   "metadata": {},
   "outputs": [
    {
     "name": "stdout",
     "output_type": "stream",
     "text": [
      "LL aith 1223 @#% "
     ]
    }
   ],
   "source": [
    "#wap to cericate the from the given string.\n",
    "a=\"LaLith1223@#%\"\n",
    "uppe=\"\"\n",
    "lowe=\"\"\n",
    "numb=\"\"\n",
    "spical=\"\"\n",
    "start=0\n",
    "\n",
    "while(start<len(a)):\n",
    "    if('A'<=a[start]<='Z'):\n",
    "        uppe+=a[start]\n",
    "        \n",
    "    elif('a'<=a[start]<='z'):\n",
    "        lowe+=a[start]\n",
    "        \n",
    "    elif('0'<=a[start]<='9'):\n",
    "        numb+=a[start]\n",
    "        \n",
    "    else:\n",
    "        spical+=a[start] \n",
    "        \n",
    "    start+=1  \n",
    "print(uppe,lowe,numb,spical)        \n",
    "\n",
    "           \n",
    "    \n",
    "    \n",
    "    \n"
   ]
  },
  {
   "cell_type": "code",
   "execution_count": 82,
   "metadata": {},
   "outputs": [
    {
     "name": "stdout",
     "output_type": "stream",
     "text": [
      "valid paswword LaLith1223@#%\n"
     ]
    }
   ],
   "source": [
    "#wap to check thr given password is valid or not \n",
    "#constrain :if password is valid to display valid password with given string.\n",
    "a=\"LaLith1223@#%\"\n",
    "uppe=\"\"\n",
    "lowe=\"\"\n",
    "numb=\"\"\n",
    "spical=\"\"\n",
    "start=0\n",
    "m=0\n",
    "b=0\n",
    "c=0\n",
    "d=0\n",
    "\n",
    "while(start<len(a)):\n",
    "    if('A'<=a[start]<='Z'):\n",
    "        uppe+=a[start]\n",
    "        m+=1\n",
    "        \n",
    "    elif('a'<=a[start]<='z'):\n",
    "        lowe+=a[start]\n",
    "        b+=1\n",
    "        \n",
    "    elif('0'<=a[start]<='9'):\n",
    "        numb+=a[start]\n",
    "        c+=1\n",
    "        \n",
    "    else:\n",
    "        spical+=a[start]\n",
    "        d+=1 \n",
    "        \n",
    "    start+=1  \n",
    "if(m>=2 and b>=1 and c>=1 and d>=2 and 8<=len(a)<=16):\n",
    "    print(\"valid paswword\",a)\n",
    "else:\n",
    "    print(\"invalid pasword\") "
   ]
  },
  {
   "cell_type": "code",
   "execution_count": 1,
   "metadata": {},
   "outputs": [
    {
     "name": "stdout",
     "output_type": "stream",
     "text": [
      "6\n",
      "valid email\n"
     ]
    }
   ],
   "source": [
    "#WAP to check given email id is vaild or not.if vaild display email id else display invaild emailid.\n",
    "# 1. email should not have any special character except @,. 2.@ should be one and after @ minimum one dot(.) max 2 dots\n",
    "st=\"lalith@gmail.com.in\"\n",
    "i=0\n",
    "temp=0\n",
    "while i<len(st):\n",
    "    if not('A'<=st[i]<='Z' or 'a'<=st[i]<='z' or '0'<=st[i]<='9'or st[i] in '@.'):\n",
    "        temp+=1\n",
    "    i+=1\n",
    "if temp==0:\n",
    "        if '@'in st and '.' in st:\n",
    "            n=0\n",
    "            pos=None\n",
    "            count=0\n",
    "            while n<len(st):\n",
    "                if '@'==st[n]:\n",
    "                    pos=n\n",
    "                    count+=1\n",
    "                n+=1\n",
    "            if count==1:\n",
    "                print(pos)\n",
    "                if '.'in st[pos:]:\n",
    "                    c=0\n",
    "                    while pos<len(st):\n",
    "                        if '.'==st[pos]:\n",
    "                            c+=1\n",
    "                        pos+=1\n",
    "                    if 1<=c<=2:\n",
    "                        print(\"valid email\")\n",
    "                    else:\n",
    "                        (\"invaild\")\n",
    "                else:\n",
    "                    print(\"invalid email\")\n",
    "            else:\n",
    "                print(\"invaild email\")\n",
    "        else:\n",
    "            print(\"invaild email\")\n",
    "else:\n",
    "    print(\"invalid email\")\n"
   ]
  },
  {
   "cell_type": "code",
   "execution_count": 1,
   "metadata": {},
   "outputs": [
    {
     "name": "stdout",
     "output_type": "stream",
     "text": [
      "lalthkumar1234@\n"
     ]
    }
   ],
   "source": [
    "#wap to convert upper to lower from given string.\n",
    "a=\"LALthkumar1234@\"\n",
    "start=0\n",
    "end=len(a)\n",
    "uc=''\n",
    "while(start<end):\n",
    "    if('A'<=a[start]<='Z'):\n",
    "        uc+=chr(ord(a[start])+32)\n",
    "    else:\n",
    "        uc+=a[start]\n",
    "    start+=1\n",
    "print(uc)        \n",
    "            "
   ]
  },
  {
   "cell_type": "code",
   "execution_count": 4,
   "metadata": {},
   "outputs": [
    {
     "name": "stdout",
     "output_type": "stream",
     "text": [
      "lalthkumar_1234@\n"
     ]
    }
   ],
   "source": [
    "#wap to convert given string into snake case.\n",
    "a=\"LALthkumar 1234@\"\n",
    "start=0\n",
    "end=len(a)\n",
    "uc=''\n",
    "while(start<end):\n",
    "    if('A'<=a[start]<='Z'):\n",
    "        uc+=chr(ord(a[start])+32)\n",
    "    elif(a[start]==' '):\n",
    "        uc+=\"_\"    \n",
    "    else:\n",
    "        uc+=a[start]\n",
    "    start+=1\n",
    "print(uc) \n"
   ]
  },
  {
   "cell_type": "code",
   "execution_count": 15,
   "metadata": {},
   "outputs": [
    {
     "name": "stdout",
     "output_type": "stream",
     "text": [
      "Hello world 123 #@$\n"
     ]
    }
   ],
   "source": [
    "#wap given string converted to captialise.\n",
    "# a=\"Lalith kumar\"\n",
    "# start=0\n",
    "# end=len(a)\n",
    "# uc=''\n",
    "# while(start<end):\n",
    "#     if('a'<=a[start]<='z'):\n",
    "#         uc+=chr(ord(a[0])-32)+a[1:]\n",
    "#     else:\n",
    "#         uc+=a[0]\n",
    "#     start+=1\n",
    "# print(uc) \n",
    "\n",
    "\n",
    "a=\"hello world 123 #@$\"\n",
    "res=''\n",
    "if('a'<=a[0]<='z'):\n",
    "    res+=chr(ord(a[0])-32)\n",
    "else:\n",
    "    res+=a[0]\n",
    "start=1\n",
    "while(start<len(a)):\n",
    "    if('A'<=a[start]<='Z'):\n",
    "            res+=chr(ord(a[start])+32)\n",
    "    else:\n",
    "        res+=(a[start])\n",
    "    start+=1\n",
    "print(res)        \n"
   ]
  },
  {
   "cell_type": "code",
   "execution_count": 14,
   "metadata": {},
   "outputs": [
    {
     "name": "stdout",
     "output_type": "stream",
     "text": [
      "__hello_world__\n"
     ]
    }
   ],
   "source": [
    "#wap given string into dragon case\n",
    "#before string 2 underscroll\n",
    "#after string 2 underscroll\n",
    "#string should not have space\n",
    "#if space is there convert into underscroll.\n",
    "#all the characters should be loer case\n",
    "#string should not contain special characters.\n",
    "\n",
    "a=\"Hello wOrlD1234@#$\"\n",
    "res=\"\"\n",
    "start=0\n",
    "while(start<len(a)):\n",
    "    if('A'<=a[start]<='Z'):\n",
    "        res+=chr(ord(a[start])+32)\n",
    "    elif(a[start]==' '):\n",
    "        res+=\"_\"\n",
    "    elif('a'<=a[start]<='z'):\n",
    "        res+=a[start]\n",
    "    start+=1\n",
    "res='__'+res+\"__\"\n",
    "print(res)  \n",
    "\n",
    "\n",
    "\n"
   ]
  },
  {
   "cell_type": "code",
   "execution_count": 1,
   "metadata": {},
   "outputs": [
    {
     "name": "stdout",
     "output_type": "stream",
     "text": [
      "lol\n"
     ]
    }
   ],
   "source": [
    "#wap to extect dupicate values from given string.\n",
    "st=\"helloworld\"\n",
    "uni=\"\"\n",
    "dup=\"\"\n",
    "start=0\n",
    "while(start<len(st)):\n",
    "    if(st[start] not in uni):\n",
    "        uni+=st[start]\n",
    "    else:\n",
    "        dup+=st[start]\n",
    "    start+=1\n",
    "print(dup)        \n"
   ]
  },
  {
   "cell_type": "code",
   "execution_count": 27,
   "metadata": {},
   "outputs": [
    {
     "name": "stdout",
     "output_type": "stream",
     "text": [
      "helowrd\n",
      "h1e1l3o2w1r1d1\n"
     ]
    }
   ],
   "source": [
    "#wap to count the each charcter in given string.(occurence:how many chatrers repated)\n",
    "# st=\"helloworld\"\n",
    "# uni=\"\"\n",
    "# dup=\"\"\n",
    "# start=0\n",
    "# count=0\n",
    "# j=0\n",
    "# while(start<len(st)):\n",
    "#     if(st[start] not in uni):\n",
    "#         uni+=st[start]\n",
    "#         count+=1\n",
    "        \n",
    "#     else:\n",
    "#         dup+=st[start]\n",
    "#         #count+=1\n",
    "#     start+=1\n",
    "# print(count,uni[j])\n",
    "# j+=1\n",
    "\n",
    "\n",
    "\n",
    "\n",
    "st=\"helloworld\"\n",
    "res=\"\"\n",
    "x=0\n",
    "while(x<len(st)):\n",
    "    if(st[x] not in res):\n",
    "        res+=st[x]\n",
    "    x+=1\n",
    "print(res)\n",
    "temp=\"\"\n",
    "j=0\n",
    "while(j<len(res)):\n",
    "    count=0\n",
    "    start=0\n",
    "    while(start<len(st)):\n",
    "        if(res[j]==st[start]):\n",
    "            count+=1\n",
    "        start+=1\n",
    "    temp+=res[j]+str(count)\n",
    "    j+=1             \n",
    "print(temp)    \n",
    "     \n"
   ]
  },
  {
   "cell_type": "code",
   "execution_count": 28,
   "metadata": {},
   "outputs": [
    {
     "name": "stdout",
     "output_type": "stream",
     "text": [
      "{'h': 1, 'e': 1, 'l': 3, 'o': 2, 'w': 1, 'r': 1, 'd': 1}\n"
     ]
    }
   ],
   "source": [
    "st=\"helloworld\"\n",
    "res={}\n",
    "start=0\n",
    "while(start<len(st)):\n",
    "    if(st[start] not in res):\n",
    "        res[st[start]]=1\n",
    "    else:\n",
    "        res[st[start]]+=1\n",
    "    start+=1\n",
    "print(res)"
   ]
  },
  {
   "cell_type": "code",
   "execution_count": 2,
   "metadata": {},
   "outputs": [
    {
     "name": "stdout",
     "output_type": "stream",
     "text": [
      "24cWBX*nkw\n",
      "\n"
     ]
    }
   ],
   "source": [
    "# #wap to print last occurance of char in astring\n",
    "\n",
    "\n",
    "\n",
    "# s=\"24cWBX*nkkkwB\"\n",
    "# uni=\"\"\n",
    "# t=0\n",
    "# x=0\n",
    "\n",
    "# while t<len(s):\n",
    "#     if s[t] not in uni: \n",
    "#         uni+=s[t]\n",
    "#     t+=1 \n",
    "# print(uni)\n",
    "# i=0\n",
    "# while i<len(uni):\n",
    "    \n",
    "#     c=0\n",
    "#     while x<len(s):\n",
    "#         if uni[i]==s[x]:\n",
    "#             c+=1\n",
    "#         x+=1\n",
    "#     r=\"\"    \n",
    "#     if c>1:\n",
    "#         r+=uni[i]\n",
    "#     i+=1\n",
    "# print(r)"
   ]
  },
  {
   "cell_type": "code",
   "execution_count": 1,
   "metadata": {},
   "outputs": [
    {
     "name": "stdout",
     "output_type": "stream",
     "text": [
      "['l', 'a', 'i', 't', 'h', 'k', 'u', 'm', 'r', '@', '#', '$', '%', '^']\n",
      "l 12\n"
     ]
    }
   ],
   "source": [
    "# wap to find out largest occurnce of in given string.\n",
    "st=\"lalithkumarllllllllll@#$%^\"\n",
    "res={}\n",
    "start=0\n",
    "while(start<len(st)):\n",
    "    if(st[start] not in res):\n",
    "        res[st[start]]=1\n",
    "    else:\n",
    "        res[st[start]]+=1\n",
    "    start+=1\n",
    "d=list(res)\n",
    "small=0\n",
    "ch=''\n",
    "print(d)\n",
    "i=0\n",
    "while(i<len(d)):\n",
    "    if(small<res[d[i]]):\n",
    "        small=res[d[i]]\n",
    "        ch=d[i]\n",
    "    i+=1\n",
    "print(ch,small)\n",
    "       \n",
    "\n",
    "\n"
   ]
  },
  {
   "cell_type": "code",
   "execution_count": 14,
   "metadata": {},
   "outputs": [
    {
     "name": "stdout",
     "output_type": "stream",
     "text": [
      "['l', 'a', 'l', 'i', 't', 'h', 'k', 'u', 'm', 'a', 'r']\n"
     ]
    }
   ],
   "source": [
    "#wap to extract and strore the each charcter from the given string and store inside the list.\n",
    "a=\"lalithkumar\"\n",
    "b=[]\n",
    "b+=a\n",
    "print(b)"
   ]
  },
  {
   "cell_type": "code",
   "execution_count": 11,
   "metadata": {},
   "outputs": [
    {
     "name": "stdout",
     "output_type": "stream",
     "text": [
      "['l', 'a', 'l', 'i', 't', 'h', 'k', 'u', 'm', 'a', 'r']\n"
     ]
    }
   ],
   "source": [
    "#wap to extract and strore the each charcter from the given string and store inside the list.using while loop.\n",
    "a=\"lalithkumar\"\n",
    "b=[]\n",
    "i=0\n",
    "while(i<len(a)):\n",
    "    b+=[a[i]]\n",
    "    i+=1\n",
    "    \n",
    "\n",
    "print(b)"
   ]
  },
  {
   "cell_type": "code",
   "execution_count": 20,
   "metadata": {},
   "outputs": [
    {
     "name": "stdout",
     "output_type": "stream",
     "text": [
      "lalithkumar\n"
     ]
    }
   ],
   "source": [
    "#wap to extract and strore the each charcter from the given list and store inside the string.\n",
    "a=['l', 'a', 'l', 'i', 't', 'h', 'k', 'u', 'm', 'a', 'r']\n",
    "b=''\n",
    "i=0\n",
    "while(i<len(a)):\n",
    "    b+=str(a[i])\n",
    "    i+=1\n",
    "    \n",
    "print(b)\n"
   ]
  },
  {
   "cell_type": "code",
   "execution_count": 24,
   "metadata": {},
   "outputs": [
    {
     "name": "stdout",
     "output_type": "stream",
     "text": [
      "{'l': 108, 'a': 97, 'i': 105, 't': 116, 'h': 104}\n"
     ]
    }
   ],
   "source": [
    "#wap to extract and strore the each charcter from the given string and store inside the dict.\n",
    "#constrain values consider as ascii values.\n",
    "a=\"lalith\"\n",
    "b={}\n",
    "i=0\n",
    "while(i<len(a)):\n",
    "    b[a[i]]=ord(a[i])\n",
    "    i+=1\n",
    "print(b)    \n"
   ]
  },
  {
   "cell_type": "code",
   "execution_count": 29,
   "metadata": {},
   "outputs": [
    {
     "name": "stdout",
     "output_type": "stream",
     "text": [
      "laith\n"
     ]
    }
   ],
   "source": [
    "#wap to extract and strore the each charcter from the given only keys from given dict and store inside the string.\n",
    "a={'l': 108, 'a': 97, 'i': 105, 't': 116, 'h': 104}\n",
    "a=list(a)\n",
    "b=''\n",
    "\n",
    "i=0\n",
    "while(i<len(a)):\n",
    "    b+=d[i]\n",
    "    i+=1\n",
    "print(b)    "
   ]
  },
  {
   "cell_type": "code",
   "execution_count": 37,
   "metadata": {},
   "outputs": [
    {
     "name": "stdout",
     "output_type": "stream",
     "text": [
      "l108a97i105t116h104\n"
     ]
    }
   ],
   "source": [
    "#wap to extract and strore the each charcter from the given  keys and values from given dict and store inside the string.\n",
    "a={'l': 108, 'a': 97, 'i': 105, 't': 116, 'h': 104}\n",
    "c=list(a)\n",
    "b=''\n",
    "\n",
    "i=0\n",
    "while(i<len(c)):\n",
    "    b+=str(c[i])+str(a[c[i]])\n",
    "    i+=1\n",
    "print(b)    "
   ]
  },
  {
   "cell_type": "code",
   "execution_count": 3,
   "metadata": {},
   "outputs": [
    {
     "name": "stdout",
     "output_type": "stream",
     "text": [
      "u\n"
     ]
    }
   ],
   "source": [
    "#wap to print height charater in given string .\n",
    "a=\"ALIXHJ55455865YJCYFJhkfagfual@$#$$%@@\"\n",
    "h=chr(0)\n",
    "i=0\n",
    "while(i<len(a)):\n",
    "    if h<a[i]:\n",
    "        h=a[i]\n",
    "    i+=1\n",
    "print(h)        \n"
   ]
  },
  {
   "cell_type": "code",
   "execution_count": 4,
   "metadata": {},
   "outputs": [
    {
     "name": "stdout",
     "output_type": "stream",
     "text": [
      "@\n"
     ]
    }
   ],
   "source": [
    "a=\"ALIXHJYJCYFJhkhfdsyglj~_fagfual@\"\n",
    "c=chr(126)\n",
    "i=0\n",
    "while(i<len(a)):\n",
    "    if c>a[i]:\n",
    "        c=a[i]\n",
    "    i+=1\n",
    "print(c)"
   ]
  },
  {
   "cell_type": "code",
   "execution_count": 69,
   "metadata": {},
   "outputs": [
    {
     "name": "stdout",
     "output_type": "stream",
     "text": [
      "849\n"
     ]
    }
   ],
   "source": [
    "#wap to find out largest number in a list\n",
    "l=[10,2,15.89,89+8j,True,[10,20],849]\n",
    "i=0\n",
    "high=0\n",
    "while(i<len(l)):\n",
    "    if(type(l[i]) in [int,float] and high<l[i]):\n",
    "        high=l[i]\n",
    "    i+=1\n",
    "print(high)        "
   ]
  },
  {
   "cell_type": "code",
   "execution_count": 73,
   "metadata": {},
   "outputs": [
    {
     "name": "stdout",
     "output_type": "stream",
     "text": [
      "c 80\n"
     ]
    }
   ],
   "source": [
    "\n",
    "#wap to find out largest number in a dict.\n",
    "a={'a':10,'b':50,'c':80,'d':4}\n",
    "t=list(a)\n",
    "high=0\n",
    "ch=None\n",
    "i=0\n",
    "while(i<len(t)):\n",
    "     if(type(a[t[i]]) in [int,float] and high<a[t[i]]):\n",
    "        high=a[t[i]]\n",
    "        ch=t[i]\n",
    "     i+=1  \n",
    "print(ch,high)       \n",
    "    "
   ]
  },
  {
   "cell_type": "code",
   "execution_count": 77,
   "metadata": {},
   "outputs": [
    {
     "name": "stdout",
     "output_type": "stream",
     "text": [
      "e 2\n"
     ]
    }
   ],
   "source": [
    "#wap to find out lowest number in a dict.\n",
    "a={'a':10,'b':50,'c':80,'d':4,'e':2}\n",
    "t=list(a)\n",
    "low=a[t[0]]\n",
    "ch=None\n",
    "i=0\n",
    "while(i<len(t)):\n",
    "     if(type(a[t[i]]) in [int,float] and low>a[t[i]]):\n",
    "        low=a[t[i]]\n",
    "        ch=t[i]\n",
    "     i+=1  \n",
    "print(ch,low)\n"
   ]
  },
  {
   "cell_type": "code",
   "execution_count": 79,
   "metadata": {},
   "outputs": [
    {
     "data": {
      "text/plain": [
       "'Hello Haii World Welv3Come To Py$Hon Class'"
      ]
     },
     "execution_count": 79,
     "metadata": {},
     "output_type": "execute_result"
    }
   ],
   "source": [
    "#wap to convert given string from given string to title case \n",
    "#each word starting captial should be upper \n",
    "#case after special character and ascii value the next character should be upper case\n",
    "#last character should be lower case\n",
    "#the each word the starting character shhould be upper case the remaining character should be lower case\n",
    "\n",
    "\n",
    "\"hello haIi wOrld welV3come to py$Hon cLAsS\".title()\n"
   ]
  },
  {
   "cell_type": "code",
   "execution_count": 11,
   "metadata": {},
   "outputs": [
    {
     "name": "stdout",
     "output_type": "stream",
     "text": [
      "~**&Hello Haii World Welv3Come To Py$Hon Class\n"
     ]
    }
   ],
   "source": [
    "a=\"~**&hello haIi wOrld welV3Come to py$Hon cLAsS\"\n",
    "l=a.split()\n",
    "# print(l)\n",
    "s=\"\"\n",
    "i=0\n",
    "while(i<len(l)):\n",
    "\ts+=l[i].capitalize()+\" \"\n",
    "\t# print(s)\n",
    "\t# break\n",
    "\ti+=1\n",
    "ss=\"\"\n",
    "i=0\n",
    "while(i<len(s)-1):\n",
    "\tif a[i].isdigit():\n",
    "\t\tss+=s[i]\n",
    "\t\tss+=s[i+1].upper()\n",
    "\t\ti+=2\n",
    "\telif a[i] in \"#@&$¥€%¢\":\n",
    "\t\tss+=s[i]\n",
    "\t\tss+=s[i+1].upper()\n",
    "\t\ti+=2\n",
    "\telse:\n",
    "\t\tss+=s[i]\n",
    "\t\ti+=1\n",
    "print(ss)"
   ]
  },
  {
   "cell_type": "code",
   "execution_count": 11,
   "metadata": {},
   "outputs": [
    {
     "name": "stdout",
     "output_type": "stream",
     "text": [
      "amstrong\n",
      "2 3 5 7 11 13 17 19 23 29 31 37 41 43 47 53 59 61 67 71 73 79 83 89 97 101 103 107 109 113 127 131 137 139 149 151 "
     ]
    }
   ],
   "source": [
    "a='153'\n",
    "s=len(a)\n",
    "x=0\n",
    "for i in a:\n",
    "    x+=int(i)**s\n",
    "if x==int(a):\n",
    "    print(\"amstrong\")\n",
    "    for i in range(2,int(a)):\n",
    "        for j in range(2,i//2+1):\n",
    "            if i%j==0:\n",
    "                break\n",
    "        else:\n",
    "            print(i,end=\" \")\n",
    "else:\n",
    "    print(\"not\")"
   ]
  },
  {
   "cell_type": "code",
   "execution_count": 14,
   "metadata": {},
   "outputs": [
    {
     "name": "stdout",
     "output_type": "stream",
     "text": [
      "~**&Hello Haii World Welv3Come To Py$Hon Class\n"
     ]
    }
   ],
   "source": [
    "# n='#@aizen so#@#suke ichigo'\n",
    "# n='Hello haIi World WelV3coMe to py$hon cLAs'\n",
    "# n='$dsfAAD#jl38'\n",
    "n=\"~**&hello haIi wOrld welV3Come to py$Hon cLAsS\"\n",
    "\n",
    "# n='$dsfAAD#jl38 dsf #sd#ljj Ads g'\n",
    "s=''\n",
    "i=0\n",
    "\n",
    "while i<len(n):\n",
    "    if not ('a'<=n[i]<='z' or 'A'<=n[i]<='Z' or '0'<=n[i]<='9'):\n",
    "        s+=n[i]\n",
    "        # print(s)\n",
    "    elif '0'<=n[i]<='9':\n",
    "        s+=n[i]\n",
    "    elif 'A'<=n[i]<='Z' and i==0:\n",
    "        s+=n[i]\n",
    "\n",
    "    else:\n",
    "        if 'a'<=n[i]<='z' and i==0:\n",
    "            s+=chr(ord(n[i])-32)\n",
    "        if  not ('a'<=n[i-1]<='z' or 'A'<=n[i-1]<='Z' or '0'<=n[i-1]<='9') and 'a'<=n[i]<='z':\n",
    "            s+=chr(ord(n[i])-32)\n",
    "        elif  not ('a'<=n[i-1]<='z' or 'A'<=n[i-1]<='Z' or '0'<=n[i-1]<='9') and 'A'<=n[i]<='Z':\n",
    "            s+=n[i]\n",
    "        elif 'A'<=n[i-1]<='Z' and not ('a'<=n[i]<='z' or 'A'<=n[i]<='Z' or '0'<=n[i]<='9'):\n",
    "            s+=n[i]\n",
    "        elif 'A'<=n[i-1]<='Z' and 'A'<=n[i]<='Z' :\n",
    "            s+=chr(ord(n[i])+32)\n",
    "        elif 'a'<=n[i-1]<='z' and 'A'<=n[i]<='Z' :\n",
    "            s+=chr(ord(n[i])+32)\n",
    "\n",
    "        else:\n",
    "            s+=n[i]\n",
    "    # print(s)\n",
    "    i+=1\n",
    "print(s)\n",
    "# print('Hello Haii World Welv3Come To Py$Hon Clas')\n",
    "# ~**&Hello Haii World Welv3Come To Py$Hon Class\n"
   ]
  },
  {
   "cell_type": "code",
   "execution_count": 25,
   "metadata": {},
   "outputs": [
    {
     "name": "stdout",
     "output_type": "stream",
     "text": [
      "['haii', 'hello', 'world', '123']\n",
      "4\n"
     ]
    }
   ],
   "source": [
    "st=\"haii hello world 123 @#$\"\n",
    "i=0\n",
    "l=[]\n",
    "res=\"\"\n",
    "while(i<len(st)):\n",
    "    if(st[i]!=\" \"):\n",
    "        res+=st[i]\n",
    "    else:\n",
    "        if(len(res)!=0):\n",
    "            l+=[res]\n",
    "            res=\"\"\n",
    "    i+=1\n",
    "#if(len(res)!=0):\n",
    " #       l+=[res]\n",
    "print(l)\n",
    "print(len(l))         \n",
    "                \n",
    "            \n",
    "       \n",
    "            "
   ]
  },
  {
   "cell_type": "code",
   "execution_count": 13,
   "metadata": {},
   "outputs": [
    {
     "name": "stdout",
     "output_type": "stream",
     "text": [
      "[' haiihelloworld123@#$']\n"
     ]
    }
   ],
   "source": [
    "st=\"haii hello world 123 @#$\"\n",
    "i=0\n",
    "l=[[\" \"],[]][st[0]==\" \"]\n",
    "res=\"\"\n",
    "while(i<len(st)):\n",
    "    if(st[i]!=\" \"):\n",
    "        l[-1]+=st[i]\n",
    "    else:\n",
    "        if(len(st)-1==1 and st[i+1]!=1):\n",
    "            l+=[\" \"]\n",
    "            \n",
    "    i+=1\n",
    "\n",
    "print(l)\n",
    "#Wap to extract words in given string."
   ]
  },
  {
   "cell_type": "code",
   "execution_count": 14,
   "metadata": {},
   "outputs": [
    {
     "name": "stdout",
     "output_type": "stream",
     "text": [
      "haii hello world 123 @#$\n"
     ]
    }
   ],
   "source": [
    "st=\"haii hello world 123 @#$\"\n",
    "st.split\n",
    "print(st)"
   ]
  },
  {
   "cell_type": "code",
   "execution_count": 17,
   "metadata": {},
   "outputs": [
    {
     "name": "stdout",
     "output_type": "stream",
     "text": [
      "['haihelloworld', 'lalith', 'kumar']\n"
     ]
    }
   ],
   "source": [
    "st=\"haihelloworld\\nlalith\\nkumar\"\n",
    "i=0\n",
    "l=[]\n",
    "sp=\"\\n\"\n",
    "res=\"\"\n",
    "while(i<len(st)):\n",
    "    if(st[i]!=sp):\n",
    "        res+=st[i]\n",
    "    else:\n",
    "        if(len(res)!=0):\n",
    "            l+=[res]\n",
    "            res=\"\"\n",
    "    i+=1\n",
    "if(len(res)!=0):\n",
    "    l+=[res]\n",
    "print(l)         \n",
    "                \n",
    "            \n",
    "       \n",
    "            #wap to sperate the lines in the given doc string."
   ]
  },
  {
   "cell_type": "code",
   "execution_count": 26,
   "metadata": {},
   "outputs": [
    {
     "name": "stdout",
     "output_type": "stream",
     "text": [
      "['haii', 'hello', 'world', 'i', 'love', 'india', 'i', 'like', 'python']\n",
      "hwilp\n",
      "[['haii', 'hello'], ['world'], ['i', 'india', 'i'], ['love', 'like'], ['python']]\n"
     ]
    }
   ],
   "source": [
    "st=\"haii hello world  i love india i like python \"\n",
    "i=0\n",
    "\n",
    "res=\"\"\n",
    "l=[]\n",
    "\n",
    "while(i<len(st)):\n",
    "    if(st[i]!=\" \"):\n",
    "        res+=st[i]\n",
    "    else:\n",
    "        if(len(res)!=0):\n",
    "            l+=[res]\n",
    "            res=\"\"\n",
    "    i+=1\n",
    "if(len(res)!=0):\n",
    "    l+=[res]\n",
    "print(l)\n",
    "uni=\"\"\n",
    "j=0\n",
    "while(j<len(l)):\n",
    "    if(l[j][0] not in uni):\n",
    "        uni+=l[j][0]\n",
    "    j+=1\n",
    "print(uni)  \n",
    "d=[]\n",
    "k=0\n",
    "while(k<len(uni)):\n",
    "    d+=[[]]\n",
    "    x=0\n",
    "    while(x<len(l)):\n",
    "        if(uni[k]==l[x][0]):\n",
    "            d[-1]+=[l[x]]\n",
    "        x+=1\n",
    "    k+=1\n",
    "print(d)               \n",
    "#wap to sperate words based on the starting letter store in a list.     "
   ]
  },
  {
   "cell_type": "code",
   "execution_count": 13,
   "metadata": {},
   "outputs": [
    {
     "name": "stdout",
     "output_type": "stream",
     "text": [
      "['haii', 'hello', 'world', '123', 'hw']\n"
     ]
    }
   ],
   "source": [
    "st=\"haii hello world 123 hw \"\n",
    "i=0\n",
    "l=[]\n",
    "res=\"\"\n",
    "while(i<len(st)):\n",
    "    if(st[i]!=\" \"):\n",
    "        res+=st[i]\n",
    "    else:\n",
    "        l+=[res]\n",
    "        res=\"\"\n",
    "    i+=1\n",
    "print(l)         \n",
    "                \n",
    "            \n",
    "       \n",
    "            "
   ]
  }
 ],
 "metadata": {
  "kernelspec": {
   "display_name": "Python 3",
   "language": "python",
   "name": "python3"
  },
  "language_info": {
   "codemirror_mode": {
    "name": "ipython",
    "version": 3
   },
   "file_extension": ".py",
   "mimetype": "text/x-python",
   "name": "python",
   "nbconvert_exporter": "python",
   "pygments_lexer": "ipython3",
   "version": "3.11.4"
  },
  "orig_nbformat": 4
 },
 "nbformat": 4,
 "nbformat_minor": 2
}
