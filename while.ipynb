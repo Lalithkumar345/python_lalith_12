{
 "cells": [
  {
   "cell_type": "code",
   "execution_count": 28,
   "metadata": {},
   "outputs": [
    {
     "name": "stdout",
     "output_type": "stream",
     "text": [
      "0\n",
      "1\n",
      "2\n",
      "145\n",
      "40585\n"
     ]
    }
   ],
   "source": [
    "start=0\n",
    "end=100000\n",
    "while start<=end:\n",
    "    n=start\n",
    "    temp=n\n",
    "    sum1=0\n",
    "    while n:\n",
    "        id=n%10\n",
    "        x=1\n",
    "        y=id\n",
    "        prod=1\n",
    "        while x<=y:\n",
    "            prod*=x\n",
    "            x+=1\n",
    "        sum1+=prod\n",
    "        n=n//10\n",
    "    if(temp==sum1):\n",
    "        print(sum1)\n",
    "    start+=1    \n"
   ]
  },
  {
   "cell_type": "code",
   "execution_count": 29,
   "metadata": {},
   "outputs": [
    {
     "name": "stdout",
     "output_type": "stream",
     "text": [
      "3\n",
      "153\n"
     ]
    }
   ],
   "source": [
    "n=153\n",
    "s=n\n",
    "temp=n\n",
    "s1=0\n",
    "count=0\n",
    "while(s):\n",
    "    count+=1\n",
    "    s=s//10\n",
    "print(count)\n",
    "while(n):\n",
    "    id=n%10\n",
    "    s1+=id**count\n",
    "    n//=10\n",
    "if(temp==s1):\n",
    "    print(temp)        \n",
    "    "
   ]
  },
  {
   "cell_type": "code",
   "execution_count": 30,
   "metadata": {},
   "outputs": [
    {
     "name": "stdout",
     "output_type": "stream",
     "text": [
      "1\n",
      "2\n",
      "3\n",
      "4\n",
      "5\n",
      "6\n",
      "7\n",
      "8\n",
      "9\n",
      "153\n",
      "370\n",
      "371\n",
      "407\n",
      "1634\n",
      "8208\n",
      "9474\n",
      "54748\n",
      "92727\n",
      "93084\n",
      "548834\n"
     ]
    }
   ],
   "source": [
    "start=1\n",
    "end=1000000\n",
    "while(start<=end):\n",
    "    n=start\n",
    "\n",
    "    s=n\n",
    "    temp=n\n",
    "    s1=0\n",
    "    count=0\n",
    "    while(s):\n",
    "        count+=1\n",
    "        s=s//10\n",
    "\n",
    "    while(n):\n",
    "        id=n%10\n",
    "        s1+=id**count\n",
    "        n//=10\n",
    "    if(temp==s1):\n",
    "        print(temp)    \n",
    "    start+=1        \n",
    "    \n",
    "    \n"
   ]
  },
  {
   "cell_type": "code",
   "execution_count": 31,
   "metadata": {},
   "outputs": [
    {
     "name": "stdout",
     "output_type": "stream",
     "text": [
      "1\n",
      "2\n",
      "3\n",
      "4\n",
      "5\n",
      "6\n",
      "7\n",
      "8\n",
      "9\n",
      "22\n",
      "123\n",
      "132\n",
      "213\n",
      "231\n",
      "312\n",
      "321\n",
      "1124\n",
      "1142\n",
      "1214\n",
      "1241\n",
      "1412\n",
      "1421\n",
      "2114\n",
      "2141\n",
      "2411\n",
      "4112\n",
      "4121\n",
      "4211\n"
     ]
    }
   ],
   "source": [
    "start=1\n",
    "end=10000\n",
    "while(start<=end):\n",
    "    n=start\n",
    "    temp=n\n",
    "    s=0\n",
    "    prod=1\n",
    "    while(n):\n",
    "        id=n%10\n",
    "        s+=id\n",
    "        prod*=id\n",
    "        n=n//10\n",
    "    if(s==prod):\n",
    "        print(temp)\n",
    "    start+=1        "
   ]
  },
  {
   "cell_type": "code",
   "execution_count": 32,
   "metadata": {},
   "outputs": [
    {
     "name": "stdout",
     "output_type": "stream",
     "text": [
      "1\n",
      "2\n",
      "3\n",
      "4\n",
      "5\n",
      "6\n",
      "7\n",
      "8\n",
      "9\n",
      "11\n",
      "22\n",
      "33\n",
      "44\n",
      "55\n",
      "66\n",
      "77\n",
      "88\n",
      "99\n"
     ]
    }
   ],
   "source": [
    "start=1\n",
    "end=100\n",
    "while(start<=end):\n",
    "    n=start\n",
    "    temp=n\n",
    "    r=0\n",
    "    while(n):\n",
    "        id=n%10\n",
    "        r=(r*10)+id\n",
    "        n=n//10\n",
    "    if(r==temp):\n",
    "    \n",
    "        print(temp)\n",
    "    start+=1        "
   ]
  },
  {
   "cell_type": "code",
   "execution_count": 33,
   "metadata": {},
   "outputs": [
    {
     "name": "stdout",
     "output_type": "stream",
     "text": [
      "13\n",
      "4\n",
      "4\n"
     ]
    }
   ],
   "source": [
    "a=12334\n",
    "while a>9:\n",
    "    b=0\n",
    "    while a:\n",
    "        c=a%10 \n",
    "        b+=c\n",
    "        a=a//10\n",
    "    print(b)\n",
    "    a=b\n",
    "print(b)\n",
    "\n",
    "  \n",
    "  \n",
    "    \n",
    "           \n",
    "    \n",
    "\n",
    "       \n",
    "    "
   ]
  },
  {
   "cell_type": "code",
   "execution_count": 1,
   "metadata": {},
   "outputs": [
    {
     "name": "stdout",
     "output_type": "stream",
     "text": [
      "7\n",
      "4\n"
     ]
    }
   ],
   "source": [
    "a=1234533\n",
    "temp=a\n",
    "count=0\n",
    "while a:\n",
    "   \n",
    "    count+=1\n",
    "    a=a//10\n",
    "print(count)\n",
    "count=count//2\n",
    "while count:\n",
    "    temp=temp//10\n",
    "    count-=1\n",
    "print(temp%10)    \n",
    "    \n",
    "      \n",
    "    \n",
    "    "
   ]
  },
  {
   "cell_type": "code",
   "execution_count": 35,
   "metadata": {},
   "outputs": [
    {
     "name": "stdout",
     "output_type": "stream",
     "text": [
      "7\n"
     ]
    }
   ],
   "source": [
    "a=1234533\n",
    "temp=a\n",
    "count=0\n",
    "while a:\n",
    "   \n",
    "    count+=1\n",
    "    a=a//10\n",
    "print(count)\n"
   ]
  },
  {
   "cell_type": "code",
   "execution_count": 1,
   "metadata": {},
   "outputs": [
    {
     "name": "stdout",
     "output_type": "stream",
     "text": [
      "987\n"
     ]
    }
   ],
   "source": [
    "a=\"789\"\n",
    "a=a[-1::-1]\n",
    "print(a)"
   ]
  },
  {
   "cell_type": "code",
   "execution_count": 2,
   "metadata": {},
   "outputs": [
    {
     "name": "stdout",
     "output_type": "stream",
     "text": [
      "1\n",
      "4\n",
      "6\n",
      "8\n",
      "9\n",
      "10\n",
      "12\n",
      "14\n",
      "15\n",
      "16\n",
      "18\n",
      "20\n",
      "21\n",
      "22\n",
      "24\n",
      "25\n",
      "26\n",
      "27\n",
      "28\n",
      "30\n",
      "32\n",
      "33\n",
      "34\n",
      "35\n",
      "36\n",
      "38\n",
      "39\n",
      "40\n",
      "42\n",
      "44\n",
      "45\n",
      "46\n",
      "48\n",
      "49\n",
      "50\n",
      "51\n",
      "52\n",
      "54\n",
      "55\n",
      "56\n",
      "57\n",
      "58\n",
      "60\n",
      "62\n",
      "63\n",
      "64\n",
      "65\n",
      "66\n",
      "68\n",
      "69\n",
      "70\n",
      "72\n",
      "74\n",
      "75\n",
      "76\n",
      "77\n",
      "78\n",
      "80\n",
      "81\n",
      "82\n",
      "84\n",
      "85\n",
      "86\n",
      "87\n",
      "88\n",
      "90\n",
      "91\n",
      "92\n",
      "93\n",
      "94\n",
      "95\n",
      "96\n",
      "98\n",
      "99\n",
      "100\n",
      "102\n",
      "104\n",
      "105\n",
      "106\n",
      "108\n",
      "110\n",
      "111\n",
      "112\n",
      "114\n",
      "115\n",
      "116\n",
      "117\n",
      "118\n",
      "119\n",
      "120\n",
      "121\n",
      "122\n",
      "123\n",
      "124\n",
      "125\n",
      "126\n",
      "128\n",
      "129\n",
      "130\n",
      "132\n",
      "133\n",
      "134\n",
      "135\n",
      "136\n",
      "138\n",
      "140\n",
      "141\n",
      "142\n",
      "143\n",
      "144\n",
      "145\n",
      "146\n",
      "147\n",
      "148\n",
      "150\n",
      "152\n",
      "153\n"
     ]
    }
   ],
   "source": [
    "n=int(input(\"enter a number:\"))\n",
    "\n",
    "s=0\n",
    "temp=n\n",
    "\n",
    "\n",
    "while(temp>0):\n",
    "    c=temp%10\n",
    "    s+=c**3\n",
    "    temp//=10\n",
    "if (n==s):\n",
    "    start=1\n",
    "    end=n\n",
    "   \n",
    "    while(start<=end):\n",
    "        i=1\n",
    "        j=start\n",
    "        count=0\n",
    "        while(i<=j):\n",
    "            if(j%i==0):\n",
    "                count+=1\n",
    "            i+=1    \n",
    "        if(count!=2):\n",
    "            print(j)\n",
    "        start+=1    \n",
    "                    \n",
    "        \n",
    "\n",
    "    \n",
    "    \n",
    "    \n",
    "    \n",
    "    #wap to check given number is armstrong or not if armstrong to print not prime numbers from 1 to given number.\n",
    "    \n",
    "    "
   ]
  },
  {
   "cell_type": "markdown",
   "metadata": {},
   "source": [
    "while loop concpect\n"
   ]
  },
  {
   "cell_type": "code",
   "execution_count": 38,
   "metadata": {},
   "outputs": [
    {
     "name": "stdout",
     "output_type": "stream",
     "text": [
      "haii\n"
     ]
    }
   ],
   "source": [
    "a=True\n",
    "while a:\n",
    "    print(\"haii\")\n",
    "    a=False"
   ]
  },
  {
   "cell_type": "code",
   "execution_count": 39,
   "metadata": {},
   "outputs": [
    {
     "name": "stdout",
     "output_type": "stream",
     "text": [
      "haii 0\n",
      "haii 1\n",
      "haii 2\n",
      "haii 3\n",
      "haii 4\n"
     ]
    }
   ],
   "source": [
    "a=0\n",
    "b=5\n",
    "while a<b:\n",
    "    print(\"haii\",a)\n",
    "    a+=1"
   ]
  },
  {
   "cell_type": "code",
   "execution_count": 40,
   "metadata": {},
   "outputs": [
    {
     "name": "stdout",
     "output_type": "stream",
     "text": [
      "0\n",
      "1\n",
      "2\n",
      "3\n",
      "4\n",
      "5\n",
      "6\n",
      "7\n",
      "8\n",
      "9\n"
     ]
    }
   ],
   "source": [
    "a=0\n",
    "b=10\n",
    "while a<b:\n",
    "    print(a)\n",
    "    a+=1"
   ]
  },
  {
   "cell_type": "code",
   "execution_count": 41,
   "metadata": {},
   "outputs": [
    {
     "name": "stdout",
     "output_type": "stream",
     "text": [
      "p\n",
      "e\n",
      "n\n",
      "d\n",
      "r\n",
      "i\n",
      "v\n",
      "e\n"
     ]
    }
   ],
   "source": [
    "st=\"pendrive\"\n",
    "start=0\n",
    "end=len(st)\n",
    "while(start<end):\n",
    "    print(st[start])\n",
    "    start+=1"
   ]
  },
  {
   "cell_type": "code",
   "execution_count": 42,
   "metadata": {},
   "outputs": [
    {
     "name": "stdout",
     "output_type": "stream",
     "text": [
      "p 0\n",
      "e 1\n",
      "n 2\n",
      "d 3\n",
      "r 4\n",
      "i 5\n",
      "v 6\n",
      "e 7\n"
     ]
    }
   ],
   "source": [
    "st=\"pendrive\"\n",
    "start=0\n",
    "end=len(st)\n",
    "while(start<end):\n",
    "    print(st[start],start)\n",
    "    start+=1"
   ]
  },
  {
   "cell_type": "code",
   "execution_count": 43,
   "metadata": {},
   "outputs": [
    {
     "name": "stdout",
     "output_type": "stream",
     "text": [
      "e -1\n",
      "v -2\n",
      "i -3\n",
      "r -4\n",
      "d -5\n",
      "n -6\n",
      "e -7\n",
      "p -8\n"
     ]
    }
   ],
   "source": [
    "st=\"pendrive\"\n",
    "start=-1\n",
    "end=-(len(st)-(-1))\n",
    "while(start>end):\n",
    "    print(st[start],start)\n",
    "    start-=1"
   ]
  },
  {
   "cell_type": "code",
   "execution_count": 44,
   "metadata": {},
   "outputs": [
    {
     "name": "stdout",
     "output_type": "stream",
     "text": [
      "p 0 -8\n",
      "e 1 -7\n",
      "n 2 -6\n",
      "d 3 -5\n",
      "r 4 -4\n",
      "i 5 -3\n",
      "v 6 -2\n",
      "e 7 -1\n"
     ]
    }
   ],
   "source": [
    "st=\"pendrive\"\n",
    "start=0\n",
    "end=len(st)\n",
    "n=-(len(st))\n",
    "while(start<end):\n",
    "    print(st[start],start,n)\n",
    "    start+=1\n",
    "    n+=1"
   ]
  },
  {
   "cell_type": "code",
   "execution_count": 73,
   "metadata": {},
   "outputs": [
    {
     "name": "stdout",
     "output_type": "stream",
     "text": [
      "L\n",
      "T\n"
     ]
    }
   ],
   "source": [
    "#wap to extract uperr case chacter from given string.\n",
    "a=\"LaliTh\"\n",
    "start=0\n",
    "\n",
    "while(start<len(a)):\n",
    "    if('A'<=a[start]<='Z'):\n",
    "        print(a[start])\n",
    "    start+=1    "
   ]
  },
  {
   "cell_type": "code",
   "execution_count": 42,
   "metadata": {},
   "outputs": [
    {
     "name": "stdout",
     "output_type": "stream",
     "text": [
      "a\n",
      "l\n",
      "i\n",
      "h\n"
     ]
    }
   ],
   "source": [
    "#wap to extract lower case chacter from given string.\n",
    "a=\"LaliTh\"\n",
    "start=0\n",
    "\n",
    "while(start<len(a)):\n",
    "    if(a[start].islower()):\n",
    "        print(a[start])\n",
    "    start+=1 "
   ]
  },
  {
   "cell_type": "code",
   "execution_count": 58,
   "metadata": {},
   "outputs": [
    {
     "name": "stdout",
     "output_type": "stream",
     "text": [
      "1\n",
      "2\n",
      "3\n",
      "3\n"
     ]
    }
   ],
   "source": [
    "#wap to extract numbers chacter from given string.\n",
    "a=\"LaliTh1233\"\n",
    "start=0\n",
    "\n",
    "while(start<len(a)):\n",
    "    if('0'<=a[start]<='9'):\n",
    "        print(a[start])\n",
    "    start+=1 \n"
   ]
  },
  {
   "cell_type": "code",
   "execution_count": 72,
   "metadata": {},
   "outputs": [
    {
     "name": "stdout",
     "output_type": "stream",
     "text": [
      "@\n",
      "$\n",
      "^\n"
     ]
    }
   ],
   "source": [
    "#wap to extract spical chacter from given string.\n",
    "a=\"LaliTh1233@$^\"\n",
    "start=0\n",
    "\n",
    "while(start<len(a)):\n",
    "    if(not('0'<=a[start]<='9' or 'A'<=a[start]<='Z' or 'a'<=a[start]<='z')):\n",
    "        print(a[start])\n",
    "    start+=1 \n"
   ]
  },
  {
   "cell_type": "code",
   "execution_count": 75,
   "metadata": {},
   "outputs": [
    {
     "name": "stdout",
     "output_type": "stream",
     "text": [
      "a\n",
      "i\n"
     ]
    }
   ],
   "source": [
    "#wap to extract vowels from given string.\n",
    "a=\"LaliTh1233\"\n",
    "start=0\n",
    "\n",
    "while(start<len(a)):\n",
    "    if(a[start] in 'aeiouAEIOU'):\n",
    "        print(a[start])\n",
    "    start+=1 \n"
   ]
  },
  {
   "cell_type": "code",
   "execution_count": 76,
   "metadata": {},
   "outputs": [
    {
     "name": "stdout",
     "output_type": "stream",
     "text": [
      "L\n",
      "l\n",
      "T\n",
      "h\n",
      "1\n",
      "2\n",
      "3\n",
      "3\n"
     ]
    }
   ],
   "source": [
    "#wap to extract not vowels from given string.\n",
    "a=\"LaliTh1233\"\n",
    "start=0\n",
    "\n",
    "while(start<len(a)):\n",
    "    if(a[start] not in 'aeiouAEIOU'):\n",
    "        print(a[start])\n",
    "    start+=1 "
   ]
  },
  {
   "cell_type": "code",
   "execution_count": 7,
   "metadata": {},
   "outputs": [
    {
     "ename": "NameError",
     "evalue": "name 'x' is not defined",
     "output_type": "error",
     "traceback": [
      "\u001b[1;31m---------------------------------------------------------------------------\u001b[0m",
      "\u001b[1;31mNameError\u001b[0m                                 Traceback (most recent call last)",
      "Cell \u001b[1;32mIn[7], line 15\u001b[0m\n\u001b[0;32m     13\u001b[0m     f\u001b[39m=\u001b[39mx\u001b[39m+\u001b[39my\n\u001b[0;32m     14\u001b[0m     x,y\u001b[39m=\u001b[39my,f\n\u001b[1;32m---> 15\u001b[0m \u001b[39mprint\u001b[39m(x)\n",
      "\u001b[1;31mNameError\u001b[0m: name 'x' is not defined"
     ]
    }
   ],
   "source": [
    "#wap to print prime numbers form 1 to 100 in fibanacci series\n",
    "\n",
    "            "
   ]
  },
  {
   "cell_type": "code",
   "execution_count": 8,
   "metadata": {},
   "outputs": [
    {
     "name": "stdout",
     "output_type": "stream",
     "text": [
      "6 lalith\n"
     ]
    }
   ],
   "source": [
    "#wap to count number of charater in given string.\n",
    "a=\"lalith\"\n",
    "\n",
    "e=len(a)\n",
    "i=1\n",
    "count=0\n",
    "while(i<=e):\n",
    "    count+=1\n",
    "    i+=1\n",
    "print(count,a)"
   ]
  },
  {
   "cell_type": "code",
   "execution_count": 34,
   "metadata": {},
   "outputs": [
    {
     "name": "stdout",
     "output_type": "stream",
     "text": [
      "lalith\n",
      "lalit\n",
      "lali\n",
      "lal\n",
      "la\n",
      "l\n",
      "6\n"
     ]
    }
   ],
   "source": [
    "#wap to count number of charater in given string.without lenth fuction.\n",
    "a=\"lalith\"\n",
    "count=0\n",
    "while(a):\n",
    "    print(a)\n",
    "    count+=1\n",
    "    a=a[:-1]\n",
    "print(count)    \n",
    "\n",
    "\n",
    "\n",
    "    \n",
    "    \n"
   ]
  },
  {
   "cell_type": "code",
   "execution_count": 41,
   "metadata": {},
   "outputs": [
    {
     "name": "stdout",
     "output_type": "stream",
     "text": [
      "3\n"
     ]
    }
   ],
   "source": [
    "#wap to count the upper case from the given string.\n",
    "a=\"LaLiTh\"\n",
    "start=0\n",
    "count=0\n",
    "\n",
    "\n",
    "while(start<len(a)):\n",
    "    if('A'<=a[start]<='Z'):\n",
    "        count+=1\n",
    "    \n",
    "    start+=1  \n",
    "print(count)      "
   ]
  },
  {
   "cell_type": "code",
   "execution_count": 47,
   "metadata": {},
   "outputs": [
    {
     "name": "stdout",
     "output_type": "stream",
     "text": [
      "aith\n"
     ]
    }
   ],
   "source": [
    "#wap to extract and store the  lower case chacter from given string.\n",
    "a=\"LaLith\"\n",
    "r=\"\"\n",
    "\n",
    "start=0\n",
    "\n",
    "\n",
    "while(start<len(a)):\n",
    "    if('a'<=a[start]<='z'):\n",
    "        r+=a[start]\n",
    "       \n",
    "    start+=1 \n",
    "print(r)    \n"
   ]
  },
  {
   "cell_type": "code",
   "execution_count": 50,
   "metadata": {},
   "outputs": [
    {
     "name": "stdout",
     "output_type": "stream",
     "text": [
      "1223@#^\n"
     ]
    }
   ],
   "source": [
    "#wap to extract and store spical characters with ascii numbers from given string.\n",
    "a=\"LaLith1223@#^\"\n",
    "r=\"\"\n",
    "\n",
    "start=0\n",
    "\n",
    "\n",
    "while(start<len(a)):\n",
    "    if( not('A'<=a[start]<='Z' or 'a'<=a[start]<='z')):\n",
    "        r+=a[start]\n",
    "       \n",
    "    start+=1 \n",
    "print(r)\n"
   ]
  },
  {
   "cell_type": "code",
   "execution_count": 69,
   "metadata": {},
   "outputs": [
    {
     "name": "stdout",
     "output_type": "stream",
     "text": [
      "LL aith 1223 @#% "
     ]
    }
   ],
   "source": [
    "#wap to cericate the from the given string.\n",
    "a=\"LaLith1223@#%\"\n",
    "uppe=\"\"\n",
    "lowe=\"\"\n",
    "numb=\"\"\n",
    "spical=\"\"\n",
    "start=0\n",
    "\n",
    "while(start<len(a)):\n",
    "    if('A'<=a[start]<='Z'):\n",
    "        uppe+=a[start]\n",
    "        \n",
    "    elif('a'<=a[start]<='z'):\n",
    "        lowe+=a[start]\n",
    "        \n",
    "    elif('0'<=a[start]<='9'):\n",
    "        numb+=a[start]\n",
    "        \n",
    "    else:\n",
    "        spical+=a[start] \n",
    "        \n",
    "    start+=1  \n",
    "print(uppe,lowe,numb,spical)        \n",
    "\n",
    "           \n",
    "    \n",
    "    \n",
    "    \n"
   ]
  },
  {
   "cell_type": "code",
   "execution_count": 82,
   "metadata": {},
   "outputs": [
    {
     "name": "stdout",
     "output_type": "stream",
     "text": [
      "valid paswword LaLith1223@#%\n"
     ]
    }
   ],
   "source": [
    "#wap to check thr given password is valid or not \n",
    "#constrain :if password is valid to display valid password with given string.\n",
    "a=\"LaLith1223@#%\"\n",
    "uppe=\"\"\n",
    "lowe=\"\"\n",
    "numb=\"\"\n",
    "spical=\"\"\n",
    "start=0\n",
    "m=0\n",
    "b=0\n",
    "c=0\n",
    "d=0\n",
    "\n",
    "while(start<len(a)):\n",
    "    if('A'<=a[start]<='Z'):\n",
    "        uppe+=a[start]\n",
    "        m+=1\n",
    "        \n",
    "    elif('a'<=a[start]<='z'):\n",
    "        lowe+=a[start]\n",
    "        b+=1\n",
    "        \n",
    "    elif('0'<=a[start]<='9'):\n",
    "        numb+=a[start]\n",
    "        c+=1\n",
    "        \n",
    "    else:\n",
    "        spical+=a[start]\n",
    "        d+=1 \n",
    "        \n",
    "    start+=1  \n",
    "if(m>=2 and b>=1 and c>=1 and d>=2 and 8<=len(a)<=16):\n",
    "    print(\"valid paswword\",a)\n",
    "else:\n",
    "    print(\"invalid pasword\") "
   ]
  },
  {
   "cell_type": "code",
   "execution_count": null,
   "metadata": {},
   "outputs": [],
   "source": [
    "#wap to check given email id is correct or not.\n",
    "#constrain:if valid display email id or else display invalid email id \n",
    "#should contain onlyone @ and . shold after @ or not\n"
   ]
  }
 ],
 "metadata": {
  "kernelspec": {
   "display_name": "Python 3",
   "language": "python",
   "name": "python3"
  },
  "language_info": {
   "codemirror_mode": {
    "name": "ipython",
    "version": 3
   },
   "file_extension": ".py",
   "mimetype": "text/x-python",
   "name": "python",
   "nbconvert_exporter": "python",
   "pygments_lexer": "ipython3",
   "version": "3.11.4"
  },
  "orig_nbformat": 4
 },
 "nbformat": 4,
 "nbformat_minor": 2
}
