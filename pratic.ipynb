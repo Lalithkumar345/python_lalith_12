{
 "cells": [
  {
   "cell_type": "code",
   "execution_count": 1,
   "metadata": {},
   "outputs": [
    {
     "name": "stdout",
     "output_type": "stream",
     "text": [
      "1\n",
      "2\n",
      "3\n",
      "4\n",
      "6\n"
     ]
    }
   ],
   "source": [
    "a=12\n",
    "s=1\n",
    "while(s<a):\n",
    "    if(a%s==0):\n",
    "        print(s)\n",
    "    s+=1"
   ]
  },
  {
   "cell_type": "code",
   "execution_count": 8,
   "metadata": {},
   "outputs": [
    {
     "name": "stdout",
     "output_type": "stream",
     "text": [
      "prime number\n"
     ]
    }
   ],
   "source": [
    "a=7\n",
    "s=1\n",
    "count=0\n",
    "while(s<=a):\n",
    "    if(a%s==0):\n",
    "        count+=1\n",
    "    s+=1    \n",
    "if(count==2):\n",
    "    print(\"prime number\")\n",
    "else:\n",
    "    print(\"not prime number\")    \n",
    "            "
   ]
  },
  {
   "cell_type": "code",
   "execution_count": 11,
   "metadata": {},
   "outputs": [
    {
     "name": "stdout",
     "output_type": "stream",
     "text": [
      "16\n"
     ]
    }
   ],
   "source": [
    "a=12\n",
    "s=1\n",
    "d=0\n",
    "while(s<a):\n",
    "    if(a%s==0):\n",
    "        d+=s\n",
    "    s+=1\n",
    "print(d)        "
   ]
  },
  {
   "cell_type": "code",
   "execution_count": 13,
   "metadata": {},
   "outputs": [
    {
     "name": "stdout",
     "output_type": "stream",
     "text": [
      "not\n"
     ]
    }
   ],
   "source": [
    "a=7\n",
    "s=1\n",
    "c=0\n",
    "while(s<a):\n",
    "    if(a%s==0):\n",
    "        c+=s\n",
    "    s+=1\n",
    "if(c==a):\n",
    "    print(\"prefect number\")\n",
    "else:\n",
    "    print(\"not\")        "
   ]
  },
  {
   "cell_type": "code",
   "execution_count": 1,
   "metadata": {},
   "outputs": [
    {
     "name": "stdout",
     "output_type": "stream",
     "text": [
      "120\n"
     ]
    }
   ],
   "source": [
    "a=5\n",
    "i=1\n",
    "p=1\n",
    "while(i<=a):\n",
    "    p*=i\n",
    "    i+=1\n",
    "print(p)    "
   ]
  },
  {
   "cell_type": "code",
   "execution_count": 4,
   "metadata": {},
   "outputs": [
    {
     "name": "stdout",
     "output_type": "stream",
     "text": [
      "1507\n",
      "not\n"
     ]
    }
   ],
   "source": [
    "a=\"1554\"\n",
    "s=len(a)\n",
    "x=0\n",
    "i=0\n",
    "while(i<s):\n",
    "    x+=int(a[i])**s\n",
    "    i+=1\n",
    "print(x)\n",
    "if(x==a):\n",
    "    print(\"amstrong\")\n",
    "else:\n",
    "    print(\"not\")    "
   ]
  },
  {
   "cell_type": "code",
   "execution_count": 7,
   "metadata": {},
   "outputs": [
    {
     "name": "stdout",
     "output_type": "stream",
     "text": [
      "153\n"
     ]
    }
   ],
   "source": [
    "a=153\n",
    "temp=a\n",
    "s=0\n",
    "i=1\n",
    "while(i<=a):\n",
    "    b=a%10\n",
    "    s+=b**3\n",
    "    a=a//10\n",
    "print(s)    "
   ]
  },
  {
   "cell_type": "code",
   "execution_count": 1,
   "metadata": {},
   "outputs": [
    {
     "name": "stdout",
     "output_type": "stream",
     "text": [
      "153\n",
      "370\n",
      "371\n",
      "407\n"
     ]
    }
   ],
   "source": [
    "start=1\n",
    "end=1000\n",
    "while(start<=end):\n",
    "    n=start\n",
    "\n",
    "    s=n\n",
    "    temp=n\n",
    "    s1=0\n",
    "    count=0\n",
    "    while(s):\n",
    "        count+=1\n",
    "        s=s//10\n",
    "\n",
    "    while(n):\n",
    "        id=n%10\n",
    "        s1+=id**count\n",
    "        n//=10\n",
    "    if(temp==s1 and temp>10):\n",
    "        print(temp)    \n",
    "    start+=1 "
   ]
  },
  {
   "cell_type": "code",
   "execution_count": 6,
   "metadata": {},
   "outputs": [
    {
     "name": "stdout",
     "output_type": "stream",
     "text": [
      "5321\n"
     ]
    }
   ],
   "source": [
    "n=\"1235\"\n",
    "n=n[-1::-1]\n",
    "print(n)"
   ]
  },
  {
   "cell_type": "code",
   "execution_count": 8,
   "metadata": {},
   "outputs": [
    {
     "name": "stdout",
     "output_type": "stream",
     "text": [
      "54321\n"
     ]
    }
   ],
   "source": [
    "n=123450\n",
    "d=0\n",
    "while(n):\n",
    "    r=n%10\n",
    "    d=d*10+r\n",
    "    n=n//10\n",
    "print(d)    \n",
    "    \n"
   ]
  },
  {
   "cell_type": "code",
   "execution_count": 66,
   "metadata": {},
   "outputs": [
    {
     "name": "stdout",
     "output_type": "stream",
     "text": [
      "9\n",
      "8\n"
     ]
    }
   ],
   "source": [
    "n=9123450998\n",
    "t=n\n",
    "d=0\n",
    "b=0\n",
    "while(n):\n",
    "    r=n%10\n",
    "    if d<r:\n",
    "        d=r\n",
    "    n=n//10\n",
    "while(t):\n",
    "    s=t%10\n",
    "    if b<s<d:\n",
    "        b=s\n",
    "    t=t//10\n",
    "        \n",
    "print(d) \n",
    "print(b)\n"
   ]
  },
  {
   "cell_type": "code",
   "execution_count": 18,
   "metadata": {},
   "outputs": [
    {
     "name": "stdout",
     "output_type": "stream",
     "text": [
      "123456\n"
     ]
    }
   ],
   "source": [
    "a=123456\n",
    "d=\"\"\n",
    "while(a!=0):\n",
    "    b=a%10\n",
    "    b=str(b)\n",
    "    d+=b\n",
    "    a//=10\n",
    "print(d[-1::-1])    "
   ]
  },
  {
   "cell_type": "code",
   "execution_count": 20,
   "metadata": {},
   "outputs": [
    {
     "name": "stdout",
     "output_type": "stream",
     "text": [
      "4\n"
     ]
    }
   ],
   "source": [
    "a=12344567\n",
    "b=str(a)\n",
    "print(b[len(b)//2])"
   ]
  },
  {
   "cell_type": "code",
   "execution_count": 25,
   "metadata": {},
   "outputs": [
    {
     "name": "stdout",
     "output_type": "stream",
     "text": [
      "9\n"
     ]
    }
   ],
   "source": [
    "a=123456789\n",
    "c=0\n",
    "while(a!=0):\n",
    "    b=a%10\n",
    "    c+=1\n",
    "    a=a//10\n",
    "  \n",
    "    \n",
    "print(c)    "
   ]
  },
  {
   "cell_type": "code",
   "execution_count": 7,
   "metadata": {},
   "outputs": [
    {
     "name": "stdout",
     "output_type": "stream",
     "text": [
      "Invalid model number\n",
      "Port: 32P, Type: Core Switch\n",
      "Port: 24P, Type: Core Switch\n",
      "Invalid model number\n"
     ]
    }
   ],
   "source": [
    "import re\n",
    "\n",
    "def classifySwitch(model_number):\n",
    "    def is_type_1_switch(model_number):\n",
    "        return re.match(r'^C(5200|5250|5270)-\\d{1,2}[A-Z]?$', model_number, re.IGNORECASE) and \"24\" >= model_number.split(\"-\")[1]\n",
    "\n",
    "    def is_type_2_switch(model_number):\n",
    "        return re.match(r'^(C(5200|5250|5270|5300|5350|5370)|5400)-\\d+[A-Z]?$', model_number, re.IGNORECASE) and int(model_number.split(\"-\")[1]) > 24\n",
    "\n",
    "    def is_core_switch(model_number):\n",
    "        return re.match(r'^C(5200|5250|5270|5300|5350|5370|5400)[A-Z]-\\d+[A-Z]?-\\d+[A-Z]?$', model_number, re.IGNORECASE)\n",
    "\n",
    "    def is_stacked(model_number):\n",
    "        return bool(re.search(r'-(S|NX\\d+)$', model_number, re.IGNORECASE))\n",
    "\n",
    "    if is_type_1_switch(model_number):\n",
    "        print(f\"Port: {model_number.split('-')[1]}, Type: Type 1 Switch\")\n",
    "    elif is_type_2_switch(model_number):\n",
    "        print(f\"Port: {model_number.split('-')[1]}, Type: Type 2 Switch\")\n",
    "    elif is_core_switch(model_number):\n",
    "        if is_stacked(model_number):\n",
    "            print(f\"Port: {model_number.split('-')[1]}, Type: Core Switch (Stacked)\")\n",
    "        else:\n",
    "            print(f\"Port: {model_number.split('-')[1]}, Type: Core Switch\")\n",
    "    else:\n",
    "        print(\"Invalid model number\")\n",
    "\n",
    "# Example usage:\n",
    "model_number1 = \"C5200L-12P\"\n",
    "model_number2 = \"C5250L-32P-2T\"\n",
    "model_number3 = \"C5200L-24P-4X\"\n",
    "model_number4 = \"WS-C3850-24P-S\"\n",
    "\n",
    "classifySwitch(model_number1)\n",
    "classifySwitch(model_number2)\n",
    "classifySwitch(model_number3)\n",
    "classifySwitch(model_number4)\n"
   ]
  },
  {
   "cell_type": "code",
   "execution_count": 8,
   "metadata": {},
   "outputs": [
    {
     "name": "stdout",
     "output_type": "stream",
     "text": [
      "48\n",
      "Type 2\n"
     ]
    }
   ],
   "source": [
    "def classify_switch(model_number):\n",
    "    if  '12P'  in model_number:\n",
    "        print(12)\n",
    "        return \"Type 1\"\n",
    "    elif  '48P' or '48U'in model_number:\n",
    "        print(48)\n",
    "        return \"Type 2\"\n",
    "    elif '32P' in model_number:\n",
    "        print(32)\n",
    "        return \"Type 2\"\n",
    "    elif '24P' in model_number:\n",
    "        print(24)\n",
    "        return \"Core\"\n",
    "    elif '32P' in model_number:\n",
    "        print(32)\n",
    "        return \"Core\"\n",
    "    else:\n",
    "        return \"Unknown\"\n",
    "\n",
    "model_number =\"C5250L-32P-2T\"\n",
    "switch_type = classify_switch(model_number)\n",
    "print(switch_type)"
   ]
  }
 ],
 "metadata": {
  "kernelspec": {
   "display_name": "Python 3",
   "language": "python",
   "name": "python3"
  },
  "language_info": {
   "codemirror_mode": {
    "name": "ipython",
    "version": 3
   },
   "file_extension": ".py",
   "mimetype": "text/x-python",
   "name": "python",
   "nbconvert_exporter": "python",
   "pygments_lexer": "ipython3",
   "version": "3.11.4"
  },
  "orig_nbformat": 4
 },
 "nbformat": 4,
 "nbformat_minor": 2
}
