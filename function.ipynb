{
 "cells": [
  {
   "cell_type": "markdown",
   "metadata": {},
   "source": [
    "function without argument without return."
   ]
  },
  {
   "cell_type": "code",
   "execution_count": 1,
   "metadata": {},
   "outputs": [
    {
     "name": "stdout",
     "output_type": "stream",
     "text": [
      "start\n",
      "<function sample at 0x000001FF04003C40>\n",
      "stop\n"
     ]
    }
   ],
   "source": [
    "print('start')\n",
    "def sample():\n",
    "    print('hai')\n",
    "print(sample)\n",
    "print('stop')"
   ]
  },
  {
   "cell_type": "code",
   "execution_count": 2,
   "metadata": {},
   "outputs": [
    {
     "name": "stdout",
     "output_type": "stream",
     "text": [
      "start\n",
      "hai\n",
      "None\n",
      "stop\n"
     ]
    }
   ],
   "source": [
    "print('start')\n",
    "def sample():\n",
    "    print('hai')\n",
    "print(sample())\n",
    "print('stop')"
   ]
  },
  {
   "cell_type": "code",
   "execution_count": 3,
   "metadata": {},
   "outputs": [
    {
     "name": "stdout",
     "output_type": "stream",
     "text": [
      "start\n",
      "200\n",
      "None\n",
      "stop\n"
     ]
    }
   ],
   "source": [
    "print('start')\n",
    "def sample():\n",
    "    a=10\n",
    "    b=20\n",
    "    c=a*b\n",
    "    print(c)\n",
    "print(sample())\n",
    "print('stop')"
   ]
  },
  {
   "cell_type": "code",
   "execution_count": 4,
   "metadata": {},
   "outputs": [
    {
     "name": "stdout",
     "output_type": "stream",
     "text": [
      "start\n",
      "200\n",
      "stop\n"
     ]
    }
   ],
   "source": [
    "print('start')\n",
    "def sample():\n",
    "    a=10\n",
    "    b=20\n",
    "    c=a*b\n",
    "    print(c)\n",
    "sample()\n",
    "print('stop')"
   ]
  },
  {
   "cell_type": "markdown",
   "metadata": {},
   "source": [
    "function with argument without return"
   ]
  },
  {
   "cell_type": "code",
   "execution_count": 5,
   "metadata": {},
   "outputs": [
    {
     "name": "stdout",
     "output_type": "stream",
     "text": [
      "20\n",
      "None\n"
     ]
    }
   ],
   "source": [
    "def demo(a,b):\n",
    "    c=a*b\n",
    "    print(c)\n",
    "print(demo(10,2))"
   ]
  },
  {
   "cell_type": "code",
   "execution_count": 6,
   "metadata": {},
   "outputs": [
    {
     "name": "stdout",
     "output_type": "stream",
     "text": [
      "20\n"
     ]
    }
   ],
   "source": [
    "def demo(a,b):\n",
    "    c=a*b\n",
    "    print(c)\n",
    "demo(10,2)"
   ]
  },
  {
   "cell_type": "code",
   "execution_count": 7,
   "metadata": {},
   "outputs": [
    {
     "ename": "TypeError",
     "evalue": "demo() missing 2 required positional arguments: 'a' and 'b'",
     "output_type": "error",
     "traceback": [
      "\u001b[1;31m---------------------------------------------------------------------------\u001b[0m",
      "\u001b[1;31mTypeError\u001b[0m                                 Traceback (most recent call last)",
      "\u001b[1;32mc:\\Users\\lvlyl\\OneDrive\\Documents\\GitHub\\python_lalith_12\\function.ipynb Cell 8\u001b[0m line \u001b[0;36m4\n\u001b[0;32m      <a href='vscode-notebook-cell:/c%3A/Users/lvlyl/OneDrive/Documents/GitHub/python_lalith_12/function.ipynb#X10sZmlsZQ%3D%3D?line=1'>2</a>\u001b[0m     c\u001b[39m=\u001b[39ma\u001b[39m*\u001b[39mb\n\u001b[0;32m      <a href='vscode-notebook-cell:/c%3A/Users/lvlyl/OneDrive/Documents/GitHub/python_lalith_12/function.ipynb#X10sZmlsZQ%3D%3D?line=2'>3</a>\u001b[0m     \u001b[39mprint\u001b[39m(c)\n\u001b[1;32m----> <a href='vscode-notebook-cell:/c%3A/Users/lvlyl/OneDrive/Documents/GitHub/python_lalith_12/function.ipynb#X10sZmlsZQ%3D%3D?line=3'>4</a>\u001b[0m demo()   \u001b[39m#----> arguments are must\u001b[39;00m\n",
      "\u001b[1;31mTypeError\u001b[0m: demo() missing 2 required positional arguments: 'a' and 'b'"
     ]
    }
   ],
   "source": [
    "def demo(a,b):\n",
    "    c=a*b\n",
    "    print(c)\n",
    "demo()   #----> arguments are must"
   ]
  },
  {
   "cell_type": "code",
   "execution_count": 8,
   "metadata": {},
   "outputs": [
    {
     "name": "stdout",
     "output_type": "stream",
     "text": [
      "20\n"
     ]
    }
   ],
   "source": [
    "def demo(a=10,b=2):\n",
    "    c=a*b\n",
    "    print(c)\n",
    "demo()"
   ]
  },
  {
   "cell_type": "code",
   "execution_count": 9,
   "metadata": {},
   "outputs": [
    {
     "name": "stdout",
     "output_type": "stream",
     "text": [
      "30\n"
     ]
    }
   ],
   "source": [
    "def demo(a=10,b=2):\n",
    "    c=a*b\n",
    "    print(c)\n",
    "demo(15,2)"
   ]
  },
  {
   "cell_type": "code",
   "execution_count": 10,
   "metadata": {},
   "outputs": [
    {
     "name": "stdout",
     "output_type": "stream",
     "text": [
      "50\n"
     ]
    }
   ],
   "source": [
    "def demo(a=10,b=2):\n",
    "    c=a*b\n",
    "    print(c)\n",
    "demo(a=10,b=5)"
   ]
  },
  {
   "cell_type": "code",
   "execution_count": 11,
   "metadata": {},
   "outputs": [
    {
     "name": "stdout",
     "output_type": "stream",
     "text": [
      "60\n"
     ]
    }
   ],
   "source": [
    "def demo(a=10,b=2):\n",
    "    c=a*b\n",
    "    print(c)\n",
    "demo(30)"
   ]
  },
  {
   "cell_type": "code",
   "execution_count": 12,
   "metadata": {},
   "outputs": [
    {
     "name": "stdout",
     "output_type": "stream",
     "text": [
      "600\n"
     ]
    }
   ],
   "source": [
    "def demo(a=10,b=2):\n",
    "    c=a*b\n",
    "    print(c)\n",
    "demo(b=60)"
   ]
  },
  {
   "cell_type": "markdown",
   "metadata": {},
   "source": [
    "function without argument with return"
   ]
  },
  {
   "cell_type": "code",
   "execution_count": 13,
   "metadata": {},
   "outputs": [
    {
     "data": {
      "text/plain": [
       "0"
      ]
     },
     "execution_count": 13,
     "metadata": {},
     "output_type": "execute_result"
    }
   ],
   "source": [
    "def mod():\n",
    "    a=2\n",
    "    b=10\n",
    "    c=b%a\n",
    "    return c\n",
    "# print(mod())\n",
    "mod()"
   ]
  },
  {
   "cell_type": "code",
   "execution_count": 14,
   "metadata": {},
   "outputs": [
    {
     "name": "stdout",
     "output_type": "stream",
     "text": [
      "0\n",
      "10\n"
     ]
    }
   ],
   "source": [
    "def mod():\n",
    "    a=2\n",
    "    b=10\n",
    "    c=b%a\n",
    "    return c\n",
    "res=mod()\n",
    "print(res)\n",
    "res+=10\n",
    "print(res)"
   ]
  },
  {
   "cell_type": "markdown",
   "metadata": {},
   "source": [
    "function with argument with return"
   ]
  },
  {
   "cell_type": "code",
   "execution_count": 15,
   "metadata": {},
   "outputs": [
    {
     "data": {
      "text/plain": [
       "50"
      ]
     },
     "execution_count": 15,
     "metadata": {},
     "output_type": "execute_result"
    }
   ],
   "source": [
    "def mul(a,b):\n",
    "    c=a*b\n",
    "    return c\n",
    "mul(10,5)\n",
    "mul(a=100,b=2)\n",
    "mul(a=5,b=10)"
   ]
  },
  {
   "cell_type": "code",
   "execution_count": 16,
   "metadata": {},
   "outputs": [
    {
     "data": {
      "text/plain": [
       "500"
      ]
     },
     "execution_count": 16,
     "metadata": {},
     "output_type": "execute_result"
    }
   ],
   "source": [
    "def mul(a=100,b=5):\n",
    "    c=a*b\n",
    "    return c\n",
    "mul()"
   ]
  },
  {
   "cell_type": "code",
   "execution_count": 17,
   "metadata": {},
   "outputs": [
    {
     "data": {
      "text/plain": [
       "400"
      ]
     },
     "execution_count": 17,
     "metadata": {},
     "output_type": "execute_result"
    }
   ],
   "source": [
    "def mul(a=10,b=2):\n",
    "    c=a*b\n",
    "    return c\n",
    "mul(100,4)"
   ]
  },
  {
   "cell_type": "markdown",
   "metadata": {},
   "source": [
    "PROCEDURAL PROGRAMMING LANGUAGE"
   ]
  },
  {
   "cell_type": "code",
   "execution_count": 18,
   "metadata": {},
   "outputs": [
    {
     "name": "stdout",
     "output_type": "stream",
     "text": [
      "HELLO HAII 123 *$!\n"
     ]
    }
   ],
   "source": [
    "st='hello HAII 123 *$!'\n",
    "res=''\n",
    "for i in st:\n",
    "    if 'a'<=i<='z':\n",
    "        res+=chr(ord(i)-32)\n",
    "    else:\n",
    "        res+=i\n",
    "print(res)"
   ]
  },
  {
   "cell_type": "code",
   "execution_count": 19,
   "metadata": {},
   "outputs": [
    {
     "name": "stdout",
     "output_type": "stream",
     "text": [
      "HELLO HAII 123 *$!\n"
     ]
    }
   ],
   "source": [
    "#1. FUNCTION WITHOUT ARGUMENT WITHOUT RETURN\n",
    "def u_upper():\n",
    "    st='hello HAII 123 *$!'\n",
    "    res=''\n",
    "    for i in st:\n",
    "        if 'a'<=i<='z':\n",
    "            res+=chr(ord(i)-32)\n",
    "        else:\n",
    "            res+=i\n",
    "    print(res)\n",
    "u_upper()"
   ]
  },
  {
   "cell_type": "code",
   "execution_count": 20,
   "metadata": {},
   "outputs": [
    {
     "name": "stdout",
     "output_type": "stream",
     "text": [
      "HELLO HAII 123 *$!\n"
     ]
    }
   ],
   "source": [
    "#2. FUNCTION WITH ARGUMENT WITHOUT RETURN\n",
    "x='hello HAII 123 *$!'\n",
    "def u_upper(st):\n",
    "    res=''\n",
    "    for i in st:\n",
    "        if 'a'<=i<='z':\n",
    "            res+=chr(ord(i)-32)\n",
    "        else:\n",
    "            res+=i\n",
    "    print(res)\n",
    "u_upper(x)"
   ]
  },
  {
   "cell_type": "code",
   "execution_count": 21,
   "metadata": {},
   "outputs": [
    {
     "data": {
      "text/plain": [
       "'HELLO HAII 123 *$!'"
      ]
     },
     "execution_count": 21,
     "metadata": {},
     "output_type": "execute_result"
    }
   ],
   "source": [
    "#3. FUNCTION WITHOUT ARGUMENT WITH RETURN\n",
    "def u_upper():\n",
    "    st='hello HAII 123 *$!'\n",
    "    res=''\n",
    "    for i in st:\n",
    "        if 'a'<=i<='z':\n",
    "            res+=chr(ord(i)-32)\n",
    "        else:\n",
    "            res+=i\n",
    "    return res\n",
    "u_upper()"
   ]
  },
  {
   "cell_type": "code",
   "execution_count": 22,
   "metadata": {},
   "outputs": [
    {
     "data": {
      "text/plain": [
       "'HELLO HAII 123 *$!'"
      ]
     },
     "execution_count": 22,
     "metadata": {},
     "output_type": "execute_result"
    }
   ],
   "source": [
    "#4. FUNCTION WITH ARGUMENT WITH RETURN\n",
    "x='hello HAII 123 *$!'\n",
    "def u_upper(st):\n",
    "    res=''\n",
    "    for i in st:\n",
    "        if 'a'<=i<='z':\n",
    "            res+=chr(ord(i)-32)\n",
    "        else:\n",
    "            res+=i\n",
    "    return res\n",
    "u_upper(x)\n"
   ]
  },
  {
   "cell_type": "markdown",
   "metadata": {},
   "source": [
    " BUILT IN FUNCTIONS AND USER DEFINED FUNCTIONS"
   ]
  },
  {
   "cell_type": "code",
   "execution_count": 23,
   "metadata": {},
   "outputs": [
    {
     "data": {
      "text/plain": [
       "'Hello world@12#'"
      ]
     },
     "execution_count": 23,
     "metadata": {},
     "output_type": "execute_result"
    }
   ],
   "source": [
    "#1. CAPITALIZE\n",
    "st='hello world@12#'\n",
    "st.capitalize()"
   ]
  },
  {
   "cell_type": "code",
   "execution_count": 24,
   "metadata": {},
   "outputs": [
    {
     "data": {
      "text/plain": [
       "'Hello world@12#'"
      ]
     },
     "execution_count": 24,
     "metadata": {},
     "output_type": "execute_result"
    }
   ],
   "source": [
    "st='hello world@12#'\n",
    "def u_capitalize(coll):\n",
    "    res=''\n",
    "    if 'a'<=coll[0]<='z':\n",
    "        res+=chr(ord(coll[0])-32)\n",
    "    else:\n",
    "        res+=coll[0]\n",
    "    for i in range(1,len(coll)):\n",
    "        if 'A'<=coll[i]<='Z':\n",
    "            res+=chr(ord(coll[i])+32)\n",
    "        else:\n",
    "            res+=coll[i]\n",
    "    return res\n",
    "u_capitalize(st)"
   ]
  },
  {
   "cell_type": "code",
   "execution_count": 25,
   "metadata": {},
   "outputs": [
    {
     "data": {
      "text/plain": [
       "'hello world123fgf @#'"
      ]
     },
     "execution_count": 25,
     "metadata": {},
     "output_type": "execute_result"
    }
   ],
   "source": [
    "#2. CASEFOLD\n",
    "st='HELLO WORLD123FGF @#'\n",
    "st.casefold()"
   ]
  },
  {
   "cell_type": "code",
   "execution_count": 26,
   "metadata": {},
   "outputs": [
    {
     "data": {
      "text/plain": [
       "'hello world123fgf @#'"
      ]
     },
     "execution_count": 26,
     "metadata": {},
     "output_type": "execute_result"
    }
   ],
   "source": [
    "x='HELLO WORLD123FGF @#'\n",
    "def u_casefold(coll):\n",
    "    res=''\n",
    "    for i in coll:\n",
    "        if 'A'<=i<='Z':\n",
    "            res+=chr(ord(i)+32)\n",
    "        else:\n",
    "            res+=i\n",
    "    return res\n",
    "u_casefold(x)"
   ]
  },
  {
   "cell_type": "code",
   "execution_count": 27,
   "metadata": {},
   "outputs": [
    {
     "data": {
      "text/plain": [
       "'HELLO WORLD123FGF @#'"
      ]
     },
     "execution_count": 27,
     "metadata": {},
     "output_type": "execute_result"
    }
   ],
   "source": [
    "#3. UPPER\n",
    "st='hello WORLD123FGF @#'\n",
    "st.upper()"
   ]
  },
  {
   "cell_type": "code",
   "execution_count": 29,
   "metadata": {},
   "outputs": [
    {
     "data": {
      "text/plain": [
       "'HELLO WORLD123FGF @#'"
      ]
     },
     "execution_count": 29,
     "metadata": {},
     "output_type": "execute_result"
    }
   ],
   "source": [
    "x='hello WORLD123FGF @#'\n",
    "def u_upper(coll):\n",
    "    res=\"\"\n",
    "    for i in coll:\n",
    "        if \"a\"<=i<=\"z\":\n",
    "            res+=chr(ord(i)-32)\n",
    "        else:\n",
    "            res+=i\n",
    "    return res\n",
    "u_upper(x)        "
   ]
  },
  {
   "cell_type": "code",
   "execution_count": 30,
   "metadata": {},
   "outputs": [
    {
     "data": {
      "text/plain": [
       "'hello world123fgf @#'"
      ]
     },
     "execution_count": 30,
     "metadata": {},
     "output_type": "execute_result"
    }
   ],
   "source": [
    "#4. lower\n",
    "st='HELLO WORLD123FGF @#'\n",
    "st.lower()"
   ]
  },
  {
   "cell_type": "code",
   "execution_count": 31,
   "metadata": {},
   "outputs": [
    {
     "data": {
      "text/plain": [
       "'hello world123fgf @#'"
      ]
     },
     "execution_count": 31,
     "metadata": {},
     "output_type": "execute_result"
    }
   ],
   "source": [
    "st='HELLO WORLD123FGF @#'\n",
    "def u_lower(coll):\n",
    "    res=\"\"\n",
    "    for i in coll:\n",
    "        if \"A\"<=i<=\"Z\":\n",
    "            res+=chr(ord(i)+32)\n",
    "        else:\n",
    "            res+=i\n",
    "    return res\n",
    "u_lower(st)        "
   ]
  },
  {
   "cell_type": "code",
   "execution_count": 32,
   "metadata": {},
   "outputs": [
    {
     "data": {
      "text/plain": [
       "'hello WORLD123fgf @#'"
      ]
     },
     "execution_count": 32,
     "metadata": {},
     "output_type": "execute_result"
    }
   ],
   "source": [
    "#5. swapcase\n",
    "st='HELLO world123FGF @#'\n",
    "st.swapcase()"
   ]
  },
  {
   "cell_type": "code",
   "execution_count": 44,
   "metadata": {},
   "outputs": [
    {
     "data": {
      "text/plain": [
       "'hello WORLD123fgf @#'"
      ]
     },
     "execution_count": 44,
     "metadata": {},
     "output_type": "execute_result"
    }
   ],
   "source": [
    "st='HELLO world123FGF @#'\n",
    "def h(t):\n",
    "    res=''\n",
    "    for i in t:\n",
    "        if('A'<=i<='Z'):\n",
    "            res+=chr(ord(i)+32)\n",
    "        elif('a'<=i<='z'):\n",
    "            res+=chr(ord(i)-32)\n",
    "        else:\n",
    "            res+=i\n",
    "    return res\n",
    "h(st)       "
   ]
  },
  {
   "cell_type": "code",
   "execution_count": 45,
   "metadata": {},
   "outputs": [
    {
     "data": {
      "text/plain": [
       "'Hello World123Abc @# $Xyz Ijkl'"
      ]
     },
     "execution_count": 45,
     "metadata": {},
     "output_type": "execute_result"
    }
   ],
   "source": [
    "#6. TITLECASE\n",
    "st='HELLO WORLD123ABC @# $XYZ IJKL'\n",
    "st.title()"
   ]
  },
  {
   "cell_type": "code",
   "execution_count": 2,
   "metadata": {},
   "outputs": [
    {
     "data": {
      "text/plain": [
       "'Hello World123Abc @# $Xyz Ijkl'"
      ]
     },
     "execution_count": 2,
     "metadata": {},
     "output_type": "execute_result"
    }
   ],
   "source": [
    "st='heLLO World123ABC @# $XYZ IJKL'\n",
    "def u_title(coll):\n",
    "    temp=0\n",
    "    res=''\n",
    "    if 'a'<=coll[0]<='z':\n",
    "        res+=chr(ord(coll[0])-32)\n",
    "        temp=1\n",
    "    elif 'A'<=coll[0]<='Z':\n",
    "        res+=coll[0]\n",
    "        temp=1\n",
    "    while temp<len(coll):\n",
    "        if not('A'<=coll[temp]<='Z' or 'a'<=coll[temp]<='z'):\n",
    "            res+=coll[temp]\n",
    "            if 'a'<=coll[temp+1]<='z':\n",
    "                res+=chr(ord(coll[temp+1])-32)\n",
    "            else:\n",
    "                res+=coll[temp+1]\n",
    "            temp+=1\n",
    "        elif 'A'<=coll[temp]<='Z':\n",
    "            res+=chr(ord(coll[temp])+32)\n",
    "        else:\n",
    "            res+=coll[temp]\n",
    "        temp+=1\n",
    "    return res\n",
    "u_title(st)"
   ]
  },
  {
   "cell_type": "code",
   "execution_count": 47,
   "metadata": {},
   "outputs": [
    {
     "name": "stdout",
     "output_type": "stream",
     "text": [
      "___abc____\n"
     ]
    }
   ],
   "source": [
    "#6. CENTER\n",
    "st='abc'\n",
    "res=st.center(10,'_')\n",
    "print(res)"
   ]
  },
  {
   "cell_type": "code",
   "execution_count": 48,
   "metadata": {},
   "outputs": [
    {
     "data": {
      "text/plain": [
       "'___abc____'"
      ]
     },
     "execution_count": 48,
     "metadata": {},
     "output_type": "execute_result"
    }
   ],
   "source": [
    "st='abc'\n",
    "def u_center(coll,width,fillchar=''):\n",
    "    res=width-len(coll)\n",
    "    l=res//2\n",
    "    r=res-l\n",
    "    res=fillchar*l+coll+fillchar*r\n",
    "    return res\n",
    "u_center(st,10,'_')"
   ]
  },
  {
   "cell_type": "code",
   "execution_count": 49,
   "metadata": {},
   "outputs": [
    {
     "data": {
      "text/plain": [
       "'TypeError: The fill character must be exactly one character long'"
      ]
     },
     "execution_count": 49,
     "metadata": {},
     "output_type": "execute_result"
    }
   ],
   "source": [
    "# (1) NOTE: AT LEARNING STAGE\n",
    "st='abc'\n",
    "def u_center(coll,width,fillchar=''):\n",
    "    if len(fillchar)>1:\n",
    "        return \"TypeError: The fill character must be exactly one character long\"\n",
    "    res=width-len(coll)\n",
    "    l=res//2\n",
    "    r=res-l\n",
    "    res=fillchar*l+coll+fillchar*r\n",
    "    return res\n",
    "u_center(st,10,'__')\n"
   ]
  },
  {
   "cell_type": "code",
   "execution_count": 50,
   "metadata": {},
   "outputs": [
    {
     "ename": "TypeError",
     "evalue": "",
     "output_type": "error",
     "traceback": [
      "\u001b[1;31m---------------------------------------------------------------------------\u001b[0m",
      "\u001b[1;31mTypeError\u001b[0m                                 Traceback (most recent call last)",
      "\u001b[1;32mc:\\Users\\lvlyl\\OneDrive\\Documents\\GitHub\\python_lalith_12\\function.ipynb Cell 44\u001b[0m line \u001b[0;36m1\n\u001b[0;32m      <a href='vscode-notebook-cell:/c%3A/Users/lvlyl/OneDrive/Documents/GitHub/python_lalith_12/function.ipynb#X61sZmlsZQ%3D%3D?line=8'>9</a>\u001b[0m     res\u001b[39m=\u001b[39mfillchar\u001b[39m*\u001b[39ml\u001b[39m+\u001b[39mcoll\u001b[39m+\u001b[39mfillchar\u001b[39m*\u001b[39mr\n\u001b[0;32m     <a href='vscode-notebook-cell:/c%3A/Users/lvlyl/OneDrive/Documents/GitHub/python_lalith_12/function.ipynb#X61sZmlsZQ%3D%3D?line=9'>10</a>\u001b[0m     \u001b[39mreturn\u001b[39;00m res\n\u001b[1;32m---> <a href='vscode-notebook-cell:/c%3A/Users/lvlyl/OneDrive/Documents/GitHub/python_lalith_12/function.ipynb#X61sZmlsZQ%3D%3D?line=10'>11</a>\u001b[0m u_center(st,\u001b[39m10\u001b[39;49m,\u001b[39m'\u001b[39;49m\u001b[39m__\u001b[39;49m\u001b[39m'\u001b[39;49m)        \u001b[39m#------> when fill char is 2 underscores\u001b[39;00m\n",
      "\u001b[1;32mc:\\Users\\lvlyl\\OneDrive\\Documents\\GitHub\\python_lalith_12\\function.ipynb Cell 44\u001b[0m line \u001b[0;36m5\n\u001b[0;32m      <a href='vscode-notebook-cell:/c%3A/Users/lvlyl/OneDrive/Documents/GitHub/python_lalith_12/function.ipynb#X61sZmlsZQ%3D%3D?line=2'>3</a>\u001b[0m \u001b[39mdef\u001b[39;00m \u001b[39mu_center\u001b[39m(coll,width,fillchar\u001b[39m=\u001b[39m\u001b[39m'\u001b[39m\u001b[39m'\u001b[39m):\n\u001b[0;32m      <a href='vscode-notebook-cell:/c%3A/Users/lvlyl/OneDrive/Documents/GitHub/python_lalith_12/function.ipynb#X61sZmlsZQ%3D%3D?line=3'>4</a>\u001b[0m     \u001b[39mif\u001b[39;00m \u001b[39mlen\u001b[39m(fillchar)\u001b[39m>\u001b[39m\u001b[39m1\u001b[39m:\n\u001b[1;32m----> <a href='vscode-notebook-cell:/c%3A/Users/lvlyl/OneDrive/Documents/GitHub/python_lalith_12/function.ipynb#X61sZmlsZQ%3D%3D?line=4'>5</a>\u001b[0m         \u001b[39mraise\u001b[39;00m \u001b[39mTypeError\u001b[39;00m     \u001b[39m#------. this typeerror will be the output\u001b[39;00m\n\u001b[0;32m      <a href='vscode-notebook-cell:/c%3A/Users/lvlyl/OneDrive/Documents/GitHub/python_lalith_12/function.ipynb#X61sZmlsZQ%3D%3D?line=5'>6</a>\u001b[0m     res\u001b[39m=\u001b[39mwidth\u001b[39m-\u001b[39m\u001b[39mlen\u001b[39m(coll)\n\u001b[0;32m      <a href='vscode-notebook-cell:/c%3A/Users/lvlyl/OneDrive/Documents/GitHub/python_lalith_12/function.ipynb#X61sZmlsZQ%3D%3D?line=6'>7</a>\u001b[0m     l\u001b[39m=\u001b[39mres\u001b[39m/\u001b[39m\u001b[39m/\u001b[39m\u001b[39m2\u001b[39m\n",
      "\u001b[1;31mTypeError\u001b[0m: "
     ]
    }
   ],
   "source": [
    "# (2) NOTE: IN PROJECTS\n",
    "st='abc'\n",
    "def u_center(coll,width,fillchar=''):\n",
    "    if len(fillchar)>1:\n",
    "        raise TypeError     #------. this typeerror will be the output\n",
    "    res=width-len(coll)\n",
    "    l=res//2\n",
    "    r=res-l\n",
    "    res=fillchar*l+coll+fillchar*r\n",
    "    return res\n",
    "u_center(st,10,'__')        #------> when fill char is 2 underscores"
   ]
  },
  {
   "cell_type": "code",
   "execution_count": 51,
   "metadata": {},
   "outputs": [
    {
     "data": {
      "text/plain": [
       "-1"
      ]
     },
     "execution_count": 51,
     "metadata": {},
     "output_type": "execute_result"
    }
   ],
   "source": [
    "# (3) NOTE: IN ONLINE EXAMS\n",
    "st='abc'\n",
    "def u_center(coll,width,fillchar=''):\n",
    "    if len(fillchar)>1:\n",
    "        return -1     #------. this -1 will be the output\n",
    "    res=width-len(coll)\n",
    "    l=res//2\n",
    "    r=res-l\n",
    "    res=fillchar*l+coll+fillchar*r\n",
    "    return res\n",
    "u_center(st,10,'__')    #------> when fill char is 2 underscores"
   ]
  },
  {
   "cell_type": "code",
   "execution_count": 52,
   "metadata": {},
   "outputs": [
    {
     "data": {
      "text/plain": [
       "True"
      ]
     },
     "execution_count": 52,
     "metadata": {},
     "output_type": "execute_result"
    }
   ],
   "source": [
    "#7. ISTITLE\n",
    "st='1Ello World123Abc $Xyz Ijkl'\n",
    "st.istitle()"
   ]
  },
  {
   "cell_type": "code",
   "execution_count": 54,
   "metadata": {},
   "outputs": [
    {
     "data": {
      "text/plain": [
       "True"
      ]
     },
     "execution_count": 54,
     "metadata": {},
     "output_type": "execute_result"
    }
   ],
   "source": [
    "st='1Ello World123Abc $Xyz Ijkl'\n",
    "def u_istitle(coll):\n",
    "    if 'a'<=coll[0]<='z':\n",
    "        return False\n",
    "    i=0\n",
    "    while i<len(coll):\n",
    "        if not('A'<=coll[i]<='Z' or 'a'<=coll[i]<='z'):\n",
    "            if 'a'<=coll[i+1]<='z':\n",
    "                return False\n",
    "        i+=1\n",
    "    return True\n",
    "u_istitle(st)\n",
    "\n"
   ]
  },
  {
   "cell_type": "code",
   "execution_count": 55,
   "metadata": {},
   "outputs": [
    {
     "data": {
      "text/plain": [
       "True"
      ]
     },
     "execution_count": 55,
     "metadata": {},
     "output_type": "execute_result"
    }
   ],
   "source": [
    "#8. ISUPPER\n",
    "st='HELLO WORLD123@#'\n",
    "st.isupper()"
   ]
  },
  {
   "cell_type": "code",
   "execution_count": 56,
   "metadata": {},
   "outputs": [
    {
     "data": {
      "text/plain": [
       "True"
      ]
     },
     "execution_count": 56,
     "metadata": {},
     "output_type": "execute_result"
    }
   ],
   "source": [
    "st='HELLO WORLD123@#'\n",
    "def t(h):\n",
    "    for i in h:\n",
    "        if(\"a\"<=i<=\"z\"):\n",
    "            return False\n",
    "    return True\n",
    "t(st)    \n",
    "    "
   ]
  },
  {
   "cell_type": "code",
   "execution_count": 57,
   "metadata": {},
   "outputs": [
    {
     "data": {
      "text/plain": [
       "True"
      ]
     },
     "execution_count": 57,
     "metadata": {},
     "output_type": "execute_result"
    }
   ],
   "source": [
    "#9. ISLOWER\n",
    "st='hello world@123'\n",
    "st.islower()"
   ]
  },
  {
   "cell_type": "code",
   "execution_count": 59,
   "metadata": {},
   "outputs": [
    {
     "data": {
      "text/plain": [
       "True"
      ]
     },
     "execution_count": 59,
     "metadata": {},
     "output_type": "execute_result"
    }
   ],
   "source": [
    "st='hello world@123'\n",
    "def h(t):\n",
    "    for i in t:\n",
    "        if('A'<=i<='Z'):\n",
    "            return False\n",
    "    return True\n",
    "h(st)    "
   ]
  },
  {
   "cell_type": "code",
   "execution_count": 60,
   "metadata": {},
   "outputs": [
    {
     "data": {
      "text/plain": [
       "True"
      ]
     },
     "execution_count": 60,
     "metadata": {},
     "output_type": "execute_result"
    }
   ],
   "source": [
    "#10. ISALPHA\n",
    "st='helloWORLD'\n",
    "st.isalpha()"
   ]
  },
  {
   "cell_type": "code",
   "execution_count": 73,
   "metadata": {},
   "outputs": [
    {
     "data": {
      "text/plain": [
       "True"
      ]
     },
     "execution_count": 73,
     "metadata": {},
     "output_type": "execute_result"
    }
   ],
   "source": [
    "st='helloWORLD'\n",
    "def h(t):\n",
    "    for i in t:\n",
    "        if (not(\"A\"<=i<=\"Z\" or \"a\"<=i<=\"z\")):\n",
    "             return False\n",
    "    return True   \n",
    "h(st)  \n",
    "     "
   ]
  },
  {
   "cell_type": "code",
   "execution_count": 74,
   "metadata": {},
   "outputs": [
    {
     "data": {
      "text/plain": [
       "True"
      ]
     },
     "execution_count": 74,
     "metadata": {},
     "output_type": "execute_result"
    }
   ],
   "source": [
    "#11. ISALNUM\n",
    "st='helLO123'\n",
    "st.isalnum()"
   ]
  },
  {
   "cell_type": "code",
   "execution_count": 84,
   "metadata": {},
   "outputs": [
    {
     "data": {
      "text/plain": [
       "False"
      ]
     },
     "execution_count": 84,
     "metadata": {},
     "output_type": "execute_result"
    }
   ],
   "source": [
    "st='helloWORLD123'\n",
    "def h(t):\n",
    "    for i in t:\n",
    "        if (not(\"A\"<=i<=\"Z\" or \"a\"<=i<=\"z\" or \"0\"<=i<=\"9\")):\n",
    "             return False\n",
    "    return True   \n",
    "h(st)  "
   ]
  },
  {
   "cell_type": "code",
   "execution_count": 85,
   "metadata": {},
   "outputs": [
    {
     "data": {
      "text/plain": [
       "False"
      ]
     },
     "execution_count": 85,
     "metadata": {},
     "output_type": "execute_result"
    }
   ],
   "source": [
    "#12. ISDIGIT/ISNUMERIC/ISDECIMAL\n",
    "#(a) isdigit\n",
    "st='123.1'\n",
    "st.isdigit()"
   ]
  },
  {
   "cell_type": "code",
   "execution_count": 86,
   "metadata": {},
   "outputs": [
    {
     "data": {
      "text/plain": [
       "False"
      ]
     },
     "execution_count": 86,
     "metadata": {},
     "output_type": "execute_result"
    }
   ],
   "source": [
    "#(b) isnumeric\n",
    "x='123.1'\n",
    "x.isnumeric()"
   ]
  },
  {
   "cell_type": "code",
   "execution_count": 87,
   "metadata": {},
   "outputs": [
    {
     "data": {
      "text/plain": [
       "False"
      ]
     },
     "execution_count": 87,
     "metadata": {},
     "output_type": "execute_result"
    }
   ],
   "source": [
    "# (c) isdecimal\n",
    "x='123.1as@#'\n",
    "x.isdecimal()"
   ]
  },
  {
   "cell_type": "code",
   "execution_count": 88,
   "metadata": {},
   "outputs": [
    {
     "data": {
      "text/plain": [
       "False"
      ]
     },
     "execution_count": 88,
     "metadata": {},
     "output_type": "execute_result"
    }
   ],
   "source": [
    "st='123.1'\n",
    "def u_isdigit(coll):\n",
    "    i=0\n",
    "    while i<len(coll):\n",
    "        if not('0'<=coll[i]<='9'):\n",
    "            return False\n",
    "        i+=1\n",
    "    return True\n",
    "u_isdigit(st)"
   ]
  },
  {
   "cell_type": "code",
   "execution_count": 1,
   "metadata": {},
   "outputs": [
    {
     "data": {
      "text/plain": [
       "True"
      ]
     },
     "execution_count": 1,
     "metadata": {},
     "output_type": "execute_result"
    }
   ],
   "source": [
    "st=\"    \"\n",
    "st.isspace()"
   ]
  },
  {
   "cell_type": "code",
   "execution_count": 2,
   "metadata": {},
   "outputs": [
    {
     "data": {
      "text/plain": [
       "True"
      ]
     },
     "execution_count": 2,
     "metadata": {},
     "output_type": "execute_result"
    }
   ],
   "source": [
    "st=\"           \"\n",
    "def u_isspace(coll):\n",
    "    if len(coll)==0 :\n",
    "        return False\n",
    "    else:\n",
    "        for i in coll:\n",
    "            if i!=\" \":\n",
    "                return False\n",
    "        return True\n",
    "u_isspace(st)"
   ]
  },
  {
   "cell_type": "code",
   "execution_count": 3,
   "metadata": {},
   "outputs": [
    {
     "data": {
      "text/plain": [
       "True"
      ]
     },
     "execution_count": 3,
     "metadata": {},
     "output_type": "execute_result"
    }
   ],
   "source": [
    "st=\"           \"\n",
    "def u_isspace(coll):\n",
    "    if coll!=\"\":\n",
    "        for i in coll:\n",
    "            if i!=\" \":\n",
    "                return False\n",
    "        return True\n",
    "    return False\n",
    "u_isspace(st)"
   ]
  },
  {
   "cell_type": "code",
   "execution_count": 4,
   "metadata": {},
   "outputs": [
    {
     "data": {
      "text/plain": [
       "'ax+bdf+efgj+dcfvbnk'"
      ]
     },
     "execution_count": 4,
     "metadata": {},
     "output_type": "execute_result"
    }
   ],
   "source": [
    "# 15 join accept only strings in the collection \n",
    "l=['ax','bdf','efgj','dcfvbnk']\n",
    "\"+\".join(l)"
   ]
  },
  {
   "cell_type": "code",
   "execution_count": 5,
   "metadata": {},
   "outputs": [
    {
     "data": {
      "text/plain": [
       "'ax-bdf-efgj-dcfvbnk'"
      ]
     },
     "execution_count": 5,
     "metadata": {},
     "output_type": "execute_result"
    }
   ],
   "source": [
    "# join\n",
    "l=['ax','bdf','efgj','dcfvbnk']\n",
    "def u_join(coll,sep=\"\"):\n",
    "    for i in coll:\n",
    "        if type(i)!=str:\n",
    "            return False\n",
    "    res=\"\"\n",
    "    for i in coll:\n",
    "        res+=i+sep\n",
    "    if sep==\"\":\n",
    "        return res\n",
    "    else:\n",
    "        return res[:-len(sep)]\n",
    "u_join(l,\"-\") "
   ]
  },
  {
   "cell_type": "code",
   "execution_count": 6,
   "metadata": {},
   "outputs": [
    {
     "data": {
      "text/plain": [
       "1"
      ]
     },
     "execution_count": 6,
     "metadata": {},
     "output_type": "execute_result"
    }
   ],
   "source": [
    "l=\"lalith\"\n",
    "l.find(\"a\")"
   ]
  },
  {
   "cell_type": "code",
   "execution_count": 20,
   "metadata": {},
   "outputs": [
    {
     "data": {
      "text/plain": [
       "5"
      ]
     },
     "execution_count": 20,
     "metadata": {},
     "output_type": "execute_result"
    }
   ],
   "source": [
    "l=\"lalith\"\n",
    "def t(v,a,s,e):\n",
    "    if e==None:\n",
    "        e==l(v)\n",
    "    if a not in v[s:e]:\n",
    "         return-1\n",
    "    for i in range(0,len(l)):\n",
    "        if(v[i])==a:\n",
    "           return i\n",
    "t(l,\"h\",0,6)        "
   ]
  },
  {
   "cell_type": "code",
   "execution_count": 1,
   "metadata": {},
   "outputs": [
    {
     "data": {
      "text/plain": [
       "4"
      ]
     },
     "execution_count": 1,
     "metadata": {},
     "output_type": "execute_result"
    }
   ],
   "source": [
    "# first occurance specifc char\n",
    "st=\"hello world\"\n",
    "def u_find(coll,ele,start=0,end=None):\n",
    "    if end==None:\n",
    "        end=len(coll)\n",
    "    if ele not in coll[start:end]:\n",
    "        return -1\n",
    "    for i in range(start,end):\n",
    "        if coll[i]==ele:\n",
    "            return i\n",
    "u_find(st,'o',3)"
   ]
  },
  {
   "cell_type": "code",
   "execution_count": 2,
   "metadata": {},
   "outputs": [
    {
     "data": {
      "text/plain": [
       "17"
      ]
     },
     "execution_count": 2,
     "metadata": {},
     "output_type": "execute_result"
    }
   ],
   "source": [
    "# nth occurance specific char\n",
    "st=\"baribe world baribe land \"\n",
    "def u_index(coll,ele,n,start=0,end=None):\n",
    "    if end==None:\n",
    "        end=len(coll)\n",
    "    if ele not in coll[start:end]:\n",
    "        return -1\n",
    "    count=0\n",
    "    for i in range(start,end):\n",
    "        if ele==coll[i]:\n",
    "            count+=1\n",
    "        if count==n:\n",
    "            return i\n",
    "    return -1\n",
    "u_index(st,'b',2,6,18)"
   ]
  },
  {
   "cell_type": "code",
   "execution_count": 3,
   "metadata": {},
   "outputs": [
    {
     "data": {
      "text/plain": [
       "17"
      ]
     },
     "execution_count": 3,
     "metadata": {},
     "output_type": "execute_result"
    }
   ],
   "source": [
    "# last occurance specifi char\n",
    "st=\"baribe world baribe land \"\n",
    "def u_find(coll,ele,start=0,end=None):\n",
    "    if end==None:\n",
    "        end=len(coll)\n",
    "    if ele not in coll[start:end]:\n",
    "        return -1\n",
    "    l=[]\n",
    "    while start<end:\n",
    "        if coll[start]==ele:\n",
    "            l+=[start]\n",
    "        start+=1\n",
    "    return l[-1]\n",
    "u_find(st,'b')"
   ]
  },
  {
   "cell_type": "code",
   "execution_count": 4,
   "metadata": {},
   "outputs": [
    {
     "name": "stdout",
     "output_type": "stream",
     "text": [
      "{'i': 2, 'b': 3, 'e': 2, ' ': 3, 'w': 1, 'o': 1, 'r': 2, 'l': 2, 'd': 2, 'a': 2, 'n': 1}\n"
     ]
    },
    {
     "data": {
      "text/plain": [
       "'b'"
      ]
     },
     "execution_count": 4,
     "metadata": {},
     "output_type": "execute_result"
    }
   ],
   "source": [
    "# max first repeated char\n",
    "st=\"baribe world baribe land \"\n",
    "def u_find(coll,start=0,end=None):\n",
    "    if end==None:\n",
    "        end=len(coll)\n",
    "    d={}\n",
    "    while start<end:\n",
    "        if  coll[start] not in d:\n",
    "            d[coll[start]]=1\n",
    "        else:\n",
    "            d[coll[start]]+=1\n",
    "        start+=1\n",
    "    print(d)\n",
    "    l=list(d)\n",
    "    i=0\n",
    "    max=1\n",
    "    ch=None\n",
    "    while i<len(l):\n",
    "        if max<d[l[i]]:\n",
    "            max=d[l[i]]\n",
    "            ch=l[i]\n",
    "        i+=1\n",
    "    return ch\n",
    "u_find(st,3,24)"
   ]
  },
  {
   "cell_type": "code",
   "execution_count": 5,
   "metadata": {},
   "outputs": [
    {
     "name": "stdout",
     "output_type": "stream",
     "text": [
      "{' ': 2, 'w': 1, 'o': 1, 'r': 2, 'l': 1, 'd': 1, 'b': 1, 'a': 1, 'i': 1}\n"
     ]
    },
    {
     "data": {
      "text/plain": [
       "'w'"
      ]
     },
     "execution_count": 5,
     "metadata": {},
     "output_type": "execute_result"
    }
   ],
   "source": [
    "# min first repeated char\n",
    "st=\"baribe world baribe land \"\n",
    "def u_find(coll,start=0,end=None):\n",
    "    if end==None:\n",
    "        end=len(coll)\n",
    "    d={}\n",
    "    while start<end:\n",
    "        if  coll[start] not in d:\n",
    "            d[coll[start]]=1\n",
    "        else:\n",
    "            d[coll[start]]+=1\n",
    "        start+=1\n",
    "    print(d)\n",
    "    l=list(d)\n",
    "    i=0\n",
    "    min=1\n",
    "    while i<len(l):\n",
    "        if d[l[i]]==min:\n",
    "            return l[i]\n",
    "        i+=1\n",
    "u_find(st,6,17)"
   ]
  },
  {
   "cell_type": "code",
   "execution_count": 64,
   "metadata": {},
   "outputs": [
    {
     "data": {
      "text/plain": [
       "['__add__',\n",
       " '__class__',\n",
       " '__class_getitem__',\n",
       " '__contains__',\n",
       " '__delattr__',\n",
       " '__delitem__',\n",
       " '__dir__',\n",
       " '__doc__',\n",
       " '__eq__',\n",
       " '__format__',\n",
       " '__ge__',\n",
       " '__getattribute__',\n",
       " '__getitem__',\n",
       " '__getstate__',\n",
       " '__gt__',\n",
       " '__hash__',\n",
       " '__iadd__',\n",
       " '__imul__',\n",
       " '__init__',\n",
       " '__init_subclass__',\n",
       " '__iter__',\n",
       " '__le__',\n",
       " '__len__',\n",
       " '__lt__',\n",
       " '__mul__',\n",
       " '__ne__',\n",
       " '__new__',\n",
       " '__reduce__',\n",
       " '__reduce_ex__',\n",
       " '__repr__',\n",
       " '__reversed__',\n",
       " '__rmul__',\n",
       " '__setattr__',\n",
       " '__setitem__',\n",
       " '__sizeof__',\n",
       " '__str__',\n",
       " '__subclasshook__',\n",
       " 'append',\n",
       " 'clear',\n",
       " 'copy',\n",
       " 'count',\n",
       " 'extend',\n",
       " 'index',\n",
       " 'insert',\n",
       " 'pop',\n",
       " 'remove',\n",
       " 'reverse',\n",
       " 'sort']"
      ]
     },
     "execution_count": 64,
     "metadata": {},
     "output_type": "execute_result"
    }
   ],
   "source": [
    "dir(list)"
   ]
  },
  {
   "cell_type": "code",
   "execution_count": 6,
   "metadata": {},
   "outputs": [
    {
     "name": "stdout",
     "output_type": "stream",
     "text": [
      "2105301713344 [10, 20, 30, 'abc', [10, 20, 30]]\n",
      "2105298118464 [10, 20, 30, 'abc', [10, 20, 30]]\n"
     ]
    }
   ],
   "source": [
    "#copy\n",
    "\n",
    "l=[10,20,30,\"abc\",[10,20,30]]\n",
    "x=l.copy()\n",
    "print(id(l),l)\n",
    "print(id(x),x)\n"
   ]
  },
  {
   "cell_type": "code",
   "execution_count": 7,
   "metadata": {},
   "outputs": [
    {
     "name": "stdout",
     "output_type": "stream",
     "text": [
      "2105301714816 [10, 20, 30, 'abc', [10, 20, 30]]\n",
      "2105301708864 [10, 20, 30, 'abc', [10, 20, 30]]\n",
      "[10, 20, 30, 'abc', [10, 20, 30], 150, 160]\n",
      "[10, 20, 30, 'abc', [10, 20, 30]]\n",
      "[10, 20, 30, 'abc', [10, 20, 30, 'a', 'b', 'c'], 150, 160]\n",
      "[10, 20, 30, 'abc', [10, 20, 30]]\n"
     ]
    }
   ],
   "source": [
    "l=[10,20,30,\"abc\",[10,20,30]]\n",
    "print(id(l),l)\n",
    "def u_copy(coll):\n",
    "    if type(coll)!=list:\n",
    "        return -1\n",
    "    res=[]\n",
    "    for i in coll:\n",
    "        res+=[i]\n",
    "    return res\n",
    "\n",
    "temp=u_copy (l)\n",
    "print(id(temp),temp)\n",
    "\n",
    "l+=[150,160]\n",
    "print(l)\n",
    "print(temp)   \n",
    "\n",
    "\n",
    "temp[-1]+=['a','b','c']\n",
    "print(l)\n",
    "print(x)"
   ]
  },
  {
   "cell_type": "code",
   "execution_count": 8,
   "metadata": {},
   "outputs": [
    {
     "name": "stdout",
     "output_type": "stream",
     "text": [
      "[10, 20, 30, 'abc', [10, 20, 30, 'a', 'b', 'c'], 'rani']\n",
      "[10, 20, 30, 'abc', [10, 20, 30, 'a', 'b', 'c']]\n"
     ]
    }
   ],
   "source": [
    "d=[10, 20, 30, 'abc', [10, 20, 30, 'a', 'b', 'c'], \"rani\"]\n",
    "print(d)\n",
    "d.pop()\n",
    "print(d)"
   ]
  },
  {
   "cell_type": "code",
   "execution_count": 11,
   "metadata": {},
   "outputs": [
    {
     "name": "stdout",
     "output_type": "stream",
     "text": [
      "2105298123136 [10, 20, 30, 'abc', [10, 20, 30, 'a', 'b', 'c'], 'rani']\n",
      "2105298123136 [10, 20, 30, [10, 20, 30, 'a', 'b', 'c'], 'rani']\n"
     ]
    }
   ],
   "source": [
    "d=[10, 20, 30, 'abc', [10, 20, 30, 'a', 'b', 'c'], \"rani\"]\n",
    "print(id(d),d)\n",
    "d.pop(3)\n",
    "print(id(d),d)"
   ]
  },
  {
   "cell_type": "code",
   "execution_count": 10,
   "metadata": {},
   "outputs": [
    {
     "name": "stdout",
     "output_type": "stream",
     "text": [
      "2164909936064 [10, 20, 30, 'abc', [10, 20, 30, 'a', 'b', 'c'], 'rani']\n",
      "2164909936064 [10, 20, 30, 'abc', [10, 20, 30, 'a', 'b', 'c']]\n"
     ]
    }
   ],
   "source": [
    "d=[10, 20, 30, 'abc', [10, 20, 30, 'a', 'b', 'c'], \"rani\"]\n",
    "print(id(d),d)\n",
    "\n",
    "def u_pop(coll,index=-1):\n",
    "    if type(coll)!=list:\n",
    "        return -1\n",
    "    del coll[index]\n",
    "u_pop(d)\n",
    "print(id(d),d)"
   ]
  },
  {
   "cell_type": "code",
   "execution_count": 27,
   "metadata": {},
   "outputs": [
    {
     "name": "stdout",
     "output_type": "stream",
     "text": [
      "2105308297344 [10, 20, 30, 'abc', [10, 20, 30, 'a', 'b', 'c']]\n"
     ]
    }
   ],
   "source": [
    "d=[10, 20, 30, 'abc', [10, 20, 30, 'a', 'b', 'c'], \"rani\"]\n",
    "#print(id(d),d)\n",
    "\n",
    "def u_pop(coll):\n",
    "    if type(coll)!=list:\n",
    "        return -1\n",
    "    del coll[-1]\n",
    "u_pop(d)\n",
    "print(id(d),d)"
   ]
  },
  {
   "cell_type": "code",
   "execution_count": 34,
   "metadata": {},
   "outputs": [
    {
     "name": "stdout",
     "output_type": "stream",
     "text": [
      "2105308664832 [10, 20, 30, 'abc', [10, 20, 30, 'a', 'b', 'c'], 'raja']\n",
      "2105308664832 [20, 'abc', [10, 20, 30, 'a', 'b', 'c'], 'raja']\n"
     ]
    }
   ],
   "source": [
    "#remove\n",
    "\n",
    "d=[10, 20, 30, 'abc', [10, 20, 30, 'a', 'b', 'c'], \"raja\"]\n",
    "print(id(d),d)\n",
    "d.remove(10)\n",
    "print(id(d),d)"
   ]
  },
  {
   "cell_type": "code",
   "execution_count": 40,
   "metadata": {},
   "outputs": [
    {
     "name": "stdout",
     "output_type": "stream",
     "text": [
      "2105307152448 [10, 20, 30, 'abc', [10, 20, 30, 'a', 'b', 'c'], 'raja']\n"
     ]
    },
    {
     "ename": "ValueError",
     "evalue": "list.remove(x): x not in list",
     "output_type": "error",
     "traceback": [
      "\u001b[1;31m---------------------------------------------------------------------------\u001b[0m",
      "\u001b[1;31mValueError\u001b[0m                                Traceback (most recent call last)",
      "\u001b[1;32mc:\\Users\\lvlyl\\OneDrive\\Documents\\GitHub\\python_lalith_12\\function.ipynb Cell 79\u001b[0m line \u001b[0;36m3\n\u001b[0;32m      <a href='vscode-notebook-cell:/c%3A/Users/lvlyl/OneDrive/Documents/GitHub/python_lalith_12/function.ipynb#Y142sZmlsZQ%3D%3D?line=0'>1</a>\u001b[0m d\u001b[39m=\u001b[39m[\u001b[39m10\u001b[39m, \u001b[39m20\u001b[39m, \u001b[39m30\u001b[39m, \u001b[39m'\u001b[39m\u001b[39mabc\u001b[39m\u001b[39m'\u001b[39m, [\u001b[39m10\u001b[39m, \u001b[39m20\u001b[39m, \u001b[39m30\u001b[39m, \u001b[39m'\u001b[39m\u001b[39ma\u001b[39m\u001b[39m'\u001b[39m, \u001b[39m'\u001b[39m\u001b[39mb\u001b[39m\u001b[39m'\u001b[39m, \u001b[39m'\u001b[39m\u001b[39mc\u001b[39m\u001b[39m'\u001b[39m], \u001b[39m\"\u001b[39m\u001b[39mraja\u001b[39m\u001b[39m\"\u001b[39m]\n\u001b[0;32m      <a href='vscode-notebook-cell:/c%3A/Users/lvlyl/OneDrive/Documents/GitHub/python_lalith_12/function.ipynb#Y142sZmlsZQ%3D%3D?line=1'>2</a>\u001b[0m \u001b[39mprint\u001b[39m(\u001b[39mid\u001b[39m(d),d)\n\u001b[1;32m----> <a href='vscode-notebook-cell:/c%3A/Users/lvlyl/OneDrive/Documents/GitHub/python_lalith_12/function.ipynb#Y142sZmlsZQ%3D%3D?line=2'>3</a>\u001b[0m d\u001b[39m.\u001b[39;49mremove(\u001b[39m100\u001b[39;49m)\n\u001b[0;32m      <a href='vscode-notebook-cell:/c%3A/Users/lvlyl/OneDrive/Documents/GitHub/python_lalith_12/function.ipynb#Y142sZmlsZQ%3D%3D?line=3'>4</a>\u001b[0m \u001b[39mprint\u001b[39m(\u001b[39mid\u001b[39m(d),d)\n",
      "\u001b[1;31mValueError\u001b[0m: list.remove(x): x not in list"
     ]
    }
   ],
   "source": [
    "d=[10, 20, 30, 'abc', [10, 20, 30, 'a', 'b', 'c'], \"raja\"]\n",
    "print(id(d),d)\n",
    "d.remove(100)\n",
    "print(id(d),d)"
   ]
  },
  {
   "cell_type": "code",
   "execution_count": 47,
   "metadata": {},
   "outputs": [
    {
     "name": "stdout",
     "output_type": "stream",
     "text": [
      "2105308084032 [10, 20, 30, 'abc', [10, 20, 30, 'a', 'b', 'c'], 'raja', 30]\n",
      "-1\n",
      "2105308084032 [10, 20, 30, 'abc', [10, 20, 30, 'a', 'b', 'c'], 'raja', 30]\n"
     ]
    }
   ],
   "source": [
    "d=[10, 20, 30, 'abc', [10, 20, 30, 'a', 'b', 'c'], \"raja\",30]\n",
    "print(id(d),d)\n",
    "def u_remove(coll,ele):\n",
    "    if type(coll)!=list or ele not in coll:\n",
    "        return -1\n",
    "        \n",
    "    for i in range(0,len(coll)):\n",
    "        if ele==coll[i]:\n",
    "            del coll[i]\n",
    "            break\n",
    "            \n",
    "print(u_remove(d,900))\n",
    "print(id(d),d)             "
   ]
  },
  {
   "cell_type": "code",
   "execution_count": 49,
   "metadata": {},
   "outputs": [
    {
     "name": "stdout",
     "output_type": "stream",
     "text": [
      "2105307757632 [10, 20, 30, 'abc', [10, 20, 30, 'a', 'b', 'c'], 'raja']\n",
      "2105307757632 []\n"
     ]
    }
   ],
   "source": [
    "#clear\n",
    "d=[10, 20, 30, 'abc', [10, 20, 30, 'a', 'b', 'c'], \"raja\"]\n",
    "print(id(d),d)\n",
    "d.clear()\n",
    "print(id(d),d)"
   ]
  },
  {
   "cell_type": "code",
   "execution_count": 56,
   "metadata": {},
   "outputs": [
    {
     "name": "stdout",
     "output_type": "stream",
     "text": [
      "2105301694016 [10, 20, 30, 'abc', [10, 20, 30, 'a', 'b', 'c'], 'raja']\n",
      "2105301694016 []\n"
     ]
    }
   ],
   "source": [
    "d=[10, 20, 30, 'abc', [10, 20, 30, 'a', 'b', 'c'], \"raja\"]\n",
    "print(id(d),d)\n",
    "def u_clear(coll):\n",
    "    if type(coll)!=list:\n",
    "        return-1\n",
    "    for i in range(0,len(coll)):\n",
    "        coll[::]=[]\n",
    "        #del coll[0]\n",
    "        #del coll[-1]\n",
    "u_clear(d)\n",
    "print(id(d),d)        "
   ]
  },
  {
   "cell_type": "code",
   "execution_count": 61,
   "metadata": {},
   "outputs": [
    {
     "name": "stdout",
     "output_type": "stream",
     "text": [
      "[30, 50, 60, 40, 20, 10]\n",
      "[10, 20, 30, 40, 50, 60]\n"
     ]
    }
   ],
   "source": [
    "l=[30,50,60,40,20,10]\n",
    "print(l)\n",
    "def u_sort(coll):\n",
    "    for i in range(0,len(coll)):\n",
    "        for j in range(0,len(coll)-1):\n",
    "            if coll[j]>coll[j+1]:\n",
    "                coll[j],coll[j+1]=coll[j+1],coll[j]\n",
    "u_sort(l)\n",
    "print(l)                "
   ]
  },
  {
   "cell_type": "code",
   "execution_count": 62,
   "metadata": {},
   "outputs": [
    {
     "data": {
      "text/plain": [
       "['__add__',\n",
       " '__class__',\n",
       " '__class_getitem__',\n",
       " '__contains__',\n",
       " '__delattr__',\n",
       " '__dir__',\n",
       " '__doc__',\n",
       " '__eq__',\n",
       " '__format__',\n",
       " '__ge__',\n",
       " '__getattribute__',\n",
       " '__getitem__',\n",
       " '__getnewargs__',\n",
       " '__getstate__',\n",
       " '__gt__',\n",
       " '__hash__',\n",
       " '__init__',\n",
       " '__init_subclass__',\n",
       " '__iter__',\n",
       " '__le__',\n",
       " '__len__',\n",
       " '__lt__',\n",
       " '__mul__',\n",
       " '__ne__',\n",
       " '__new__',\n",
       " '__reduce__',\n",
       " '__reduce_ex__',\n",
       " '__repr__',\n",
       " '__rmul__',\n",
       " '__setattr__',\n",
       " '__sizeof__',\n",
       " '__str__',\n",
       " '__subclasshook__',\n",
       " 'count',\n",
       " 'index']"
      ]
     },
     "execution_count": 62,
     "metadata": {},
     "output_type": "execute_result"
    }
   ],
   "source": [
    "dir(tuple)"
   ]
  },
  {
   "cell_type": "code",
   "execution_count": 63,
   "metadata": {},
   "outputs": [
    {
     "data": {
      "text/plain": [
       "['__and__',\n",
       " '__class__',\n",
       " '__class_getitem__',\n",
       " '__contains__',\n",
       " '__delattr__',\n",
       " '__dir__',\n",
       " '__doc__',\n",
       " '__eq__',\n",
       " '__format__',\n",
       " '__ge__',\n",
       " '__getattribute__',\n",
       " '__getstate__',\n",
       " '__gt__',\n",
       " '__hash__',\n",
       " '__iand__',\n",
       " '__init__',\n",
       " '__init_subclass__',\n",
       " '__ior__',\n",
       " '__isub__',\n",
       " '__iter__',\n",
       " '__ixor__',\n",
       " '__le__',\n",
       " '__len__',\n",
       " '__lt__',\n",
       " '__ne__',\n",
       " '__new__',\n",
       " '__or__',\n",
       " '__rand__',\n",
       " '__reduce__',\n",
       " '__reduce_ex__',\n",
       " '__repr__',\n",
       " '__ror__',\n",
       " '__rsub__',\n",
       " '__rxor__',\n",
       " '__setattr__',\n",
       " '__sizeof__',\n",
       " '__str__',\n",
       " '__sub__',\n",
       " '__subclasshook__',\n",
       " '__xor__',\n",
       " 'add',\n",
       " 'clear',\n",
       " 'copy',\n",
       " 'difference',\n",
       " 'difference_update',\n",
       " 'discard',\n",
       " 'intersection',\n",
       " 'intersection_update',\n",
       " 'isdisjoint',\n",
       " 'issubset',\n",
       " 'issuperset',\n",
       " 'pop',\n",
       " 'remove',\n",
       " 'symmetric_difference',\n",
       " 'symmetric_difference_update',\n",
       " 'union',\n",
       " 'update']"
      ]
     },
     "execution_count": 63,
     "metadata": {},
     "output_type": "execute_result"
    }
   ],
   "source": [
    "dir(set)"
   ]
  },
  {
   "cell_type": "markdown",
   "metadata": {},
   "source": [
    "set building functions"
   ]
  },
  {
   "cell_type": "code",
   "execution_count": 83,
   "metadata": {},
   "outputs": [
    {
     "name": "stdout",
     "output_type": "stream",
     "text": [
      "2105309989568 {'a', 'c', 'b'}\n",
      "2105309989568 {'a', 'f', 'c', 'b'}\n"
     ]
    }
   ],
   "source": [
    "\n",
    "#add\n",
    "s={'a','b','c'}\n",
    "print(id(s),s)\n",
    "s.add('f')\n",
    "print(id(s),s)"
   ]
  },
  {
   "cell_type": "code",
   "execution_count": 77,
   "metadata": {},
   "outputs": [
    {
     "name": "stdout",
     "output_type": "stream",
     "text": [
      "2105309987328 {'a', 'c', 'b'}\n",
      "2105309987328 {'a', 'c', 'xyz', 'b'}\n"
     ]
    }
   ],
   "source": [
    "s={'a','b','c'}\n",
    "print(id(s),s)\n",
    "\n",
    "def u_add(coll,ele):\n",
    "    if type(coll)!=set:\n",
    "        return-1\n",
    "    if type(ele) in [list,tuple,dict]:\n",
    "        return-1\n",
    "    coll|={ele}\n",
    "u_add(s,'xyz')\n",
    "print(id(s),s)    \n",
    "  "
   ]
  },
  {
   "cell_type": "code",
   "execution_count": 78,
   "metadata": {},
   "outputs": [
    {
     "name": "stdout",
     "output_type": "stream",
     "text": [
      "2105309988672 {'a', 'c', 'b'}\n",
      "2105309988672 set()\n"
     ]
    }
   ],
   "source": [
    "#clear\n",
    "s={'a','b','c'}\n",
    "print(id(s),s)\n",
    "s.clear()\n",
    "print(id(s),s)"
   ]
  },
  {
   "cell_type": "code",
   "execution_count": 80,
   "metadata": {},
   "outputs": [
    {
     "name": "stdout",
     "output_type": "stream",
     "text": [
      "2105309989568 {'a', 'c', 'b'}\n",
      "2105309989568 set()\n"
     ]
    }
   ],
   "source": [
    "s={'a','b','c'}\n",
    "print(id(s),s)\n",
    "\n",
    "def u_clear(coll):\n",
    "    if type(coll)!=set:\n",
    "        return-1\n",
    "    coll-=coll\n",
    "u_clear(s)\n",
    "print(id(s),s) "
   ]
  },
  {
   "cell_type": "code",
   "execution_count": 2,
   "metadata": {},
   "outputs": [
    {
     "name": "stdout",
     "output_type": "stream",
     "text": [
      "2164904044896 {'c', 'e', 'd', 'b', 'a'}\n",
      "2164904044896 {'e', 'd', 'b', 'a'}\n"
     ]
    }
   ],
   "source": [
    "#pop:Randomly it will delete the value inside the set.\n",
    "\n",
    "s={'a','b','c','d','e'}\n",
    "print(id(s),s)\n",
    "s.pop()\n",
    "print(id(s),s)"
   ]
  },
  {
   "cell_type": "code",
   "execution_count": 13,
   "metadata": {},
   "outputs": [
    {
     "name": "stdout",
     "output_type": "stream",
     "text": [
      "2164904786880 {'c', 'e', 'd', 'b', 'a'}\n",
      "2164904786880 {'e', 'd', 'b', 'a'}\n"
     ]
    }
   ],
   "source": [
    "s={'a','b','c','d','e'}\n",
    "print(id(s),s)\n",
    "def u_pop(coll):\n",
    "    if type(coll)!=set:\n",
    "        return-1\n",
    "    res=list(coll)[0]\n",
    "    coll-={res}\n",
    "u_pop(s)\n",
    "print(id(s),s)    "
   ]
  },
  {
   "cell_type": "code",
   "execution_count": 17,
   "metadata": {},
   "outputs": [
    {
     "name": "stdout",
     "output_type": "stream",
     "text": [
      "2164904047136 {'c', 'e', 'd', 'b', 'a'}\n",
      "2164904047136 {'c', 'e', 'd', 'a'}\n"
     ]
    }
   ],
   "source": [
    "#remove\n",
    "s={'a','b','c','d','e'}\n",
    "print(id(s),s)\n",
    "s.remove(\"b\")\n",
    "print(id(s),s)"
   ]
  },
  {
   "cell_type": "code",
   "execution_count": 18,
   "metadata": {},
   "outputs": [
    {
     "name": "stdout",
     "output_type": "stream",
     "text": [
      "2164904786880 {'c', 'e', 'd', 'b', 'a'}\n"
     ]
    },
    {
     "ename": "KeyError",
     "evalue": "'f'",
     "output_type": "error",
     "traceback": [
      "\u001b[1;31m---------------------------------------------------------------------------\u001b[0m",
      "\u001b[1;31mKeyError\u001b[0m                                  Traceback (most recent call last)",
      "\u001b[1;32mc:\\Users\\lvlyl\\OneDrive\\Documents\\GitHub\\python_lalith_12\\function.ipynb Cell 95\u001b[0m line \u001b[0;36m3\n\u001b[0;32m      <a href='vscode-notebook-cell:/c%3A/Users/lvlyl/OneDrive/Documents/GitHub/python_lalith_12/function.ipynb#Y163sZmlsZQ%3D%3D?line=0'>1</a>\u001b[0m s\u001b[39m=\u001b[39m{\u001b[39m'\u001b[39m\u001b[39ma\u001b[39m\u001b[39m'\u001b[39m,\u001b[39m'\u001b[39m\u001b[39mb\u001b[39m\u001b[39m'\u001b[39m,\u001b[39m'\u001b[39m\u001b[39mc\u001b[39m\u001b[39m'\u001b[39m,\u001b[39m'\u001b[39m\u001b[39md\u001b[39m\u001b[39m'\u001b[39m,\u001b[39m'\u001b[39m\u001b[39me\u001b[39m\u001b[39m'\u001b[39m}\n\u001b[0;32m      <a href='vscode-notebook-cell:/c%3A/Users/lvlyl/OneDrive/Documents/GitHub/python_lalith_12/function.ipynb#Y163sZmlsZQ%3D%3D?line=1'>2</a>\u001b[0m \u001b[39mprint\u001b[39m(\u001b[39mid\u001b[39m(s),s)\n\u001b[1;32m----> <a href='vscode-notebook-cell:/c%3A/Users/lvlyl/OneDrive/Documents/GitHub/python_lalith_12/function.ipynb#Y163sZmlsZQ%3D%3D?line=2'>3</a>\u001b[0m s\u001b[39m.\u001b[39;49mremove(\u001b[39m\"\u001b[39;49m\u001b[39mf\u001b[39;49m\u001b[39m\"\u001b[39;49m)\n\u001b[0;32m      <a href='vscode-notebook-cell:/c%3A/Users/lvlyl/OneDrive/Documents/GitHub/python_lalith_12/function.ipynb#Y163sZmlsZQ%3D%3D?line=3'>4</a>\u001b[0m \u001b[39mprint\u001b[39m(\u001b[39mid\u001b[39m(s),s)\n",
      "\u001b[1;31mKeyError\u001b[0m: 'f'"
     ]
    }
   ],
   "source": [
    "s={'a','b','c','d','e'}\n",
    "print(id(s),s)\n",
    "s.remove(\"f\")\n",
    "print(id(s),s)\n"
   ]
  },
  {
   "cell_type": "code",
   "execution_count": 24,
   "metadata": {},
   "outputs": [
    {
     "name": "stdout",
     "output_type": "stream",
     "text": [
      "2164904787328 {'c', 'e', 'd', 'b', 'a'}\n",
      "None\n",
      "2164904787328 {'c', 'e', 'b', 'a'}\n"
     ]
    }
   ],
   "source": [
    "s={'a','b','c','d','e'}\n",
    "print(id(s),s)\n",
    "def u_remove(coll,ele):\n",
    "    if type(coll)!=set or ele not in coll:\n",
    "        raise KeyError(\"ele is not found\")\n",
    "    coll-={ele}\n",
    "print(u_remove(s,'d'))\n",
    "print(id(s),s)\n",
    "    \n",
    "    "
   ]
  },
  {
   "cell_type": "code",
   "execution_count": 25,
   "metadata": {},
   "outputs": [
    {
     "name": "stdout",
     "output_type": "stream",
     "text": [
      "2164910394048 {'c', 'e', 'd', 'b', 'a'}\n",
      "2164910394048 {'c', 'e', 'd', 'b', 'a'}\n"
     ]
    }
   ],
   "source": [
    "#discard\n",
    "s={'a','b','c','d','e'}\n",
    "print(id(s),s)\n",
    "s.discard('r')\n",
    "print(id(s),s)"
   ]
  },
  {
   "cell_type": "code",
   "execution_count": 39,
   "metadata": {},
   "outputs": [
    {
     "name": "stdout",
     "output_type": "stream",
     "text": [
      "2164904787328 {'c', 'e', 'd', 'b', 'a'}\n",
      "2164904787328 {'c', 'e', 'd', 'b', 'a'}\n"
     ]
    }
   ],
   "source": [
    "s={'a','b','c','d','e'}\n",
    "print(id(s),s)\n",
    "def u_discard(coll,ele):\n",
    "    if type(coll)!=set:\n",
    "        raise TypeError(\"coll should be set\")\n",
    "    coll-={ele}\n",
    "u_discard(s,'D')\n",
    "print(id(s),s)"
   ]
  },
  {
   "cell_type": "code",
   "execution_count": 34,
   "metadata": {},
   "outputs": [
    {
     "data": {
      "text/plain": [
       "False"
      ]
     },
     "execution_count": 34,
     "metadata": {},
     "output_type": "execute_result"
    }
   ],
   "source": [
    "#issuperset\n",
    "s={'a','b','c','d'}\n",
    "t={'a','b','c','e'}\n",
    "s.issuperset(t)\n"
   ]
  },
  {
   "cell_type": "code",
   "execution_count": 35,
   "metadata": {},
   "outputs": [
    {
     "data": {
      "text/plain": [
       "True"
      ]
     },
     "execution_count": 35,
     "metadata": {},
     "output_type": "execute_result"
    }
   ],
   "source": [
    "s={'a','b','c','d'}\n",
    "t={'a','b','c',}\n",
    "s.issuperset(t)"
   ]
  },
  {
   "cell_type": "code",
   "execution_count": 46,
   "metadata": {},
   "outputs": [
    {
     "name": "stdout",
     "output_type": "stream",
     "text": [
      "True\n",
      "True\n"
     ]
    }
   ],
   "source": [
    "\n",
    "s={'a','b','c','d'}\n",
    "t={'a','b','c'}\n",
    "def u_issuperset(coll1,coll2):\n",
    "    if type(coll1)!=set and type(coll2)!=set:\n",
    "        return-1\n",
    "    for i in coll2:\n",
    "        if i not in coll1:\n",
    "            return False\n",
    "    return True\n",
    "print(u_issuperset(s,t))\n",
    "print(s.issuperset(t))    \n",
    "        "
   ]
  },
  {
   "cell_type": "code",
   "execution_count": 4,
   "metadata": {},
   "outputs": [
    {
     "data": {
      "text/plain": [
       "True"
      ]
     },
     "execution_count": 4,
     "metadata": {},
     "output_type": "execute_result"
    }
   ],
   "source": [
    "#issubset\n",
    "s={'a','b','c','d','e','f'}\n",
    "t={'a','b','c','d','e'}\n",
    "t.issubset(s)\n"
   ]
  },
  {
   "cell_type": "code",
   "execution_count": 22,
   "metadata": {},
   "outputs": [
    {
     "name": "stdout",
     "output_type": "stream",
     "text": [
      "True\n",
      "True\n"
     ]
    }
   ],
   "source": [
    "s={'a','b','c','d','e','f'}\n",
    "t={'a','b','c','d','e'}\n",
    "def u_issubset(coll1,coll2):\n",
    "    if type(coll1)!=set and type(coll2)!=set:\n",
    "        return-1\n",
    "    for i in coll1:\n",
    "        if i not in coll2:\n",
    "            return False\n",
    "            \n",
    "    return True\n",
    "print(u_issubset(t,s))\n",
    "print(t.issubset(s))  "
   ]
  },
  {
   "cell_type": "code",
   "execution_count": 48,
   "metadata": {},
   "outputs": [
    {
     "data": {
      "text/plain": [
       "True"
      ]
     },
     "execution_count": 48,
     "metadata": {},
     "output_type": "execute_result"
    }
   ],
   "source": [
    "#isdisjoint\n",
    "s={'a','b','c','d'}\n",
    "t={'e','f','g'}\n",
    "s.isdisjoint(t)\n"
   ]
  },
  {
   "cell_type": "code",
   "execution_count": 50,
   "metadata": {},
   "outputs": [
    {
     "name": "stdout",
     "output_type": "stream",
     "text": [
      "True\n",
      "True\n"
     ]
    }
   ],
   "source": [
    "s={'a','b','c','d'}\n",
    "t={'e','f','g'}\n",
    "def u_isdisjoint(coll1,coll2):\n",
    "    if type(coll1)!=set and type(coll2)!=set:\n",
    "        return-1\n",
    "    for i in coll2:\n",
    "        if i in coll1:\n",
    "            return False\n",
    "    return True\n",
    "print(u_isdisjoint(s,t))\n",
    "print(s.isdisjoint(t))    "
   ]
  },
  {
   "cell_type": "markdown",
   "metadata": {},
   "source": [
    "Dict building functios"
   ]
  },
  {
   "cell_type": "code",
   "execution_count": 51,
   "metadata": {},
   "outputs": [
    {
     "data": {
      "text/plain": [
       "['__class__',\n",
       " '__class_getitem__',\n",
       " '__contains__',\n",
       " '__delattr__',\n",
       " '__delitem__',\n",
       " '__dir__',\n",
       " '__doc__',\n",
       " '__eq__',\n",
       " '__format__',\n",
       " '__ge__',\n",
       " '__getattribute__',\n",
       " '__getitem__',\n",
       " '__getstate__',\n",
       " '__gt__',\n",
       " '__hash__',\n",
       " '__init__',\n",
       " '__init_subclass__',\n",
       " '__ior__',\n",
       " '__iter__',\n",
       " '__le__',\n",
       " '__len__',\n",
       " '__lt__',\n",
       " '__ne__',\n",
       " '__new__',\n",
       " '__or__',\n",
       " '__reduce__',\n",
       " '__reduce_ex__',\n",
       " '__repr__',\n",
       " '__reversed__',\n",
       " '__ror__',\n",
       " '__setattr__',\n",
       " '__setitem__',\n",
       " '__sizeof__',\n",
       " '__str__',\n",
       " '__subclasshook__',\n",
       " 'clear',\n",
       " 'copy',\n",
       " 'fromkeys',\n",
       " 'get',\n",
       " 'items',\n",
       " 'keys',\n",
       " 'pop',\n",
       " 'popitem',\n",
       " 'setdefault',\n",
       " 'update',\n",
       " 'values']"
      ]
     },
     "execution_count": 51,
     "metadata": {},
     "output_type": "execute_result"
    }
   ],
   "source": [
    "dir(dict)\n"
   ]
  },
  {
   "cell_type": "code",
   "execution_count": 54,
   "metadata": {},
   "outputs": [
    {
     "name": "stdout",
     "output_type": "stream",
     "text": [
      "2164910061312 {'a': 10, 'b': 20, 'c': 30}\n",
      "2164910061312 {}\n"
     ]
    }
   ],
   "source": [
    "#clear\n",
    "s={'a':10,'b':20,'c':30}\n",
    "print(id(s),s)\n",
    "s.clear()\n",
    "print(id(s),s)"
   ]
  },
  {
   "cell_type": "code",
   "execution_count": 62,
   "metadata": {},
   "outputs": [
    {
     "name": "stdout",
     "output_type": "stream",
     "text": [
      "2164909814208 {'a': 10, 'b': 20, 'c': 30}\n",
      "2164909814208 {}\n"
     ]
    }
   ],
   "source": [
    "s={'a':10,'b':20,'c':30}\n",
    "print(id(s),s)\n",
    "def u_clear(coll):\n",
    "    if type(coll)!=dict:\n",
    "        return-1\n",
    "    keys=list(coll)\n",
    "    for i in keys:\n",
    "        del coll[i]\n",
    "u_clear(s)\n",
    "print(id(s),s)        \n",
    "    "
   ]
  },
  {
   "cell_type": "code",
   "execution_count": 63,
   "metadata": {},
   "outputs": [
    {
     "name": "stdout",
     "output_type": "stream",
     "text": [
      "2164910318848 {'a': 10, 'b': 20, 'c': 30}\n",
      "2164909814208 {'a': 10, 'b': 20, 'c': 30}\n"
     ]
    }
   ],
   "source": [
    "#copy\n",
    "s={'a':10,'b':20,'c':30}\n",
    "print(id(s),s)\n",
    "t=s.copy()\n",
    "print(id(t),t)"
   ]
  },
  {
   "cell_type": "code",
   "execution_count": 65,
   "metadata": {},
   "outputs": [
    {
     "name": "stdout",
     "output_type": "stream",
     "text": [
      "2164904161216 {'a': 10, 'b': 20, 'c': 30}\n",
      "2164904160000 {'a': 10, 'b': 20, 'c': 30}\n"
     ]
    }
   ],
   "source": [
    "s={'a':10,'b':20,'c':30}\n",
    "print(id(s),s)\n",
    "def u_copy(coll):\n",
    "    if type(coll)!=dict:\n",
    "        return-1\n",
    "    temp={}\n",
    "    for i in coll:\n",
    "        temp[i]=coll[i]\n",
    "    return temp\n",
    "d=u_copy(s)    \n",
    "print(id(d),d)"
   ]
  },
  {
   "cell_type": "code",
   "execution_count": 72,
   "metadata": {},
   "outputs": [
    {
     "name": "stdout",
     "output_type": "stream",
     "text": [
      "2164909944000 {'a': 10, 'b': 20, 'c': 30}\n",
      "10\n",
      "10\n"
     ]
    }
   ],
   "source": [
    "#get\n",
    "s={'a':10,'b':20,'c':30}\n",
    "print(id(s),s)\n",
    "print(s.get('a'))\n",
    "print(s['a'])\n"
   ]
  },
  {
   "cell_type": "code",
   "execution_count": 73,
   "metadata": {},
   "outputs": [
    {
     "name": "stdout",
     "output_type": "stream",
     "text": [
      "2164882382784 {'a': 10, 'b': 20, 'c': 30}\n",
      "None\n"
     ]
    },
    {
     "ename": "KeyError",
     "evalue": "'e'",
     "output_type": "error",
     "traceback": [
      "\u001b[1;31m---------------------------------------------------------------------------\u001b[0m",
      "\u001b[1;31mKeyError\u001b[0m                                  Traceback (most recent call last)",
      "\u001b[1;32mc:\\Users\\lvlyl\\OneDrive\\Documents\\GitHub\\python_lalith_12\\function.ipynb Cell 113\u001b[0m line \u001b[0;36m4\n\u001b[0;32m      <a href='vscode-notebook-cell:/c%3A/Users/lvlyl/OneDrive/Documents/GitHub/python_lalith_12/function.ipynb#Y224sZmlsZQ%3D%3D?line=1'>2</a>\u001b[0m \u001b[39mprint\u001b[39m(\u001b[39mid\u001b[39m(s),s)\n\u001b[0;32m      <a href='vscode-notebook-cell:/c%3A/Users/lvlyl/OneDrive/Documents/GitHub/python_lalith_12/function.ipynb#Y224sZmlsZQ%3D%3D?line=2'>3</a>\u001b[0m \u001b[39mprint\u001b[39m(s\u001b[39m.\u001b[39mget(\u001b[39m'\u001b[39m\u001b[39me\u001b[39m\u001b[39m'\u001b[39m))\n\u001b[1;32m----> <a href='vscode-notebook-cell:/c%3A/Users/lvlyl/OneDrive/Documents/GitHub/python_lalith_12/function.ipynb#Y224sZmlsZQ%3D%3D?line=3'>4</a>\u001b[0m \u001b[39mprint\u001b[39m(s[\u001b[39m'\u001b[39;49m\u001b[39me\u001b[39;49m\u001b[39m'\u001b[39;49m])\n",
      "\u001b[1;31mKeyError\u001b[0m: 'e'"
     ]
    }
   ],
   "source": [
    "s={'a':10,'b':20,'c':30}\n",
    "print(id(s),s)\n",
    "print(s.get('e'))\n",
    "print(s['e'])"
   ]
  },
  {
   "cell_type": "code",
   "execution_count": 77,
   "metadata": {},
   "outputs": [
    {
     "name": "stdout",
     "output_type": "stream",
     "text": [
      "2164910692608 {'a': 10, 'b': 20, 'c': 30}\n",
      "10\n",
      "2164910692608 {'b': 20, 'c': 30}\n"
     ]
    }
   ],
   "source": [
    "#pop\n",
    "s={'a':10,'b':20,'c':30}\n",
    "print(id(s),s)\n",
    "print(s.pop('a'))\n",
    "print(id(s),s)"
   ]
  },
  {
   "cell_type": "code",
   "execution_count": 84,
   "metadata": {},
   "outputs": [
    {
     "name": "stdout",
     "output_type": "stream",
     "text": [
      "2164910975808 {'a': 10, 'b': 20, 'c': 30}\n",
      "10\n",
      "2164910975808 {'b': 20, 'c': 30}\n"
     ]
    }
   ],
   "source": [
    "s={'a':10,'b':20,'c':30}\n",
    "print(id(s),s)\n",
    "def u_pop(coll,key):\n",
    "    if type(coll)!=dict or type(key) in [list,set,dict]:\n",
    "        return-1\n",
    "    res=coll[key]\n",
    "    del coll[key]\n",
    "    return res\n",
    "r=u_pop(s,'a')\n",
    "print(r)\n",
    "print(id(s),s)"
   ]
  },
  {
   "cell_type": "code",
   "execution_count": 86,
   "metadata": {},
   "outputs": [
    {
     "name": "stdout",
     "output_type": "stream",
     "text": [
      "2164910710272 {'a': 10, 'b': 20, 'c': 30}\n",
      "('c', 30)\n",
      "2164910710272 {'a': 10, 'b': 20}\n"
     ]
    }
   ],
   "source": [
    "#popitem\n",
    "s={'a':10,'b':20,'c':30}\n",
    "print(id(s),s)\n",
    "print(s.popitem())\n",
    "print(id(s),s)\n"
   ]
  },
  {
   "cell_type": "code",
   "execution_count": 89,
   "metadata": {},
   "outputs": [
    {
     "name": "stdout",
     "output_type": "stream",
     "text": [
      "2164911905920 {'a': 10, 'b': 20, 'c': 30}\n",
      "('c', 30)\n",
      "2164911905920 {'a': 10, 'b': 20}\n"
     ]
    }
   ],
   "source": [
    "s={'a':10,'b':20,'c':30}\n",
    "print(id(s),s)\n",
    "def u_popitem(coll):\n",
    "    if type(coll)!=dict:\n",
    "        return-1\n",
    "    key=list(coll)[-1]\n",
    "    val= coll[key]\n",
    "    del coll[key]\n",
    "    return(key,val)\n",
    "print(u_popitem(s))\n",
    "print(id(s),s)\n"
   ]
  },
  {
   "cell_type": "code",
   "execution_count": 90,
   "metadata": {},
   "outputs": [
    {
     "name": "stdout",
     "output_type": "stream",
     "text": [
      "2164910085632 {'a': 10, 'b': 20, 'c': 30}\n",
      "2164910085632 {'a': 10, 'b': 20, 'c': 30, 'd': 40}\n"
     ]
    }
   ],
   "source": [
    "#update\n",
    "s={'a':10,'b':20,'c':30}\n",
    "print(id(s),s)\n",
    "s.update({'d':40})\n",
    "print(id(s),s)"
   ]
  },
  {
   "cell_type": "code",
   "execution_count": 91,
   "metadata": {},
   "outputs": [
    {
     "name": "stdout",
     "output_type": "stream",
     "text": [
      "2164911913216 {'a': 10, 'b': 20, 'c': 30}\n",
      "2164911913216 {'a': 10, 'b': 20, 'c': 30, 'd': 40}\n"
     ]
    }
   ],
   "source": [
    "s={'a':10,'b':20,'c':30}\n",
    "print(id(s),s)\n",
    "def u_update(coll,ele):\n",
    "    if type(coll)!=dict or type(ele)!=dict:\n",
    "        return-1\n",
    "    coll|=ele\n",
    "    \n",
    "u_update(s,{'d':40})\n",
    "print(id(s),s)\n"
   ]
  },
  {
   "cell_type": "markdown",
   "metadata": {},
   "source": [
    "packing and Unpacking"
   ]
  },
  {
   "cell_type": "code",
   "execution_count": 1,
   "metadata": {},
   "outputs": [
    {
     "name": "stdout",
     "output_type": "stream",
     "text": [
      "(10, 20, 30, 40)\n",
      "{'a': 10, 'b': 20, 'c': 30, 'd': 40}\n"
     ]
    }
   ],
   "source": [
    "#packing.\n",
    "\n",
    "def sample(*args):     #userdefine tuple packing\n",
    "    print(args)\n",
    "sample(10,20,30,40)    \n",
    "\n",
    "\n",
    "def demo(**kwargs):     #userdefine dict packing\n",
    "    print(kwargs)\n",
    "demo(a=10,b=20,c=30,d=40)    \n",
    "    "
   ]
  },
  {
   "cell_type": "code",
   "execution_count": 6,
   "metadata": {},
   "outputs": [
    {
     "name": "stdout",
     "output_type": "stream",
     "text": [
      "(10, 20, 30, 40)\n",
      "{}\n",
      "--------------------\n",
      "()\n",
      "{'a': 10, 'b': 20, 'c': 30, 'd': 40}\n",
      "--------------------\n",
      "(10, 20, 30)\n",
      "{'x': 50, 'y': 60, 'z': 70}\n",
      "--------------------\n"
     ]
    }
   ],
   "source": [
    "def sample(*args,**kwargs):   #userdefine tuple/dict packing\n",
    "    print(args)\n",
    "    print(kwargs)\n",
    "sample(10,20,30,40)\n",
    "print(\"--\"*10)\n",
    "sample(a=10,b=20,c=30,d=40) \n",
    "print(\"--\"*10)   \n",
    "sample(10,20,30,x=50,y=60,z=70)\n",
    "print(\"--\"*10)"
   ]
  },
  {
   "cell_type": "code",
   "execution_count": 35,
   "metadata": {},
   "outputs": [
    {
     "name": "stdout",
     "output_type": "stream",
     "text": [
      "10 20 30 40\n",
      "M N O P\n",
      "100 200 300 400\n"
     ]
    }
   ],
   "source": [
    "#unpacking.\n",
    "\n",
    "t=(10,20,30,40)                  #userdefine tuple unpacking\n",
    "def sample(M,N,O,P):\n",
    "    print(M,N,O,P)\n",
    "sample(*t)   \n",
    "\n",
    "\n",
    "t={'M':100,'N':200,'O':300,'P':400}                 #userdefine dict unpacking\n",
    "def sample(M,N,O,P):\n",
    "    print(M,N,O,P)\n",
    "sample(*t)\n",
    "\n",
    "\n",
    "t={'M':100,'N':200,'O':300,'P':400}\n",
    "def sample(M,N,O,P):\n",
    "    print(M,N,O,P)\n",
    "sample(**t)\n",
    " "
   ]
  },
  {
   "cell_type": "code",
   "execution_count": 12,
   "metadata": {},
   "outputs": [
    {
     "ename": "TypeError",
     "evalue": "sample() missing 1 required positional argument: 't'",
     "output_type": "error",
     "traceback": [
      "\u001b[1;31m---------------------------------------------------------------------------\u001b[0m",
      "\u001b[1;31mTypeError\u001b[0m                                 Traceback (most recent call last)",
      "\u001b[1;32mc:\\Users\\lvlyl\\OneDrive\\Documents\\GitHub\\python_lalith_12\\function.ipynb Cell 124\u001b[0m line \u001b[0;36m4\n\u001b[0;32m      <a href='vscode-notebook-cell:/c%3A/Users/lvlyl/OneDrive/Documents/GitHub/python_lalith_12/function.ipynb#Y234sZmlsZQ%3D%3D?line=1'>2</a>\u001b[0m \u001b[39mdef\u001b[39;00m \u001b[39msample\u001b[39m(M,N,O,P,t):\n\u001b[0;32m      <a href='vscode-notebook-cell:/c%3A/Users/lvlyl/OneDrive/Documents/GitHub/python_lalith_12/function.ipynb#Y234sZmlsZQ%3D%3D?line=2'>3</a>\u001b[0m     \u001b[39mprint\u001b[39m(M,N,O,P,t)\n\u001b[1;32m----> <a href='vscode-notebook-cell:/c%3A/Users/lvlyl/OneDrive/Documents/GitHub/python_lalith_12/function.ipynb#Y234sZmlsZQ%3D%3D?line=3'>4</a>\u001b[0m sample(\u001b[39m*\u001b[39;49mt)   \n",
      "\u001b[1;31mTypeError\u001b[0m: sample() missing 1 required positional argument: 't'"
     ]
    }
   ],
   "source": [
    "t=(10,20,30,40)                  #userdefine tuple unpacking\n",
    "def sample(M,N,O,P,t):\n",
    "    print(M,N,O,P,t)\n",
    "sample(*t)   \n"
   ]
  },
  {
   "cell_type": "code",
   "execution_count": 13,
   "metadata": {},
   "outputs": [
    {
     "name": "stdout",
     "output_type": "stream",
     "text": [
      "10 20 30 40 None\n"
     ]
    }
   ],
   "source": [
    "t=(10,20,30,40)                  #userdefine tuple unpacking\n",
    "def sample(M,N,O,P,t=None):\n",
    "    print(M,N,O,P,t)\n",
    "sample(*t)   \n"
   ]
  },
  {
   "cell_type": "code",
   "execution_count": 14,
   "metadata": {},
   "outputs": [
    {
     "ename": "TypeError",
     "evalue": "sample() takes 4 positional arguments but 5 were given",
     "output_type": "error",
     "traceback": [
      "\u001b[1;31m---------------------------------------------------------------------------\u001b[0m",
      "\u001b[1;31mTypeError\u001b[0m                                 Traceback (most recent call last)",
      "\u001b[1;32mc:\\Users\\lvlyl\\OneDrive\\Documents\\GitHub\\python_lalith_12\\function.ipynb Cell 126\u001b[0m line \u001b[0;36m4\n\u001b[0;32m      <a href='vscode-notebook-cell:/c%3A/Users/lvlyl/OneDrive/Documents/GitHub/python_lalith_12/function.ipynb#Y236sZmlsZQ%3D%3D?line=1'>2</a>\u001b[0m \u001b[39mdef\u001b[39;00m \u001b[39msample\u001b[39m(M,N,O,P):\n\u001b[0;32m      <a href='vscode-notebook-cell:/c%3A/Users/lvlyl/OneDrive/Documents/GitHub/python_lalith_12/function.ipynb#Y236sZmlsZQ%3D%3D?line=2'>3</a>\u001b[0m     \u001b[39mprint\u001b[39m(M,N,O,P)\n\u001b[1;32m----> <a href='vscode-notebook-cell:/c%3A/Users/lvlyl/OneDrive/Documents/GitHub/python_lalith_12/function.ipynb#Y236sZmlsZQ%3D%3D?line=3'>4</a>\u001b[0m sample(\u001b[39m*\u001b[39;49mt)  \n",
      "\u001b[1;31mTypeError\u001b[0m: sample() takes 4 positional arguments but 5 were given"
     ]
    }
   ],
   "source": [
    "t=(10,20,30,40,50)                  #userdefine tuple unpacking\n",
    "def sample(M,N,O,P):\n",
    "    print(M,N,O,P)\n",
    "sample(*t)  "
   ]
  },
  {
   "cell_type": "code",
   "execution_count": 15,
   "metadata": {},
   "outputs": [
    {
     "name": "stdout",
     "output_type": "stream",
     "text": [
      "10 20 30 40 (50, 60, 70)\n"
     ]
    }
   ],
   "source": [
    "t=(10,20,30,40,50,60,70)                  #userdefine tuple unpacking\n",
    "def sample(M,N,O,P,*args):\n",
    "    print(M,N,O,P,args)\n",
    "sample(*t)"
   ]
  },
  {
   "cell_type": "code",
   "execution_count": 16,
   "metadata": {},
   "outputs": [
    {
     "name": "stdout",
     "output_type": "stream",
     "text": [
      "100 200 300 400\n"
     ]
    }
   ],
   "source": [
    "\n",
    "t={'M':100,'N':200,'O':300,'P':400}                 #userdefine dict unpacking\n",
    "def sample(M,N,O,P):\n",
    "    print(M,N,O,P)\n",
    "sample(**t)\n"
   ]
  },
  {
   "cell_type": "code",
   "execution_count": 17,
   "metadata": {},
   "outputs": [
    {
     "ename": "TypeError",
     "evalue": "sample() got an unexpected keyword argument 'P'",
     "output_type": "error",
     "traceback": [
      "\u001b[1;31m---------------------------------------------------------------------------\u001b[0m",
      "\u001b[1;31mTypeError\u001b[0m                                 Traceback (most recent call last)",
      "\u001b[1;32mc:\\Users\\lvlyl\\OneDrive\\Documents\\GitHub\\python_lalith_12\\function.ipynb Cell 129\u001b[0m line \u001b[0;36m4\n\u001b[0;32m      <a href='vscode-notebook-cell:/c%3A/Users/lvlyl/OneDrive/Documents/GitHub/python_lalith_12/function.ipynb#Y242sZmlsZQ%3D%3D?line=1'>2</a>\u001b[0m \u001b[39mdef\u001b[39;00m \u001b[39msample\u001b[39m(M,N,O,p):\n\u001b[0;32m      <a href='vscode-notebook-cell:/c%3A/Users/lvlyl/OneDrive/Documents/GitHub/python_lalith_12/function.ipynb#Y242sZmlsZQ%3D%3D?line=2'>3</a>\u001b[0m     \u001b[39mprint\u001b[39m(M,N,O,p)\n\u001b[1;32m----> <a href='vscode-notebook-cell:/c%3A/Users/lvlyl/OneDrive/Documents/GitHub/python_lalith_12/function.ipynb#Y242sZmlsZQ%3D%3D?line=3'>4</a>\u001b[0m sample(\u001b[39m*\u001b[39;49m\u001b[39m*\u001b[39;49mt)\n",
      "\u001b[1;31mTypeError\u001b[0m: sample() got an unexpected keyword argument 'P'"
     ]
    }
   ],
   "source": [
    "t={'M':100,'N':200,'O':300,'P':400}                 #userdefine dict unpacking\n",
    "def sample(M,N,O,p):\n",
    "    print(M,N,O,p)\n",
    "sample(**t)\n"
   ]
  },
  {
   "cell_type": "code",
   "execution_count": 18,
   "metadata": {},
   "outputs": [
    {
     "ename": "TypeError",
     "evalue": "sample() got an unexpected keyword argument 'P'",
     "output_type": "error",
     "traceback": [
      "\u001b[1;31m---------------------------------------------------------------------------\u001b[0m",
      "\u001b[1;31mTypeError\u001b[0m                                 Traceback (most recent call last)",
      "\u001b[1;32mc:\\Users\\lvlyl\\OneDrive\\Documents\\GitHub\\python_lalith_12\\function.ipynb Cell 130\u001b[0m line \u001b[0;36m4\n\u001b[0;32m      <a href='vscode-notebook-cell:/c%3A/Users/lvlyl/OneDrive/Documents/GitHub/python_lalith_12/function.ipynb#Y243sZmlsZQ%3D%3D?line=1'>2</a>\u001b[0m \u001b[39mdef\u001b[39;00m \u001b[39msample\u001b[39m(M,N,O):\n\u001b[0;32m      <a href='vscode-notebook-cell:/c%3A/Users/lvlyl/OneDrive/Documents/GitHub/python_lalith_12/function.ipynb#Y243sZmlsZQ%3D%3D?line=2'>3</a>\u001b[0m     \u001b[39mprint\u001b[39m(M,N,O)\n\u001b[1;32m----> <a href='vscode-notebook-cell:/c%3A/Users/lvlyl/OneDrive/Documents/GitHub/python_lalith_12/function.ipynb#Y243sZmlsZQ%3D%3D?line=3'>4</a>\u001b[0m sample(\u001b[39m*\u001b[39;49m\u001b[39m*\u001b[39;49mt)\n",
      "\u001b[1;31mTypeError\u001b[0m: sample() got an unexpected keyword argument 'P'"
     ]
    }
   ],
   "source": [
    "t={'M':100,'N':200,'O':300,'P':400}                 #userdefine dict unpacking\n",
    "def sample(M,N,O):\n",
    "    print(M,N,O)\n",
    "sample(**t)"
   ]
  },
  {
   "cell_type": "code",
   "execution_count": 20,
   "metadata": {},
   "outputs": [
    {
     "name": "stdout",
     "output_type": "stream",
     "text": [
      "100 200 300 {'P': 400}\n"
     ]
    }
   ],
   "source": [
    "t={'M':100,'N':200,'O':300,'P':400}                 #userdefine dict unpacking\n",
    "def sample(M,N,O,**kwargs):\n",
    "    print(M,N,O,kwargs)\n",
    "sample(**t)"
   ]
  },
  {
   "cell_type": "code",
   "execution_count": 22,
   "metadata": {},
   "outputs": [
    {
     "ename": "TypeError",
     "evalue": "sample() missing 1 required positional argument: 'T'",
     "output_type": "error",
     "traceback": [
      "\u001b[1;31m---------------------------------------------------------------------------\u001b[0m",
      "\u001b[1;31mTypeError\u001b[0m                                 Traceback (most recent call last)",
      "\u001b[1;32mc:\\Users\\lvlyl\\OneDrive\\Documents\\GitHub\\python_lalith_12\\function.ipynb Cell 132\u001b[0m line \u001b[0;36m4\n\u001b[0;32m      <a href='vscode-notebook-cell:/c%3A/Users/lvlyl/OneDrive/Documents/GitHub/python_lalith_12/function.ipynb#Y245sZmlsZQ%3D%3D?line=1'>2</a>\u001b[0m \u001b[39mdef\u001b[39;00m \u001b[39msample\u001b[39m(M,N,O,P,T):\n\u001b[0;32m      <a href='vscode-notebook-cell:/c%3A/Users/lvlyl/OneDrive/Documents/GitHub/python_lalith_12/function.ipynb#Y245sZmlsZQ%3D%3D?line=2'>3</a>\u001b[0m     \u001b[39mprint\u001b[39m(M,N,O,P,T)\n\u001b[1;32m----> <a href='vscode-notebook-cell:/c%3A/Users/lvlyl/OneDrive/Documents/GitHub/python_lalith_12/function.ipynb#Y245sZmlsZQ%3D%3D?line=3'>4</a>\u001b[0m sample(\u001b[39m*\u001b[39;49m\u001b[39m*\u001b[39;49mt)\n",
      "\u001b[1;31mTypeError\u001b[0m: sample() missing 1 required positional argument: 'T'"
     ]
    }
   ],
   "source": [
    "t={'M':100,'N':200,'O':300,'P':400}                 #userdefine dict unpacking\n",
    "def sample(M,N,O,P,T):\n",
    "    print(M,N,O,P,T)\n",
    "sample(**t)"
   ]
  },
  {
   "cell_type": "code",
   "execution_count": 23,
   "metadata": {},
   "outputs": [
    {
     "name": "stdout",
     "output_type": "stream",
     "text": [
      "100 200 300 400 None\n"
     ]
    }
   ],
   "source": [
    "t={'M':100,'N':200,'O':300,'P':400}                 #userdefine dict unpacking\n",
    "def sample(M,N,O,P,T=None):\n",
    "    print(M,N,O,P,T)\n",
    "sample(**t)"
   ]
  },
  {
   "cell_type": "code",
   "execution_count": 32,
   "metadata": {},
   "outputs": [
    {
     "name": "stdout",
     "output_type": "stream",
     "text": [
      "10 20\n",
      "100 200\n"
     ]
    }
   ],
   "source": [
    "# nested function:It is phenomenon of function inside another function is knows as nested function.\n",
    "\n",
    "# syntax:\n",
    "\n",
    "# def main(args):\n",
    "#     set of statements\n",
    "#     def sub(args):\n",
    "#         set of statement\n",
    "#         retun/print\n",
    "#     sub(args)\n",
    "#     return/print\n",
    "# main(args)\n",
    "\n",
    "\n",
    "\n",
    "\n",
    "\n",
    "\n",
    "def main(x,y):\n",
    "    print(x,y)\n",
    "    def sub(m,n):\n",
    "        print(m,n)\n",
    "    #return sub    \n",
    "    sub(100,200)\n",
    "main(10,20) "
   ]
  },
  {
   "cell_type": "code",
   "execution_count": 31,
   "metadata": {},
   "outputs": [
    {
     "name": "stdout",
     "output_type": "stream",
     "text": [
      "10 20\n",
      "<function main.<locals>.sub at 0x000001AEF89C3BA0>\n",
      "100 200\n"
     ]
    }
   ],
   "source": [
    "def main(x,y):\n",
    "    print(x,y)\n",
    "    def sub(m,n):\n",
    "        print(m,n)\n",
    "    return sub    \n",
    "    #sub(100,200)\n",
    "res=main(10,20) \n",
    "print(res) \n",
    "res(100,200)"
   ]
  },
  {
   "cell_type": "code",
   "execution_count": 33,
   "metadata": {},
   "outputs": [
    {
     "name": "stdout",
     "output_type": "stream",
     "text": [
      "10 20\n",
      "<function main.<locals>.sub at 0x000001AEF89C36A0>\n",
      "<function main.<locals>.sub at 0x000001AEF89C36A0>\n",
      "100 200\n"
     ]
    }
   ],
   "source": [
    "def main(x,y):\n",
    "    print(x,y)\n",
    "    def sub(m,n):\n",
    "        print(m,n)\n",
    "    print(sub)    \n",
    "    return sub    \n",
    "res=main(10,20) \n",
    "print(res) \n",
    "res(100,200)"
   ]
  },
  {
   "cell_type": "markdown",
   "metadata": {},
   "source": [
    "decoratores"
   ]
  },
  {
   "cell_type": "markdown",
   "metadata": {},
   "source": [
    "decorators : \n",
    "  .it is the phenomena of new functionalities to the addiong new functionalities to the existing function \n",
    "  .decorator is a fumction used to do the additional set of properties or features or functionalities to the other function or class \n",
    "  .decorator is a function which cxan takes a function address as a argument and extends it functionalities and return a modified function with extended functionalites\n",
    "  .the mai objective of decorator function it can extend the functionalities of existing function or class with out modifiying the main functionality for functions or classes \n",
    "  .it is classified into two types \n",
    "     1.pre defined decorator\n",
    "     2.user defined decorator\n",
    "  .decorator we represented as @ followed by decorator function name \n",
    "syntax:\n",
    "decorator with out return statements \n",
    "def order (func/class):\n",
    "     def inner (args/*kwargs):\n",
    "           before task\n",
    "           func(args,*kwargs)\n",
    "           after fast \n",
    "    return inner \n",
    "syntax:\n",
    "with return syntax\n",
    "def order (func/class):\n",
    "  def inner (args,*kwargs):\n",
    "     before task\n",
    "     restart=func/class(args,*kwarg)\n",
    "     after task\n",
    "     return result\n",
    "  return inner"
   ]
  },
  {
   "cell_type": "code",
   "execution_count": 8,
   "metadata": {},
   "outputs": [],
   "source": [
    "def main(fun):\n",
    "    def sub(*args,**kwargs):\n",
    "        print(\"haii\")\n",
    "        fun(*args,**kwargs)\n",
    "        print(\"bye\")\n",
    "    return sub    "
   ]
  },
  {
   "cell_type": "code",
   "execution_count": 9,
   "metadata": {},
   "outputs": [
    {
     "name": "stdout",
     "output_type": "stream",
     "text": [
      "haii\n",
      "good afternoon\n",
      "bye\n"
     ]
    }
   ],
   "source": [
    "@main\n",
    "def dec():\n",
    "    print(\"good afternoon\")\n",
    "dec()    "
   ]
  },
  {
   "cell_type": "code",
   "execution_count": 3,
   "metadata": {},
   "outputs": [],
   "source": [
    "def main(fun):\n",
    "    def sub(*args,**kwargs):\n",
    "        print(\"haii\")\n",
    "        fun(*args,**kwargs)\n",
    "        print(\"bye\")\n",
    "    return sub  "
   ]
  },
  {
   "cell_type": "code",
   "execution_count": 2,
   "metadata": {},
   "outputs": [
    {
     "name": "stdout",
     "output_type": "stream",
     "text": [
      "haii\n",
      "30 good afternoon\n",
      "bye\n"
     ]
    }
   ],
   "source": [
    "def dec(a,b):\n",
    "    print(a+b,\"good afternoon\")\n",
    "dec=main(dec)\n",
    "dec(10,20)"
   ]
  },
  {
   "cell_type": "code",
   "execution_count": 12,
   "metadata": {},
   "outputs": [
    {
     "name": "stdout",
     "output_type": "stream",
     "text": [
      "haii\n",
      "30 good afternoon\n",
      "bye\n"
     ]
    }
   ],
   "source": [
    "@main\n",
    "def dec(a,b):\n",
    "    print(a+b,\"good afternoon\")\n",
    "dec(10,20)    "
   ]
  },
  {
   "cell_type": "code",
   "execution_count": 18,
   "metadata": {},
   "outputs": [],
   "source": [
    "def main(fun):\n",
    "    def sub(*args,**kwargs):\n",
    "        print(\"haii\")\n",
    "        res=fun(*args,**kwargs)\n",
    "        print(\"bye\")\n",
    "        return res\n",
    "    return sub  "
   ]
  },
  {
   "cell_type": "code",
   "execution_count": 19,
   "metadata": {},
   "outputs": [
    {
     "name": "stdout",
     "output_type": "stream",
     "text": [
      "haii\n",
      "bye\n"
     ]
    },
    {
     "data": {
      "text/plain": [
       "(30, 'good afternoon')"
      ]
     },
     "execution_count": 19,
     "metadata": {},
     "output_type": "execute_result"
    }
   ],
   "source": [
    "@main\n",
    "def dec(a,b):\n",
    "    return a+b,\"good afternoon\"\n",
    "dec(10,20) "
   ]
  },
  {
   "cell_type": "code",
   "execution_count": 4,
   "metadata": {},
   "outputs": [],
   "source": [
    "def check_prime(fun):\n",
    "    def sub(*args,**kwargs):\n",
    "        d={2:True,3:True,5:True,7:True,11:True,13:True,17:True,97:True,4:False,6:False,8:False,10:False}\n",
    "        count=1\n",
    "        rating=0\n",
    "        for i in d:\n",
    "            if fun(i)==d[i]:\n",
    "                res=f\"testcase{count}  ==> input is{i} output is passed\"\n",
    "                print(res)\n",
    "                count+=1\n",
    "                rating+=1\n",
    "            else:\n",
    "                res=f\"testcase{count}  ==> input is{i} output is failed\"\n",
    "                print(res)\n",
    "                count+=1\n",
    "        return rating\n",
    "    return sub        \n",
    "            "
   ]
  },
  {
   "cell_type": "code",
   "execution_count": 5,
   "metadata": {},
   "outputs": [
    {
     "name": "stdout",
     "output_type": "stream",
     "text": [
      "testcase1  ==> input is2 output is passed\n",
      "testcase2  ==> input is3 output is passed\n",
      "testcase3  ==> input is5 output is passed\n",
      "testcase4  ==> input is7 output is passed\n",
      "testcase5  ==> input is11 output is passed\n",
      "testcase6  ==> input is13 output is passed\n",
      "testcase7  ==> input is17 output is passed\n",
      "testcase8  ==> input is97 output is passed\n",
      "testcase9  ==> input is4 output is passed\n",
      "testcase10  ==> input is6 output is passed\n",
      "testcase11  ==> input is8 output is passed\n",
      "testcase12  ==> input is10 output is passed\n"
     ]
    },
    {
     "data": {
      "text/plain": [
       "12"
      ]
     },
     "execution_count": 5,
     "metadata": {},
     "output_type": "execute_result"
    }
   ],
   "source": [
    "@check_prime\n",
    "def prime(n):\n",
    "    for i in range(2,n):\n",
    "        if n%i==0:\n",
    "            return False\n",
    "    return True \n",
    "prime(2)    "
   ]
  },
  {
   "cell_type": "code",
   "execution_count": 1,
   "metadata": {},
   "outputs": [
    {
     "name": "stdout",
     "output_type": "stream",
     "text": [
      "testcase1  ==> input is2 output is passed\n",
      "testcase2  ==> input is3 output is passed\n",
      "testcase3  ==> input is5 output is passed\n",
      "testcase4  ==> input is7 output is passed\n",
      "testcase5  ==> input is11 output is passed\n",
      "testcase6  ==> input is13 output is passed\n",
      "testcase7  ==> input is17 output is passed\n",
      "testcase8  ==> input is97 output is passed\n",
      "testcase9  ==> input is4 output is passed\n",
      "testcase10  ==> input is6 output is passed\n",
      "testcase11  ==> input is8 output is passed\n",
      "testcase12  ==> input is10 output is passed\n",
      "time 2.0045552253723145\n"
     ]
    },
    {
     "data": {
      "text/plain": [
       "12"
      ]
     },
     "execution_count": 1,
     "metadata": {},
     "output_type": "execute_result"
    }
   ],
   "source": [
    "import time\n",
    "def timer(fun):\n",
    "    def sub(*args,**kwargs):\n",
    "        start=time.time()\n",
    "        res=fun(*args,**kwargs)\n",
    "        time.sleep(2)\n",
    "        end=time.time()\n",
    "        print(\"time\",end-start)\n",
    "        return res\n",
    "    return sub\n",
    "\n",
    "\n",
    "\n",
    "\n",
    "\n",
    "def check_prime(fun):\n",
    "    def sub(*args,**kwargs):\n",
    "        d={2:True,3:True,5:True,7:True,11:True,13:True,17:True,97:True,4:False,6:False,8:False,10:False}\n",
    "        count=1\n",
    "        rating=0\n",
    "        for i in d:\n",
    "            if fun(i)==d[i]:\n",
    "                res=f\"testcase{count}  ==> input is{i} output is passed\"\n",
    "                print(res)\n",
    "                count+=1\n",
    "                rating+=1\n",
    "            else:\n",
    "                res=f\"testcase{count}  ==> input is{i} output is failed\"\n",
    "                print(res)\n",
    "                count+=1\n",
    "        return rating\n",
    "    return sub   \n",
    "\n",
    "\n",
    "\n",
    "@timer\n",
    "@check_prime\n",
    "def prime(n):\n",
    "    for i in range(2,n):\n",
    "        if n%i==0:\n",
    "            return False\n",
    "    return True \n",
    "prime(2)\n",
    "\n",
    "\n",
    "\n",
    "\n"
   ]
  },
  {
   "cell_type": "markdown",
   "metadata": {},
   "source": [
    "Genarator"
   ]
  },
  {
   "cell_type": "markdown",
   "metadata": {},
   "source": [
    "Generator:\n",
    ".it is the phenonmenon of generating the values from method area to where call function is happend\n",
    ".it will generate the sequence of values when we call or when we use the generator object\n",
    ".generator it returns generator object it contains set of values \n",
    ".genarator object we can utilize only one time \n",
    ".generator we can define by the help of functions with yeild key word \n",
    ".yeild is a key word it will carry the data from method area to generator object"
   ]
  },
  {
   "cell_type": "code",
   "execution_count": 26,
   "metadata": {},
   "outputs": [
    {
     "data": {
      "text/plain": [
       "<generator object sample at 0x00000240B8EE6880>"
      ]
     },
     "execution_count": 26,
     "metadata": {},
     "output_type": "execute_result"
    }
   ],
   "source": [
    "def sample():\n",
    "    a=10\n",
    "    print('a:',a)\n",
    "    yield a\n",
    "    b=20\n",
    "    print('b:',b)\n",
    "    yield b\n",
    "    c=30\n",
    "    print('c:',c)\n",
    "    yield c\n",
    "sample()\n",
    "#print(res)"
   ]
  },
  {
   "cell_type": "code",
   "execution_count": 22,
   "metadata": {},
   "outputs": [
    {
     "name": "stdout",
     "output_type": "stream",
     "text": [
      "list[<generator object sample at 0x00000240B8EE6B20>]\n",
      "a: 10\n",
      "b: 20\n",
      "c: 30\n",
      "(10, 20, 30)\n"
     ]
    }
   ],
   "source": [
    "def sample():\n",
    "    a=10\n",
    "    print('a:',a)\n",
    "    yield a\n",
    "    b=20\n",
    "    print('b:',b)\n",
    "    yield b\n",
    "    c=30\n",
    "    print('c:',c)\n",
    "    yield c\n",
    "temp=sample()\n",
    "print(list[temp])    \n",
    "print(tuple(temp))\n",
    "\n",
    "#by using typecasting.\n"
   ]
  },
  {
   "cell_type": "code",
   "execution_count": 23,
   "metadata": {},
   "outputs": [
    {
     "name": "stdout",
     "output_type": "stream",
     "text": [
      "a: 10\n",
      "10\n",
      "b: 20\n",
      "20\n",
      "c: 30\n",
      "30\n"
     ]
    }
   ],
   "source": [
    "#by using dyamic .\n",
    "\n",
    "def sample():\n",
    "    a=10\n",
    "    print('a:',a)\n",
    "    yield a\n",
    "    b=20\n",
    "    print('b:',b)\n",
    "    yield b\n",
    "    c=30\n",
    "    print('c:',c)\n",
    "    yield c\n",
    "temp=sample()\n",
    "for i in temp:\n",
    "    print(i)"
   ]
  },
  {
   "cell_type": "code",
   "execution_count": 28,
   "metadata": {},
   "outputs": [
    {
     "name": "stdout",
     "output_type": "stream",
     "text": [
      "[10, 20, 30, 50, 60, 40, 50, 16, 16, 14, 2, 10, 10, 10, 16, 14]\n",
      "res [10, 20, 30, 50, 60, 40, 50, 16, 16, 14, 2, 10, 10, 10, 16, 14]\n",
      "[]\n"
     ]
    }
   ],
   "source": [
    "a=[10,20,30,50,60,40,50]\n",
    "b=[15,3,16,19,1,21,16,14,17,2]\n",
    "c=[10,10,10,15,16,14,17,13]\n",
    "def  fun(*args):\n",
    "    l=[]\n",
    "    for j in args:\n",
    "        for i in j:\n",
    "            if type(i)in [int,float]and i%2==0:\n",
    "                l+=[i]\n",
    "    print(l)\n",
    "    return l   \n",
    "res=fun(a,b,c)\n",
    "print(\"res\",res)\n",
    "res.clear()\n",
    "print(res)        \n",
    "        \n"
   ]
  },
  {
   "cell_type": "code",
   "execution_count": 37,
   "metadata": {},
   "outputs": [
    {
     "name": "stdout",
     "output_type": "stream",
     "text": [
      "[10, 20, 30, 50, 60, 40, 50, 16, 16, 14, 2, 10, 10, 10, 16, 14]\n"
     ]
    }
   ],
   "source": [
    "a=[10,20,30,50,60,40,50]\n",
    "b=[15,3,16,19,1,21,16,14,17,2]\n",
    "c=[10,10,10,15,16,14,17,13]\n",
    "import time\n",
    "def  demo(*args):\n",
    "    \n",
    "    for i in args:\n",
    "        for j in i:\n",
    "            if type(j)== int and j%2==0:\n",
    "                yield j\n",
    "        time.sleep(10)\n",
    "r=demo(a,b,c)\n",
    "print(list(r))        \n",
    "           \n",
    "        \n"
   ]
  },
  {
   "cell_type": "markdown",
   "metadata": {},
   "source": [
    "ITERATOR.."
   ]
  },
  {
   "cell_type": "markdown",
   "metadata": {},
   "source": [
    "Iterator:\n",
    ".iteration: it is a process of traversing through the swequence to get tghe value one after another \n",
    ".iterator:the function that helps to perform the iteration are called iterator \n",
    ".iterator is a function that is used to traverse through the collection /sequence object and ghet the value one after another \n",
    ".these are the functions why are working behind the for looping statement and providing the values to the loopmone by one \n",
    ".iterators are two types \n",
    "1)static iterator\n",
    "2)dynamic itaretor \n",
    ".For loop mainly on the concept of iterator in dynamic nature"
   ]
  },
  {
   "cell_type": "code",
   "execution_count": 10,
   "metadata": {},
   "outputs": [
    {
     "name": "stdout",
     "output_type": "stream",
     "text": [
      "1\n",
      "2\n",
      "3\n",
      "4\n",
      "5\n"
     ]
    }
   ],
   "source": [
    "l=[1,2,3,4,5]\n",
    "g=iter(l)\n",
    "print(next(g))\n",
    "print(next(g))\n",
    "print(next(g))\n",
    "print(next(g))\n",
    "print(next(g)) \n"
   ]
  },
  {
   "cell_type": "code",
   "execution_count": 17,
   "metadata": {},
   "outputs": [
    {
     "name": "stdout",
     "output_type": "stream",
     "text": [
      "[1, 2, 3.0, None]\n"
     ]
    }
   ],
   "source": [
    "l=[1,2,3.0,4+5j,50,70,60]\n",
    "def sam(coll):\n",
    "    g=iter(coll)\n",
    "    temp=next(g)\n",
    "    yield [None,temp][type(temp)==int]\n",
    "    \n",
    "    temp=next(g)\n",
    "    yield [None,temp][type(temp)==int]\n",
    "    \n",
    "    temp=next(g)\n",
    "    yield [None,temp][type(temp)==float]\n",
    "    \n",
    "    temp=next(g)\n",
    "    yield [None,temp][type(temp)==int] \n",
    "res=sam(l)\n",
    "print(list(res))"
   ]
  },
  {
   "cell_type": "markdown",
   "metadata": {},
   "source": [
    "LAMBDA"
   ]
  },
  {
   "cell_type": "markdown",
   "metadata": {},
   "source": [
    "Lambda function:\n",
    "  -->>Lamda it is a one type of function it will perform the task based on the expression the function will accept arguments n(number of arguments)but only one expression or only one line of satatement and it returns the value \n",
    "     .this function will not accept return keyword but it will return the value \n",
    "     .the lamda function another name called ananomus function should not have name \n",
    "     .initially it will returns the function address by the help of function address we can call the function \n",
    "     .Lambda will support only small case task the task it should be visiting one line \n",
    "     .it will not support large scale task iot will not support n(number of values)\n",
    "     .atleast we have to written the some value \n",
    "why use the lambda:\n",
    "     .to elemminathe the lines of code\n",
    "     .to reduce the repetative task\n",
    "     .to improve the efficiency of the programme \n",
    "     .to reduce the space and time\n",
    "     .the lambda functions mainly we are using in comprehancene,building function"
   ]
  },
  {
   "cell_type": "code",
   "execution_count": 1,
   "metadata": {},
   "outputs": [
    {
     "name": "stdout",
     "output_type": "stream",
     "text": [
      "<function <lambda> at 0x000001DFCECFCAE0>\n"
     ]
    }
   ],
   "source": [
    "print(lambda :10)"
   ]
  },
  {
   "cell_type": "code",
   "execution_count": 8,
   "metadata": {},
   "outputs": [
    {
     "name": "stdout",
     "output_type": "stream",
     "text": [
      "10\n"
     ]
    }
   ],
   "source": [
    "l=lambda a:10\n",
    "print(l(20))"
   ]
  },
  {
   "cell_type": "code",
   "execution_count": 9,
   "metadata": {},
   "outputs": [
    {
     "name": "stdout",
     "output_type": "stream",
     "text": [
      "30\n"
     ]
    }
   ],
   "source": [
    "l=lambda a:10+a\n",
    "print(l(20))"
   ]
  },
  {
   "cell_type": "code",
   "execution_count": 10,
   "metadata": {},
   "outputs": [
    {
     "name": "stdout",
     "output_type": "stream",
     "text": [
      "None\n"
     ]
    }
   ],
   "source": [
    "l=lambda a:None\n",
    "print(l(20))"
   ]
  },
  {
   "cell_type": "code",
   "execution_count": 11,
   "metadata": {},
   "outputs": [
    {
     "name": "stdout",
     "output_type": "stream",
     "text": [
      "30\n"
     ]
    }
   ],
   "source": [
    "l=lambda a,b:a+b\n",
    "print(l(20,10))"
   ]
  },
  {
   "cell_type": "code",
   "execution_count": 23,
   "metadata": {},
   "outputs": [
    {
     "data": {
      "text/plain": [
       "'e'"
      ]
     },
     "execution_count": 23,
     "metadata": {},
     "output_type": "execute_result"
    }
   ],
   "source": [
    "#wap to check the given chacter is upper case or not if upper case convert to lower .if lower return ascci vale of chater by using functions.\n",
    "\n",
    "l=\"E\"\n",
    "def isupper(l):\n",
    "    if len(l)==1 and ('A'<=l<='Z'):\n",
    "        return chr(ord(l)+32)\n",
    "    else:\n",
    "        return ord(l)\n",
    "isupper(l)    "
   ]
  },
  {
   "cell_type": "code",
   "execution_count": 24,
   "metadata": {},
   "outputs": [
    {
     "data": {
      "text/plain": [
       "'e'"
      ]
     },
     "execution_count": 24,
     "metadata": {},
     "output_type": "execute_result"
    }
   ],
   "source": [
    "l=\"E\"\n",
    "def isupper(l):\n",
    "    return chr(ord(l)+32)  if len(l)==1 and ('A'<=l<='Z') else ord(l)\n",
    "isupper(l)"
   ]
  },
  {
   "cell_type": "code",
   "execution_count": 29,
   "metadata": {},
   "outputs": [
    {
     "name": "stdout",
     "output_type": "stream",
     "text": [
      "a\n"
     ]
    }
   ],
   "source": [
    "l=\"A\"\n",
    "b=lambda l:[ord(l),chr(ord(l)+32)] [len(l)==1 and 'A'<=l<='Z']\n",
    "print(b(l))"
   ]
  },
  {
   "cell_type": "code",
   "execution_count": 28,
   "metadata": {},
   "outputs": [
    {
     "name": "stdout",
     "output_type": "stream",
     "text": [
      "a\n"
     ]
    }
   ],
   "source": [
    "print((lambda l:[ord(l),chr(ord(l)+32)] [len(l)==1 and 'A'<=l<='Z']) (input(\"entre the value\")))"
   ]
  },
  {
   "cell_type": "markdown",
   "metadata": {},
   "source": [
    "comprehension:\n",
    ".it is a phenomena of compress the lines of code into single line by the help of list or tuple comprehencen or set comprehencen or dictionary comprehencen \n",
    ".in comprehencen we can use ifelse statement,for loop,lambda function,nestedfor loop\n",
    ".it is mainly used for reduce the lines of code ,time,improve the efficiency of the programme either improve the performrnce \n",
    ".wen can pack the controll statements in one collection  \n",
    "\n",
    "\n",
    "the comprehensions are classified into 4 type:\n",
    "1•list comprehencive\n",
    "2•tuple comprehencive\n",
    "3•set comprehencive\n",
    "4•dictonary comprehencive\n",
    "\n",
    "LIST COMPREHENSIVE:\n",
    "\n",
    ".In Python, list comprehension is a simple and compact syntax for making a list out of a list va;lues\n",
    ".It's a quick technique to make a new list by performing an operation on each dataitem in the old collection.\n",
    ".List comprehension is much faster than using a for loop to handle a list.\n",
    ".A list comprehension is made up of brackets that hold the expression that is run for each element, as well as for loop that iterates through each element.\n",
    ".It returns collection of values from list comprehension based on task.\n",
    "\n",
    "Syntax:\n",
    "Var=[rturvalue for var in collection]\n",
    "Var=[returvalue for var in collection if <condition>]\n",
    "Var=[returnvalue if<condition>else return value for var in collection]\n",
    "Var=[returnvalue for var in collection for var in collection]\n",
    "Var=[returnvalue for var in collection for var in collection if<condition>]\n",
    "var=[returnvalue if<condition>else return value for var in collection for var in collection]\n",
    "var=[[IFSB.TSB]][condition]for i in collection\n",
    "\n",
    "DICT COMPREHENSIVE:\n",
    "  it return's value's in  the form of dict format.\n",
    "  we should follow key and value format in comprehensive \n",
    "syntax:\n",
    "  var=[return key: returnvalue for var in collection]\n",
    "  var=[return key: returnvalue for var in collection if<condition>]\n",
    "  var=[return key: returnvalue if <condition> else return value for var in collection]\n",
    "  var=[return key: returnvalue for var in collection for var in collection if <condition>]\n",
    "  var=[return key: returnvalue for var in cololection for var in collection]\n",
    "  var=[return key: return va;ue if <condition>else return value for var in collection for var in collection]"
   ]
  },
  {
   "cell_type": "code",
   "execution_count": 8,
   "metadata": {},
   "outputs": [
    {
     "name": "stdout",
     "output_type": "stream",
     "text": [
      "8\n",
      "42875\n",
      "18\n"
     ]
    }
   ],
   "source": [
    "def check_number(num):\n",
    "    if num%5==0 and num%7==0:\n",
    "        return num**3\n",
    "    else:\n",
    "        return num//2\n",
    "print(check_number(16))\n",
    "print(check_number(35))    \n",
    "print(check_number(36))        "
   ]
  },
  {
   "cell_type": "code",
   "execution_count": 7,
   "metadata": {},
   "outputs": [
    {
     "data": {
      "text/plain": [
       "42875"
      ]
     },
     "execution_count": 7,
     "metadata": {},
     "output_type": "execute_result"
    }
   ],
   "source": [
    "l=lambda num:num**3 if num%5==0 and num%7==0 else num//2\n",
    "l(35)\n"
   ]
  },
  {
   "cell_type": "code",
   "execution_count": 38,
   "metadata": {},
   "outputs": [
    {
     "name": "stdout",
     "output_type": "stream",
     "text": [
      "        A \n",
      "      A B C \n",
      "    A B C D E \n",
      "  A B C D E F G \n",
      "A B C D E F G H I \n"
     ]
    }
   ],
   "source": [
    "n=5\n",
    "for i in range(n):\n",
    "    for j in range(n - i - 1):\n",
    "        print(' ', end=' ')\n",
    "    for k in range(2 * i + 1):\n",
    "        print(chr(65 + k),end=' ')\n",
    "    print()            "
   ]
  },
  {
   "cell_type": "code",
   "execution_count": 39,
   "metadata": {},
   "outputs": [
    {
     "name": "stdout",
     "output_type": "stream",
     "text": [
      "[1, 2, 3, 4, 5, 6, 7, 8, 9, 10, 11, 12, 13, 14, 15]\n"
     ]
    }
   ],
   "source": [
    "start=1\n",
    "end=eval(input(\"enter  the value\"))\n",
    "l=[]\n",
    "while start<=end:\n",
    "    l+=[start]\n",
    "    start+=1\n",
    "print(l)    "
   ]
  },
  {
   "cell_type": "code",
   "execution_count": 42,
   "metadata": {},
   "outputs": [
    {
     "data": {
      "text/plain": [
       "[1, 2, 3, 4, 5, 6, 7, 8, 9, 10, 11, 12, 13, 14, 15]"
      ]
     },
     "execution_count": 42,
     "metadata": {},
     "output_type": "execute_result"
    }
   ],
   "source": [
    "def seq(end=10):\n",
    "    l=[]\n",
    "    start=1\n",
    "    while start<=end:\n",
    "        l+=[start]\n",
    "        start+=1\n",
    "    return l\n",
    "seq(15)\n",
    "        \n",
    "        "
   ]
  },
  {
   "cell_type": "code",
   "execution_count": 44,
   "metadata": {},
   "outputs": [
    {
     "data": {
      "text/plain": [
       "[1, 2, 3, 4, 5, 6, 7, 8, 9, 10, 11, 12, 13, 14, 15]"
      ]
     },
     "execution_count": 44,
     "metadata": {},
     "output_type": "execute_result"
    }
   ],
   "source": [
    "def seq(end=10):\n",
    "    l=[]\n",
    "    for i in range(1,end+1):\n",
    "        l+=[i]\n",
    "    return l\n",
    "seq(15)    "
   ]
  },
  {
   "cell_type": "code",
   "execution_count": 45,
   "metadata": {},
   "outputs": [
    {
     "name": "stdout",
     "output_type": "stream",
     "text": [
      "[1, 2, 3, 4, 5, 6, 7, 8, 9, 10, 11, 12, 13, 14, 15]\n"
     ]
    }
   ],
   "source": [
    "var=[i for i in range(1,eval(input(\"entre the integer:\"))+1)]\n",
    "print(var)"
   ]
  },
  {
   "cell_type": "code",
   "execution_count": 47,
   "metadata": {},
   "outputs": [
    {
     "data": {
      "text/plain": [
       "[1, 2, 3, 4, 5, 6, 7, 8, 9, 10, 11, 12, 13, 14, 15]"
      ]
     },
     "execution_count": 47,
     "metadata": {},
     "output_type": "execute_result"
    }
   ],
   "source": [
    "def l(end=10):\n",
    "    return [i for i in range(1,end+1)]\n",
    "l(15)"
   ]
  },
  {
   "cell_type": "code",
   "execution_count": 49,
   "metadata": {},
   "outputs": [
    {
     "data": {
      "text/plain": [
       "[1, 2, 3, 4, 5, 6, 7, 8, 9, 10, 11, 12, 13, 14, 15]"
      ]
     },
     "execution_count": 49,
     "metadata": {},
     "output_type": "execute_result"
    }
   ],
   "source": [
    "var=lambda:[i for i in range(1,eval(input(\"entre the number:\"))+1)]\n",
    "var()"
   ]
  },
  {
   "cell_type": "code",
   "execution_count": 55,
   "metadata": {},
   "outputs": [
    {
     "name": "stdout",
     "output_type": "stream",
     "text": [
      "[12, 16, 7, 19, 26, 35, 14, 19]\n",
      "[12, 16, 7, 19, 26, 35, 14, 19]\n"
     ]
    }
   ],
   "source": [
    "st='12 16 07 19 26 35 14 19'\n",
    "l=[]\n",
    "for i in st.split():\n",
    "    l+=[int(i)]\n",
    "print(l)    \n",
    "\n",
    "\n",
    "var=lambda:[int(i) for i in st.split()]\n",
    "print(var())"
   ]
  },
  {
   "cell_type": "code",
   "execution_count": 59,
   "metadata": {},
   "outputs": [
    {
     "name": "stdout",
     "output_type": "stream",
     "text": [
      "2\n",
      "2\n",
      "2\n"
     ]
    }
   ],
   "source": [
    "l=\"apple\"\n",
    "def count1(coll):\n",
    "    c=[]\n",
    "    for i in coll:\n",
    "        if i in 'AEIOUaeiou':\n",
    "            c+=[i]\n",
    "    return len(c)  \n",
    "print(count1(l))    \n",
    "\n",
    "\n",
    "\n",
    "l=\"apple\"\n",
    "def count1(coll):\n",
    "    c=0\n",
    "    for i in coll:\n",
    "        if i in 'AEIOUaeiou':\n",
    "            c+=1\n",
    "    return c\n",
    "print(count1(l))   \n",
    "\n",
    "\n",
    "\n",
    "var=lambda:len([i for i in l if i in 'AEIOUaeiou'])\n",
    "print(var())     \n",
    "              "
   ]
  },
  {
   "cell_type": "code",
   "execution_count": 61,
   "metadata": {},
   "outputs": [
    {
     "name": "stdout",
     "output_type": "stream",
     "text": [
      "[12, 16, 26, 14]\n"
     ]
    }
   ],
   "source": [
    "l=\"12 16 87 19 26 35 14 19\"\n",
    "var=lambda:[int(i) for i in st.split() if int(i)%2==0]\n",
    "print(var())\n"
   ]
  },
  {
   "cell_type": "code",
   "execution_count": 18,
   "metadata": {},
   "outputs": [
    {
     "name": "stdout",
     "output_type": "stream",
     "text": [
      "[24, '16.16', '87', '19', '26.46', '35', 28, '19']\n"
     ]
    }
   ],
   "source": [
    "st=\"12/16.16/87/19/26.46/35/14/19\"\n",
    "#l=[24,'16.16','87','19','26.46','35',28,'19']\n",
    "var=lambda:[int(i)*2 if len(i)==2 and int(i)%2==0 else i for i in st.split('/')]\n",
    "print(var())"
   ]
  },
  {
   "cell_type": "code",
   "execution_count": 1,
   "metadata": {},
   "outputs": [
    {
     "name": "stdout",
     "output_type": "stream",
     "text": [
      "633\n"
     ]
    }
   ],
   "source": [
    "s=input()\n",
    "print(int(s,2))"
   ]
  },
  {
   "cell_type": "code",
   "execution_count": 7,
   "metadata": {},
   "outputs": [
    {
     "name": "stdout",
     "output_type": "stream",
     "text": [
      "[105, 32, 100, 111, 110, 116, 32, 107, 110, 111, 119]\n"
     ]
    }
   ],
   "source": [
    "#wap given string is \"i dont know\" to display the assii value of each charteer\n",
    "st=\"i dont know\"\n",
    "res=[ord(i)for i in st]\n",
    "print(res)"
   ]
  },
  {
   "cell_type": "code",
   "execution_count": 11,
   "metadata": {},
   "outputs": [
    {
     "name": "stdout",
     "output_type": "stream",
     "text": [
      "{'i': 105, ' ': 32, 'd': 100, 'o': 111, 'n': 110, 't': 116, 'k': 107, 'w': 119}\n"
     ]
    }
   ],
   "source": [
    "st=\"i dont know\"\n",
    "d={i:ord(i) for i in st}\n",
    "print(d)"
   ]
  },
  {
   "cell_type": "code",
   "execution_count": 12,
   "metadata": {},
   "outputs": [
    {
     "name": "stdout",
     "output_type": "stream",
     "text": [
      "{'d': 100, 'n': 110, 't': 116, 'k': 107, 'w': 119}\n"
     ]
    }
   ],
   "source": [
    "st=\"i dont know\"\n",
    "d={i:ord(i) for i in st if ('A'<=i<='z' or 'a'<=i<='z') and (i not in 'AEIOUaeiou')}\n",
    "print(d)"
   ]
  },
  {
   "cell_type": "code",
   "execution_count": 14,
   "metadata": {},
   "outputs": [
    {
     "name": "stdout",
     "output_type": "stream",
     "text": [
      "{2: 8, 3: 3}\n"
     ]
    }
   ],
   "source": [
    "a=\"23\"\n",
    "d={}\n",
    "for i in a:\n",
    "    if int(i)%2==0:\n",
    "        d[int(i)]=int(i)**3\n",
    "    else:\n",
    "        d[int(i)]=int(i)\n",
    "print(d)\n",
    "    "
   ]
  },
  {
   "cell_type": "code",
   "execution_count": 27,
   "metadata": {},
   "outputs": [
    {
     "name": "stdout",
     "output_type": "stream",
     "text": [
      "{10: 1000, 20: 8000, 15: 7, 18: 5832, 19: 9, 16: 4096, 13: 6, 41: 20}\n",
      "{10: 1000, 20: 41, 7: 15, 18: 5832, 9: 19, 16: 4096, 6: 13}\n"
     ]
    }
   ],
   "source": [
    "l=[10,20,15,18,19,16,13,41]\n",
    "d={i:i**3 if i%2==0 else i//2 for i in l}\n",
    "print(d)\n",
    "d={[i//2,i][i%2==0]:i**3 if i%2==0 else i for i in l}\n",
    "print(d)\n"
   ]
  },
  {
   "cell_type": "code",
   "execution_count": 22,
   "metadata": {},
   "outputs": [
    {
     "name": "stdout",
     "output_type": "stream",
     "text": [
      "{10: 1000, 20: 41, 7: 15, 18: 5832, 9: 19, 16: 4096, 6: 13}\n",
      "{10: 1000, 20: 41, 7: 15, 18: 5832, 9: 19, 16: 4096, 6: 13}\n"
     ]
    }
   ],
   "source": [
    "l=[10,20,15,18,19,16,13,41]\n",
    "d={}\n",
    "for i in l:\n",
    "    if i%2==0:\n",
    "        d|={i:i**3}\n",
    "    else:\n",
    "        d|={i//2:i}\n",
    "print(d)\n",
    "\n",
    "\n",
    "x=dict([[i,i**3] if i%2==0 else [i//2,i] for i in l])\n",
    "print(x)\n"
   ]
  },
  {
   "cell_type": "code",
   "execution_count": 1,
   "metadata": {},
   "outputs": [],
   "source": [
    "a=\"kouskik\"\n",
    "b=\"gayathri\"\n",
    "s=\"\"\n",
    "g=\"\"\n",
    "for i in a:\n",
    "    if i not in s:\n",
    "        s+=i\n",
    "        for j in b:\n",
    "            if j not in g:\n",
    "                g+=j\n",
    "                if i==j:\n",
    "                    del s[i]\n",
    "                    del g[j]\n",
    "print(s,g)                    \n",
    "res=\"\"\n",
    "#count=0                \n",
    "for i in s:\n",
    "    if i not in g:\n",
    "        res+=i\n",
    "\n",
    "print(res) \n",
    "for j in g:\n",
    "    if j not in res:\n",
    "        res+=j\n",
    "        \n",
    "print(res,len(res))    \n",
    "\n",
    "\n",
    "l=['f','l','a','m','e','s']\n",
    "co=[]\n",
    "count=-1\n",
    "\n",
    "while l:\n",
    "    for i in l:\n",
    "        count+=1\n",
    "        co+=[count]\n",
    "    co=co*10\n",
    "    print(co)\n",
    "    del l[co[len(res)-1]]\n",
    "print(l)\n",
    "\n",
    "\n",
    "        "
   ]
  },
  {
   "cell_type": "markdown",
   "metadata": {},
   "source": [
    "Object Oriented Programming(oops):\n",
    "\n",
    "• The phenomenon of working with real world entities or real time objects will lead us to work with the concept called object oriented programming language.\n",
    "\n",
    "• It is used for solving the real-time entity problems.\n",
    "\n",
    "• It is used for storing and manipulating the real-time entity data.\n",
    "\n",
    "• As we are working with real world entities, the built in data-types are not sufficient, enough to store the details of real world entities and because real world entities will have various types, various properties, various structure, various functionality are present, this all are not suitable to store or retrieve the information by using built-in data-types.\n",
    "\n",
    "• So that we are going to use the user-defined data-types called class and object\n",
    "\n",
    "• Through class and object, we are creating our own status(properties) and behaviour (functionalities) related to real world entities.\n",
    "\n",
    "Why oops?\n",
    "• Organize code and classify data and functions providing a clear structure.\n",
    "\n",
    "• Easy maintenance and modification.\n",
    "\n",
    "• Reduce code; reduce code difficulty, by enabling code reusability.\n",
    "\n",
    "• Inheritance which helps us to inherit data from one class to another class.\n",
    "\n",
    "• Encapsulation, where secure data by implementing private variables.\n",
    "\n",
    "• Polymorphism is one code/interface we can utilities diff ways.\n",
    "\n",
    "• Absract,is hiding the implementaion.\n",
    "\n",
    "What is an object in OOPS?\n",
    "An object is an instance of a class.\n",
    "It consists of state (attributes) and behavior (methods).\n",
    "The attributes or properties of an object are known as fields. The methods associated with these attributes are operations on those fields.\n",
    "The attributes define its properties or characteristics while methods describe what it does with those properties.\n",
    "The attributes or properties of an object are known as fields or slots. The methods associated with these objects are operations on those fields.\n",
    "The attributes define its properties or characteristics while methods describe what it does with those properties.\n",
    "The attributes define its properties or characteristics while methods determine what actions it can perform on those properties.\n",
    "The attributes define the properties or characteristics of an object while methods perform actions on objects.\n",
    "\n",
    "\n",
    "\n",
    "class:            \n",
    "•  class is a structure that specifies what to do ,what to store\n",
    "•  class is a blue print of an object \n",
    "•  class is a space to store the real time data and to implement the functionalities \n",
    "•  class is a user define data type that specifies states(attribute(or)properties) and behaviours (functionalities(or)operations)of a real time entities \n",
    "•  states are nothing but properties or attribute or numbers or data about real world entities \n",
    "\n",
    "BEHAVIOURS:\n",
    "• Behaviour is nothing but functionalities of a real world entity \n",
    "• By the help of class we can create the template for object \n",
    "\n",
    "HOW TO DEFINE THE CLASS:\n",
    "To define the class we have to use class keyword\n",
    "\n",
    "\n",
    "\n",
    "\n",
    "\n",
    "flow chart of class..\n",
    "\n",
    "class:name                                 |\n",
    ".....................................      |\n",
    "state/propeties\n",
    "-attribute=value\n",
    "+attribute=value\n",
    ".....................................\n",
    "behavior(functionalites)\n",
    "........................\n",
    "\n",
    "\n",
    "\n",
    "\n"
   ]
  },
  {
   "cell_type": "code",
   "execution_count": 4,
   "metadata": {},
   "outputs": [],
   "source": [
    "class Apple:\n",
    "    pass"
   ]
  },
  {
   "cell_type": "code",
   "execution_count": 2,
   "metadata": {},
   "outputs": [
    {
     "data": {
      "text/plain": [
       "mappingproxy({'__module__': '__main__',\n",
       "              '__dict__': <attribute '__dict__' of 'Apple' objects>,\n",
       "              '__weakref__': <attribute '__weakref__' of 'Apple' objects>,\n",
       "              '__doc__': None})"
      ]
     },
     "execution_count": 2,
     "metadata": {},
     "output_type": "execute_result"
    }
   ],
   "source": [
    "Apple.__dict__"
   ]
  },
  {
   "cell_type": "code",
   "execution_count": 2,
   "metadata": {},
   "outputs": [
    {
     "name": "stdout",
     "output_type": "stream",
     "text": [
      "{}\n",
      "Oneplus {'model': 'oneplue 11', 'ram': '16gb', 'rom': '256gb', 'Processor': 'mediatak 8', 'price': 500000, 'IMEI': 'on123456'}\n"
     ]
    }
   ],
   "source": [
    "class mobile:\n",
    "    cname = 'Oneplus'\n",
    "    model=None \n",
    "    ram=None \n",
    "    rom=None\n",
    "    Processor=None \n",
    "    price= None\n",
    "    IMEI=None\n",
    "\n",
    "\n",
    "obj1=mobile()\n",
    "print(obj1.__dict__)\n",
    "obj1.model='oneplue 11'\n",
    "obj1.ram='16gb'\n",
    "obj1.rom='256gb'\n",
    "obj1.Processor='mediatak 8'\n",
    "obj1.price= 500000\n",
    "obj1.IMEI='on123456'\n",
    "print(obj1.cname,obj1.__dict__)\n"
   ]
  },
  {
   "cell_type": "markdown",
   "metadata": {},
   "source": [
    "object"
   ]
  },
  {
   "cell_type": "code",
   "execution_count": 9,
   "metadata": {},
   "outputs": [
    {
     "name": "stdout",
     "output_type": "stream",
     "text": [
      "{'name': 'lalith', 'age': 22, 'phone': 6304884375, 'email': 'lalith@gmail.com'}\n",
      "lalith 22 6304884375 lalith@gmail.com\n",
      "lalith 22 6304884375 lalithkumar@gmail.com\n",
      "{'name': 'lalith', 'age': 22, 'phone': 6304884375, 'email': 'lalithkumar@gmail.com', 'passport': True}\n",
      "lalith 22 6304884375 lalithkumar@gmail.com True\n",
      "{'name': 'lalith', 'age': 22, 'phone': 6304884375, 'passport': True}\n"
     ]
    },
    {
     "ename": "AttributeError",
     "evalue": "'collage' object has no attribute 'email'",
     "output_type": "error",
     "traceback": [
      "\u001b[1;31m---------------------------------------------------------------------------\u001b[0m",
      "\u001b[1;31mAttributeError\u001b[0m                            Traceback (most recent call last)",
      "\u001b[1;32mc:\\Users\\lvlyl\\OneDrive\\Documents\\GitHub\\python_lalith_12\\function.ipynb Cell 198\u001b[0m line \u001b[0;36m2\n\u001b[0;32m     <a href='vscode-notebook-cell:/c%3A/Users/lvlyl/OneDrive/Documents/GitHub/python_lalith_12/function.ipynb#Y401sZmlsZQ%3D%3D?line=20'>21</a>\u001b[0m \u001b[39mdel\u001b[39;00m lalith\u001b[39m.\u001b[39memail\n\u001b[0;32m     <a href='vscode-notebook-cell:/c%3A/Users/lvlyl/OneDrive/Documents/GitHub/python_lalith_12/function.ipynb#Y401sZmlsZQ%3D%3D?line=21'>22</a>\u001b[0m \u001b[39mprint\u001b[39m(lalith\u001b[39m.\u001b[39m\u001b[39m__dict__\u001b[39m)   \n\u001b[1;32m---> <a href='vscode-notebook-cell:/c%3A/Users/lvlyl/OneDrive/Documents/GitHub/python_lalith_12/function.ipynb#Y401sZmlsZQ%3D%3D?line=22'>23</a>\u001b[0m \u001b[39mprint\u001b[39m(lalith\u001b[39m.\u001b[39mname,lalith\u001b[39m.\u001b[39mage,lalith\u001b[39m.\u001b[39mphone,lalith\u001b[39m.\u001b[39;49memail,lalith\u001b[39m.\u001b[39mpassport)  \n",
      "\u001b[1;31mAttributeError\u001b[0m: 'collage' object has no attribute 'email'"
     ]
    }
   ],
   "source": [
    "class collage:\n",
    "    def __init__(self,s_name,s_age,s_phone,s_email):\n",
    "        self.name=s_name\n",
    "        self.age=s_age\n",
    "        self.phone=s_phone\n",
    "        self.email=s_email\n",
    "lalith=collage('lalith',22,6304884375,'lalith@gmail.com')\n",
    "print(lalith.__dict__)   \n",
    "\n",
    "\n",
    "print(lalith.name,lalith.age,lalith.phone,lalith.email)   \n",
    "lalith.email='lalithkumar@gmail.com'\n",
    "print(lalith.name,lalith.age,lalith.phone,lalith.email) \n",
    "\n",
    "\n",
    "lalith.passport=True\n",
    "print(lalith.__dict__)   \n",
    "print(lalith.name,lalith.age,lalith.phone,lalith.email,lalith.passport)    \n",
    "\n",
    "\n",
    "del lalith.email\n",
    "print(lalith.__dict__)   \n",
    "print(lalith.name,lalith.age,lalith.phone,lalith.email,lalith.passport)  \n",
    "  \n",
    "        \n",
    "    "
   ]
  },
  {
   "cell_type": "code",
   "execution_count": 24,
   "metadata": {},
   "outputs": [
    {
     "name": "stdout",
     "output_type": "stream",
     "text": [
      "lalith 22 6304884375 lalith@gmail.com\n",
      "{'name': 'lalith', 'age': 22, 'phone': 6304884375, 'email': 'lalith@gmail.com'}\n"
     ]
    }
   ],
   "source": [
    "class collage:\n",
    "    def __init__(self,s_name,s_age,s_phone,s_email):\n",
    "        self.name=s_name\n",
    "        self.age=s_age\n",
    "        self.phone=s_phone\n",
    "        self.email=s_email\n",
    "lalith=collage('lalith',22,6304884375,'lalith@gmail.com')\n",
    "\n",
    "\n",
    "def display(self):\n",
    "    print(lalith.name,lalith.age,lalith.phone,lalith.email)   \n",
    "display(lalith) \n",
    "\n",
    "def modify(self):\n",
    "    n=int(input(\"choose 1.name\\n2.email\\n3.phone\\n4.age\\n5.exit\\nselect:\"))  \n",
    "    match n:\n",
    "        case 1:\n",
    "            self.name=input(\"enter the name:\")\n",
    "        case 2:\n",
    "            self.email=input(\"enter the email:\")\n",
    "        case 3:\n",
    "            self.phone=input(\"enter the phone\")\n",
    "        case 4:\n",
    "            self.age=input(\"entre the age\")\n",
    "        case _:\n",
    "            return\n",
    "    return\n",
    "# modify(lalith) \n",
    "# display(lalith)   \n",
    "\n",
    "def concat(self):\n",
    "    self.passport=eval(input(\"passport is there or not:\"))\n",
    "#concat(lalith)    \n",
    "        \n",
    "        \n",
    "def delete(self):\n",
    "    n=int(input(\"choose 1.name\\n2.email\\n3.phone\\n4.age\\n5.exit\\nselect:\"))  \n",
    "    match n:\n",
    "            case 1:\n",
    "                 del self.name\n",
    "            case   2:\n",
    "                 del self.email\n",
    "            case   3:\n",
    "                 del self.phone\n",
    "            case   4:\n",
    "                 del self.age\n",
    "            case _:\n",
    "                return\n",
    "    return\n",
    "# delete(lalith)\n",
    "# display(lalith)\n",
    "\n",
    "print(lalith.__dict__)\n",
    "            \n",
    "               \n",
    "                \n",
    "             \n",
    "    \n",
    "        \n",
    "    "
   ]
  },
  {
   "cell_type": "code",
   "execution_count": 22,
   "metadata": {},
   "outputs": [
    {
     "name": "stdout",
     "output_type": "stream",
     "text": [
      "{'name': 'lalith', 'age': 22, 'phone': 6304884375, 'email': 'lalith@gmail.com'}\n",
      "lalith 22 6304884375 lalith@gmail.com\n",
      "{'name': 'lalith', 'phone': 6304884375, 'email': 'lalith@gmail.com'}\n"
     ]
    }
   ],
   "source": [
    "class collage:\n",
    "    def __init__(self,s_name,s_age,s_phone,s_email):\n",
    "        self.name=s_name\n",
    "        self.age=s_age\n",
    "        self.phone=s_phone\n",
    "        self.email=s_email\n",
    "\n",
    "\n",
    "    def display(self):\n",
    "        print(lalith.name,lalith.age,lalith.phone,lalith.email) \n",
    "        \n",
    "    def modify(self):\n",
    "        n=int(input(\"choose 1.name\\n2.email\\n3.phone\\n4.age\\n5.exit\\nselect:\"))  \n",
    "        match n:\n",
    "            case 1:\n",
    "                self.name=input(\"enter the name:\")\n",
    "            case 2:\n",
    "                self.email=input(\"enter the email:\")\n",
    "            case 3:\n",
    "                self.phone=input(\"enter the phone\")\n",
    "            case 4:\n",
    "                self.age=input(\"entre the age\")\n",
    "            case _:\n",
    "                return\n",
    "        return  \n",
    "    def concat(self):\n",
    "        self.passport=eval(input(\"passport is there or not:\"))\n",
    "    #concat(lalith)    \n",
    "    \n",
    "    \n",
    "    def delete(self):\n",
    "        n=int(input(\"choose 1.name\\n2.email\\n3.phone\\n4.age\\n5.exit\\nselect:\"))  \n",
    "        match n:\n",
    "                case 1:\n",
    "                    del self.name\n",
    "                case  2:\n",
    "                    del self.email\n",
    "                case  3:\n",
    "                    del self.phone\n",
    "                case  4:\n",
    "                    del self.age\n",
    "                case _:\n",
    "                    return\n",
    "        return\n",
    "lalith=collage('lalith',22,6304884375,'lalith@gmail.com')\n",
    "print(lalith.__dict__)    \n",
    "\n",
    "\n",
    "lalith.display()\n",
    "# lalith.modify()\n",
    "# lalith.display()\n",
    "# lalith.concat()\n",
    "lalith.delete()\n",
    "print(lalith.__dict__)\n",
    "\n",
    "    \n",
    "    \n",
    "            \n",
    "            \n"
   ]
  },
  {
   "cell_type": "markdown",
   "metadata": {},
   "source": [
    "create the account.\n",
    "del account.\n",
    "update account.\n",
    "balance.\n",
    "transfer.\n",
    "pin genrate."
   ]
  },
  {
   "cell_type": "code",
   "execution_count": 8,
   "metadata": {},
   "outputs": [
    {
     "name": "stdout",
     "output_type": "stream",
     "text": [
      "0\n"
     ]
    },
    {
     "ename": "AttributeError",
     "evalue": "'bank' object has no attribute 'no_cust_inc'",
     "output_type": "error",
     "traceback": [
      "\u001b[1;31m---------------------------------------------------------------------------\u001b[0m",
      "\u001b[1;31mAttributeError\u001b[0m                            Traceback (most recent call last)",
      "\u001b[1;32mc:\\Users\\lvlyl\\OneDrive\\Documents\\GitHub\\python_lalith_12\\function.ipynb Cell 202\u001b[0m line \u001b[0;36m2\n\u001b[0;32m     <a href='vscode-notebook-cell:/c%3A/Users/lvlyl/OneDrive/Documents/GitHub/python_lalith_12/function.ipynb#Y405sZmlsZQ%3D%3D?line=26'>27</a>\u001b[0m     \u001b[39mcls\u001b[39m\u001b[39m.\u001b[39mno_cust\u001b[39m+\u001b[39m\u001b[39m=\u001b[39m\u001b[39m1\u001b[39m\n\u001b[0;32m     <a href='vscode-notebook-cell:/c%3A/Users/lvlyl/OneDrive/Documents/GitHub/python_lalith_12/function.ipynb#Y405sZmlsZQ%3D%3D?line=27'>28</a>\u001b[0m \u001b[39mprint\u001b[39m(bank\u001b[39m.\u001b[39mno_cust)      \n\u001b[1;32m---> <a href='vscode-notebook-cell:/c%3A/Users/lvlyl/OneDrive/Documents/GitHub/python_lalith_12/function.ipynb#Y405sZmlsZQ%3D%3D?line=28'>29</a>\u001b[0m obj\u001b[39m=\u001b[39mbank(\u001b[39m\"\u001b[39;49m\u001b[39mlalith\u001b[39;49m\u001b[39m\"\u001b[39;49m,\u001b[39m23\u001b[39;49m,\u001b[39m\"\u001b[39;49m\u001b[39mlalith@gmail.com\u001b[39;49m\u001b[39m\"\u001b[39;49m,\u001b[39m6304884375\u001b[39;49m,\u001b[39m\"\u001b[39;49m\u001b[39mcumbum\u001b[39;49m\u001b[39m\"\u001b[39;49m,\u001b[39m\"\u001b[39;49m\u001b[39m123456789012\u001b[39;49m\u001b[39m\"\u001b[39;49m,\u001b[39m\"\u001b[39;49m\u001b[39mBTIPT7418P\u001b[39;49m\u001b[39m\"\u001b[39;49m,\u001b[39m\"\u001b[39;49m\u001b[39m11-08-2001\u001b[39;49m\u001b[39m\"\u001b[39;49m,\u001b[39m\"\u001b[39;49m\u001b[39mmale\u001b[39;49m\u001b[39m\"\u001b[39;49m,\u001b[39m1108\u001b[39;49m)\n\u001b[0;32m     <a href='vscode-notebook-cell:/c%3A/Users/lvlyl/OneDrive/Documents/GitHub/python_lalith_12/function.ipynb#Y405sZmlsZQ%3D%3D?line=29'>30</a>\u001b[0m \u001b[39mprint\u001b[39m(obj\u001b[39m.\u001b[39m\u001b[39m__dict__\u001b[39m)\n\u001b[0;32m     <a href='vscode-notebook-cell:/c%3A/Users/lvlyl/OneDrive/Documents/GitHub/python_lalith_12/function.ipynb#Y405sZmlsZQ%3D%3D?line=32'>33</a>\u001b[0m obj\u001b[39m=\u001b[39mbank(\u001b[39m\"\u001b[39m\u001b[39mlalith\u001b[39m\u001b[39m\"\u001b[39m,\u001b[39m23\u001b[39m,\u001b[39m\"\u001b[39m\u001b[39mlalith@gmail.com\u001b[39m\u001b[39m\"\u001b[39m,\u001b[39m6304884375\u001b[39m,\u001b[39m\"\u001b[39m\u001b[39mcumbum\u001b[39m\u001b[39m\"\u001b[39m,\u001b[39m\"\u001b[39m\u001b[39m123456789012\u001b[39m\u001b[39m\"\u001b[39m,\u001b[39m\"\u001b[39m\u001b[39mBTIPT7418P\u001b[39m\u001b[39m\"\u001b[39m,\u001b[39m\"\u001b[39m\u001b[39m11-08-2001\u001b[39m\u001b[39m\"\u001b[39m,\u001b[39m\"\u001b[39m\u001b[39mmale\u001b[39m\u001b[39m\"\u001b[39m,\u001b[39m1108\u001b[39m)\n",
      "\u001b[1;32mc:\\Users\\lvlyl\\OneDrive\\Documents\\GitHub\\python_lalith_12\\function.ipynb Cell 202\u001b[0m line \u001b[0;36m2\n\u001b[0;32m     <a href='vscode-notebook-cell:/c%3A/Users/lvlyl/OneDrive/Documents/GitHub/python_lalith_12/function.ipynb#Y405sZmlsZQ%3D%3D?line=20'>21</a>\u001b[0m \u001b[39mself\u001b[39m\u001b[39m.\u001b[39mpin\u001b[39m=\u001b[39mpin\n\u001b[0;32m     <a href='vscode-notebook-cell:/c%3A/Users/lvlyl/OneDrive/Documents/GitHub/python_lalith_12/function.ipynb#Y405sZmlsZQ%3D%3D?line=21'>22</a>\u001b[0m \u001b[39mself\u001b[39m\u001b[39m.\u001b[39mbal\u001b[39m=\u001b[39mbal\n\u001b[1;32m---> <a href='vscode-notebook-cell:/c%3A/Users/lvlyl/OneDrive/Documents/GitHub/python_lalith_12/function.ipynb#Y405sZmlsZQ%3D%3D?line=22'>23</a>\u001b[0m \u001b[39mself\u001b[39;49m\u001b[39m.\u001b[39;49mno_cust_inc()\n",
      "\u001b[1;31mAttributeError\u001b[0m: 'bank' object has no attribute 'no_cust_inc'"
     ]
    }
   ],
   "source": [
    "class bank:\n",
    "    bname = \"SAI bank\"\n",
    "    branch = \"sainagar\"\n",
    "    branchcode = \"420\"\n",
    "    ifc = \" SAI00000420\"\n",
    "    toll_no = 1234567890\n",
    "    roi = 7\n",
    "    no_cust = 0\n",
    "    cust_details = {}\n",
    "    \n",
    "    def __init__(self,name,age,email,phone,address,adhar,pancard,dob,gender,pin,bal=0):\n",
    "        self.cname=name\n",
    "        self.age=age\n",
    "        self.email=email\n",
    "        self.phone=phone\n",
    "        self.address=address\n",
    "        self.adhar=adhar\n",
    "        self.pancard=pancard\n",
    "        self.dob=dob\n",
    "        self.gender=gender\n",
    "        self.pin=pin\n",
    "        self.bal=bal\n",
    "        self.no_cust_inc()\n",
    "        \n",
    "@classmethod\n",
    "def no_cust_inc(cls):\n",
    "    cls.no_cust+=1\n",
    "print(bank.no_cust)      \n",
    "obj=bank(\"lalith\",23,\"lalith@gmail.com\",6304884375,\"cumbum\",\"123456789012\",\"BTIPT7418P\",\"11-08-2001\",\"male\",1108)\n",
    "print(obj.__dict__)\n",
    "\n",
    "\n",
    "obj=bank(\"lalith\",23,\"lalith@gmail.com\",6304884375,\"cumbum\",\"123456789012\",\"BTIPT7418P\",\"11-08-2001\",\"male\",1108)\n",
    "print(obj.__dict__.no_cust+1)\n",
    "        \n",
    "        \n",
    "        \n",
    "       "
   ]
  },
  {
   "cell_type": "code",
   "execution_count": 2,
   "metadata": {},
   "outputs": [
    {
     "name": "stdout",
     "output_type": "stream",
     "text": [
      "{'name': 'Naruto', 'age': 22, 'email': 'Naruto@gmail.com', 'phone': 9822955735, 'address': 'Hyd', 'adhaar': 123455721745, 'pancard': 'BBCPN1374G', 'dob': '22/11/2000', 'gender': 'male', 'pin': 1234, 'bal': 700, 'account_no': 101}\n",
      "{'name': 'Madara Uchiha', 'age': 20, 'email': 'madarauchiha@gmail.com', 'phone': 1156465745, 'address': 'Hyd', 'adhaar': 754645721595, 'pancard': 'BBDPN1485H', 'dob': '9/6/2000', 'gender': 'male', 'pin': 3421, 'bal': 500, 'account_no': 102}\n",
      "Your Current Balance is : 700\n",
      "******************************************************************************************************************************************************\n",
      "Account no : 101\n",
      "Name : Naruto\n",
      "Age : 22\n",
      "Email : Naruto@gmail.com\n",
      "Phone : 9822955735\n",
      "Address : Hyd\n",
      "******************************************************************************************************************************************************\n",
      "Your Current Balance is : 700\n",
      "******************************************************************************************************************************************************\n",
      "Deposited Successfully!\n",
      "101 {'date': datetime.datetime(2023, 11, 10, 10, 48, 27, 426012), 'type': 'deposit', 'amount': 100, 'bal': 800}\n",
      "******************************************************************************************************************************************************\n",
      "101 {'date': datetime.datetime(2023, 11, 10, 10, 48, 32, 980593), 'type': 'withdraw', 'amount': 100, 'bal': 700}\n",
      "Withdrawal Successful!\n",
      "******************************************************************************************************************************************************\n",
      "           Date           |     Type     |    Amount    |     Balance    \n",
      "================================================================================\n",
      "2023-11-10 10:48:27.426012 |   deposit    |     100      |       800      \n",
      "================================================================================\n",
      "2023-11-10 10:48:32.980593 |   withdraw   |     100      |       700      \n",
      "================================================================================\n",
      "******************************************************************************************************************************************************\n",
      "******************************************************************************************************************************************************\n",
      "Your PIN is Changed\n",
      "******************************************************************************************************************************************************\n",
      "Today Rate of Interest 7\n",
      "******************************************************************************************************************************************************\n",
      "your current balance: 700\n",
      "Invalid Account or IFSC code\n",
      "******************************************************************************************************************************************************\n"
     ]
    }
   ],
   "source": [
    "import datetime\n",
    "class bank:\n",
    "    bann_name=\"BlackBank\"\n",
    "    branch=\"hyd\"\n",
    "    branch_code=420\n",
    "    ifsc=\"BB0002420\"\n",
    "    roi=7\n",
    "    no_cust=0\n",
    "    cust_details={}\n",
    "    cust_transactions={}\n",
    "    def __init__(self,name,age,email,phone,address,adhaar,pancard,dob,gender,pin,bal=0):\n",
    "        self.name=name\n",
    "        self.age=age\n",
    "        self.email=email\n",
    "        self.phone=phone\n",
    "        self.address=address\n",
    "        self.adhaar=adhaar\n",
    "        self.pancard=pancard\n",
    "        self.dob=dob\n",
    "        self.gender=gender\n",
    "        self.pin=pin\n",
    "        self.bal=bal\n",
    "        self.no_cust_inc()\n",
    "        self.account_no=100+self.no_cust\n",
    "        self.concat_cust_details(self.account_no,self)\n",
    "\n",
    "\n",
    "\n",
    "    @classmethod\n",
    "    def no_cust_inc(cls):\n",
    "        cls.no_cust+=1\n",
    "\n",
    "    @classmethod\n",
    "    def concat_cust_details(cls,acc_no,obj):\n",
    "        cls.cust_details[acc_no]=obj\n",
    "\n",
    "    @classmethod\n",
    "    def change_ROI(cls):\n",
    "        cls.roi=int(input(\"enter the RoI\"))\n",
    "        print(\"RoI is changed\")\n",
    "        \n",
    "    \n",
    "\n",
    "    @classmethod\n",
    "    def check_bal(cls): # type: ignore\n",
    "        acc_no=int(input(\"enter the Account No:\"))\n",
    "        pin=int(input(\"enter the Account Pin No:\"))\n",
    "        for i in cls.cust_details:\n",
    "            res=cls.cust_details[i]\n",
    "            if res.account_no==acc_no and res.pin==pin:\n",
    "                print(res.account_no,\"balance is:\",res.bal)\n",
    "                return\n",
    "        else:\n",
    "            print(\"Invalid acc_no or pin\")\n",
    "\n",
    "    @classmethod\n",
    "    def concat_cust_trans(cls,acc_no,data):\n",
    "        if acc_no in cls.cust_transactions: # type: ignore\n",
    "            cls.cust_transactions[acc_no]+=[data] # type: ignore\n",
    "            print(acc_no,data)\n",
    "        else:\n",
    "            cls.cust_transactions[acc_no]=[data] # type: ignore\n",
    "            print(acc_no,data)\n",
    "            \n",
    "   \n",
    "    def deposit(self,count=0):\n",
    "        if count==3:\n",
    "            return\n",
    "        amt=int(input(\"Enter the deposit Amount\"))\n",
    "        if amt>=50:\n",
    "            self.bal+=amt\n",
    "            print(\"Deposited Successfully!\")\n",
    "            self.concat_cust_trans(self.account_no,{\"date\":datetime.datetime.now(),\"type\":\"deposit\",\"amount\":amt,\"bal\":self.bal})\n",
    "            return\n",
    "        else:\n",
    "            print(\"Deposit Failed :(   Amount should be Minimum 50 Rupees\")\n",
    "            return self.deposit(count+1)\n",
    "        \n",
    "        \n",
    "    def withdraw(self,count=0):\n",
    "        if count==3:\n",
    "            return\n",
    "        amt=int(input(\"Enter the withdrawl Amount\"))\n",
    "        if amt>=100 and self.bal>=amt:\n",
    "            self.bal-=amt\n",
    "            self.concat_cust_trans(self.account_no,{\"date\":datetime.datetime.now(),\"type\":\"withdraw\",\"amount\":amt,\"bal\":self.bal})\n",
    "            print(\"Withdrawal Successful!\")\n",
    "            return\n",
    "        else:\n",
    "            print(\"Widthdrawl Failed :(   Amount should be Minimum 100 Rupees\")\n",
    "\n",
    "\n",
    "    def mini_statement(self):\n",
    "        print(\"Date\".center(25),\"Type\".center(12),\"Amount\".center(12),\"Balance\".center(15),sep=\" | \")\n",
    "        print('='*80)\n",
    "        for i in self.cust_transactions[self.account_no]: # type: ignore\n",
    "            print(str(i[\"date\"]).center(25),str(i[\"type\"]).center(12),str(i[\"amount\"]).center(12),str(i[\"bal\"]).center(15),sep=\" | \")\n",
    "            print('='*80)\n",
    "    \n",
    "    def check_bal(self):\n",
    "        print(\"Your Current Balance is :\",self.bal)\n",
    "\n",
    "    def pin_change(self):\n",
    "        oldpin = int(input(\"Enter your Old PIN\"))\n",
    "        if oldpin == self.pin:\n",
    "            self.pin =int(input(\"Enter Your New PIN\"))\n",
    "            print(\"Your PIN is Changed\")\n",
    "        else:\n",
    "            print(\"Incorrect Old PIN\")\n",
    "    \n",
    "    def cust_update(self):\n",
    "        n=int(input(\"Choose the option: \\n1.Name\\n2.Phone\\n3.Email\\n4.Address\\n5.Exit\"))\n",
    "        match n:\n",
    "            case 1:\n",
    "               self.name = input(\"Enter new Name\")\n",
    "            case 2:\n",
    "                self.phone =int( input(\"Enter new Phone Number\"))\n",
    "            case 3:\n",
    "                self.email = input(\"Enter new Email ID\")\n",
    "            case 4:\n",
    "                self.address = input(\"Enter new Address\")\n",
    "            case _:\n",
    "                return   \n",
    "        return self.cust_update()\n",
    "    def account_details(self):\n",
    "        print(\"Account no :\",self.account_no)\n",
    "        print(\"Name :\",self.name)\n",
    "        print(\"Age :\",self.age)\n",
    "        print(\"Email :\",self.email)\n",
    "        print(\"Phone :\",self.phone)\n",
    "        print(\"Address :\",self.address)\n",
    "\n",
    "    def transfer(self):\n",
    "        print(\"your current balance:\",self.bal)\n",
    "        acc_no=int(input(\"Enter the Beneficiary Accno : \"))\n",
    "        ifsc_code=input(\"Enter the Beneficiary IFSC :\")\n",
    "        if acc_no in self.cust_details and ifsc_code == self.cust_details[acc_no].ifsc:\n",
    "            amt=int(input(\"Enter the Transfer Amount:\"))\n",
    "            if self.bal>=amt:\n",
    "                other=self.cust_details[acc_no]\n",
    "                other.bal+=amt\n",
    "                self.bal-=amt\n",
    "                print(\"Transfer Successful  :) \")\n",
    "                print(\"After transfer current balance\",self.bal)\n",
    "                self.concat_cust_trans(self.account_no,{\"date\":datetime.datetime.now(),\"type\":\"Transfer(W)\",\"amount\":amt,\"bal\":self.bal})\n",
    "                self.concat_cust_trans(other.account_no,{\"date\":datetime.datetime.now(),\"type\":\"Transfer(d)\",\"amount\":amt,\"bal\":other.bal})\n",
    "                \n",
    "                return\n",
    "            else:\n",
    "                print(\"You don't have sufficient amount to make this transaction!\")\n",
    "                return\n",
    "        else:\n",
    "            print(\"Invalid Account or IFSC code\")\n",
    "    @classmethod\n",
    "    def home(cls,self):\n",
    "        n=int(input(\"choose the option: \\n0.AcccountDetails\\n1.Check Bal\\n2.Deposit\\n3.withdraw\\n4.mini Statement\\n5.Update\\n6.Pin Change\\n7.check ROI \\n8.Transfer\\n9.Exit\"))\n",
    "        print(\"*\"*150)\n",
    "        match n:\n",
    "            case 0:\n",
    "                self.account_details()\n",
    "            case 1:\n",
    "                self.check_bal()\n",
    "            case 2:\n",
    "                self.deposit()\n",
    "            case 3:\n",
    "                self.withdraw()\n",
    "            case 4:\n",
    "                self.mini_statement()\n",
    "            case 5:\n",
    "                self.cust_update()\n",
    "            case 6:\n",
    "                self.pin_change()\n",
    "            case 7:\n",
    "                print(\"Today Rate of Interest\",self.roi)\n",
    "            case 8:\n",
    "                self.transfer()\n",
    "            case _:\n",
    "                return\n",
    "        return cls.home(self)\n",
    "                \n",
    "obj=bank('Naruto',22,'Naruto@gmail.com',9822955735,'Hyd',123455721745,'BBCPN1374G','22/11/2000','male',1234,700)  # type: ignore\n",
    "# obj=bank()\n",
    "# obj1=bank()\n",
    "obj1=bank('Madara Uchiha',20,'madarauchiha@gmail.com',1156465745,'Hyd',754645721595,'BBDPN1485H','9/6/2000','male',3421,500) # type: ignore\n",
    "# print(bank.no_cust)\n",
    "print (obj.__dict__) # type: ignore\n",
    "print (obj1.__dict__) # type: ignore\n",
    "# print(bank.cust_details) \n",
    "bank.check_bal(obj)\n",
    "\n",
    "def main(cls):\n",
    "    acc_no=int(input(\"Enter the Account_no:\"))\n",
    "    pin=int(input(\"Enter the Pin_no:\"))\n",
    "    if acc_no in cls.cust_details and cls.cust_details[acc_no].pin == pin:\n",
    "        self = cls.cust_details[acc_no]\n",
    "        cls.home(self)\n",
    "    else:\n",
    "        print(\"Invalid  account no or pin\")\n",
    "main(bank)"
   ]
  },
  {
   "cell_type": "code",
   "execution_count": null,
   "metadata": {},
   "outputs": [],
   "source": [
    "class hotel:\n",
    "    def __init__(self,phone,password,name,gender,addres,dob,email):\n",
    "        self.name=name\n",
    "        self.dob=dob\n",
    "        self.email=email\n",
    "        self.phone=phone\n",
    "        self.address=addres\n",
    "        self.gender=gender\n",
    "        self.password=password\n",
    "        "
   ]
  },
  {
   "cell_type": "code",
   "execution_count": 8,
   "metadata": {},
   "outputs": [],
   "source": [
    "class resturent:\n",
    "    rname=\"Lalith RES\"\n",
    "    sno=\"1274652\"\n",
    "    address=\"dilshuknagar\"\n",
    "    phone=9949225735\n",
    "    cart={}\n",
    "    def __init__(self):\n",
    "        self.biryanis={\"chiken65\":270,\n",
    "    \"veg dum biryani\":200,\n",
    "    \"paneer biryani\":270,\n",
    "    \"chiken dum biryani\":230,\n",
    "    \"chiken dum biryani jumbo\":400,\n",
    "    \"veg biryani\":150,\"veg manchria\":100,\n",
    "    \"chilli veg\":130,\"veg 65\":150,\n",
    "    \"panner manchuria\":200,\n",
    "    \"paneer 65\":200,\"chilli paneer\":200,\n",
    "    \"chiken manchria\":200,\"chilli chiken\":280,\n",
    "    \"chiken 65\":280,\"chiken deep fry\":300,\"chiken lollypop\":300,\"gongura chiken\":250}\n",
    "    def veg_starter(self):\n",
    "        print('Veg Starter',\" \"*10,'Price')\n",
    "        print(\"-\"*30)\n",
    "        print(\"veg biryani\",\" \"*8,150)\n",
    "        print(\"veg manchria\",\" \"*7,100)\n",
    "        print(\"chilli veg\",\" \"*9,130)\n",
    "        print(\"veg 65\",\" \"*13,150)\n",
    "        print(\"panner manchuria\",\" \"*3,200)\n",
    "        print(\"paneer 65\",\" \"*10,200)\n",
    "        print(\"chilli paneer\",\" \"*6,200)\n",
    "    def Non_veg_starter(self):\n",
    "        print(\"Non-Veg Starter\",\" \"*10,'Price')\n",
    "        print(\"-\"*37)\n",
    "        print(\"chiken manchria\",\" \"*10,200)\n",
    "        print(\"chilli chiken  \",\" \"*10,250)\n",
    "        print(\"chiken 65      \",\" \"*10,250)\n",
    "        print(\"ginger chiken  \",\" \"*10,350)\n",
    "        print(\"garlic chiken  \",\" \"*10,330)\n",
    "        print(\"pepper chiken  \",\" \"*10,380)\n",
    "        print(\"chiken deep fry\",\" \"*10,350)\n",
    "        print(\"chiken lollypop\",\" \"*10,250)\n",
    "        print(\"gongura chiken \",\" \"*10,280)\n",
    "    def biryani(self):\n",
    "        print(\"Biryani\",\" \"*22,'Price')\n",
    "        print(\"-\"*40)\n",
    "        print(\"chiken 65 biryani       \",\" \"*5,280)\n",
    "        print(\"veg dum biryani         \",\" \"*5,280)\n",
    "        print(\"paneer biryani          \",\" \"*5,280)\n",
    "        print(\"chiken dum biryani      \",\" \"*5,280)\n",
    "        print(\"chiken dum biryani jumbo\",\" \"*5,280)\n",
    "        print(\"chiken manchria         \",\" \"*5,280)\n",
    "        print(\"chiken manchria         \",\" \"*5,280)\n",
    "        print(\"chiken manchria         \",\" \"*5,280)\n",
    "    def display(self):\n",
    "        res=0\n",
    "        ord={}\n",
    "        ord1={}\n",
    "        while True:\n",
    "            opt=int(input(\"choose the option\\n1.choose items:\\n2.cart\\n3.confirm\\n4.bill\\n5.exit:\"))\n",
    "            if opt==1:\n",
    "                n=input(\"enter the item you want:\")\n",
    "                if n in self.biryanis:\n",
    "                    res+=self.biryanis[n]\n",
    "                    ord1.update({n:self.biryanis[n]})\n",
    "                    if n in ord:\n",
    "                        ord[n]+=1\n",
    "                    else:\n",
    "                        ord[n]=1\n",
    "                else:\n",
    "                    print(\"item not present\")\n",
    "            elif opt==2:\n",
    "                print(\"the selected items are:\",ord1)\n",
    "            elif opt==3:\n",
    "                print(\"the quantity of the items:\",ord)\n",
    "            elif opt==4:\n",
    "                print(\"the total bill of the items are:\",res)\n",
    "            elif opt==5:\n",
    "                break"
   ]
  },
  {
   "cell_type": "code",
   "execution_count": 9,
   "metadata": {},
   "outputs": [],
   "source": [
    "class payment:\n",
    "    def __init__(self,upi,pin):\n",
    "        self.upi=upi\n",
    "        self.pin=pin\n",
    "        self.c_pin=9876\n",
    "        self.c_upi='6304884375@paytm'\n",
    "    def valid(self):\n",
    "        if self.c_pin==self.pin and self.c_upi==self.upi:\n",
    "            print(\"payment successful\")\n",
    "            print(\"your order is placed\")\n",
    "        else:\n",
    "            print(\"wrong upi or pin\")"
   ]
  },
  {
   "cell_type": "code",
   "execution_count": 10,
   "metadata": {},
   "outputs": [
    {
     "name": "stdout",
     "output_type": "stream",
     "text": [
      "you are a valid user\n",
      "**************************************************\n",
      "Non-Veg Starter            Price\n",
      "-------------------------------------\n",
      "chiken manchria            200\n",
      "chilli chiken              250\n",
      "chiken 65                  250\n",
      "ginger chiken              350\n",
      "garlic chiken              330\n",
      "pepper chiken              380\n",
      "chiken deep fry            350\n",
      "chiken lollypop            250\n",
      "gongura chiken             280\n",
      "**************************************************\n",
      "the selected items are: {'chiken 65': 280}\n",
      "the quantity of the items: {'chiken 65': 1}\n",
      "the total bill of the items are: 280\n",
      "**************************************************\n",
      "payment successful\n",
      "your order is placed\n",
      "**************************************************\n",
      "----thanks for visiting my resturent-----\n"
     ]
    }
   ],
   "source": [
    "class Resturent:\n",
    "    def __init__(self,un,pw):\n",
    "        self.username=\"lalith\"\n",
    "        self.pas=1234\n",
    "        self.un=un\n",
    "        self.pw=pw\n",
    "    def Validation(self):\n",
    "        if self.un==self.username and self.pw==self.pas:\n",
    "            print(\"you are a valid user\")\n",
    "            obj=resturent()\n",
    "            while True:\n",
    "                option=int(input(\"enter choice\\n1.veg_starter\\n2.non veg\\n3.biryanis\\n4.display\\n5.payment\\n6.exit\"))\n",
    "                print(\"*\"*50)\n",
    "                if option==1:\n",
    "                    obj.veg_starter()\n",
    "                elif option==2:\n",
    "                    obj.Non_veg_starter()\n",
    "                elif option==3:\n",
    "                    obj.biryani()\n",
    "                elif option==4:\n",
    "                    obj.display()\n",
    "                elif option==5:\n",
    "                    upi=input(\"enter upi:\")\n",
    "                    pin=int(input(\"enter pin:\"))\n",
    "                    obj1=payment(upi,pin)\n",
    "                    obj1.valid()\n",
    "                elif option==6:\n",
    "                    print(\"----thanks for visiting my resturent-----\")\n",
    "                    break\n",
    "                else:\n",
    "                    print(\"invalid option...plz choose valid option\")\n",
    "        else:\n",
    "            print(\"you are not valid user\")\n",
    "un=input(\"enter username:\")\n",
    "pw=int(input(\"enter pin:\"))\n",
    "obj=Resturent(un,pw)\n",
    "obj.Validation()"
   ]
  },
  {
   "cell_type": "markdown",
   "metadata": {},
   "source": [
    "INHERITANCE.\n",
    "Its a phenomenon of dreaving the properties one class to another class  is known as inheritance.\n",
    "Inheritance the properties base class to derivierd class.\n",
    "  \n",
    "\n",
    "\n",
    "\n"
   ]
  },
  {
   "cell_type": "code",
   "execution_count": 1,
   "metadata": {},
   "outputs": [
    {
     "name": "stdout",
     "output_type": "stream",
     "text": [
      "Welcome to the Text-Based Cricket Game!\n",
      "You are batting. Try to score as many runs as possible.\n",
      "You scored 2 runs in this ball.\n",
      "Total runs: 2\n",
      "Balls left: 5\n",
      "You scored 4 runs in this ball.\n",
      "Total runs: 6\n",
      "Balls left: 4\n",
      "You scored 6 runs in this ball.\n",
      "Total runs: 12\n",
      "Balls left: 3\n",
      "You scored 6 runs in this ball.\n",
      "Total runs: 18\n",
      "Balls left: 2\n",
      "You scored 6 runs in this ball.\n",
      "Total runs: 24\n",
      "Balls left: 1\n",
      "You scored 5 runs in this ball.\n",
      "Total runs: 29\n",
      "Balls left: 0\n",
      "Innings over. Your total score is: 29\n"
     ]
    }
   ],
   "source": [
    "import random\n",
    "\n",
    "def cricket_game():\n",
    "    print(\"Welcome to the Text-Based Cricket Game!\")\n",
    "    print(\"You are batting. Try to score as many runs as possible.\")\n",
    "    \n",
    "    total_runs = 0\n",
    "    balls_left = 6\n",
    "    \n",
    "    while balls_left > 0:\n",
    "        input(\"Press Enter to roll the die...\")\n",
    "        \n",
    "        # Simulate a six-sided die (1 to 6)\n",
    "        runs_scored = random.randint(1, 6)\n",
    "        \n",
    "        if runs_scored == 1:\n",
    "            print(\"Out! You scored 0 runs in this ball.\")\n",
    "            break\n",
    "        else:\n",
    "            print(f\"You scored {runs_scored} runs in this ball.\")\n",
    "            total_runs += runs_scored\n",
    "            balls_left -= 1\n",
    "            print(f\"Total runs: {total_runs}\")\n",
    "            print(f\"Balls left: {balls_left}\")\n",
    "            \n",
    "    print(\"Innings over. Your total score is:\", total_runs)\n",
    "\n",
    "if __name__ == \"__main__\":\n",
    "    cricket_game()\n"
   ]
  },
  {
   "cell_type": "code",
   "execution_count": null,
   "metadata": {},
   "outputs": [],
   "source": [
    "class collage:\n",
    "    cname=\"vikas\"\n",
    "    address=\"hyd\"\n",
    "    def __init__(self,name,age,phone,type_of_p,obj):\n",
    "        self.name=name\n",
    "        self.phone=phone\n",
    "        self.age=age\n",
    "        self.type_of_p=type_of_p\n",
    "        self.obj=obj\n",
    "        \n",
    "    def display(self):\n",
    "        print(\"collage name: \",self.cname)\n",
    "        print(\"collage address: \",self.address)\n",
    "        print(\"person name: \",self.name)   \n",
    "        print(\"person phone: \",self.phone)\n",
    "        print(\"person age: \",self.age)   \n",
    "        print(\"person type_of_p : \",self.type_of_p)   \n",
    "        print(\"person obj: \",self.obj)   \n",
    "         "
   ]
  },
  {
   "cell_type": "code",
   "execution_count": 1,
   "metadata": {},
   "outputs": [
    {
     "name": "stdout",
     "output_type": "stream",
     "text": [
      "100 50 60\n"
     ]
    }
   ],
   "source": [
    "class p1:\n",
    "    a = 100\n",
    "    b = 50\n",
    "class p2:\n",
    "    a = 200\n",
    "    d = 60\n",
    "class c(p1,p2):\n",
    "    pass\n",
    "print(c.a,c.b,c.d)"
   ]
  },
  {
   "cell_type": "code",
   "execution_count": 2,
   "metadata": {},
   "outputs": [
    {
     "name": "stdout",
     "output_type": "stream",
     "text": [
      "200 50 60\n"
     ]
    }
   ],
   "source": [
    "class p1:\n",
    "    a = 100\n",
    "    b = 50\n",
    "class p2:\n",
    "    a = 200\n",
    "    d = 60\n",
    "class c(p2,p1):\n",
    "    pass\n",
    "print(c.a,c.b,c.d)"
   ]
  },
  {
   "cell_type": "code",
   "execution_count": 6,
   "metadata": {},
   "outputs": [
    {
     "name": "stdout",
     "output_type": "stream",
     "text": [
      "100 50 60\n"
     ]
    }
   ],
   "source": [
    "class p1:\n",
    "    a = 100\n",
    "    b = 50\n",
    "    def display1(self):\n",
    "        print(self.a,self.b)\n",
    "class p2:\n",
    "    a = 200\n",
    "    d = 60\n",
    "    def display2(self):\n",
    "        print(self.a,self.d)\n",
    "class c(p1,p2):\n",
    "     def display(self):\n",
    "         print(c.a,c.b,c.d)\n",
    "         \n",
    "         \n",
    "    \n",
    "obj = c()\n",
    "obj.display()\n",
    "    \n",
    "    \n"
   ]
  },
  {
   "cell_type": "code",
   "execution_count": 9,
   "metadata": {},
   "outputs": [
    {
     "name": "stdout",
     "output_type": "stream",
     "text": [
      "p1 100 50\n",
      "p2 100 60\n"
     ]
    }
   ],
   "source": [
    "class p1:\n",
    "    a = 100\n",
    "    b = 50\n",
    "    def display1(self):\n",
    "        print(\"p1\",self.a,self.b)\n",
    "class p2:\n",
    "    a = 200\n",
    "    d = 60\n",
    "    def display2(self):\n",
    "        print(\"p2\",self.a,self.d)\n",
    "class c(p1,p2):\n",
    "     def display(self):\n",
    "         super().display1()\n",
    "         super().display2()\n",
    "         \n",
    "    \n",
    "obj = c()\n",
    "obj.display()\n",
    "    \n",
    "    \n"
   ]
  },
  {
   "cell_type": "code",
   "execution_count": 12,
   "metadata": {},
   "outputs": [
    {
     "name": "stdout",
     "output_type": "stream",
     "text": [
      "p1 100 50\n",
      "p1 100 50\n"
     ]
    }
   ],
   "source": [
    "class p1:\n",
    "    a = 100\n",
    "    b = 50\n",
    "    def display(self):\n",
    "        print(\"p1\",self.a,self.b)\n",
    "class p2:\n",
    "    a = 200\n",
    "    d = 60\n",
    "    def display(self):\n",
    "        print(\"p2\",self.a,self.d)\n",
    "class c(p1,p2):\n",
    "     def display(self):\n",
    "         super().display()\n",
    "         super().display()\n",
    "         \n",
    "    \n",
    "obj = c()\n",
    "obj.display()\n",
    "    \n",
    "    \n"
   ]
  },
  {
   "cell_type": "code",
   "execution_count": 13,
   "metadata": {},
   "outputs": [
    {
     "name": "stdout",
     "output_type": "stream",
     "text": [
      "p1 100 50\n",
      "p2 100 60\n"
     ]
    }
   ],
   "source": [
    "class p1:\n",
    "    a = 100\n",
    "    b = 50\n",
    "    def display1(self):\n",
    "        print(\"p1\",self.a,self.b)\n",
    "class p2:\n",
    "    a = 200\n",
    "    d = 60\n",
    "    def display2(self):\n",
    "        print(\"p2\",self.a,self.d)\n",
    "class c(p1,p2):\n",
    "     def display(self):\n",
    "         super().display1()\n",
    "         p2.display2(self)\n",
    "         \n",
    "    \n",
    "obj = c()\n",
    "obj.display()\n",
    "    \n",
    "    \n"
   ]
  },
  {
   "cell_type": "code",
   "execution_count": 2,
   "metadata": {},
   "outputs": [
    {
     "data": {
      "text/plain": [
       "<__main__.customer at 0x1527a6e0fd0>"
      ]
     },
     "execution_count": 2,
     "metadata": {},
     "output_type": "execute_result"
    }
   ],
   "source": [
    "class customer:\n",
    "    cust_count=0\n",
    "    cust_details={}\n",
    "    def __init__(self,cname,email,age,phone,address,adhaar):\n",
    "        self.c_name=cname\n",
    "        self.c_age=age\n",
    "        self.c_email=email\n",
    "        self.c_phone=phone\n",
    "        self.c_address=address\n",
    "        self.c_adhaar=adhaar\n",
    "        self.inc_cust_count()\n",
    "        self.cust_id=1560+self.cust_count\n",
    "        self.concat_cust(self.cust_id,self)\n",
    "        \n",
    "        \n",
    "    @classmethod\n",
    "    def inc_cust_count(cls):\n",
    "        cls.cust_count+=1\n",
    "            \n",
    "            \n",
    "            \n",
    "            \n",
    "    @classmethod\n",
    "    def concat_cust(cls,id,self):\n",
    "        cls.cust_details[id]=self\n",
    "    \n",
    "\n",
    "\n",
    "customer(\"lalith\",\"lalithkumar@gmail.com\",22,6304884375,\"hyd\",123456789012)\n",
    "\n",
    "    \n",
    "        \n",
    "\n",
    "    "
   ]
  },
  {
   "cell_type": "code",
   "execution_count": 9,
   "metadata": {},
   "outputs": [
    {
     "name": "stdout",
     "output_type": "stream",
     "text": [
      "{1561: <__main__.customer object at 0x000001527A6E0FD0>, 1562: <__main__.customer object at 0x000001527AA60850>}\n"
     ]
    }
   ],
   "source": [
    "class product:\n",
    "    cust_count=0\n",
    "    cust_details={}\n",
    "    def __init__(self,type_of_seller,type_of_prod,pname,desc,price,discount,quantity,dom,doe,):\n",
    "        self.type_of_seller=type_of_seller\n",
    "        self.type_of_prod=type_of_prod\n",
    "        self.pname=pname\n",
    "        self.desc=desc\n",
    "        self.price=price\n",
    "        self.discount=discount\n",
    "        self.quantity=quantity\n",
    "        self.dom=dom\n",
    "        self.doe=doe \n",
    "        self.inc_prod_count()\n",
    "        self.cust_id=7560+self.prod_count\n",
    "        self.concat_cust(self.prod_id,self)\n",
    "        \n",
    "        \n",
    "        @classmethod\n",
    "        def inc_prod_count(cls):\n",
    "            cls.prod_count += 1\n",
    "            \n",
    "            \n",
    "        @classmethod\n",
    "        def concat_prod(cls):\n",
    "            cls.prod_details[id] = self\n",
    "        \n",
    "        \n",
    "        def change_discount(self):\n",
    "            self.p_discount=int(input(\"enter the new discount value:\"))\n",
    "            \n",
    "        def change_inc_quantity(self):\n",
    "            self.p_quantity += int(input(\"enter the new quantity value:\"))\n",
    "            \n",
    "            \n",
    "        def change_desc_quantity(self,value):\n",
    "            self.p_quantity -= value\n",
    "            \n",
    "            \n",
    "        @classmethod\n",
    "        def display_produ_details(cls):\n",
    "            p_list =cls.prod_details\n",
    "            print('product_id','name','desc','price','discount','quantity','dom','doe',sep=' |')\n",
    "            # for i in p_list:\n",
    "            #     print(p_list[i].prod_id,p_list[i].)\n",
    "            \n",
    "            \n",
    "            \n",
    "            \n",
    "            \n",
    "# p1=product(\"mobile\",\"iphone14\",\"iphone14pro\",)  \n",
    "    \n",
    "\n",
    "\n",
    "customer(\"lalith\",\"lalithkumar@gmail.com\",22,6304884375,\"hyd\",123456789012)\n",
    "print(customer.cust_details)\n",
    "\n",
    "\n",
    "\n",
    "            \n",
    "    \n",
    "        \n",
    "    \n",
    "    "
   ]
  },
  {
   "cell_type": "markdown",
   "metadata": {},
   "source": [
    "the exections are classified into two types of class\n",
    "1. pre-defined exection class\n",
    "2. user-defined exection class\n",
    "\n",
    "\n",
    "1. pre -define exception are desidend by python devlopers.\n",
    "each exception have uniqe specificion\n",
    "ex:\n",
    "type error, value error, name error......\n",
    "\n",
    "\n",
    "2. its is developed by end users or devlopers to create user-define exceptions(custom).\n",
    " we have to use pareant Exception class and user-defined class.\n",
    "syntax:\n",
    "class Exceptionname(Expection):\n",
    "        def__init__(self,msg):\n",
    "            self\n",
    "\n"
   ]
  },
  {
   "cell_type": "code",
   "execution_count": 12,
   "metadata": {},
   "outputs": [
    {
     "ename": "sai",
     "evalue": "",
     "output_type": "error",
     "traceback": [
      "\u001b[1;31m---------------------------------------------------------------------------\u001b[0m",
      "\u001b[1;31msai\u001b[0m                                       Traceback (most recent call last)",
      "\u001b[1;32mc:\\Users\\lvlyl\\OneDrive\\Documents\\GitHub\\python_lalith_12\\function.ipynb Cell 220\u001b[0m line \u001b[0;36m6\n\u001b[0;32m      <a href='vscode-notebook-cell:/c%3A/Users/lvlyl/OneDrive/Documents/GitHub/python_lalith_12/function.ipynb#Y432sZmlsZQ%3D%3D?line=3'>4</a>\u001b[0m a\u001b[39m=\u001b[39m\u001b[39m10\u001b[39m\n\u001b[0;32m      <a href='vscode-notebook-cell:/c%3A/Users/lvlyl/OneDrive/Documents/GitHub/python_lalith_12/function.ipynb#Y432sZmlsZQ%3D%3D?line=4'>5</a>\u001b[0m \u001b[39mif\u001b[39;00m a \u001b[39m==\u001b[39m \u001b[39m10\u001b[39m:\n\u001b[1;32m----> <a href='vscode-notebook-cell:/c%3A/Users/lvlyl/OneDrive/Documents/GitHub/python_lalith_12/function.ipynb#Y432sZmlsZQ%3D%3D?line=5'>6</a>\u001b[0m     \u001b[39mraise\u001b[39;00m sai\n\u001b[0;32m      <a href='vscode-notebook-cell:/c%3A/Users/lvlyl/OneDrive/Documents/GitHub/python_lalith_12/function.ipynb#Y432sZmlsZQ%3D%3D?line=6'>7</a>\u001b[0m \u001b[39melse\u001b[39;00m:\n\u001b[0;32m      <a href='vscode-notebook-cell:/c%3A/Users/lvlyl/OneDrive/Documents/GitHub/python_lalith_12/function.ipynb#Y432sZmlsZQ%3D%3D?line=7'>8</a>\u001b[0m     \u001b[39mprint\u001b[39m(\u001b[39m'\u001b[39m\u001b[39mbye\u001b[39m\u001b[39m'\u001b[39m)\n",
      "\u001b[1;31msai\u001b[0m: "
     ]
    }
   ],
   "source": [
    "class sai(Exception):\n",
    "    def __init__(self):\n",
    "        pass\n",
    "a=10\n",
    "if a == 10:\n",
    "    raise sai\n",
    "else:\n",
    "    print('bye')\n",
    "        "
   ]
  },
  {
   "cell_type": "code",
   "execution_count": 18,
   "metadata": {},
   "outputs": [
    {
     "ename": "sai",
     "evalue": "a shoi",
     "output_type": "error",
     "traceback": [
      "\u001b[1;31m---------------------------------------------------------------------------\u001b[0m",
      "\u001b[1;31msai\u001b[0m                                       Traceback (most recent call last)",
      "\u001b[1;32mc:\\Users\\lvlyl\\OneDrive\\Documents\\GitHub\\python_lalith_12\\function.ipynb Cell 221\u001b[0m line \u001b[0;36m7\n\u001b[0;32m      <a href='vscode-notebook-cell:/c%3A/Users/lvlyl/OneDrive/Documents/GitHub/python_lalith_12/function.ipynb#Y434sZmlsZQ%3D%3D?line=4'>5</a>\u001b[0m a\u001b[39m=\u001b[39m\u001b[39m10\u001b[39m\n\u001b[0;32m      <a href='vscode-notebook-cell:/c%3A/Users/lvlyl/OneDrive/Documents/GitHub/python_lalith_12/function.ipynb#Y434sZmlsZQ%3D%3D?line=5'>6</a>\u001b[0m \u001b[39mif\u001b[39;00m a \u001b[39m==\u001b[39m \u001b[39m10\u001b[39m:\n\u001b[1;32m----> <a href='vscode-notebook-cell:/c%3A/Users/lvlyl/OneDrive/Documents/GitHub/python_lalith_12/function.ipynb#Y434sZmlsZQ%3D%3D?line=6'>7</a>\u001b[0m     \u001b[39mraise\u001b[39;00m sai(\u001b[39m'\u001b[39m\u001b[39ma shoi\u001b[39m\u001b[39m'\u001b[39m)\n\u001b[0;32m      <a href='vscode-notebook-cell:/c%3A/Users/lvlyl/OneDrive/Documents/GitHub/python_lalith_12/function.ipynb#Y434sZmlsZQ%3D%3D?line=7'>8</a>\u001b[0m \u001b[39melse\u001b[39;00m:\n\u001b[0;32m      <a href='vscode-notebook-cell:/c%3A/Users/lvlyl/OneDrive/Documents/GitHub/python_lalith_12/function.ipynb#Y434sZmlsZQ%3D%3D?line=8'>9</a>\u001b[0m     \u001b[39mprint\u001b[39m(\u001b[39m'\u001b[39m\u001b[39mbye\u001b[39m\u001b[39m'\u001b[39m)\n",
      "\u001b[1;31msai\u001b[0m: a shoi"
     ]
    }
   ],
   "source": [
    "class sai(Exception):\n",
    "    def __init__(self,msg=None):\n",
    "        self.msg=msg\n",
    "        \n",
    "a=10\n",
    "if a == 10:\n",
    "    raise sai('a shoi')\n",
    "else:\n",
    "    print('bye')\n",
    "        "
   ]
  },
  {
   "cell_type": "code",
   "execution_count": 14,
   "metadata": {},
   "outputs": [
    {
     "name": "stdout",
     "output_type": "stream",
     "text": [
      "bye\n"
     ]
    }
   ],
   "source": [
    "class sai(Exception):\n",
    "    def __init__(self,msg=None):\n",
    "        pass\n",
    "try:       \n",
    "    a=11\n",
    "    if a == 10:\n",
    "        raise sai('')\n",
    "    else:\n",
    "        print('bye')\n",
    "except sai:\n",
    "    print('hai')\n",
    "\n",
    "#custom expection.\n",
    "            "
   ]
  },
  {
   "cell_type": "code",
   "execution_count": 19,
   "metadata": {},
   "outputs": [
    {
     "name": "stdout",
     "output_type": "stream",
     "text": [
      "1.0\n",
      "0.06666666666666667\n",
      "0.05128205128205128\n"
     ]
    },
    {
     "ename": "TypeError",
     "evalue": "unsupported operand type(s) for /: 'int' and 'str'",
     "output_type": "error",
     "traceback": [
      "\u001b[1;31m---------------------------------------------------------------------------\u001b[0m",
      "\u001b[1;31mTypeError\u001b[0m                                 Traceback (most recent call last)",
      "\u001b[1;32mc:\\Users\\lvlyl\\OneDrive\\Documents\\GitHub\\python_lalith_12\\function.ipynb Cell 223\u001b[0m line \u001b[0;36m3\n\u001b[0;32m      <a href='vscode-notebook-cell:/c%3A/Users/lvlyl/OneDrive/Documents/GitHub/python_lalith_12/function.ipynb#Y441sZmlsZQ%3D%3D?line=0'>1</a>\u001b[0m l\u001b[39m=\u001b[39m[\u001b[39m10\u001b[39m,\u001b[39m150\u001b[39m,\u001b[39m195\u001b[39m,\u001b[39m'\u001b[39m\u001b[39mhaii\u001b[39m\u001b[39m'\u001b[39m,\u001b[39m0\u001b[39m,\u001b[39m80\u001b[39m]\n\u001b[0;32m      <a href='vscode-notebook-cell:/c%3A/Users/lvlyl/OneDrive/Documents/GitHub/python_lalith_12/function.ipynb#Y441sZmlsZQ%3D%3D?line=1'>2</a>\u001b[0m \u001b[39mfor\u001b[39;00m i \u001b[39min\u001b[39;00m l:\n\u001b[1;32m----> <a href='vscode-notebook-cell:/c%3A/Users/lvlyl/OneDrive/Documents/GitHub/python_lalith_12/function.ipynb#Y441sZmlsZQ%3D%3D?line=2'>3</a>\u001b[0m     \u001b[39mprint\u001b[39m(\u001b[39m10\u001b[39;49m\u001b[39m/\u001b[39;49mi)\n",
      "\u001b[1;31mTypeError\u001b[0m: unsupported operand type(s) for /: 'int' and 'str'"
     ]
    }
   ],
   "source": [
    "l=[10,150,195,'haii',0,80]\n",
    "for i in l:\n",
    "    print(10/i)"
   ]
  },
  {
   "cell_type": "code",
   "execution_count": 24,
   "metadata": {},
   "outputs": [
    {
     "name": "stdout",
     "output_type": "stream",
     "text": [
      "program stoped\n"
     ]
    }
   ],
   "source": [
    "try:\n",
    "    l=eval(input('enter the value'))\n",
    "    for i in l:\n",
    "        print(10/i)\n",
    "    \n",
    "except TypeError:\n",
    "    print(\"program stoped\")\n",
    "    \n",
    "except ZeroDivisionError:\n",
    "    print(i/10)\n",
    "    \n",
    "except Exception:\n",
    "    print(\"invalid\")\n",
    "    \n",
    "except:\n",
    "    print('stop')\n",
    "    \n",
    " \n"
   ]
  }
 ],
 "metadata": {
  "kernelspec": {
   "display_name": "Python 3",
   "language": "python",
   "name": "python3"
  },
  "language_info": {
   "codemirror_mode": {
    "name": "ipython",
    "version": 3
   },
   "file_extension": ".py",
   "mimetype": "text/x-python",
   "name": "python",
   "nbconvert_exporter": "python",
   "pygments_lexer": "ipython3",
   "version": "3.11.4"
  },
  "orig_nbformat": 4
 },
 "nbformat": 4,
 "nbformat_minor": 2
}
