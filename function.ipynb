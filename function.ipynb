{
 "cells": [
  {
   "cell_type": "markdown",
   "metadata": {},
   "source": [
    "function without argument without return."
   ]
  },
  {
   "cell_type": "code",
   "execution_count": 1,
   "metadata": {},
   "outputs": [
    {
     "name": "stdout",
     "output_type": "stream",
     "text": [
      "start\n",
      "<function sample at 0x000001FF04003C40>\n",
      "stop\n"
     ]
    }
   ],
   "source": [
    "print('start')\n",
    "def sample():\n",
    "    print('hai')\n",
    "print(sample)\n",
    "print('stop')"
   ]
  },
  {
   "cell_type": "code",
   "execution_count": 2,
   "metadata": {},
   "outputs": [
    {
     "name": "stdout",
     "output_type": "stream",
     "text": [
      "start\n",
      "hai\n",
      "None\n",
      "stop\n"
     ]
    }
   ],
   "source": [
    "print('start')\n",
    "def sample():\n",
    "    print('hai')\n",
    "print(sample())\n",
    "print('stop')"
   ]
  },
  {
   "cell_type": "code",
   "execution_count": 3,
   "metadata": {},
   "outputs": [
    {
     "name": "stdout",
     "output_type": "stream",
     "text": [
      "start\n",
      "200\n",
      "None\n",
      "stop\n"
     ]
    }
   ],
   "source": [
    "print('start')\n",
    "def sample():\n",
    "    a=10\n",
    "    b=20\n",
    "    c=a*b\n",
    "    print(c)\n",
    "print(sample())\n",
    "print('stop')"
   ]
  },
  {
   "cell_type": "code",
   "execution_count": 4,
   "metadata": {},
   "outputs": [
    {
     "name": "stdout",
     "output_type": "stream",
     "text": [
      "start\n",
      "200\n",
      "stop\n"
     ]
    }
   ],
   "source": [
    "print('start')\n",
    "def sample():\n",
    "    a=10\n",
    "    b=20\n",
    "    c=a*b\n",
    "    print(c)\n",
    "sample()\n",
    "print('stop')"
   ]
  },
  {
   "cell_type": "markdown",
   "metadata": {},
   "source": [
    "function with argument without return"
   ]
  },
  {
   "cell_type": "code",
   "execution_count": 5,
   "metadata": {},
   "outputs": [
    {
     "name": "stdout",
     "output_type": "stream",
     "text": [
      "20\n",
      "None\n"
     ]
    }
   ],
   "source": [
    "def demo(a,b):\n",
    "    c=a*b\n",
    "    print(c)\n",
    "print(demo(10,2))"
   ]
  },
  {
   "cell_type": "code",
   "execution_count": 6,
   "metadata": {},
   "outputs": [
    {
     "name": "stdout",
     "output_type": "stream",
     "text": [
      "20\n"
     ]
    }
   ],
   "source": [
    "def demo(a,b):\n",
    "    c=a*b\n",
    "    print(c)\n",
    "demo(10,2)"
   ]
  },
  {
   "cell_type": "code",
   "execution_count": 7,
   "metadata": {},
   "outputs": [
    {
     "ename": "TypeError",
     "evalue": "demo() missing 2 required positional arguments: 'a' and 'b'",
     "output_type": "error",
     "traceback": [
      "\u001b[1;31m---------------------------------------------------------------------------\u001b[0m",
      "\u001b[1;31mTypeError\u001b[0m                                 Traceback (most recent call last)",
      "\u001b[1;32mc:\\Users\\lvlyl\\OneDrive\\Documents\\GitHub\\python_lalith_12\\function.ipynb Cell 8\u001b[0m line \u001b[0;36m4\n\u001b[0;32m      <a href='vscode-notebook-cell:/c%3A/Users/lvlyl/OneDrive/Documents/GitHub/python_lalith_12/function.ipynb#X10sZmlsZQ%3D%3D?line=1'>2</a>\u001b[0m     c\u001b[39m=\u001b[39ma\u001b[39m*\u001b[39mb\n\u001b[0;32m      <a href='vscode-notebook-cell:/c%3A/Users/lvlyl/OneDrive/Documents/GitHub/python_lalith_12/function.ipynb#X10sZmlsZQ%3D%3D?line=2'>3</a>\u001b[0m     \u001b[39mprint\u001b[39m(c)\n\u001b[1;32m----> <a href='vscode-notebook-cell:/c%3A/Users/lvlyl/OneDrive/Documents/GitHub/python_lalith_12/function.ipynb#X10sZmlsZQ%3D%3D?line=3'>4</a>\u001b[0m demo()   \u001b[39m#----> arguments are must\u001b[39;00m\n",
      "\u001b[1;31mTypeError\u001b[0m: demo() missing 2 required positional arguments: 'a' and 'b'"
     ]
    }
   ],
   "source": [
    "def demo(a,b):\n",
    "    c=a*b\n",
    "    print(c)\n",
    "demo()   #----> arguments are must"
   ]
  },
  {
   "cell_type": "code",
   "execution_count": 8,
   "metadata": {},
   "outputs": [
    {
     "name": "stdout",
     "output_type": "stream",
     "text": [
      "20\n"
     ]
    }
   ],
   "source": [
    "def demo(a=10,b=2):\n",
    "    c=a*b\n",
    "    print(c)\n",
    "demo()"
   ]
  },
  {
   "cell_type": "code",
   "execution_count": 9,
   "metadata": {},
   "outputs": [
    {
     "name": "stdout",
     "output_type": "stream",
     "text": [
      "30\n"
     ]
    }
   ],
   "source": [
    "def demo(a=10,b=2):\n",
    "    c=a*b\n",
    "    print(c)\n",
    "demo(15,2)"
   ]
  },
  {
   "cell_type": "code",
   "execution_count": 10,
   "metadata": {},
   "outputs": [
    {
     "name": "stdout",
     "output_type": "stream",
     "text": [
      "50\n"
     ]
    }
   ],
   "source": [
    "def demo(a=10,b=2):\n",
    "    c=a*b\n",
    "    print(c)\n",
    "demo(a=10,b=5)"
   ]
  },
  {
   "cell_type": "code",
   "execution_count": 11,
   "metadata": {},
   "outputs": [
    {
     "name": "stdout",
     "output_type": "stream",
     "text": [
      "60\n"
     ]
    }
   ],
   "source": [
    "def demo(a=10,b=2):\n",
    "    c=a*b\n",
    "    print(c)\n",
    "demo(30)"
   ]
  },
  {
   "cell_type": "code",
   "execution_count": 12,
   "metadata": {},
   "outputs": [
    {
     "name": "stdout",
     "output_type": "stream",
     "text": [
      "600\n"
     ]
    }
   ],
   "source": [
    "def demo(a=10,b=2):\n",
    "    c=a*b\n",
    "    print(c)\n",
    "demo(b=60)"
   ]
  },
  {
   "cell_type": "markdown",
   "metadata": {},
   "source": [
    "function without argument with return"
   ]
  },
  {
   "cell_type": "code",
   "execution_count": 13,
   "metadata": {},
   "outputs": [
    {
     "data": {
      "text/plain": [
       "0"
      ]
     },
     "execution_count": 13,
     "metadata": {},
     "output_type": "execute_result"
    }
   ],
   "source": [
    "def mod():\n",
    "    a=2\n",
    "    b=10\n",
    "    c=b%a\n",
    "    return c\n",
    "# print(mod())\n",
    "mod()"
   ]
  },
  {
   "cell_type": "code",
   "execution_count": 14,
   "metadata": {},
   "outputs": [
    {
     "name": "stdout",
     "output_type": "stream",
     "text": [
      "0\n",
      "10\n"
     ]
    }
   ],
   "source": [
    "def mod():\n",
    "    a=2\n",
    "    b=10\n",
    "    c=b%a\n",
    "    return c\n",
    "res=mod()\n",
    "print(res)\n",
    "res+=10\n",
    "print(res)"
   ]
  },
  {
   "cell_type": "markdown",
   "metadata": {},
   "source": [
    "function with argument with return"
   ]
  },
  {
   "cell_type": "code",
   "execution_count": 15,
   "metadata": {},
   "outputs": [
    {
     "data": {
      "text/plain": [
       "50"
      ]
     },
     "execution_count": 15,
     "metadata": {},
     "output_type": "execute_result"
    }
   ],
   "source": [
    "def mul(a,b):\n",
    "    c=a*b\n",
    "    return c\n",
    "mul(10,5)\n",
    "mul(a=100,b=2)\n",
    "mul(a=5,b=10)"
   ]
  },
  {
   "cell_type": "code",
   "execution_count": 16,
   "metadata": {},
   "outputs": [
    {
     "data": {
      "text/plain": [
       "500"
      ]
     },
     "execution_count": 16,
     "metadata": {},
     "output_type": "execute_result"
    }
   ],
   "source": [
    "def mul(a=100,b=5):\n",
    "    c=a*b\n",
    "    return c\n",
    "mul()"
   ]
  },
  {
   "cell_type": "code",
   "execution_count": 17,
   "metadata": {},
   "outputs": [
    {
     "data": {
      "text/plain": [
       "400"
      ]
     },
     "execution_count": 17,
     "metadata": {},
     "output_type": "execute_result"
    }
   ],
   "source": [
    "def mul(a=10,b=2):\n",
    "    c=a*b\n",
    "    return c\n",
    "mul(100,4)"
   ]
  },
  {
   "cell_type": "markdown",
   "metadata": {},
   "source": [
    "PROCEDURAL PROGRAMMING LANGUAGE"
   ]
  },
  {
   "cell_type": "code",
   "execution_count": 18,
   "metadata": {},
   "outputs": [
    {
     "name": "stdout",
     "output_type": "stream",
     "text": [
      "HELLO HAII 123 *$!\n"
     ]
    }
   ],
   "source": [
    "st='hello HAII 123 *$!'\n",
    "res=''\n",
    "for i in st:\n",
    "    if 'a'<=i<='z':\n",
    "        res+=chr(ord(i)-32)\n",
    "    else:\n",
    "        res+=i\n",
    "print(res)"
   ]
  },
  {
   "cell_type": "code",
   "execution_count": 19,
   "metadata": {},
   "outputs": [
    {
     "name": "stdout",
     "output_type": "stream",
     "text": [
      "HELLO HAII 123 *$!\n"
     ]
    }
   ],
   "source": [
    "#1. FUNCTION WITHOUT ARGUMENT WITHOUT RETURN\n",
    "def u_upper():\n",
    "    st='hello HAII 123 *$!'\n",
    "    res=''\n",
    "    for i in st:\n",
    "        if 'a'<=i<='z':\n",
    "            res+=chr(ord(i)-32)\n",
    "        else:\n",
    "            res+=i\n",
    "    print(res)\n",
    "u_upper()"
   ]
  },
  {
   "cell_type": "code",
   "execution_count": 20,
   "metadata": {},
   "outputs": [
    {
     "name": "stdout",
     "output_type": "stream",
     "text": [
      "HELLO HAII 123 *$!\n"
     ]
    }
   ],
   "source": [
    "#2. FUNCTION WITH ARGUMENT WITHOUT RETURN\n",
    "x='hello HAII 123 *$!'\n",
    "def u_upper(st):\n",
    "    res=''\n",
    "    for i in st:\n",
    "        if 'a'<=i<='z':\n",
    "            res+=chr(ord(i)-32)\n",
    "        else:\n",
    "            res+=i\n",
    "    print(res)\n",
    "u_upper(x)"
   ]
  },
  {
   "cell_type": "code",
   "execution_count": 21,
   "metadata": {},
   "outputs": [
    {
     "data": {
      "text/plain": [
       "'HELLO HAII 123 *$!'"
      ]
     },
     "execution_count": 21,
     "metadata": {},
     "output_type": "execute_result"
    }
   ],
   "source": [
    "#3. FUNCTION WITHOUT ARGUMENT WITH RETURN\n",
    "def u_upper():\n",
    "    st='hello HAII 123 *$!'\n",
    "    res=''\n",
    "    for i in st:\n",
    "        if 'a'<=i<='z':\n",
    "            res+=chr(ord(i)-32)\n",
    "        else:\n",
    "            res+=i\n",
    "    return res\n",
    "u_upper()"
   ]
  },
  {
   "cell_type": "code",
   "execution_count": 22,
   "metadata": {},
   "outputs": [
    {
     "data": {
      "text/plain": [
       "'HELLO HAII 123 *$!'"
      ]
     },
     "execution_count": 22,
     "metadata": {},
     "output_type": "execute_result"
    }
   ],
   "source": [
    "#4. FUNCTION WITH ARGUMENT WITH RETURN\n",
    "x='hello HAII 123 *$!'\n",
    "def u_upper(st):\n",
    "    res=''\n",
    "    for i in st:\n",
    "        if 'a'<=i<='z':\n",
    "            res+=chr(ord(i)-32)\n",
    "        else:\n",
    "            res+=i\n",
    "    return res\n",
    "u_upper(x)\n"
   ]
  },
  {
   "cell_type": "markdown",
   "metadata": {},
   "source": [
    " BUILT IN FUNCTIONS AND USER DEFINED FUNCTIONS"
   ]
  },
  {
   "cell_type": "code",
   "execution_count": 23,
   "metadata": {},
   "outputs": [
    {
     "data": {
      "text/plain": [
       "'Hello world@12#'"
      ]
     },
     "execution_count": 23,
     "metadata": {},
     "output_type": "execute_result"
    }
   ],
   "source": [
    "#1. CAPITALIZE\n",
    "st='hello world@12#'\n",
    "st.capitalize()"
   ]
  },
  {
   "cell_type": "code",
   "execution_count": 24,
   "metadata": {},
   "outputs": [
    {
     "data": {
      "text/plain": [
       "'Hello world@12#'"
      ]
     },
     "execution_count": 24,
     "metadata": {},
     "output_type": "execute_result"
    }
   ],
   "source": [
    "st='hello world@12#'\n",
    "def u_capitalize(coll):\n",
    "    res=''\n",
    "    if 'a'<=coll[0]<='z':\n",
    "        res+=chr(ord(coll[0])-32)\n",
    "    else:\n",
    "        res+=coll[0]\n",
    "    for i in range(1,len(coll)):\n",
    "        if 'A'<=coll[i]<='Z':\n",
    "            res+=chr(ord(coll[i])+32)\n",
    "        else:\n",
    "            res+=coll[i]\n",
    "    return res\n",
    "u_capitalize(st)"
   ]
  },
  {
   "cell_type": "code",
   "execution_count": 25,
   "metadata": {},
   "outputs": [
    {
     "data": {
      "text/plain": [
       "'hello world123fgf @#'"
      ]
     },
     "execution_count": 25,
     "metadata": {},
     "output_type": "execute_result"
    }
   ],
   "source": [
    "#2. CASEFOLD\n",
    "st='HELLO WORLD123FGF @#'\n",
    "st.casefold()"
   ]
  },
  {
   "cell_type": "code",
   "execution_count": 26,
   "metadata": {},
   "outputs": [
    {
     "data": {
      "text/plain": [
       "'hello world123fgf @#'"
      ]
     },
     "execution_count": 26,
     "metadata": {},
     "output_type": "execute_result"
    }
   ],
   "source": [
    "x='HELLO WORLD123FGF @#'\n",
    "def u_casefold(coll):\n",
    "    res=''\n",
    "    for i in coll:\n",
    "        if 'A'<=i<='Z':\n",
    "            res+=chr(ord(i)+32)\n",
    "        else:\n",
    "            res+=i\n",
    "    return res\n",
    "u_casefold(x)"
   ]
  },
  {
   "cell_type": "code",
   "execution_count": 27,
   "metadata": {},
   "outputs": [
    {
     "data": {
      "text/plain": [
       "'HELLO WORLD123FGF @#'"
      ]
     },
     "execution_count": 27,
     "metadata": {},
     "output_type": "execute_result"
    }
   ],
   "source": [
    "#3. UPPER\n",
    "st='hello WORLD123FGF @#'\n",
    "st.upper()"
   ]
  },
  {
   "cell_type": "code",
   "execution_count": 29,
   "metadata": {},
   "outputs": [
    {
     "data": {
      "text/plain": [
       "'HELLO WORLD123FGF @#'"
      ]
     },
     "execution_count": 29,
     "metadata": {},
     "output_type": "execute_result"
    }
   ],
   "source": [
    "x='hello WORLD123FGF @#'\n",
    "def u_upper(coll):\n",
    "    res=\"\"\n",
    "    for i in coll:\n",
    "        if \"a\"<=i<=\"z\":\n",
    "            res+=chr(ord(i)-32)\n",
    "        else:\n",
    "            res+=i\n",
    "    return res\n",
    "u_upper(x)        "
   ]
  },
  {
   "cell_type": "code",
   "execution_count": 30,
   "metadata": {},
   "outputs": [
    {
     "data": {
      "text/plain": [
       "'hello world123fgf @#'"
      ]
     },
     "execution_count": 30,
     "metadata": {},
     "output_type": "execute_result"
    }
   ],
   "source": [
    "#4. lower\n",
    "st='HELLO WORLD123FGF @#'\n",
    "st.lower()"
   ]
  },
  {
   "cell_type": "code",
   "execution_count": 31,
   "metadata": {},
   "outputs": [
    {
     "data": {
      "text/plain": [
       "'hello world123fgf @#'"
      ]
     },
     "execution_count": 31,
     "metadata": {},
     "output_type": "execute_result"
    }
   ],
   "source": [
    "st='HELLO WORLD123FGF @#'\n",
    "def u_lower(coll):\n",
    "    res=\"\"\n",
    "    for i in coll:\n",
    "        if \"A\"<=i<=\"Z\":\n",
    "            res+=chr(ord(i)+32)\n",
    "        else:\n",
    "            res+=i\n",
    "    return res\n",
    "u_lower(st)        "
   ]
  },
  {
   "cell_type": "code",
   "execution_count": 32,
   "metadata": {},
   "outputs": [
    {
     "data": {
      "text/plain": [
       "'hello WORLD123fgf @#'"
      ]
     },
     "execution_count": 32,
     "metadata": {},
     "output_type": "execute_result"
    }
   ],
   "source": [
    "#5. swapcase\n",
    "st='HELLO world123FGF @#'\n",
    "st.swapcase()"
   ]
  },
  {
   "cell_type": "code",
   "execution_count": 44,
   "metadata": {},
   "outputs": [
    {
     "data": {
      "text/plain": [
       "'hello WORLD123fgf @#'"
      ]
     },
     "execution_count": 44,
     "metadata": {},
     "output_type": "execute_result"
    }
   ],
   "source": [
    "st='HELLO world123FGF @#'\n",
    "def h(t):\n",
    "    res=''\n",
    "    for i in t:\n",
    "        if('A'<=i<='Z'):\n",
    "            res+=chr(ord(i)+32)\n",
    "        elif('a'<=i<='z'):\n",
    "            res+=chr(ord(i)-32)\n",
    "        else:\n",
    "            res+=i\n",
    "    return res\n",
    "h(st)       "
   ]
  },
  {
   "cell_type": "code",
   "execution_count": 45,
   "metadata": {},
   "outputs": [
    {
     "data": {
      "text/plain": [
       "'Hello World123Abc @# $Xyz Ijkl'"
      ]
     },
     "execution_count": 45,
     "metadata": {},
     "output_type": "execute_result"
    }
   ],
   "source": [
    "#6. TITLECASE\n",
    "st='HELLO WORLD123ABC @# $XYZ IJKL'\n",
    "st.title()"
   ]
  },
  {
   "cell_type": "code",
   "execution_count": 2,
   "metadata": {},
   "outputs": [
    {
     "data": {
      "text/plain": [
       "'Hello World123Abc @# $Xyz Ijkl'"
      ]
     },
     "execution_count": 2,
     "metadata": {},
     "output_type": "execute_result"
    }
   ],
   "source": [
    "st='heLLO World123ABC @# $XYZ IJKL'\n",
    "def u_title(coll):\n",
    "    temp=0\n",
    "    res=''\n",
    "    if 'a'<=coll[0]<='z':\n",
    "        res+=chr(ord(coll[0])-32)\n",
    "        temp=1\n",
    "    elif 'A'<=coll[0]<='Z':\n",
    "        res+=coll[0]\n",
    "        temp=1\n",
    "    while temp<len(coll):\n",
    "        if not('A'<=coll[temp]<='Z' or 'a'<=coll[temp]<='z'):\n",
    "            res+=coll[temp]\n",
    "            if 'a'<=coll[temp+1]<='z':\n",
    "                res+=chr(ord(coll[temp+1])-32)\n",
    "            else:\n",
    "                res+=coll[temp+1]\n",
    "            temp+=1\n",
    "        elif 'A'<=coll[temp]<='Z':\n",
    "            res+=chr(ord(coll[temp])+32)\n",
    "        else:\n",
    "            res+=coll[temp]\n",
    "        temp+=1\n",
    "    return res\n",
    "u_title(st)"
   ]
  },
  {
   "cell_type": "code",
   "execution_count": 47,
   "metadata": {},
   "outputs": [
    {
     "name": "stdout",
     "output_type": "stream",
     "text": [
      "___abc____\n"
     ]
    }
   ],
   "source": [
    "#6. CENTER\n",
    "st='abc'\n",
    "res=st.center(10,'_')\n",
    "print(res)"
   ]
  },
  {
   "cell_type": "code",
   "execution_count": 48,
   "metadata": {},
   "outputs": [
    {
     "data": {
      "text/plain": [
       "'___abc____'"
      ]
     },
     "execution_count": 48,
     "metadata": {},
     "output_type": "execute_result"
    }
   ],
   "source": [
    "st='abc'\n",
    "def u_center(coll,width,fillchar=''):\n",
    "    res=width-len(coll)\n",
    "    l=res//2\n",
    "    r=res-l\n",
    "    res=fillchar*l+coll+fillchar*r\n",
    "    return res\n",
    "u_center(st,10,'_')"
   ]
  },
  {
   "cell_type": "code",
   "execution_count": 49,
   "metadata": {},
   "outputs": [
    {
     "data": {
      "text/plain": [
       "'TypeError: The fill character must be exactly one character long'"
      ]
     },
     "execution_count": 49,
     "metadata": {},
     "output_type": "execute_result"
    }
   ],
   "source": [
    "# (1) NOTE: AT LEARNING STAGE\n",
    "st='abc'\n",
    "def u_center(coll,width,fillchar=''):\n",
    "    if len(fillchar)>1:\n",
    "        return \"TypeError: The fill character must be exactly one character long\"\n",
    "    res=width-len(coll)\n",
    "    l=res//2\n",
    "    r=res-l\n",
    "    res=fillchar*l+coll+fillchar*r\n",
    "    return res\n",
    "u_center(st,10,'__')\n"
   ]
  },
  {
   "cell_type": "code",
   "execution_count": 50,
   "metadata": {},
   "outputs": [
    {
     "ename": "TypeError",
     "evalue": "",
     "output_type": "error",
     "traceback": [
      "\u001b[1;31m---------------------------------------------------------------------------\u001b[0m",
      "\u001b[1;31mTypeError\u001b[0m                                 Traceback (most recent call last)",
      "\u001b[1;32mc:\\Users\\lvlyl\\OneDrive\\Documents\\GitHub\\python_lalith_12\\function.ipynb Cell 44\u001b[0m line \u001b[0;36m1\n\u001b[0;32m      <a href='vscode-notebook-cell:/c%3A/Users/lvlyl/OneDrive/Documents/GitHub/python_lalith_12/function.ipynb#X61sZmlsZQ%3D%3D?line=8'>9</a>\u001b[0m     res\u001b[39m=\u001b[39mfillchar\u001b[39m*\u001b[39ml\u001b[39m+\u001b[39mcoll\u001b[39m+\u001b[39mfillchar\u001b[39m*\u001b[39mr\n\u001b[0;32m     <a href='vscode-notebook-cell:/c%3A/Users/lvlyl/OneDrive/Documents/GitHub/python_lalith_12/function.ipynb#X61sZmlsZQ%3D%3D?line=9'>10</a>\u001b[0m     \u001b[39mreturn\u001b[39;00m res\n\u001b[1;32m---> <a href='vscode-notebook-cell:/c%3A/Users/lvlyl/OneDrive/Documents/GitHub/python_lalith_12/function.ipynb#X61sZmlsZQ%3D%3D?line=10'>11</a>\u001b[0m u_center(st,\u001b[39m10\u001b[39;49m,\u001b[39m'\u001b[39;49m\u001b[39m__\u001b[39;49m\u001b[39m'\u001b[39;49m)        \u001b[39m#------> when fill char is 2 underscores\u001b[39;00m\n",
      "\u001b[1;32mc:\\Users\\lvlyl\\OneDrive\\Documents\\GitHub\\python_lalith_12\\function.ipynb Cell 44\u001b[0m line \u001b[0;36m5\n\u001b[0;32m      <a href='vscode-notebook-cell:/c%3A/Users/lvlyl/OneDrive/Documents/GitHub/python_lalith_12/function.ipynb#X61sZmlsZQ%3D%3D?line=2'>3</a>\u001b[0m \u001b[39mdef\u001b[39;00m \u001b[39mu_center\u001b[39m(coll,width,fillchar\u001b[39m=\u001b[39m\u001b[39m'\u001b[39m\u001b[39m'\u001b[39m):\n\u001b[0;32m      <a href='vscode-notebook-cell:/c%3A/Users/lvlyl/OneDrive/Documents/GitHub/python_lalith_12/function.ipynb#X61sZmlsZQ%3D%3D?line=3'>4</a>\u001b[0m     \u001b[39mif\u001b[39;00m \u001b[39mlen\u001b[39m(fillchar)\u001b[39m>\u001b[39m\u001b[39m1\u001b[39m:\n\u001b[1;32m----> <a href='vscode-notebook-cell:/c%3A/Users/lvlyl/OneDrive/Documents/GitHub/python_lalith_12/function.ipynb#X61sZmlsZQ%3D%3D?line=4'>5</a>\u001b[0m         \u001b[39mraise\u001b[39;00m \u001b[39mTypeError\u001b[39;00m     \u001b[39m#------. this typeerror will be the output\u001b[39;00m\n\u001b[0;32m      <a href='vscode-notebook-cell:/c%3A/Users/lvlyl/OneDrive/Documents/GitHub/python_lalith_12/function.ipynb#X61sZmlsZQ%3D%3D?line=5'>6</a>\u001b[0m     res\u001b[39m=\u001b[39mwidth\u001b[39m-\u001b[39m\u001b[39mlen\u001b[39m(coll)\n\u001b[0;32m      <a href='vscode-notebook-cell:/c%3A/Users/lvlyl/OneDrive/Documents/GitHub/python_lalith_12/function.ipynb#X61sZmlsZQ%3D%3D?line=6'>7</a>\u001b[0m     l\u001b[39m=\u001b[39mres\u001b[39m/\u001b[39m\u001b[39m/\u001b[39m\u001b[39m2\u001b[39m\n",
      "\u001b[1;31mTypeError\u001b[0m: "
     ]
    }
   ],
   "source": [
    "# (2) NOTE: IN PROJECTS\n",
    "st='abc'\n",
    "def u_center(coll,width,fillchar=''):\n",
    "    if len(fillchar)>1:\n",
    "        raise TypeError     #------. this typeerror will be the output\n",
    "    res=width-len(coll)\n",
    "    l=res//2\n",
    "    r=res-l\n",
    "    res=fillchar*l+coll+fillchar*r\n",
    "    return res\n",
    "u_center(st,10,'__')        #------> when fill char is 2 underscores"
   ]
  },
  {
   "cell_type": "code",
   "execution_count": 51,
   "metadata": {},
   "outputs": [
    {
     "data": {
      "text/plain": [
       "-1"
      ]
     },
     "execution_count": 51,
     "metadata": {},
     "output_type": "execute_result"
    }
   ],
   "source": [
    "# (3) NOTE: IN ONLINE EXAMS\n",
    "st='abc'\n",
    "def u_center(coll,width,fillchar=''):\n",
    "    if len(fillchar)>1:\n",
    "        return -1     #------. this -1 will be the output\n",
    "    res=width-len(coll)\n",
    "    l=res//2\n",
    "    r=res-l\n",
    "    res=fillchar*l+coll+fillchar*r\n",
    "    return res\n",
    "u_center(st,10,'__')    #------> when fill char is 2 underscores"
   ]
  },
  {
   "cell_type": "code",
   "execution_count": 52,
   "metadata": {},
   "outputs": [
    {
     "data": {
      "text/plain": [
       "True"
      ]
     },
     "execution_count": 52,
     "metadata": {},
     "output_type": "execute_result"
    }
   ],
   "source": [
    "#7. ISTITLE\n",
    "st='1Ello World123Abc $Xyz Ijkl'\n",
    "st.istitle()"
   ]
  },
  {
   "cell_type": "code",
   "execution_count": 54,
   "metadata": {},
   "outputs": [
    {
     "data": {
      "text/plain": [
       "True"
      ]
     },
     "execution_count": 54,
     "metadata": {},
     "output_type": "execute_result"
    }
   ],
   "source": [
    "st='1Ello World123Abc $Xyz Ijkl'\n",
    "def u_istitle(coll):\n",
    "    if 'a'<=coll[0]<='z':\n",
    "        return False\n",
    "    i=0\n",
    "    while i<len(coll):\n",
    "        if not('A'<=coll[i]<='Z' or 'a'<=coll[i]<='z'):\n",
    "            if 'a'<=coll[i+1]<='z':\n",
    "                return False\n",
    "        i+=1\n",
    "    return True\n",
    "u_istitle(st)\n",
    "\n"
   ]
  },
  {
   "cell_type": "code",
   "execution_count": 55,
   "metadata": {},
   "outputs": [
    {
     "data": {
      "text/plain": [
       "True"
      ]
     },
     "execution_count": 55,
     "metadata": {},
     "output_type": "execute_result"
    }
   ],
   "source": [
    "#8. ISUPPER\n",
    "st='HELLO WORLD123@#'\n",
    "st.isupper()"
   ]
  },
  {
   "cell_type": "code",
   "execution_count": 56,
   "metadata": {},
   "outputs": [
    {
     "data": {
      "text/plain": [
       "True"
      ]
     },
     "execution_count": 56,
     "metadata": {},
     "output_type": "execute_result"
    }
   ],
   "source": [
    "st='HELLO WORLD123@#'\n",
    "def t(h):\n",
    "    for i in h:\n",
    "        if(\"a\"<=i<=\"z\"):\n",
    "            return False\n",
    "    return True\n",
    "t(st)    \n",
    "    "
   ]
  },
  {
   "cell_type": "code",
   "execution_count": 57,
   "metadata": {},
   "outputs": [
    {
     "data": {
      "text/plain": [
       "True"
      ]
     },
     "execution_count": 57,
     "metadata": {},
     "output_type": "execute_result"
    }
   ],
   "source": [
    "#9. ISLOWER\n",
    "st='hello world@123'\n",
    "st.islower()"
   ]
  },
  {
   "cell_type": "code",
   "execution_count": 59,
   "metadata": {},
   "outputs": [
    {
     "data": {
      "text/plain": [
       "True"
      ]
     },
     "execution_count": 59,
     "metadata": {},
     "output_type": "execute_result"
    }
   ],
   "source": [
    "st='hello world@123'\n",
    "def h(t):\n",
    "    for i in t:\n",
    "        if('A'<=i<='Z'):\n",
    "            return False\n",
    "    return True\n",
    "h(st)    "
   ]
  },
  {
   "cell_type": "code",
   "execution_count": 60,
   "metadata": {},
   "outputs": [
    {
     "data": {
      "text/plain": [
       "True"
      ]
     },
     "execution_count": 60,
     "metadata": {},
     "output_type": "execute_result"
    }
   ],
   "source": [
    "#10. ISALPHA\n",
    "st='helloWORLD'\n",
    "st.isalpha()"
   ]
  },
  {
   "cell_type": "code",
   "execution_count": 73,
   "metadata": {},
   "outputs": [
    {
     "data": {
      "text/plain": [
       "True"
      ]
     },
     "execution_count": 73,
     "metadata": {},
     "output_type": "execute_result"
    }
   ],
   "source": [
    "st='helloWORLD'\n",
    "def h(t):\n",
    "    for i in t:\n",
    "        if (not(\"A\"<=i<=\"Z\" or \"a\"<=i<=\"z\")):\n",
    "             return False\n",
    "    return True   \n",
    "h(st)  \n",
    "     "
   ]
  },
  {
   "cell_type": "code",
   "execution_count": 74,
   "metadata": {},
   "outputs": [
    {
     "data": {
      "text/plain": [
       "True"
      ]
     },
     "execution_count": 74,
     "metadata": {},
     "output_type": "execute_result"
    }
   ],
   "source": [
    "#11. ISALNUM\n",
    "st='helLO123'\n",
    "st.isalnum()"
   ]
  },
  {
   "cell_type": "code",
   "execution_count": 84,
   "metadata": {},
   "outputs": [
    {
     "data": {
      "text/plain": [
       "False"
      ]
     },
     "execution_count": 84,
     "metadata": {},
     "output_type": "execute_result"
    }
   ],
   "source": [
    "st='helloWORLD123'\n",
    "def h(t):\n",
    "    for i in t:\n",
    "        if (not(\"A\"<=i<=\"Z\" or \"a\"<=i<=\"z\" or \"0\"<=i<=\"9\")):\n",
    "             return False\n",
    "    return True   \n",
    "h(st)  "
   ]
  },
  {
   "cell_type": "code",
   "execution_count": 85,
   "metadata": {},
   "outputs": [
    {
     "data": {
      "text/plain": [
       "False"
      ]
     },
     "execution_count": 85,
     "metadata": {},
     "output_type": "execute_result"
    }
   ],
   "source": [
    "#12. ISDIGIT/ISNUMERIC/ISDECIMAL\n",
    "#(a) isdigit\n",
    "st='123.1'\n",
    "st.isdigit()"
   ]
  },
  {
   "cell_type": "code",
   "execution_count": 86,
   "metadata": {},
   "outputs": [
    {
     "data": {
      "text/plain": [
       "False"
      ]
     },
     "execution_count": 86,
     "metadata": {},
     "output_type": "execute_result"
    }
   ],
   "source": [
    "#(b) isnumeric\n",
    "x='123.1'\n",
    "x.isnumeric()"
   ]
  },
  {
   "cell_type": "code",
   "execution_count": 87,
   "metadata": {},
   "outputs": [
    {
     "data": {
      "text/plain": [
       "False"
      ]
     },
     "execution_count": 87,
     "metadata": {},
     "output_type": "execute_result"
    }
   ],
   "source": [
    "# (c) isdecimal\n",
    "x='123.1as@#'\n",
    "x.isdecimal()"
   ]
  },
  {
   "cell_type": "code",
   "execution_count": 88,
   "metadata": {},
   "outputs": [
    {
     "data": {
      "text/plain": [
       "False"
      ]
     },
     "execution_count": 88,
     "metadata": {},
     "output_type": "execute_result"
    }
   ],
   "source": [
    "st='123.1'\n",
    "def u_isdigit(coll):\n",
    "    i=0\n",
    "    while i<len(coll):\n",
    "        if not('0'<=coll[i]<='9'):\n",
    "            return False\n",
    "        i+=1\n",
    "    return True\n",
    "u_isdigit(st)"
   ]
  },
  {
   "cell_type": "code",
   "execution_count": 1,
   "metadata": {},
   "outputs": [
    {
     "data": {
      "text/plain": [
       "True"
      ]
     },
     "execution_count": 1,
     "metadata": {},
     "output_type": "execute_result"
    }
   ],
   "source": [
    "st=\"    \"\n",
    "st.isspace()"
   ]
  },
  {
   "cell_type": "code",
   "execution_count": 2,
   "metadata": {},
   "outputs": [
    {
     "data": {
      "text/plain": [
       "True"
      ]
     },
     "execution_count": 2,
     "metadata": {},
     "output_type": "execute_result"
    }
   ],
   "source": [
    "st=\"           \"\n",
    "def u_isspace(coll):\n",
    "    if len(coll)==0 :\n",
    "        return False\n",
    "    else:\n",
    "        for i in coll:\n",
    "            if i!=\" \":\n",
    "                return False\n",
    "        return True\n",
    "u_isspace(st)"
   ]
  },
  {
   "cell_type": "code",
   "execution_count": 3,
   "metadata": {},
   "outputs": [
    {
     "data": {
      "text/plain": [
       "True"
      ]
     },
     "execution_count": 3,
     "metadata": {},
     "output_type": "execute_result"
    }
   ],
   "source": [
    "st=\"           \"\n",
    "def u_isspace(coll):\n",
    "    if coll!=\"\":\n",
    "        for i in coll:\n",
    "            if i!=\" \":\n",
    "                return False\n",
    "        return True\n",
    "    return False\n",
    "u_isspace(st)"
   ]
  },
  {
   "cell_type": "code",
   "execution_count": 4,
   "metadata": {},
   "outputs": [
    {
     "data": {
      "text/plain": [
       "'ax+bdf+efgj+dcfvbnk'"
      ]
     },
     "execution_count": 4,
     "metadata": {},
     "output_type": "execute_result"
    }
   ],
   "source": [
    "# 15 join accept only strings in the collection \n",
    "l=['ax','bdf','efgj','dcfvbnk']\n",
    "\"+\".join(l)"
   ]
  },
  {
   "cell_type": "code",
   "execution_count": 5,
   "metadata": {},
   "outputs": [
    {
     "data": {
      "text/plain": [
       "'ax-bdf-efgj-dcfvbnk'"
      ]
     },
     "execution_count": 5,
     "metadata": {},
     "output_type": "execute_result"
    }
   ],
   "source": [
    "# join\n",
    "l=['ax','bdf','efgj','dcfvbnk']\n",
    "def u_join(coll,sep=\"\"):\n",
    "    for i in coll:\n",
    "        if type(i)!=str:\n",
    "            return False\n",
    "    res=\"\"\n",
    "    for i in coll:\n",
    "        res+=i+sep\n",
    "    if sep==\"\":\n",
    "        return res\n",
    "    else:\n",
    "        return res[:-len(sep)]\n",
    "u_join(l,\"-\") "
   ]
  },
  {
   "cell_type": "code",
   "execution_count": 6,
   "metadata": {},
   "outputs": [
    {
     "data": {
      "text/plain": [
       "1"
      ]
     },
     "execution_count": 6,
     "metadata": {},
     "output_type": "execute_result"
    }
   ],
   "source": [
    "l=\"lalith\"\n",
    "l.find(\"a\")"
   ]
  },
  {
   "cell_type": "code",
   "execution_count": 20,
   "metadata": {},
   "outputs": [
    {
     "data": {
      "text/plain": [
       "5"
      ]
     },
     "execution_count": 20,
     "metadata": {},
     "output_type": "execute_result"
    }
   ],
   "source": [
    "l=\"lalith\"\n",
    "def t(v,a,s,e):\n",
    "    if e==None:\n",
    "        e==l(v)\n",
    "    if a not in v[s:e]:\n",
    "         return-1\n",
    "    for i in range(0,len(l)):\n",
    "        if(v[i])==a:\n",
    "           return i\n",
    "t(l,\"h\",0,6)        "
   ]
  },
  {
   "cell_type": "code",
   "execution_count": 1,
   "metadata": {},
   "outputs": [
    {
     "data": {
      "text/plain": [
       "4"
      ]
     },
     "execution_count": 1,
     "metadata": {},
     "output_type": "execute_result"
    }
   ],
   "source": [
    "# first occurance specifc char\n",
    "st=\"hello world\"\n",
    "def u_find(coll,ele,start=0,end=None):\n",
    "    if end==None:\n",
    "        end=len(coll)\n",
    "    if ele not in coll[start:end]:\n",
    "        return -1\n",
    "    for i in range(start,end):\n",
    "        if coll[i]==ele:\n",
    "            return i\n",
    "u_find(st,'o',3)"
   ]
  },
  {
   "cell_type": "code",
   "execution_count": 2,
   "metadata": {},
   "outputs": [
    {
     "data": {
      "text/plain": [
       "17"
      ]
     },
     "execution_count": 2,
     "metadata": {},
     "output_type": "execute_result"
    }
   ],
   "source": [
    "# nth occurance specific char\n",
    "st=\"baribe world baribe land \"\n",
    "def u_index(coll,ele,n,start=0,end=None):\n",
    "    if end==None:\n",
    "        end=len(coll)\n",
    "    if ele not in coll[start:end]:\n",
    "        return -1\n",
    "    count=0\n",
    "    for i in range(start,end):\n",
    "        if ele==coll[i]:\n",
    "            count+=1\n",
    "        if count==n:\n",
    "            return i\n",
    "    return -1\n",
    "u_index(st,'b',2,6,18)"
   ]
  },
  {
   "cell_type": "code",
   "execution_count": 3,
   "metadata": {},
   "outputs": [
    {
     "data": {
      "text/plain": [
       "17"
      ]
     },
     "execution_count": 3,
     "metadata": {},
     "output_type": "execute_result"
    }
   ],
   "source": [
    "# last occurance specifi char\n",
    "st=\"baribe world baribe land \"\n",
    "def u_find(coll,ele,start=0,end=None):\n",
    "    if end==None:\n",
    "        end=len(coll)\n",
    "    if ele not in coll[start:end]:\n",
    "        return -1\n",
    "    l=[]\n",
    "    while start<end:\n",
    "        if coll[start]==ele:\n",
    "            l+=[start]\n",
    "        start+=1\n",
    "    return l[-1]\n",
    "u_find(st,'b')"
   ]
  },
  {
   "cell_type": "code",
   "execution_count": 4,
   "metadata": {},
   "outputs": [
    {
     "name": "stdout",
     "output_type": "stream",
     "text": [
      "{'i': 2, 'b': 3, 'e': 2, ' ': 3, 'w': 1, 'o': 1, 'r': 2, 'l': 2, 'd': 2, 'a': 2, 'n': 1}\n"
     ]
    },
    {
     "data": {
      "text/plain": [
       "'b'"
      ]
     },
     "execution_count": 4,
     "metadata": {},
     "output_type": "execute_result"
    }
   ],
   "source": [
    "# max first repeated char\n",
    "st=\"baribe world baribe land \"\n",
    "def u_find(coll,start=0,end=None):\n",
    "    if end==None:\n",
    "        end=len(coll)\n",
    "    d={}\n",
    "    while start<end:\n",
    "        if  coll[start] not in d:\n",
    "            d[coll[start]]=1\n",
    "        else:\n",
    "            d[coll[start]]+=1\n",
    "        start+=1\n",
    "    print(d)\n",
    "    l=list(d)\n",
    "    i=0\n",
    "    max=1\n",
    "    ch=None\n",
    "    while i<len(l):\n",
    "        if max<d[l[i]]:\n",
    "            max=d[l[i]]\n",
    "            ch=l[i]\n",
    "        i+=1\n",
    "    return ch\n",
    "u_find(st,3,24)"
   ]
  },
  {
   "cell_type": "code",
   "execution_count": 5,
   "metadata": {},
   "outputs": [
    {
     "name": "stdout",
     "output_type": "stream",
     "text": [
      "{' ': 2, 'w': 1, 'o': 1, 'r': 2, 'l': 1, 'd': 1, 'b': 1, 'a': 1, 'i': 1}\n"
     ]
    },
    {
     "data": {
      "text/plain": [
       "'w'"
      ]
     },
     "execution_count": 5,
     "metadata": {},
     "output_type": "execute_result"
    }
   ],
   "source": [
    "# min first repeated char\n",
    "st=\"baribe world baribe land \"\n",
    "def u_find(coll,start=0,end=None):\n",
    "    if end==None:\n",
    "        end=len(coll)\n",
    "    d={}\n",
    "    while start<end:\n",
    "        if  coll[start] not in d:\n",
    "            d[coll[start]]=1\n",
    "        else:\n",
    "            d[coll[start]]+=1\n",
    "        start+=1\n",
    "    print(d)\n",
    "    l=list(d)\n",
    "    i=0\n",
    "    min=1\n",
    "    while i<len(l):\n",
    "        if d[l[i]]==min:\n",
    "            return l[i]\n",
    "        i+=1\n",
    "u_find(st,6,17)"
   ]
  },
  {
   "cell_type": "code",
   "execution_count": 64,
   "metadata": {},
   "outputs": [
    {
     "data": {
      "text/plain": [
       "['__add__',\n",
       " '__class__',\n",
       " '__class_getitem__',\n",
       " '__contains__',\n",
       " '__delattr__',\n",
       " '__delitem__',\n",
       " '__dir__',\n",
       " '__doc__',\n",
       " '__eq__',\n",
       " '__format__',\n",
       " '__ge__',\n",
       " '__getattribute__',\n",
       " '__getitem__',\n",
       " '__getstate__',\n",
       " '__gt__',\n",
       " '__hash__',\n",
       " '__iadd__',\n",
       " '__imul__',\n",
       " '__init__',\n",
       " '__init_subclass__',\n",
       " '__iter__',\n",
       " '__le__',\n",
       " '__len__',\n",
       " '__lt__',\n",
       " '__mul__',\n",
       " '__ne__',\n",
       " '__new__',\n",
       " '__reduce__',\n",
       " '__reduce_ex__',\n",
       " '__repr__',\n",
       " '__reversed__',\n",
       " '__rmul__',\n",
       " '__setattr__',\n",
       " '__setitem__',\n",
       " '__sizeof__',\n",
       " '__str__',\n",
       " '__subclasshook__',\n",
       " 'append',\n",
       " 'clear',\n",
       " 'copy',\n",
       " 'count',\n",
       " 'extend',\n",
       " 'index',\n",
       " 'insert',\n",
       " 'pop',\n",
       " 'remove',\n",
       " 'reverse',\n",
       " 'sort']"
      ]
     },
     "execution_count": 64,
     "metadata": {},
     "output_type": "execute_result"
    }
   ],
   "source": [
    "dir(list)"
   ]
  },
  {
   "cell_type": "code",
   "execution_count": 6,
   "metadata": {},
   "outputs": [
    {
     "name": "stdout",
     "output_type": "stream",
     "text": [
      "2105301713344 [10, 20, 30, 'abc', [10, 20, 30]]\n",
      "2105298118464 [10, 20, 30, 'abc', [10, 20, 30]]\n"
     ]
    }
   ],
   "source": [
    "#copy\n",
    "\n",
    "l=[10,20,30,\"abc\",[10,20,30]]\n",
    "x=l.copy()\n",
    "print(id(l),l)\n",
    "print(id(x),x)\n"
   ]
  },
  {
   "cell_type": "code",
   "execution_count": 7,
   "metadata": {},
   "outputs": [
    {
     "name": "stdout",
     "output_type": "stream",
     "text": [
      "2105301714816 [10, 20, 30, 'abc', [10, 20, 30]]\n",
      "2105301708864 [10, 20, 30, 'abc', [10, 20, 30]]\n",
      "[10, 20, 30, 'abc', [10, 20, 30], 150, 160]\n",
      "[10, 20, 30, 'abc', [10, 20, 30]]\n",
      "[10, 20, 30, 'abc', [10, 20, 30, 'a', 'b', 'c'], 150, 160]\n",
      "[10, 20, 30, 'abc', [10, 20, 30]]\n"
     ]
    }
   ],
   "source": [
    "l=[10,20,30,\"abc\",[10,20,30]]\n",
    "print(id(l),l)\n",
    "def u_copy(coll):\n",
    "    if type(coll)!=list:\n",
    "        return -1\n",
    "    res=[]\n",
    "    for i in coll:\n",
    "        res+=[i]\n",
    "    return res\n",
    "\n",
    "temp=u_copy (l)\n",
    "print(id(temp),temp)\n",
    "\n",
    "l+=[150,160]\n",
    "print(l)\n",
    "print(temp)   \n",
    "\n",
    "\n",
    "temp[-1]+=['a','b','c']\n",
    "print(l)\n",
    "print(x)"
   ]
  },
  {
   "cell_type": "code",
   "execution_count": 8,
   "metadata": {},
   "outputs": [
    {
     "name": "stdout",
     "output_type": "stream",
     "text": [
      "[10, 20, 30, 'abc', [10, 20, 30, 'a', 'b', 'c'], 'rani']\n",
      "[10, 20, 30, 'abc', [10, 20, 30, 'a', 'b', 'c']]\n"
     ]
    }
   ],
   "source": [
    "d=[10, 20, 30, 'abc', [10, 20, 30, 'a', 'b', 'c'], \"rani\"]\n",
    "print(d)\n",
    "d.pop()\n",
    "print(d)"
   ]
  },
  {
   "cell_type": "code",
   "execution_count": 11,
   "metadata": {},
   "outputs": [
    {
     "name": "stdout",
     "output_type": "stream",
     "text": [
      "2105298123136 [10, 20, 30, 'abc', [10, 20, 30, 'a', 'b', 'c'], 'rani']\n",
      "2105298123136 [10, 20, 30, [10, 20, 30, 'a', 'b', 'c'], 'rani']\n"
     ]
    }
   ],
   "source": [
    "d=[10, 20, 30, 'abc', [10, 20, 30, 'a', 'b', 'c'], \"rani\"]\n",
    "print(id(d),d)\n",
    "d.pop(3)\n",
    "print(id(d),d)"
   ]
  },
  {
   "cell_type": "code",
   "execution_count": 10,
   "metadata": {},
   "outputs": [
    {
     "name": "stdout",
     "output_type": "stream",
     "text": [
      "2164909936064 [10, 20, 30, 'abc', [10, 20, 30, 'a', 'b', 'c'], 'rani']\n",
      "2164909936064 [10, 20, 30, 'abc', [10, 20, 30, 'a', 'b', 'c']]\n"
     ]
    }
   ],
   "source": [
    "d=[10, 20, 30, 'abc', [10, 20, 30, 'a', 'b', 'c'], \"rani\"]\n",
    "print(id(d),d)\n",
    "\n",
    "def u_pop(coll,index=-1):\n",
    "    if type(coll)!=list:\n",
    "        return -1\n",
    "    del coll[index]\n",
    "u_pop(d)\n",
    "print(id(d),d)"
   ]
  },
  {
   "cell_type": "code",
   "execution_count": 27,
   "metadata": {},
   "outputs": [
    {
     "name": "stdout",
     "output_type": "stream",
     "text": [
      "2105308297344 [10, 20, 30, 'abc', [10, 20, 30, 'a', 'b', 'c']]\n"
     ]
    }
   ],
   "source": [
    "d=[10, 20, 30, 'abc', [10, 20, 30, 'a', 'b', 'c'], \"rani\"]\n",
    "#print(id(d),d)\n",
    "\n",
    "def u_pop(coll):\n",
    "    if type(coll)!=list:\n",
    "        return -1\n",
    "    del coll[-1]\n",
    "u_pop(d)\n",
    "print(id(d),d)"
   ]
  },
  {
   "cell_type": "code",
   "execution_count": 34,
   "metadata": {},
   "outputs": [
    {
     "name": "stdout",
     "output_type": "stream",
     "text": [
      "2105308664832 [10, 20, 30, 'abc', [10, 20, 30, 'a', 'b', 'c'], 'raja']\n",
      "2105308664832 [20, 'abc', [10, 20, 30, 'a', 'b', 'c'], 'raja']\n"
     ]
    }
   ],
   "source": [
    "#remove\n",
    "\n",
    "d=[10, 20, 30, 'abc', [10, 20, 30, 'a', 'b', 'c'], \"raja\"]\n",
    "print(id(d),d)\n",
    "d.remove(10)\n",
    "print(id(d),d)"
   ]
  },
  {
   "cell_type": "code",
   "execution_count": 40,
   "metadata": {},
   "outputs": [
    {
     "name": "stdout",
     "output_type": "stream",
     "text": [
      "2105307152448 [10, 20, 30, 'abc', [10, 20, 30, 'a', 'b', 'c'], 'raja']\n"
     ]
    },
    {
     "ename": "ValueError",
     "evalue": "list.remove(x): x not in list",
     "output_type": "error",
     "traceback": [
      "\u001b[1;31m---------------------------------------------------------------------------\u001b[0m",
      "\u001b[1;31mValueError\u001b[0m                                Traceback (most recent call last)",
      "\u001b[1;32mc:\\Users\\lvlyl\\OneDrive\\Documents\\GitHub\\python_lalith_12\\function.ipynb Cell 79\u001b[0m line \u001b[0;36m3\n\u001b[0;32m      <a href='vscode-notebook-cell:/c%3A/Users/lvlyl/OneDrive/Documents/GitHub/python_lalith_12/function.ipynb#Y142sZmlsZQ%3D%3D?line=0'>1</a>\u001b[0m d\u001b[39m=\u001b[39m[\u001b[39m10\u001b[39m, \u001b[39m20\u001b[39m, \u001b[39m30\u001b[39m, \u001b[39m'\u001b[39m\u001b[39mabc\u001b[39m\u001b[39m'\u001b[39m, [\u001b[39m10\u001b[39m, \u001b[39m20\u001b[39m, \u001b[39m30\u001b[39m, \u001b[39m'\u001b[39m\u001b[39ma\u001b[39m\u001b[39m'\u001b[39m, \u001b[39m'\u001b[39m\u001b[39mb\u001b[39m\u001b[39m'\u001b[39m, \u001b[39m'\u001b[39m\u001b[39mc\u001b[39m\u001b[39m'\u001b[39m], \u001b[39m\"\u001b[39m\u001b[39mraja\u001b[39m\u001b[39m\"\u001b[39m]\n\u001b[0;32m      <a href='vscode-notebook-cell:/c%3A/Users/lvlyl/OneDrive/Documents/GitHub/python_lalith_12/function.ipynb#Y142sZmlsZQ%3D%3D?line=1'>2</a>\u001b[0m \u001b[39mprint\u001b[39m(\u001b[39mid\u001b[39m(d),d)\n\u001b[1;32m----> <a href='vscode-notebook-cell:/c%3A/Users/lvlyl/OneDrive/Documents/GitHub/python_lalith_12/function.ipynb#Y142sZmlsZQ%3D%3D?line=2'>3</a>\u001b[0m d\u001b[39m.\u001b[39;49mremove(\u001b[39m100\u001b[39;49m)\n\u001b[0;32m      <a href='vscode-notebook-cell:/c%3A/Users/lvlyl/OneDrive/Documents/GitHub/python_lalith_12/function.ipynb#Y142sZmlsZQ%3D%3D?line=3'>4</a>\u001b[0m \u001b[39mprint\u001b[39m(\u001b[39mid\u001b[39m(d),d)\n",
      "\u001b[1;31mValueError\u001b[0m: list.remove(x): x not in list"
     ]
    }
   ],
   "source": [
    "d=[10, 20, 30, 'abc', [10, 20, 30, 'a', 'b', 'c'], \"raja\"]\n",
    "print(id(d),d)\n",
    "d.remove(100)\n",
    "print(id(d),d)"
   ]
  },
  {
   "cell_type": "code",
   "execution_count": 47,
   "metadata": {},
   "outputs": [
    {
     "name": "stdout",
     "output_type": "stream",
     "text": [
      "2105308084032 [10, 20, 30, 'abc', [10, 20, 30, 'a', 'b', 'c'], 'raja', 30]\n",
      "-1\n",
      "2105308084032 [10, 20, 30, 'abc', [10, 20, 30, 'a', 'b', 'c'], 'raja', 30]\n"
     ]
    }
   ],
   "source": [
    "d=[10, 20, 30, 'abc', [10, 20, 30, 'a', 'b', 'c'], \"raja\",30]\n",
    "print(id(d),d)\n",
    "def u_remove(coll,ele):\n",
    "    if type(coll)!=list or ele not in coll:\n",
    "        return -1\n",
    "        \n",
    "    for i in range(0,len(coll)):\n",
    "        if ele==coll[i]:\n",
    "            del coll[i]\n",
    "            break\n",
    "            \n",
    "print(u_remove(d,900))\n",
    "print(id(d),d)             "
   ]
  },
  {
   "cell_type": "code",
   "execution_count": 49,
   "metadata": {},
   "outputs": [
    {
     "name": "stdout",
     "output_type": "stream",
     "text": [
      "2105307757632 [10, 20, 30, 'abc', [10, 20, 30, 'a', 'b', 'c'], 'raja']\n",
      "2105307757632 []\n"
     ]
    }
   ],
   "source": [
    "#clear\n",
    "d=[10, 20, 30, 'abc', [10, 20, 30, 'a', 'b', 'c'], \"raja\"]\n",
    "print(id(d),d)\n",
    "d.clear()\n",
    "print(id(d),d)"
   ]
  },
  {
   "cell_type": "code",
   "execution_count": 56,
   "metadata": {},
   "outputs": [
    {
     "name": "stdout",
     "output_type": "stream",
     "text": [
      "2105301694016 [10, 20, 30, 'abc', [10, 20, 30, 'a', 'b', 'c'], 'raja']\n",
      "2105301694016 []\n"
     ]
    }
   ],
   "source": [
    "d=[10, 20, 30, 'abc', [10, 20, 30, 'a', 'b', 'c'], \"raja\"]\n",
    "print(id(d),d)\n",
    "def u_clear(coll):\n",
    "    if type(coll)!=list:\n",
    "        return-1\n",
    "    for i in range(0,len(coll)):\n",
    "        coll[::]=[]\n",
    "        #del coll[0]\n",
    "        #del coll[-1]\n",
    "u_clear(d)\n",
    "print(id(d),d)        "
   ]
  },
  {
   "cell_type": "code",
   "execution_count": 61,
   "metadata": {},
   "outputs": [
    {
     "name": "stdout",
     "output_type": "stream",
     "text": [
      "[30, 50, 60, 40, 20, 10]\n",
      "[10, 20, 30, 40, 50, 60]\n"
     ]
    }
   ],
   "source": [
    "l=[30,50,60,40,20,10]\n",
    "print(l)\n",
    "def u_sort(coll):\n",
    "    for i in range(0,len(coll)):\n",
    "        for j in range(0,len(coll)-1):\n",
    "            if coll[j]>coll[j+1]:\n",
    "                coll[j],coll[j+1]=coll[j+1],coll[j]\n",
    "u_sort(l)\n",
    "print(l)                "
   ]
  },
  {
   "cell_type": "code",
   "execution_count": 62,
   "metadata": {},
   "outputs": [
    {
     "data": {
      "text/plain": [
       "['__add__',\n",
       " '__class__',\n",
       " '__class_getitem__',\n",
       " '__contains__',\n",
       " '__delattr__',\n",
       " '__dir__',\n",
       " '__doc__',\n",
       " '__eq__',\n",
       " '__format__',\n",
       " '__ge__',\n",
       " '__getattribute__',\n",
       " '__getitem__',\n",
       " '__getnewargs__',\n",
       " '__getstate__',\n",
       " '__gt__',\n",
       " '__hash__',\n",
       " '__init__',\n",
       " '__init_subclass__',\n",
       " '__iter__',\n",
       " '__le__',\n",
       " '__len__',\n",
       " '__lt__',\n",
       " '__mul__',\n",
       " '__ne__',\n",
       " '__new__',\n",
       " '__reduce__',\n",
       " '__reduce_ex__',\n",
       " '__repr__',\n",
       " '__rmul__',\n",
       " '__setattr__',\n",
       " '__sizeof__',\n",
       " '__str__',\n",
       " '__subclasshook__',\n",
       " 'count',\n",
       " 'index']"
      ]
     },
     "execution_count": 62,
     "metadata": {},
     "output_type": "execute_result"
    }
   ],
   "source": [
    "dir(tuple)"
   ]
  },
  {
   "cell_type": "code",
   "execution_count": 63,
   "metadata": {},
   "outputs": [
    {
     "data": {
      "text/plain": [
       "['__and__',\n",
       " '__class__',\n",
       " '__class_getitem__',\n",
       " '__contains__',\n",
       " '__delattr__',\n",
       " '__dir__',\n",
       " '__doc__',\n",
       " '__eq__',\n",
       " '__format__',\n",
       " '__ge__',\n",
       " '__getattribute__',\n",
       " '__getstate__',\n",
       " '__gt__',\n",
       " '__hash__',\n",
       " '__iand__',\n",
       " '__init__',\n",
       " '__init_subclass__',\n",
       " '__ior__',\n",
       " '__isub__',\n",
       " '__iter__',\n",
       " '__ixor__',\n",
       " '__le__',\n",
       " '__len__',\n",
       " '__lt__',\n",
       " '__ne__',\n",
       " '__new__',\n",
       " '__or__',\n",
       " '__rand__',\n",
       " '__reduce__',\n",
       " '__reduce_ex__',\n",
       " '__repr__',\n",
       " '__ror__',\n",
       " '__rsub__',\n",
       " '__rxor__',\n",
       " '__setattr__',\n",
       " '__sizeof__',\n",
       " '__str__',\n",
       " '__sub__',\n",
       " '__subclasshook__',\n",
       " '__xor__',\n",
       " 'add',\n",
       " 'clear',\n",
       " 'copy',\n",
       " 'difference',\n",
       " 'difference_update',\n",
       " 'discard',\n",
       " 'intersection',\n",
       " 'intersection_update',\n",
       " 'isdisjoint',\n",
       " 'issubset',\n",
       " 'issuperset',\n",
       " 'pop',\n",
       " 'remove',\n",
       " 'symmetric_difference',\n",
       " 'symmetric_difference_update',\n",
       " 'union',\n",
       " 'update']"
      ]
     },
     "execution_count": 63,
     "metadata": {},
     "output_type": "execute_result"
    }
   ],
   "source": [
    "dir(set)"
   ]
  },
  {
   "cell_type": "markdown",
   "metadata": {},
   "source": [
    "set building functions"
   ]
  },
  {
   "cell_type": "code",
   "execution_count": 83,
   "metadata": {},
   "outputs": [
    {
     "name": "stdout",
     "output_type": "stream",
     "text": [
      "2105309989568 {'a', 'c', 'b'}\n",
      "2105309989568 {'a', 'f', 'c', 'b'}\n"
     ]
    }
   ],
   "source": [
    "\n",
    "#add\n",
    "s={'a','b','c'}\n",
    "print(id(s),s)\n",
    "s.add('f')\n",
    "print(id(s),s)"
   ]
  },
  {
   "cell_type": "code",
   "execution_count": 77,
   "metadata": {},
   "outputs": [
    {
     "name": "stdout",
     "output_type": "stream",
     "text": [
      "2105309987328 {'a', 'c', 'b'}\n",
      "2105309987328 {'a', 'c', 'xyz', 'b'}\n"
     ]
    }
   ],
   "source": [
    "s={'a','b','c'}\n",
    "print(id(s),s)\n",
    "\n",
    "def u_add(coll,ele):\n",
    "    if type(coll)!=set:\n",
    "        return-1\n",
    "    if type(ele) in [list,tuple,dict]:\n",
    "        return-1\n",
    "    coll|={ele}\n",
    "u_add(s,'xyz')\n",
    "print(id(s),s)    \n",
    "  "
   ]
  },
  {
   "cell_type": "code",
   "execution_count": 78,
   "metadata": {},
   "outputs": [
    {
     "name": "stdout",
     "output_type": "stream",
     "text": [
      "2105309988672 {'a', 'c', 'b'}\n",
      "2105309988672 set()\n"
     ]
    }
   ],
   "source": [
    "#clear\n",
    "s={'a','b','c'}\n",
    "print(id(s),s)\n",
    "s.clear()\n",
    "print(id(s),s)"
   ]
  },
  {
   "cell_type": "code",
   "execution_count": 80,
   "metadata": {},
   "outputs": [
    {
     "name": "stdout",
     "output_type": "stream",
     "text": [
      "2105309989568 {'a', 'c', 'b'}\n",
      "2105309989568 set()\n"
     ]
    }
   ],
   "source": [
    "s={'a','b','c'}\n",
    "print(id(s),s)\n",
    "\n",
    "def u_clear(coll):\n",
    "    if type(coll)!=set:\n",
    "        return-1\n",
    "    coll-=coll\n",
    "u_clear(s)\n",
    "print(id(s),s) "
   ]
  },
  {
   "cell_type": "code",
   "execution_count": 2,
   "metadata": {},
   "outputs": [
    {
     "name": "stdout",
     "output_type": "stream",
     "text": [
      "2164904044896 {'c', 'e', 'd', 'b', 'a'}\n",
      "2164904044896 {'e', 'd', 'b', 'a'}\n"
     ]
    }
   ],
   "source": [
    "#pop:Randomly it will delete the value inside the set.\n",
    "\n",
    "s={'a','b','c','d','e'}\n",
    "print(id(s),s)\n",
    "s.pop()\n",
    "print(id(s),s)"
   ]
  },
  {
   "cell_type": "code",
   "execution_count": 13,
   "metadata": {},
   "outputs": [
    {
     "name": "stdout",
     "output_type": "stream",
     "text": [
      "2164904786880 {'c', 'e', 'd', 'b', 'a'}\n",
      "2164904786880 {'e', 'd', 'b', 'a'}\n"
     ]
    }
   ],
   "source": [
    "s={'a','b','c','d','e'}\n",
    "print(id(s),s)\n",
    "def u_pop(coll):\n",
    "    if type(coll)!=set:\n",
    "        return-1\n",
    "    res=list(coll)[0]\n",
    "    coll-={res}\n",
    "u_pop(s)\n",
    "print(id(s),s)    "
   ]
  },
  {
   "cell_type": "code",
   "execution_count": 17,
   "metadata": {},
   "outputs": [
    {
     "name": "stdout",
     "output_type": "stream",
     "text": [
      "2164904047136 {'c', 'e', 'd', 'b', 'a'}\n",
      "2164904047136 {'c', 'e', 'd', 'a'}\n"
     ]
    }
   ],
   "source": [
    "#remove\n",
    "s={'a','b','c','d','e'}\n",
    "print(id(s),s)\n",
    "s.remove(\"b\")\n",
    "print(id(s),s)"
   ]
  },
  {
   "cell_type": "code",
   "execution_count": 18,
   "metadata": {},
   "outputs": [
    {
     "name": "stdout",
     "output_type": "stream",
     "text": [
      "2164904786880 {'c', 'e', 'd', 'b', 'a'}\n"
     ]
    },
    {
     "ename": "KeyError",
     "evalue": "'f'",
     "output_type": "error",
     "traceback": [
      "\u001b[1;31m---------------------------------------------------------------------------\u001b[0m",
      "\u001b[1;31mKeyError\u001b[0m                                  Traceback (most recent call last)",
      "\u001b[1;32mc:\\Users\\lvlyl\\OneDrive\\Documents\\GitHub\\python_lalith_12\\function.ipynb Cell 95\u001b[0m line \u001b[0;36m3\n\u001b[0;32m      <a href='vscode-notebook-cell:/c%3A/Users/lvlyl/OneDrive/Documents/GitHub/python_lalith_12/function.ipynb#Y163sZmlsZQ%3D%3D?line=0'>1</a>\u001b[0m s\u001b[39m=\u001b[39m{\u001b[39m'\u001b[39m\u001b[39ma\u001b[39m\u001b[39m'\u001b[39m,\u001b[39m'\u001b[39m\u001b[39mb\u001b[39m\u001b[39m'\u001b[39m,\u001b[39m'\u001b[39m\u001b[39mc\u001b[39m\u001b[39m'\u001b[39m,\u001b[39m'\u001b[39m\u001b[39md\u001b[39m\u001b[39m'\u001b[39m,\u001b[39m'\u001b[39m\u001b[39me\u001b[39m\u001b[39m'\u001b[39m}\n\u001b[0;32m      <a href='vscode-notebook-cell:/c%3A/Users/lvlyl/OneDrive/Documents/GitHub/python_lalith_12/function.ipynb#Y163sZmlsZQ%3D%3D?line=1'>2</a>\u001b[0m \u001b[39mprint\u001b[39m(\u001b[39mid\u001b[39m(s),s)\n\u001b[1;32m----> <a href='vscode-notebook-cell:/c%3A/Users/lvlyl/OneDrive/Documents/GitHub/python_lalith_12/function.ipynb#Y163sZmlsZQ%3D%3D?line=2'>3</a>\u001b[0m s\u001b[39m.\u001b[39;49mremove(\u001b[39m\"\u001b[39;49m\u001b[39mf\u001b[39;49m\u001b[39m\"\u001b[39;49m)\n\u001b[0;32m      <a href='vscode-notebook-cell:/c%3A/Users/lvlyl/OneDrive/Documents/GitHub/python_lalith_12/function.ipynb#Y163sZmlsZQ%3D%3D?line=3'>4</a>\u001b[0m \u001b[39mprint\u001b[39m(\u001b[39mid\u001b[39m(s),s)\n",
      "\u001b[1;31mKeyError\u001b[0m: 'f'"
     ]
    }
   ],
   "source": [
    "s={'a','b','c','d','e'}\n",
    "print(id(s),s)\n",
    "s.remove(\"f\")\n",
    "print(id(s),s)\n"
   ]
  },
  {
   "cell_type": "code",
   "execution_count": 24,
   "metadata": {},
   "outputs": [
    {
     "name": "stdout",
     "output_type": "stream",
     "text": [
      "2164904787328 {'c', 'e', 'd', 'b', 'a'}\n",
      "None\n",
      "2164904787328 {'c', 'e', 'b', 'a'}\n"
     ]
    }
   ],
   "source": [
    "s={'a','b','c','d','e'}\n",
    "print(id(s),s)\n",
    "def u_remove(coll,ele):\n",
    "    if type(coll)!=set or ele not in coll:\n",
    "        raise KeyError(\"ele is not found\")\n",
    "    coll-={ele}\n",
    "print(u_remove(s,'d'))\n",
    "print(id(s),s)\n",
    "    \n",
    "    "
   ]
  },
  {
   "cell_type": "code",
   "execution_count": 25,
   "metadata": {},
   "outputs": [
    {
     "name": "stdout",
     "output_type": "stream",
     "text": [
      "2164910394048 {'c', 'e', 'd', 'b', 'a'}\n",
      "2164910394048 {'c', 'e', 'd', 'b', 'a'}\n"
     ]
    }
   ],
   "source": [
    "#discard\n",
    "s={'a','b','c','d','e'}\n",
    "print(id(s),s)\n",
    "s.discard('r')\n",
    "print(id(s),s)"
   ]
  },
  {
   "cell_type": "code",
   "execution_count": 39,
   "metadata": {},
   "outputs": [
    {
     "name": "stdout",
     "output_type": "stream",
     "text": [
      "2164904787328 {'c', 'e', 'd', 'b', 'a'}\n",
      "2164904787328 {'c', 'e', 'd', 'b', 'a'}\n"
     ]
    }
   ],
   "source": [
    "s={'a','b','c','d','e'}\n",
    "print(id(s),s)\n",
    "def u_discard(coll,ele):\n",
    "    if type(coll)!=set:\n",
    "        raise TypeError(\"coll should be set\")\n",
    "    coll-={ele}\n",
    "u_discard(s,'D')\n",
    "print(id(s),s)"
   ]
  },
  {
   "cell_type": "code",
   "execution_count": 34,
   "metadata": {},
   "outputs": [
    {
     "data": {
      "text/plain": [
       "False"
      ]
     },
     "execution_count": 34,
     "metadata": {},
     "output_type": "execute_result"
    }
   ],
   "source": [
    "#issuperset\n",
    "s={'a','b','c','d'}\n",
    "t={'a','b','c','e'}\n",
    "s.issuperset(t)\n"
   ]
  },
  {
   "cell_type": "code",
   "execution_count": 35,
   "metadata": {},
   "outputs": [
    {
     "data": {
      "text/plain": [
       "True"
      ]
     },
     "execution_count": 35,
     "metadata": {},
     "output_type": "execute_result"
    }
   ],
   "source": [
    "s={'a','b','c','d'}\n",
    "t={'a','b','c',}\n",
    "s.issuperset(t)"
   ]
  },
  {
   "cell_type": "code",
   "execution_count": 46,
   "metadata": {},
   "outputs": [
    {
     "name": "stdout",
     "output_type": "stream",
     "text": [
      "True\n",
      "True\n"
     ]
    }
   ],
   "source": [
    "\n",
    "s={'a','b','c','d'}\n",
    "t={'a','b','c'}\n",
    "def u_issuperset(coll1,coll2):\n",
    "    if type(coll1)!=set and type(coll2)!=set:\n",
    "        return-1\n",
    "    for i in coll2:\n",
    "        if i not in coll1:\n",
    "            return False\n",
    "    return True\n",
    "print(u_issuperset(s,t))\n",
    "print(s.issuperset(t))    \n",
    "        "
   ]
  },
  {
   "cell_type": "code",
   "execution_count": 41,
   "metadata": {},
   "outputs": [
    {
     "data": {
      "text/plain": [
       "True"
      ]
     },
     "execution_count": 41,
     "metadata": {},
     "output_type": "execute_result"
    }
   ],
   "source": [
    "#issubset\n",
    "s={'a','b','c','d'}\n",
    "t={'a','b','c','d','e'}\n",
    "s.issubset(t)\n"
   ]
  },
  {
   "cell_type": "code",
   "execution_count": 45,
   "metadata": {},
   "outputs": [
    {
     "name": "stdout",
     "output_type": "stream",
     "text": [
      "False\n",
      "False\n"
     ]
    }
   ],
   "source": [
    "s={'a','b','c','d'}\n",
    "t={'a','b','c','e'}\n",
    "def u_issubset(coll1,coll2):\n",
    "    if type(coll1)!=set and type(coll2)!=set:\n",
    "        return-1\n",
    "    for i in coll1:\n",
    "        if i not in coll2:\n",
    "            return False\n",
    "    return True\n",
    "print(u_issubset(s,t))\n",
    "print(s.issubset(t))  "
   ]
  },
  {
   "cell_type": "code",
   "execution_count": 48,
   "metadata": {},
   "outputs": [
    {
     "data": {
      "text/plain": [
       "True"
      ]
     },
     "execution_count": 48,
     "metadata": {},
     "output_type": "execute_result"
    }
   ],
   "source": [
    "#isdisjoint\n",
    "s={'a','b','c','d'}\n",
    "t={'e','f','g'}\n",
    "s.isdisjoint(t)\n"
   ]
  },
  {
   "cell_type": "code",
   "execution_count": 50,
   "metadata": {},
   "outputs": [
    {
     "name": "stdout",
     "output_type": "stream",
     "text": [
      "True\n",
      "True\n"
     ]
    }
   ],
   "source": [
    "s={'a','b','c','d'}\n",
    "t={'e','f','g'}\n",
    "def u_isdisjoint(coll1,coll2):\n",
    "    if type(coll1)!=set and type(coll2)!=set:\n",
    "        return-1\n",
    "    for i in coll2:\n",
    "        if i in coll1:\n",
    "            return False\n",
    "    return True\n",
    "print(u_isdisjoint(s,t))\n",
    "print(s.isdisjoint(t))    "
   ]
  },
  {
   "cell_type": "markdown",
   "metadata": {},
   "source": [
    "Dict building functios"
   ]
  },
  {
   "cell_type": "code",
   "execution_count": 51,
   "metadata": {},
   "outputs": [
    {
     "data": {
      "text/plain": [
       "['__class__',\n",
       " '__class_getitem__',\n",
       " '__contains__',\n",
       " '__delattr__',\n",
       " '__delitem__',\n",
       " '__dir__',\n",
       " '__doc__',\n",
       " '__eq__',\n",
       " '__format__',\n",
       " '__ge__',\n",
       " '__getattribute__',\n",
       " '__getitem__',\n",
       " '__getstate__',\n",
       " '__gt__',\n",
       " '__hash__',\n",
       " '__init__',\n",
       " '__init_subclass__',\n",
       " '__ior__',\n",
       " '__iter__',\n",
       " '__le__',\n",
       " '__len__',\n",
       " '__lt__',\n",
       " '__ne__',\n",
       " '__new__',\n",
       " '__or__',\n",
       " '__reduce__',\n",
       " '__reduce_ex__',\n",
       " '__repr__',\n",
       " '__reversed__',\n",
       " '__ror__',\n",
       " '__setattr__',\n",
       " '__setitem__',\n",
       " '__sizeof__',\n",
       " '__str__',\n",
       " '__subclasshook__',\n",
       " 'clear',\n",
       " 'copy',\n",
       " 'fromkeys',\n",
       " 'get',\n",
       " 'items',\n",
       " 'keys',\n",
       " 'pop',\n",
       " 'popitem',\n",
       " 'setdefault',\n",
       " 'update',\n",
       " 'values']"
      ]
     },
     "execution_count": 51,
     "metadata": {},
     "output_type": "execute_result"
    }
   ],
   "source": [
    "dir(dict)\n"
   ]
  },
  {
   "cell_type": "code",
   "execution_count": 54,
   "metadata": {},
   "outputs": [
    {
     "name": "stdout",
     "output_type": "stream",
     "text": [
      "2164910061312 {'a': 10, 'b': 20, 'c': 30}\n",
      "2164910061312 {}\n"
     ]
    }
   ],
   "source": [
    "#clear\n",
    "s={'a':10,'b':20,'c':30}\n",
    "print(id(s),s)\n",
    "s.clear()\n",
    "print(id(s),s)"
   ]
  },
  {
   "cell_type": "code",
   "execution_count": 62,
   "metadata": {},
   "outputs": [
    {
     "name": "stdout",
     "output_type": "stream",
     "text": [
      "2164909814208 {'a': 10, 'b': 20, 'c': 30}\n",
      "2164909814208 {}\n"
     ]
    }
   ],
   "source": [
    "s={'a':10,'b':20,'c':30}\n",
    "print(id(s),s)\n",
    "def u_clear(coll):\n",
    "    if type(coll)!=dict:\n",
    "        return-1\n",
    "    keys=list(coll)\n",
    "    for i in keys:\n",
    "        del coll[i]\n",
    "u_clear(s)\n",
    "print(id(s),s)        \n",
    "    "
   ]
  },
  {
   "cell_type": "code",
   "execution_count": 63,
   "metadata": {},
   "outputs": [
    {
     "name": "stdout",
     "output_type": "stream",
     "text": [
      "2164910318848 {'a': 10, 'b': 20, 'c': 30}\n",
      "2164909814208 {'a': 10, 'b': 20, 'c': 30}\n"
     ]
    }
   ],
   "source": [
    "#copy\n",
    "s={'a':10,'b':20,'c':30}\n",
    "print(id(s),s)\n",
    "t=s.copy()\n",
    "print(id(t),t)"
   ]
  },
  {
   "cell_type": "code",
   "execution_count": 65,
   "metadata": {},
   "outputs": [
    {
     "name": "stdout",
     "output_type": "stream",
     "text": [
      "2164904161216 {'a': 10, 'b': 20, 'c': 30}\n",
      "2164904160000 {'a': 10, 'b': 20, 'c': 30}\n"
     ]
    }
   ],
   "source": [
    "s={'a':10,'b':20,'c':30}\n",
    "print(id(s),s)\n",
    "def u_copy(coll):\n",
    "    if type(coll)!=dict:\n",
    "        return-1\n",
    "    temp={}\n",
    "    for i in coll:\n",
    "        temp[i]=coll[i]\n",
    "    return temp\n",
    "d=u_copy(s)    \n",
    "print(id(d),d)"
   ]
  },
  {
   "cell_type": "code",
   "execution_count": 72,
   "metadata": {},
   "outputs": [
    {
     "name": "stdout",
     "output_type": "stream",
     "text": [
      "2164909944000 {'a': 10, 'b': 20, 'c': 30}\n",
      "10\n",
      "10\n"
     ]
    }
   ],
   "source": [
    "#get\n",
    "s={'a':10,'b':20,'c':30}\n",
    "print(id(s),s)\n",
    "print(s.get('a'))\n",
    "print(s['a'])\n"
   ]
  },
  {
   "cell_type": "code",
   "execution_count": 73,
   "metadata": {},
   "outputs": [
    {
     "name": "stdout",
     "output_type": "stream",
     "text": [
      "2164882382784 {'a': 10, 'b': 20, 'c': 30}\n",
      "None\n"
     ]
    },
    {
     "ename": "KeyError",
     "evalue": "'e'",
     "output_type": "error",
     "traceback": [
      "\u001b[1;31m---------------------------------------------------------------------------\u001b[0m",
      "\u001b[1;31mKeyError\u001b[0m                                  Traceback (most recent call last)",
      "\u001b[1;32mc:\\Users\\lvlyl\\OneDrive\\Documents\\GitHub\\python_lalith_12\\function.ipynb Cell 113\u001b[0m line \u001b[0;36m4\n\u001b[0;32m      <a href='vscode-notebook-cell:/c%3A/Users/lvlyl/OneDrive/Documents/GitHub/python_lalith_12/function.ipynb#Y224sZmlsZQ%3D%3D?line=1'>2</a>\u001b[0m \u001b[39mprint\u001b[39m(\u001b[39mid\u001b[39m(s),s)\n\u001b[0;32m      <a href='vscode-notebook-cell:/c%3A/Users/lvlyl/OneDrive/Documents/GitHub/python_lalith_12/function.ipynb#Y224sZmlsZQ%3D%3D?line=2'>3</a>\u001b[0m \u001b[39mprint\u001b[39m(s\u001b[39m.\u001b[39mget(\u001b[39m'\u001b[39m\u001b[39me\u001b[39m\u001b[39m'\u001b[39m))\n\u001b[1;32m----> <a href='vscode-notebook-cell:/c%3A/Users/lvlyl/OneDrive/Documents/GitHub/python_lalith_12/function.ipynb#Y224sZmlsZQ%3D%3D?line=3'>4</a>\u001b[0m \u001b[39mprint\u001b[39m(s[\u001b[39m'\u001b[39;49m\u001b[39me\u001b[39;49m\u001b[39m'\u001b[39;49m])\n",
      "\u001b[1;31mKeyError\u001b[0m: 'e'"
     ]
    }
   ],
   "source": [
    "s={'a':10,'b':20,'c':30}\n",
    "print(id(s),s)\n",
    "print(s.get('e'))\n",
    "print(s['e'])"
   ]
  },
  {
   "cell_type": "code",
   "execution_count": 77,
   "metadata": {},
   "outputs": [
    {
     "name": "stdout",
     "output_type": "stream",
     "text": [
      "2164910692608 {'a': 10, 'b': 20, 'c': 30}\n",
      "10\n",
      "2164910692608 {'b': 20, 'c': 30}\n"
     ]
    }
   ],
   "source": [
    "#pop\n",
    "s={'a':10,'b':20,'c':30}\n",
    "print(id(s),s)\n",
    "print(s.pop('a'))\n",
    "print(id(s),s)"
   ]
  },
  {
   "cell_type": "code",
   "execution_count": 84,
   "metadata": {},
   "outputs": [
    {
     "name": "stdout",
     "output_type": "stream",
     "text": [
      "2164910975808 {'a': 10, 'b': 20, 'c': 30}\n",
      "10\n",
      "2164910975808 {'b': 20, 'c': 30}\n"
     ]
    }
   ],
   "source": [
    "s={'a':10,'b':20,'c':30}\n",
    "print(id(s),s)\n",
    "def u_pop(coll,key):\n",
    "    if type(coll)!=dict or type(key) in [list,set,dict]:\n",
    "        return-1\n",
    "    res=coll[key]\n",
    "    del coll[key]\n",
    "    return res\n",
    "r=u_pop(s,'a')\n",
    "print(r)\n",
    "print(id(s),s)"
   ]
  },
  {
   "cell_type": "code",
   "execution_count": 86,
   "metadata": {},
   "outputs": [
    {
     "name": "stdout",
     "output_type": "stream",
     "text": [
      "2164910710272 {'a': 10, 'b': 20, 'c': 30}\n",
      "('c', 30)\n",
      "2164910710272 {'a': 10, 'b': 20}\n"
     ]
    }
   ],
   "source": [
    "#popitem\n",
    "s={'a':10,'b':20,'c':30}\n",
    "print(id(s),s)\n",
    "print(s.popitem())\n",
    "print(id(s),s)\n"
   ]
  },
  {
   "cell_type": "code",
   "execution_count": 89,
   "metadata": {},
   "outputs": [
    {
     "name": "stdout",
     "output_type": "stream",
     "text": [
      "2164911905920 {'a': 10, 'b': 20, 'c': 30}\n",
      "('c', 30)\n",
      "2164911905920 {'a': 10, 'b': 20}\n"
     ]
    }
   ],
   "source": [
    "s={'a':10,'b':20,'c':30}\n",
    "print(id(s),s)\n",
    "def u_popitem(coll):\n",
    "    if type(coll)!=dict:\n",
    "        return-1\n",
    "    key=list(coll)[-1]\n",
    "    val= coll[key]\n",
    "    del coll[key]\n",
    "    return(key,val)\n",
    "print(u_popitem(s))\n",
    "print(id(s),s)\n"
   ]
  },
  {
   "cell_type": "code",
   "execution_count": 90,
   "metadata": {},
   "outputs": [
    {
     "name": "stdout",
     "output_type": "stream",
     "text": [
      "2164910085632 {'a': 10, 'b': 20, 'c': 30}\n",
      "2164910085632 {'a': 10, 'b': 20, 'c': 30, 'd': 40}\n"
     ]
    }
   ],
   "source": [
    "#update\n",
    "s={'a':10,'b':20,'c':30}\n",
    "print(id(s),s)\n",
    "s.update({'d':40})\n",
    "print(id(s),s)"
   ]
  },
  {
   "cell_type": "code",
   "execution_count": 91,
   "metadata": {},
   "outputs": [
    {
     "name": "stdout",
     "output_type": "stream",
     "text": [
      "2164911913216 {'a': 10, 'b': 20, 'c': 30}\n",
      "2164911913216 {'a': 10, 'b': 20, 'c': 30, 'd': 40}\n"
     ]
    }
   ],
   "source": [
    "s={'a':10,'b':20,'c':30}\n",
    "print(id(s),s)\n",
    "def u_update(coll,ele):\n",
    "    if type(coll)!=dict or type(ele)!=dict:\n",
    "        return-1\n",
    "    coll|=ele\n",
    "    \n",
    "u_update(s,{'d':40})\n",
    "print(id(s),s)\n"
   ]
  }
 ],
 "metadata": {
  "kernelspec": {
   "display_name": "Python 3",
   "language": "python",
   "name": "python3"
  },
  "language_info": {
   "codemirror_mode": {
    "name": "ipython",
    "version": 3
   },
   "file_extension": ".py",
   "mimetype": "text/x-python",
   "name": "python",
   "nbconvert_exporter": "python",
   "pygments_lexer": "ipython3",
   "version": "3.11.4"
  },
  "orig_nbformat": 4
 },
 "nbformat": 4,
 "nbformat_minor": 2
}
