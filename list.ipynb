{
 "cells": [
  {
   "cell_type": "code",
   "execution_count": 34,
   "metadata": {},
   "outputs": [
    {
     "name": "stdout",
     "output_type": "stream",
     "text": [
      "101\n"
     ]
    }
   ],
   "source": [
    "a=\"e\"\n",
    "if('a'<=a<='z' or 'A'<=a<='Z'  ):\n",
    "    print(ord(a))\n",
    "else:\n",
    "    print(\"special charater\")"
   ]
  },
  {
   "cell_type": "code",
   "execution_count": 1,
   "metadata": {},
   "outputs": [
    {
     "name": "stdout",
     "output_type": "stream",
     "text": [
      "lalith\n"
     ]
    }
   ],
   "source": [
    "a='Lalith'\n",
    "b=chr(ord(a[0])+32)\n",
    "a=b+a[1:]\n",
    "print(a)\n",
    "\n"
   ]
  },
  {
   "cell_type": "code",
   "execution_count": 5,
   "metadata": {},
   "outputs": [
    {
     "name": "stdout",
     "output_type": "stream",
     "text": [
      "girish\n",
      "hsirig\n",
      "srg\n",
      "grs\n",
      "gi\n",
      "hii\n",
      "hello\n",
      "world\n",
      "helloworld\n",
      "dlrowolleh\n",
      "drwle\n",
      "hlool\n",
      "hol\n",
      "dwe\n",
      "i love india\n",
      "india\n",
      "love india\n",
      "aidni evol i\n",
      "adieo \n",
      "nohtyp\n",
      "ognajd\n",
      "ja\n",
      "avaj\n",
      "['python', 'django', 'java']\n",
      "['java', 'django', 'python']\n",
      "['python', 'java']\n",
      "['java', 'python']\n",
      "ksi\n",
      "ksi\n",
      "ah\n",
      "ha\n",
      "(10, 'girish', 'helloworld', 'i love india')\n",
      "('i love india', 'helloworld', 'girish', 10)\n",
      "(10, 'helloworld')\n",
      "('girish', 'helloworld')\n",
      "{10, 'i love india'}\n",
      "('helloworld', 10)\n",
      "[10, 'python', 'kashi']\n",
      "('venugopal', 'java', 'girish')\n",
      "('ihsak', 'nohtyp')\n"
     ]
    }
   ],
   "source": [
    "d={'a':{'10':(10,\"girish\", 'helloworld', 'i love india', {'d':['python', 'django', 'java'],(10,):{'venugopal', 'kashi'}})}}\n",
    "\n",
    "print(d['a']['10'][1])\n",
    "print(d['a']['10'][1][::-1])\n",
    "print(d['a']['10'][1][-2::-2])\n",
    "print(d['a']['10'][1][0::2])\n",
    "print(d['a']['10'][1][0:2:1])\n",
    "print(d['a']['10'][1][-1::-2]) \n",
    "print(d['a']['10'][2][0:5:1])\n",
    "print(d['a']['10'][2][5::1])\n",
    "print(d['a']['10'][2][0::1])\n",
    "print(d['a']['10'][2][::-1])\n",
    "print(d['a']['10'][2][-1::-2])\n",
    "print(d['a']['10'][2][0::2])\n",
    "print(d['a']['10'][2][0::4])\n",
    "print(d['a']['10'][2][-1::-4])\n",
    "print(d['a']['10'][3])\n",
    "print(d['a']['10'][3][-5::])\n",
    "print(d['a']['10'][3][2::])\n",
    "print(d['a']['10'][3][::-1])\n",
    "print(d['a']['10'][3][-1::-2])\n",
    "print(d['a']['10'][4]['d'][0][::-1])\n",
    "print(d['a']['10'][4]['d'][1][::-1])\n",
    "print(d['a']['10'][4]['d'][2][0:2:1])\n",
    "print(d['a']['10'][4]['d'][2][::-1])\n",
    "print(d['a']['10'][4]['d'])\n",
    "print(d['a']['10'][4]['d'][::-1])\n",
    "print(d['a']['10'][4]['d'][0::2])\n",
    "print(d['a']['10'][4]['d'][-1::-2])\n",
    "\n",
    "print(list(d['a']['10'][4][(10,)])[1][::2])\n",
    "print(list(d['a']['10'][4][(10,)])[1][:5:2])\n",
    "print(list(d['a']['10'][4][(10,)])[1][1:6:2])\n",
    "print(list(d['a']['10'][4][(10,)])[1][-2:-7:-2])\n",
    "print(d['a']['10'][0:4])\n",
    "print(d['a']['10'][0:4][::-1])\n",
    "print(d['a']['10'][0:4][0:3:2])\n",
    "print(d['a']['10'][0:4][1:3:1])\n",
    "print(set(d['a']['10'][0:4][-1::-3]))\n",
    "print(d['a']['10'][0:4][-2::-2])\n",
    "print([d['a']['10'][0],d['a']['10'][4]['d'][0],list(d['a']['10'][-1][(10,)])[1]])\n",
    "print((list(d['a']['10'][-1][(10,)])[-2],d['a']['10'][-1]['d'][-1],d['a']['10'][1]))\n",
    "print((list(d['a']['10'][-1][(10,)])[-1][::-1],d['a']['10'][-1]['d'][0][::-1]))\n",
    "\n",
    "\n",
    "\n"
   ]
  },
  {
   "cell_type": "code",
   "execution_count": 4,
   "metadata": {},
   "outputs": [
    {
     "name": "stdout",
     "output_type": "stream",
     "text": [
      "['java', 'python']\n",
      "ksi\n"
     ]
    }
   ],
   "source": [
    "d={'a':{'10':(10,\"girish\", 'helloworld', 'i love india', {'d':['python', 'django', 'java'],(10,):{'venugopal', 'kashi'}})}}\n",
    "\n",
    "print(d['a']['10'][4]['d'][-1::-2])\n",
    "print(list(d['a']['10'][4][(10,)])[1][::2])"
   ]
  },
  {
   "cell_type": "code",
   "execution_count": 1,
   "metadata": {},
   "outputs": [
    {
     "name": "stdout",
     "output_type": "stream",
     "text": [
      "girish\n",
      "hsirig\n",
      "srg\n",
      "grs\n",
      "gi\n",
      "hii\n",
      "hello\n",
      "world\n",
      "helloworld\n",
      "dlrowolleh\n",
      "drwle\n",
      "hlool\n",
      "hol\n",
      "dwe\n",
      "i love india\n",
      "india\n",
      "love india\n",
      "aidni evol i\n",
      "adieo \n",
      "nohtyp\n",
      "ognajd\n",
      "ja\n",
      "avaj\n",
      "['python', 'django', 'java']\n",
      "['java', 'django', 'python']\n",
      "['python', 'java']\n",
      "['java', 'python']\n",
      "ksi\n",
      "ksi\n",
      "ah\n",
      "ha\n",
      "(10, 'girish', 'helloworld', 'i love india')\n",
      "('i love india', 'helloworld', 'girish', 10)\n",
      "(10, 'helloworld')\n",
      "('girish', 'helloworld')\n",
      "{10, 'i love india'}\n",
      "('helloworld', 10)\n",
      "[10, 'python', 'kashi']\n",
      "('venugopal', 'java', 'girish')\n",
      "('ihsak', 'ognajd')\n"
     ]
    }
   ],
   "source": [
    "d={'a':{'10':(10,\"girish\", 'helloworld', 'i love india', {'d':['python', 'django', 'java'],(10,):{'venugopal', 'kashi'}})}}\n",
    "\n",
    "print(d['a']['10'][1])\n",
    "print(d['a']['10'][1][::-1])\n",
    "print(d['a']['10'][1][-2::-2])\n",
    "print(d['a']['10'][1][0::2])\n",
    "print(d['a']['10'][1][0:2:1])\n",
    "print(d['a']['10'][1][-1::-2]) \n",
    "print(d['a']['10'][2][0:5:1])\n",
    "print(d['a']['10'][2][5::1])\n",
    "print(d['a']['10'][2][0::1])\n",
    "print(d['a']['10'][2][::-1])\n",
    "print(d['a']['10'][2][-1::-2])\n",
    "print(d['a']['10'][2][0::2])\n",
    "print(d['a']['10'][2][0::4])\n",
    "print(d['a']['10'][2][-1::-4])\n",
    "print(d['a']['10'][3])\n",
    "print(d['a']['10'][3][-5::])\n",
    "print(d['a']['10'][3][2::])\n",
    "print(d['a']['10'][3][::-1])\n",
    "print(d['a']['10'][3][-1::-2])\n",
    "print(d['a']['10'][4]['d'][0][::-1])\n",
    "print(d['a']['10'][4]['d'][1][::-1])\n",
    "print(d['a']['10'][4]['d'][2][0:2:1])\n",
    "print(d['a']['10'][4]['d'][2][::-1])\n",
    "print(d['a']['10'][4]['d'])\n",
    "print(d['a']['10'][4]['d'][::-1])\n",
    "print(d['a']['10'][4]['d'][0::2])\n",
    "print(d['a']['10'][4]['d'][-1::-2])\n",
    "print(list(d['a']['10'][4][(10,)])[1][::2])\n",
    "print(list(d['a']['10'][4][(10,)])[1][:5:2])\n",
    "print(list(d['a']['10'][4][(10,)])[1][1:6:2])\n",
    "print(list(d['a']['10'][4][(10,)])[1][-2:-7:-2])\n",
    "print(d['a']['10'][0:4])\n",
    "print(d['a']['10'][0:4][::-1])\n",
    "print(d['a']['10'][0:4][0:3:2])\n",
    "print(d['a']['10'][0:4][1:3:1])\n",
    "print(set(d['a']['10'][0:4][-1::-3]))\n",
    "print(d['a']['10'][0:4][-2::-2])\n",
    "print([d['a']['10'][0],d['a']['10'][4]['d'][0],list(d['a']['10'][-1][(10,)])[1]])\n",
    "print((list(d['a']['10'][-1][(10,)])[0],d['a']['10'][-1]['d'][-1],d['a']['10'][1]))\n",
    "print((list(d['a']['10'][-1][(10,)])[-1][::-1],d['a']['10'][-1]['d'][1][::-1]))\n",
    "\n",
    "\n",
    "\n"
   ]
  }
 ],
 "metadata": {
  "kernelspec": {
   "display_name": "Python 3",
   "language": "python",
   "name": "python3"
  },
  "language_info": {
   "codemirror_mode": {
    "name": "ipython",
    "version": 3
   },
   "file_extension": ".py",
   "mimetype": "text/x-python",
   "name": "python",
   "nbconvert_exporter": "python",
   "pygments_lexer": "ipython3",
   "version": "3.11.4"
  },
  "orig_nbformat": 4
 },
 "nbformat": 4,
 "nbformat_minor": 2
}
