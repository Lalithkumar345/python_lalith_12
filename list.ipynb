{
 "cells": [
  {
   "cell_type": "code",
   "execution_count": 34,
   "metadata": {},
   "outputs": [
    {
     "name": "stdout",
     "output_type": "stream",
     "text": [
      "101\n"
     ]
    }
   ],
   "source": [
    "a=\"e\"\n",
    "if('a'<=a<='z' or 'A'<=a<='Z'  ):\n",
    "    print(ord(a))\n",
    "else:\n",
    "    print(\"special charater\")"
   ]
  },
  {
   "cell_type": "code",
   "execution_count": 1,
   "metadata": {},
   "outputs": [
    {
     "name": "stdout",
     "output_type": "stream",
     "text": [
      "lalith\n"
     ]
    }
   ],
   "source": [
    "a='Lalith'\n",
    "b=chr(ord(a[0])+32)\n",
    "a=b+a[1:]\n",
    "print(a)\n",
    "\n"
   ]
  },
  {
   "cell_type": "code",
   "execution_count": null,
   "metadata": {},
   "outputs": [],
   "source": []
  },
  {
   "cell_type": "code",
   "execution_count": 5,
   "metadata": {},
   "outputs": [
    {
     "name": "stdout",
     "output_type": "stream",
     "text": [
      "girish\n",
      "hsirig\n",
      "srg\n",
      "grs\n",
      "gi\n",
      "hii\n",
      "hello\n",
      "world\n",
      "helloworld\n",
      "dlrowolleh\n",
      "drwle\n",
      "hlool\n",
      "hol\n",
      "dwe\n",
      "i love india\n",
      "india\n",
      "love india\n",
      "aidni evol i\n",
      "adieo \n",
      "nohtyp\n",
      "ognajd\n",
      "ja\n",
      "avaj\n",
      "['python', 'django', 'java']\n",
      "['java', 'django', 'python']\n",
      "['python', 'java']\n",
      "['java', 'python']\n",
      "ksi\n",
      "ksi\n",
      "ah\n",
      "ha\n",
      "(10, 'girish', 'helloworld', 'i love india')\n",
      "('i love india', 'helloworld', 'girish', 10)\n",
      "(10, 'helloworld')\n",
      "('girish', 'helloworld')\n",
      "{10, 'i love india'}\n",
      "('helloworld', 10)\n",
      "[10, 'python', 'kashi']\n",
      "('venugopal', 'java', 'girish')\n",
      "('ihsak', 'nohtyp')\n"
     ]
    }
   ],
   "source": [
    "d={'a':{'10':(10,\"girish\", 'helloworld', 'i love india', {'d':['python', 'django', 'java'],(10,):{'venugopal', 'kashi'}})}}\n",
    "\n",
    "print(d['a']['10'][1])\n",
    "print(d['a']['10'][1][::-1])\n",
    "print(d['a']['10'][1][-2::-2])\n",
    "print(d['a']['10'][1][0::2])\n",
    "print(d['a']['10'][1][0:2:1])\n",
    "print(d['a']['10'][1][-1::-2]) \n",
    "print(d['a']['10'][2][0:5:1])\n",
    "print(d['a']['10'][2][5::1])\n",
    "print(d['a']['10'][2][0::1])\n",
    "print(d['a']['10'][2][::-1])\n",
    "print(d['a']['10'][2][-1::-2])\n",
    "print(d['a']['10'][2][0::2])\n",
    "print(d['a']['10'][2][0::4])\n",
    "print(d['a']['10'][2][-1::-4])\n",
    "print(d['a']['10'][3])\n",
    "print(d['a']['10'][3][-5::])\n",
    "print(d['a']['10'][3][2::])\n",
    "print(d['a']['10'][3][::-1])\n",
    "print(d['a']['10'][3][-1::-2])\n",
    "print(d['a']['10'][4]['d'][0][::-1])\n",
    "print(d['a']['10'][4]['d'][1][::-1])\n",
    "print(d['a']['10'][4]['d'][2][0:2:1])\n",
    "print(d['a']['10'][4]['d'][2][::-1])\n",
    "print(d['a']['10'][4]['d'])\n",
    "print(d['a']['10'][4]['d'][::-1])\n",
    "print(d['a']['10'][4]['d'][0::2])\n",
    "print(d['a']['10'][4]['d'][-1::-2])\n",
    "\n",
    "print(list(d['a']['10'][4][(10,)])[1][::2])\n",
    "print(list(d['a']['10'][4][(10,)])[1][:5:2])\n",
    "print(list(d['a']['10'][4][(10,)])[1][1:6:2])\n",
    "print(list(d['a']['10'][4][(10,)])[1][-2:-7:-2])\n",
    "print(d['a']['10'][0:4])\n",
    "print(d['a']['10'][0:4][::-1])\n",
    "print(d['a']['10'][0:4][0:3:2])\n",
    "print(d['a']['10'][0:4][1:3:1])\n",
    "print(set(d['a']['10'][0:4][-1::-3]))\n",
    "print(d['a']['10'][0:4][-2::-2])\n",
    "print([d['a']['10'][0],d['a']['10'][4]['d'][0],list(d['a']['10'][-1][(10,)])[1]])\n",
    "print((list(d['a']['10'][-1][(10,)])[-2],d['a']['10'][-1]['d'][-1],d['a']['10'][1]))\n",
    "print((list(d['a']['10'][-1][(10,)])[-1][::-1],d['a']['10'][-1]['d'][0][::-1]))\n",
    "\n",
    "\n",
    "\n"
   ]
  },
  {
   "cell_type": "code",
   "execution_count": 4,
   "metadata": {},
   "outputs": [
    {
     "name": "stdout",
     "output_type": "stream",
     "text": [
      "['java', 'python']\n",
      "ksi\n"
     ]
    }
   ],
   "source": [
    "d={'a':{'10':(10,\"girish\", 'helloworld', 'i love india', {'d':['python', 'django', 'java'],(10,):{'venugopal', 'kashi'}})}}\n",
    "\n",
    "print(d['a']['10'][4]['d'][-1::-2])\n",
    "print(list(d['a']['10'][4][(10,)])[1][::2])"
   ]
  },
  {
   "cell_type": "code",
   "execution_count": 1,
   "metadata": {},
   "outputs": [
    {
     "name": "stdout",
     "output_type": "stream",
     "text": [
      "girish\n",
      "hsirig\n",
      "srg\n",
      "grs\n",
      "gi\n",
      "hii\n",
      "hello\n",
      "world\n",
      "helloworld\n",
      "dlrowolleh\n",
      "drwle\n",
      "hlool\n",
      "hol\n",
      "dwe\n",
      "i love india\n",
      "india\n",
      "love india\n",
      "aidni evol i\n",
      "adieo \n",
      "nohtyp\n",
      "ognajd\n",
      "ja\n",
      "avaj\n",
      "['python', 'django', 'java']\n",
      "['java', 'django', 'python']\n",
      "['python', 'java']\n",
      "['java', 'python']\n",
      "ksi\n",
      "ksi\n",
      "ah\n",
      "ha\n",
      "(10, 'girish', 'helloworld', 'i love india')\n",
      "('i love india', 'helloworld', 'girish', 10)\n",
      "(10, 'helloworld')\n",
      "('girish', 'helloworld')\n",
      "{10, 'i love india'}\n",
      "('helloworld', 10)\n",
      "[10, 'python', 'kashi']\n",
      "('venugopal', 'java', 'girish')\n",
      "('ihsak', 'ognajd')\n"
     ]
    }
   ],
   "source": [
    "d={'a':{'10':(10,\"girish\", 'helloworld', 'i love india', {'d':['python', 'django', 'java'],(10,):{'venugopal', 'kashi'}})}}\n",
    "\n",
    "print(d['a']['10'][1])\n",
    "print(d['a']['10'][1][::-1])\n",
    "print(d['a']['10'][1][-2::-2])\n",
    "print(d['a']['10'][1][0::2])\n",
    "print(d['a']['10'][1][0:2:1])\n",
    "print(d['a']['10'][1][-1::-2]) \n",
    "print(d['a']['10'][2][0:5:1])\n",
    "print(d['a']['10'][2][5::1])\n",
    "print(d['a']['10'][2][0::1])\n",
    "print(d['a']['10'][2][::-1])\n",
    "print(d['a']['10'][2][-1::-2])\n",
    "print(d['a']['10'][2][0::2])\n",
    "print(d['a']['10'][2][0::4])\n",
    "print(d['a']['10'][2][-1::-4])\n",
    "print(d['a']['10'][3])\n",
    "print(d['a']['10'][3][-5::])\n",
    "print(d['a']['10'][3][2::])\n",
    "print(d['a']['10'][3][::-1])\n",
    "print(d['a']['10'][3][-1::-2])\n",
    "print(d['a']['10'][4]['d'][0][::-1])\n",
    "print(d['a']['10'][4]['d'][1][::-1])\n",
    "print(d['a']['10'][4]['d'][2][0:2:1])\n",
    "print(d['a']['10'][4]['d'][2][::-1])\n",
    "print(d['a']['10'][4]['d'])\n",
    "print(d['a']['10'][4]['d'][::-1])\n",
    "print(d['a']['10'][4]['d'][0::2])\n",
    "print(d['a']['10'][4]['d'][-1::-2])\n",
    "print(list(d['a']['10'][4][(10,)])[1][::2])\n",
    "print(list(d['a']['10'][4][(10,)])[1][:5:2])\n",
    "print(list(d['a']['10'][4][(10,)])[1][1:6:2])\n",
    "print(list(d['a']['10'][4][(10,)])[1][-2:-7:-2])\n",
    "print(d['a']['10'][0:4])\n",
    "print(d['a']['10'][0:4][::-1])\n",
    "print(d['a']['10'][0:4][0:3:2])\n",
    "print(d['a']['10'][0:4][1:3:1])\n",
    "print(set(d['a']['10'][0:4][-1::-3]))\n",
    "print(d['a']['10'][0:4][-2::-2])\n",
    "print([d['a']['10'][0],d['a']['10'][4]['d'][0],list(d['a']['10'][-1][(10,)])[1]])\n",
    "print((list(d['a']['10'][-1][(10,)])[0],d['a']['10'][-1]['d'][-1],d['a']['10'][1]))\n",
    "print((list(d['a']['10'][-1][(10,)])[-1][::-1],d['a']['10'][-1]['d'][1][::-1]))\n",
    "\n",
    "\n",
    "\n"
   ]
  },
  {
   "cell_type": "code",
   "execution_count": 8,
   "metadata": {},
   "outputs": [
    {
     "name": "stdout",
     "output_type": "stream",
     "text": [
      "B\n"
     ]
    },
    {
     "ename": "TypeError",
     "evalue": "can only concatenate str (not \"int\") to str",
     "output_type": "error",
     "traceback": [
      "\u001b[1;31m---------------------------------------------------------------------------\u001b[0m",
      "\u001b[1;31mTypeError\u001b[0m                                 Traceback (most recent call last)",
      "Cell \u001b[1;32mIn[8], line 5\u001b[0m\n\u001b[0;32m      3\u001b[0m \u001b[39mwhile\u001b[39;00m(a\u001b[39m<\u001b[39m\u001b[39m=\u001b[39mb):\n\u001b[0;32m      4\u001b[0m     \u001b[39mprint\u001b[39m(\u001b[39mchr\u001b[39m(\u001b[39mord\u001b[39m(a)\u001b[39m+\u001b[39m\u001b[39m1\u001b[39m))\n\u001b[1;32m----> 5\u001b[0m     a\u001b[39m+\u001b[39;49m\u001b[39m=\u001b[39;49m\u001b[39m1\u001b[39;49m    \n",
      "\u001b[1;31mTypeError\u001b[0m: can only concatenate str (not \"int\") to str"
     ]
    }
   ],
   "source": [
    "a=\"A\"\n",
    "b=input()\n",
    "while(a<=b):\n",
    "    print(chr(ord(a)+1))\n",
    "    a+=1    "
   ]
  },
  {
   "cell_type": "code",
   "execution_count": 15,
   "metadata": {},
   "outputs": [
    {
     "name": "stdout",
     "output_type": "stream",
     "text": [
      "5 * 1 = 5\n",
      "5 * 2 = 10\n",
      "5 * 3 = 15\n",
      "5 * 4 = 20\n",
      "5 * 5 = 25\n",
      "5 * 6 = 30\n",
      "5 * 7 = 35\n",
      "5 * 8 = 40\n",
      "5 * 9 = 45\n",
      "5 * 10 = 50\n",
      "5 * 11 = 55\n",
      "5 * 12 = 60\n",
      "5 * 13 = 65\n",
      "5 * 14 = 70\n",
      "5 * 15 = 75\n",
      "5 * 16 = 80\n",
      "5 * 17 = 85\n",
      "5 * 18 = 90\n",
      "5 * 19 = 95\n",
      "5 * 20 = 100\n"
     ]
    }
   ],
   "source": [
    "a=int(input())\n",
    "i=1\n",
    "\n",
    "while(i<=20):\n",
    "    print(a,\"*\",i,\"=\",a*i)\n",
    "    i+=1\n",
    "    "
   ]
  },
  {
   "cell_type": "code",
   "execution_count": 24,
   "metadata": {},
   "outputs": [
    {
     "ename": "NameError",
     "evalue": "name 'd' is not defined",
     "output_type": "error",
     "traceback": [
      "\u001b[1;31m---------------------------------------------------------------------------\u001b[0m",
      "\u001b[1;31mNameError\u001b[0m                                 Traceback (most recent call last)",
      "Cell \u001b[1;32mIn[24], line 1\u001b[0m\n\u001b[1;32m----> 1\u001b[0m ch\u001b[39m=\u001b[39md\n\u001b[0;32m      2\u001b[0m b\u001b[39m=\u001b[39mv\n\u001b[0;32m      3\u001b[0m count\u001b[39m=\u001b[39m\u001b[39m0\u001b[39m\n",
      "\u001b[1;31mNameError\u001b[0m: name 'd' is not defined"
     ]
    }
   ],
   "source": [
    "ch=d\n",
    "b=v\n",
    "count=0\n",
    "while ch<=b:\n",
    "    print(chr(ord(ch)))\n",
    "    ch+=2\n",
    "    if(ch in \"aeiouAEIOU\"):\n",
    "        count+=ch\n",
    "    \n",
    "\n"
   ]
  },
  {
   "cell_type": "code",
   "execution_count": 19,
   "metadata": {},
   "outputs": [
    {
     "name": "stdout",
     "output_type": "stream",
     "text": [
      "A\n",
      "C\n",
      "E\n",
      "G\n",
      "I\n",
      "K\n",
      "M\n",
      "O\n",
      "Q\n",
      "S\n",
      "U\n",
      "W\n",
      "Y\n"
     ]
    }
   ],
   "source": [
    "a=65\n",
    "b=90\n",
    "while a<=b:\n",
    "    print(chr(a))\n",
    "    a+=2\n",
    "    "
   ]
  },
  {
   "cell_type": "code",
   "execution_count": 25,
   "metadata": {},
   "outputs": [
    {
     "name": "stdout",
     "output_type": "stream",
     "text": [
      "The number of vowels in 'D to V' is: 1\n"
     ]
    }
   ],
   "source": [
    "input_string = \"D to V\"\n",
    "vowels = \"AEIOUaeiou\"\n",
    "count = 0\n",
    "index = 0\n",
    "\n",
    "while index < len(input_string):\n",
    "    if input_string[index] in vowels:\n",
    "        count += 1\n",
    "    index += 1\n",
    "\n",
    "print(f\"The number of vowels in '{input_string}' is: {count}\")\n"
   ]
  },
  {
   "cell_type": "code",
   "execution_count": 14,
   "metadata": {},
   "outputs": [
    {
     "name": "stdout",
     "output_type": "stream",
     "text": [
      "4\n"
     ]
    }
   ],
   "source": [
    "start=68\n",
    "end=86\n",
    "count=0\n",
    "vowels='aeiouAEIOU'\n",
    "while start<=end:\n",
    "    #print(chr(start))\n",
    "    start+=1\n",
    "    if chr(start) in vowels:\n",
    "        count+=1\n",
    "print(count)\n",
    "\n",
    "\n",
    "#print vovels from dto v."
   ]
  },
  {
   "cell_type": "code",
   "execution_count": 13,
   "metadata": {},
   "outputs": [
    {
     "name": "stdout",
     "output_type": "stream",
     "text": [
      "120\n"
     ]
    }
   ],
   "source": [
    "m=1\n",
    "n=5\n",
    "pr=1\n",
    "while m<=n:\n",
    "    pr*=m\n",
    "    m+=1\n",
    "print(pr)\n",
    "    "
   ]
  },
  {
   "cell_type": "code",
   "execution_count": 6,
   "metadata": {},
   "outputs": [
    {
     "name": "stdout",
     "output_type": "stream",
     "text": [
      "5\n",
      "4\n",
      "1\n"
     ]
    }
   ],
   "source": [
    "n=145\n",
    "m=0\n",
    "while n:\n",
    "    res=n%10\n",
    "    res+=m\n",
    "    print(res)\n",
    "    n=n//10"
   ]
  },
  {
   "cell_type": "code",
   "execution_count": 7,
   "metadata": {},
   "outputs": [
    {
     "name": "stdout",
     "output_type": "stream",
     "text": [
      "1\n",
      "2\n",
      "3\n",
      "4\n",
      "5\n",
      "6\n",
      "7\n",
      "8\n",
      "9\n",
      "10\n"
     ]
    }
   ],
   "source": [
    "m=1\n",
    "n=10\n",
    "while m<=n:\n",
    "    print(m)\n",
    "    m+=1"
   ]
  },
  {
   "cell_type": "code",
   "execution_count": 2,
   "metadata": {},
   "outputs": [
    {
     "name": "stdout",
     "output_type": "stream",
     "text": [
      "145\n",
      "not strong\n"
     ]
    }
   ],
   "source": [
    "n=145\n",
    "temp=n\n",
    "c=0\n",
    "while n:\n",
    "    ld=n%10\n",
    "    i=1\n",
    "    pr=1\n",
    "    while i<=ld:\n",
    "        pr*=i\n",
    "        i+=1\n",
    "    c+=pr\n",
    "    n=n//10\n",
    "print(temp)\n",
    "if temp==n:\n",
    "    print('strong')\n",
    "else: \n",
    "    print('not strong')\n",
    "        \n"
   ]
  },
  {
   "cell_type": "code",
   "execution_count": null,
   "metadata": {},
   "outputs": [],
   "source": []
  }
 ],
 "metadata": {
  "kernelspec": {
   "display_name": "Python 3",
   "language": "python",
   "name": "python3"
  },
  "language_info": {
   "codemirror_mode": {
    "name": "ipython",
    "version": 3
   },
   "file_extension": ".py",
   "mimetype": "text/x-python",
   "name": "python",
   "nbconvert_exporter": "python",
   "pygments_lexer": "ipython3",
   "version": "3.11.4"
  },
  "orig_nbformat": 4
 },
 "nbformat": 4,
 "nbformat_minor": 2
}
