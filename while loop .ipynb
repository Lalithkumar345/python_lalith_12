{
 "cells": [
  {
   "cell_type": "markdown",
   "metadata": {},
   "source": [
    "while loop programs\n"
   ]
  },
  {
   "cell_type": "code",
   "execution_count": 1,
   "metadata": {},
   "outputs": [
    {
     "name": "stdout",
     "output_type": "stream",
     "text": [
      "helloworld\n",
      "helloworld\n",
      "helloworld\n",
      "helloworld\n",
      "helloworld\n"
     ]
    }
   ],
   "source": [
    "#1.wap to print helloworld 5 times using while loop\n",
    "a=0\n",
    "b=5\n",
    "while a<b:\n",
    "    print(\"helloworld\")\n",
    "    a+=1"
   ]
  },
  {
   "cell_type": "code",
   "execution_count": 7,
   "metadata": {},
   "outputs": [
    {
     "name": "stdout",
     "output_type": "stream",
     "text": [
      "1\n",
      "2\n",
      "3\n",
      "4\n",
      "5\n",
      "6\n",
      "7\n",
      "8\n",
      "9\n",
      "10\n"
     ]
    }
   ],
   "source": [
    "#2.  WAP to print the number from 1 to 10 by using a while loop.\n",
    "a=1\n",
    "b=10\n",
    "while(a<=b):\n",
    "    print(a)\n",
    "    a+=1    "
   ]
  },
  {
   "cell_type": "code",
   "execution_count": 10,
   "metadata": {},
   "outputs": [
    {
     "name": "stdout",
     "output_type": "stream",
     "text": [
      "1\n",
      "2\n",
      "3\n",
      "4\n",
      "5\n",
      "6\n",
      "7\n",
      "8\n",
      "9\n",
      "10\n",
      "11\n",
      "12\n",
      "13\n",
      "14\n",
      "15\n",
      "16\n",
      "17\n",
      "18\n",
      "19\n",
      "20\n",
      "21\n",
      "22\n",
      "23\n",
      "24\n",
      "25\n"
     ]
    }
   ],
   "source": [
    "#3.WAP to print the natural number until 1 to nth times by using a while loop.\n",
    "a=1\n",
    "b=int(input(\"enter a number\"))\n",
    "while(a<=b):\n",
    "    print(a)\n",
    "    a+=1"
   ]
  },
  {
   "cell_type": "code",
   "execution_count": 27,
   "metadata": {},
   "outputs": [
    {
     "name": "stdout",
     "output_type": "stream",
     "text": [
      "25\n",
      "24\n",
      "23\n",
      "22\n",
      "21\n",
      "20\n",
      "19\n",
      "18\n",
      "17\n",
      "16\n",
      "15\n",
      "14\n",
      "13\n",
      "12\n",
      "11\n",
      "10\n",
      "9\n",
      "8\n",
      "7\n",
      "6\n",
      "5\n",
      "4\n",
      "3\n",
      "2\n",
      "1\n"
     ]
    }
   ],
   "source": [
    "#4. WAP to print the reverse of the natural number nth to 0 times by using a while loop.\n",
    "\n",
    "b=int(input(\"enter a number\"))\n",
    "c=1\n",
    "while(b>=c):\n",
    "    print(b)\n",
    "    b-=1\n"
   ]
  },
  {
   "cell_type": "code",
   "execution_count": 30,
   "metadata": {},
   "outputs": [
    {
     "name": "stdout",
     "output_type": "stream",
     "text": [
      "0\n",
      "1\n",
      "2\n",
      "3\n",
      "4\n",
      "5\n",
      "6\n",
      "7\n",
      "8\n",
      "9\n",
      "10\n",
      "11\n",
      "12\n",
      "13\n",
      "14\n",
      "15\n",
      "16\n",
      "17\n",
      "18\n",
      "19\n",
      "20\n"
     ]
    }
   ],
   "source": [
    "#5. WAP to print the whole number until nth times by using a while loop.\n",
    "a=0\n",
    "b=int(input(\"enter a number\"))\n",
    "while(a<=b):\n",
    "    print(a)\n",
    "    a+=1"
   ]
  },
  {
   "cell_type": "code",
   "execution_count": 31,
   "metadata": {},
   "outputs": [
    {
     "name": "stdout",
     "output_type": "stream",
     "text": [
      "20\n",
      "19\n",
      "18\n",
      "17\n",
      "16\n",
      "15\n",
      "14\n",
      "13\n",
      "12\n",
      "11\n",
      "10\n",
      "9\n",
      "8\n",
      "7\n",
      "6\n",
      "5\n",
      "4\n",
      "3\n",
      "2\n",
      "1\n",
      "0\n"
     ]
    }
   ],
   "source": [
    "#6. WAP to print the reverse of the whole number until nth times by using a while loop.\n",
    "b=int(input(\"enter a number\"))\n",
    "c=0\n",
    "while(b>=c):\n",
    "    print(b)\n",
    "    b-=1\n",
    "\n"
   ]
  },
  {
   "cell_type": "code",
   "execution_count": 39,
   "metadata": {},
   "outputs": [
    {
     "name": "stdout",
     "output_type": "stream",
     "text": [
      "0\n",
      "2\n",
      "4\n",
      "6\n",
      "8\n",
      "10\n"
     ]
    }
   ],
   "source": [
    "#7. WAP to print the even number until nth times by using a while loop.\n",
    "a=0\n",
    "b=int(input(\"enter a number\"))\n",
    "while(a<=b):\n",
    "    print(a)\n",
    "    a+=2\n",
    "    \n",
    "    \n",
    "    \n",
    "   "
   ]
  },
  {
   "cell_type": "code",
   "execution_count": 42,
   "metadata": {},
   "outputs": [
    {
     "name": "stdout",
     "output_type": "stream",
     "text": [
      "10\n",
      "8\n",
      "6\n",
      "4\n",
      "2\n",
      "0\n"
     ]
    }
   ],
   "source": [
    "#8. WAP to print reserve the even number until nth times by using a while loop.\n",
    "b=int(input(\"enter a number\"))\n",
    "c=0\n",
    "while(b>=c):\n",
    "    print(b)\n",
    "    b-=2\n"
   ]
  },
  {
   "cell_type": "code",
   "execution_count": 43,
   "metadata": {},
   "outputs": [
    {
     "name": "stdout",
     "output_type": "stream",
     "text": [
      "1\n",
      "3\n",
      "5\n",
      "7\n",
      "9\n"
     ]
    }
   ],
   "source": [
    "#9. WAP to print the odd number until nth times by using a while loop.\n",
    "a=1\n",
    "b=int(input(\"enter a number\"))\n",
    "while(a<=b):\n",
    "    print(a)\n",
    "    a+=2\n"
   ]
  },
  {
   "cell_type": "code",
   "execution_count": 48,
   "metadata": {},
   "outputs": [
    {
     "name": "stdout",
     "output_type": "stream",
     "text": [
      "11\n",
      "9\n",
      "7\n",
      "5\n",
      "3\n",
      "1\n"
     ]
    }
   ],
   "source": [
    "#10. WAP to print reserve the odd number until nth times by using a while loop.\n",
    "b=int(input(\"enter a number\"))\n",
    "c=1\n",
    "while(b>=c):\n",
    "    print(b)\n",
    "    b-=2\n"
   ]
  },
  {
   "cell_type": "code",
   "execution_count": 53,
   "metadata": {},
   "outputs": [
    {
     "name": "stdout",
     "output_type": "stream",
     "text": [
      "5 * 1 = 5\n",
      "5 * 2 = 10\n",
      "5 * 3 = 15\n",
      "5 * 4 = 20\n",
      "5 * 5 = 25\n",
      "5 * 6 = 30\n",
      "5 * 7 = 35\n",
      "5 * 8 = 40\n",
      "5 * 9 = 45\n",
      "5 * 10 = 50\n",
      "5 * 11 = 55\n",
      "5 * 12 = 60\n",
      "5 * 13 = 65\n",
      "5 * 14 = 70\n",
      "5 * 15 = 75\n",
      "5 * 16 = 80\n",
      "5 * 17 = 85\n",
      "5 * 18 = 90\n",
      "5 * 19 = 95\n",
      "5 * 20 = 100\n"
     ]
    }
   ],
   "source": [
    "#11. WAP to print the nth table 1 to 20, format ==> 5 * 1 = 5 to 5 * 20 = 100\n",
    "n=int(input())\n",
    "a=1\n",
    "\n",
    "while(a<=20):\n",
    "    print(n,\"*\",a,\"=\",n*a)\n",
    "    a+=1\n",
    "    "
   ]
  },
  {
   "cell_type": "code",
   "execution_count": 55,
   "metadata": {},
   "outputs": [
    {
     "name": "stdout",
     "output_type": "stream",
     "text": [
      "5 * 20 = 100\n",
      "5 * 19 = 95\n",
      "5 * 18 = 90\n",
      "5 * 17 = 85\n",
      "5 * 16 = 80\n",
      "5 * 15 = 75\n",
      "5 * 14 = 70\n",
      "5 * 13 = 65\n",
      "5 * 12 = 60\n",
      "5 * 11 = 55\n",
      "5 * 10 = 50\n",
      "5 * 9 = 45\n",
      "5 * 8 = 40\n",
      "5 * 7 = 35\n",
      "5 * 6 = 30\n",
      "5 * 5 = 25\n",
      "5 * 4 = 20\n",
      "5 * 3 = 15\n",
      "5 * 2 = 10\n",
      "5 * 1 = 5\n"
     ]
    }
   ],
   "source": [
    "#12. WAP to print the nth table 20 to 1, format ==> 5 * 20 = 100 to 5 * 1 = 5\n",
    "n=int(input())\n",
    "a=20\n",
    "\n",
    "while(a>=1):\n",
    "    print(n,\"*\",a,\"=\",n*a)\n",
    "    a-=1\n",
    "\n"
   ]
  },
  {
   "cell_type": "code",
   "execution_count": 64,
   "metadata": {},
   "outputs": [
    {
     "name": "stdout",
     "output_type": "stream",
     "text": [
      "27\n",
      "30\n",
      "33\n",
      "36\n",
      "39\n",
      "42\n",
      "45\n",
      "48\n",
      "51\n",
      "54\n",
      "57\n",
      "60\n",
      "63\n",
      "66\n"
     ]
    }
   ],
   "source": [
    "#13. WAP to print the numbers which are divisible by 3 from 25 to 66.\n",
    "n=25\n",
    "m=66\n",
    "\n",
    "while(n<=m):\n",
    "    if(n%3==0):\n",
    "        print(n)\n",
    "    n+=1\n"
   ]
  },
  {
   "cell_type": "code",
   "execution_count": 66,
   "metadata": {},
   "outputs": [
    {
     "name": "stdout",
     "output_type": "stream",
     "text": [
      "15\n",
      "30\n",
      "45\n",
      "60\n",
      "75\n"
     ]
    }
   ],
   "source": [
    "#14. WAP to print the numbers which are divisible by 3 and 5 from 15 to 76\n",
    "n=15\n",
    "m=76\n",
    "\n",
    "while(n<=m):\n",
    "    if(n%3==00 and n%5==0):\n",
    "        print(n)\n",
    "    n+=1\n"
   ]
  },
  {
   "cell_type": "code",
   "execution_count": 75,
   "metadata": {},
   "outputs": [
    {
     "name": "stdout",
     "output_type": "stream",
     "text": [
      "70\n",
      "35\n"
     ]
    }
   ],
   "source": [
    "#15. WAP to print the numbers which are divisible by 5 and 7 from 77 to 22.\n",
    "n=77\n",
    "m=22\n",
    "\n",
    "while(n>=m):\n",
    "    if(n%5==0 and n%7==0):\n",
    "        print(n)\n",
    "    n-=1"
   ]
  },
  {
   "cell_type": "code",
   "execution_count": 81,
   "metadata": {},
   "outputs": [
    {
     "name": "stdout",
     "output_type": "stream",
     "text": [
      "i love you 3\n",
      "i hate you 5\n",
      "i love you 6\n",
      "i love you 9\n",
      "i hate you 10\n",
      "i love you 12\n",
      "i like you 15\n",
      "i love you 18\n",
      "i hate you 20\n",
      "i love you 21\n",
      "i love you 24\n",
      "i hate you 25\n",
      "i love you 27\n",
      "i like you 30\n"
     ]
    }
   ],
   "source": [
    "#16. WAP to print the ”love you” if value is divisible by 3, or print “hate you” value is divisible by 5, to print “i like you” if divisible by 3 and 5, from 1 to 30.\n",
    "a=1\n",
    "b=30\n",
    "while(a<=b):\n",
    "    if(a%3==0 and a%5==0):\n",
    "        print(\"i like you\",a)\n",
    "    elif (a%3==0):\n",
    "        print(\"i love you\",a)\n",
    "    elif(a%5==0):\n",
    "        print(\"i hate you\",a)  \n",
    "    a+=1      "
   ]
  },
  {
   "cell_type": "code",
   "execution_count": 98,
   "metadata": {},
   "outputs": [
    {
     "name": "stdout",
     "output_type": "stream",
     "text": [
      "55\n"
     ]
    }
   ],
   "source": [
    "#17. WAP to print sum of the 1 to nth natural numbers.\n",
    "a=1\n",
    "b=int(input(\"enter a number\"))\n",
    "sum=0\n",
    "while(a<=b):\n",
    "    sum=sum+a\n",
    "   \n",
    "    a+=1\n",
    "print(sum)\n",
    "    \n"
   ]
  },
  {
   "cell_type": "code",
   "execution_count": 99,
   "metadata": {},
   "outputs": [
    {
     "name": "stdout",
     "output_type": "stream",
     "text": [
      "110\n"
     ]
    }
   ],
   "source": [
    "#18. WAP to print sum of the even numbers 1 to 20 numbers.\n",
    "a=0\n",
    "b=int(input(\"enter a number\"))\n",
    "sum=0\n",
    "while(a<=b):\n",
    "    sum=sum+a\n",
    "   \n",
    "    a+=2\n",
    "print(sum)\n"
   ]
  },
  {
   "cell_type": "code",
   "execution_count": 101,
   "metadata": {},
   "outputs": [
    {
     "name": "stdout",
     "output_type": "stream",
     "text": [
      "720\n"
     ]
    }
   ],
   "source": [
    "#19. WAP to print products of the 1 to 6 numbers.\n",
    "a=1\n",
    "b=int(input(\"enter a number\"))\n",
    "prod=1\n",
    "while(a<=b):\n",
    "    prod=prod*a\n",
    "   \n",
    "    a+=1\n",
    "print(prod)\n"
   ]
  },
  {
   "cell_type": "code",
   "execution_count": 1,
   "metadata": {},
   "outputs": [
    {
     "name": "stdout",
     "output_type": "stream",
     "text": [
      "15\n"
     ]
    }
   ],
   "source": [
    "#20. WAP to count the no of odd values from 1 to 30 numbers.\n",
    "a=1\n",
    "b=30\n",
    "c=0\n",
    "while(a<=b):\n",
    "    if(a%2!=0):\n",
    "        c+=1\n",
    "        \n",
    "    a+=1\n",
    "print(c)\n",
    "        \n",
    "        "
   ]
  },
  {
   "cell_type": "code",
   "execution_count": 20,
   "metadata": {},
   "outputs": [
    {
     "name": "stdout",
     "output_type": "stream",
     "text": [
      "1\n",
      "2\n",
      "5\n",
      "10\n"
     ]
    }
   ],
   "source": [
    "#21. WAP to print the factors of the given number\n",
    "a=1\n",
    "b=int(input(\"enter a number\"))\n",
    "\n",
    "while(a<=b):\n",
    "    if(b%a==0):\n",
    "        print(a)\n",
    "      \n",
    "    a+=1\n"
   ]
  },
  {
   "cell_type": "code",
   "execution_count": 28,
   "metadata": {},
   "outputs": [
    {
     "name": "stdout",
     "output_type": "stream",
     "text": [
      "3\n"
     ]
    }
   ],
   "source": [
    "#22. WAP to sum of the factors of the given number.\n",
    "a=1\n",
    "b=int(input(\"enter a number\"))\n",
    "sum=0\n",
    "\n",
    "while(a<=b):\n",
    "    if(b%a==0):\n",
    "        sum=sum+a\n",
    "     \n",
    "      \n",
    "    a+=1\n",
    "print(sum)\n"
   ]
  },
  {
   "cell_type": "code",
   "execution_count": 30,
   "metadata": {},
   "outputs": [
    {
     "name": "stdout",
     "output_type": "stream",
     "text": [
      "100\n"
     ]
    }
   ],
   "source": [
    "#23. WAP to prod of the factors of the given number\n",
    "a=1\n",
    "b=int(input(\"enter a number\"))\n",
    "sum=1\n",
    "\n",
    "while(a<=b):\n",
    "    if(b%a==0):\n",
    "        sum=sum*a\n",
    "     \n",
    "      \n",
    "    a+=1\n",
    "print(sum)\n"
   ]
  },
  {
   "cell_type": "code",
   "execution_count": 79,
   "metadata": {},
   "outputs": [
    {
     "name": "stdout",
     "output_type": "stream",
     "text": [
      "0\n",
      "1\n",
      "1\n",
      "2\n",
      "3\n",
      "5\n",
      "8\n"
     ]
    }
   ],
   "source": [
    "#24. WAP to print Fibonacci series 0 to nth. \n",
    "a=0\n",
    "b=1\n",
    "print(a)\n",
    "print(b)\n",
    "n=int(input())\n",
    "while(n):\n",
    "    c=a+b\n",
    "    print(c)\n",
    "    a,b=b,c\n",
    "    n-=1\n",
    "    \n",
    "\n",
    " "
   ]
  },
  {
   "cell_type": "code",
   "execution_count": 8,
   "metadata": {},
   "outputs": [
    {
     "name": "stdout",
     "output_type": "stream",
     "text": [
      "120\n"
     ]
    }
   ],
   "source": [
    "#25. WAP to find out the factorial number of a given number.\n",
    "a=1\n",
    "b=int(input(\"enter a number\"))\n",
    "prod=1\n",
    "while(a<=b):\n",
    "    prod=prod*a\n",
    "   \n",
    "\n",
    "    a+=1\n",
    "print(prod)\n"
   ]
  },
  {
   "cell_type": "code",
   "execution_count": 10,
   "metadata": {},
   "outputs": [
    {
     "name": "stdout",
     "output_type": "stream",
     "text": [
      "6  720\n",
      "7  5040\n",
      "8  40320\n",
      "9  362880\n"
     ]
    }
   ],
   "source": [
    "#26. WAP to print the factorial numbers in the given range m to n.\n",
    "m=6\n",
    "n=9\n",
    "\n",
    "while(m<=n):\n",
    "    prod=1\n",
    "    a=m\n",
    "    b=1\n",
    "    while(b<=a):\n",
    "        prod*=b\n",
    "        b+=1\n",
    "    print(f'{m}  {prod}')\n",
    "    m+=1    \n",
    "    \n",
    "    \n",
    " "
   ]
  },
  {
   "cell_type": "code",
   "execution_count": 17,
   "metadata": {},
   "outputs": [
    {
     "name": "stdout",
     "output_type": "stream",
     "text": [
      "6 not a prime number\n"
     ]
    }
   ],
   "source": [
    "#27. WAP to check whether a given number is a prime number or not.\n",
    "n=1\n",
    "m=6\n",
    "count=0\n",
    "while(n<=m):\n",
    "    if(m%n==0):\n",
    "        count+=1\n",
    "    n+=1\n",
    "    \n",
    "if(count==2):\n",
    "    print(m,\"prime number\")\n",
    "else:\n",
    "    print(m,\"not a prime number\")    "
   ]
  },
  {
   "cell_type": "code",
   "execution_count": 21,
   "metadata": {},
   "outputs": [
    {
     "name": "stdout",
     "output_type": "stream",
     "text": [
      "100\n"
     ]
    }
   ],
   "source": [
    "#28. WAP to print the prime numbers in the given range m to n\n",
    "m=1\n",
    "n=100\n",
    "while(m<=n):\n",
    "    i=1\n",
    "    k=m\n",
    "    count=0\n",
    "    while(i<=k):\n",
    "         if(k%i==0):\n",
    "            count+=1\n",
    "         i+=1     \n",
    "             \n",
    "               \n",
    "  \n",
    "    if(count==2):\n",
    "        k=k+i\n",
    "        \n",
    "    m+=1         \n",
    "print(k)       \n",
    "        "
   ]
  },
  {
   "cell_type": "code",
   "execution_count": 13,
   "metadata": {},
   "outputs": [
    {
     "name": "stdout",
     "output_type": "stream",
     "text": [
      "153 is a armstrong number\n"
     ]
    }
   ],
   "source": [
    "#29. WAP to check whether a given number is an armstrong number or not.\n",
    "n=153\n",
    "temp=n\n",
    "sum1=0\n",
    "while n:\n",
    "    ld=n%10\n",
    "    sum1+=ld**3\n",
    "    n=n//10\n",
    "if(sum1==temp):\n",
    "    print(temp, 'is a armstrong number')\n",
    "else:\n",
    "    print(temp, 'is not a armstrong number')\n"
   ]
  },
  {
   "cell_type": "code",
   "execution_count": 17,
   "metadata": {},
   "outputs": [
    {
     "name": "stdout",
     "output_type": "stream",
     "text": [
      "153\n",
      "370\n",
      "371\n",
      "407\n"
     ]
    }
   ],
   "source": [
    "#30. WAP to print the armstrong numbers in the given range m to n\n",
    "start=1\n",
    "end=1000\n",
    "while(start<=end):\n",
    "    n=start\n",
    "\n",
    "    s=n\n",
    "    temp=n\n",
    "    s1=0\n",
    "    count=0\n",
    "    while(s):\n",
    "        count+=1\n",
    "        s=s//10\n",
    "\n",
    "    while(n):\n",
    "        id=n%10\n",
    "        s1+=id**count\n",
    "        n//=10\n",
    "    if(temp==s1 and temp>10):\n",
    "        print(temp)    \n",
    "    start+=1 \n"
   ]
  },
  {
   "cell_type": "code",
   "execution_count": 15,
   "metadata": {},
   "outputs": [
    {
     "name": "stdout",
     "output_type": "stream",
     "text": [
      "2\n",
      "3\n",
      "5\n",
      "7\n",
      "11\n",
      "13\n",
      "17\n",
      "19\n",
      "23\n",
      "29\n",
      "31\n",
      "37\n",
      "41\n",
      "43\n",
      "47\n"
     ]
    }
   ],
   "source": [
    "#31. Write a program to print prime series 1 to nth.\n",
    "m=1\n",
    "n=int(input())\n",
    "while(m<=n):\n",
    "    i=1\n",
    "    k=m\n",
    "    count=0\n",
    "    while(i<=k):\n",
    "         if(k%i==0):\n",
    "            count+=1\n",
    "         i+=1     \n",
    "             \n",
    "               \n",
    "  \n",
    "    if(count==2):\n",
    "        print(k)\n",
    "    m+=1        \n"
   ]
  },
  {
   "cell_type": "code",
   "execution_count": 16,
   "metadata": {},
   "outputs": [
    {
     "name": "stdout",
     "output_type": "stream",
     "text": [
      "0\n",
      "1\n",
      "1\n",
      "2\n",
      "3\n",
      "5\n",
      "8\n",
      "13\n",
      "21\n",
      "34\n",
      "55\n",
      "89\n",
      "144\n",
      "233\n",
      "377\n",
      "610\n",
      "987\n",
      "1597\n",
      "2584\n",
      "4181\n",
      "6765\n",
      "10946\n",
      "17711\n",
      "28657\n",
      "46368\n",
      "75025\n",
      "121393\n",
      "196418\n",
      "317811\n",
      "514229\n",
      "832040\n",
      "1346269\n",
      "2178309\n",
      "3524578\n",
      "5702887\n",
      "9227465\n",
      "14930352\n",
      "24157817\n",
      "39088169\n",
      "63245986\n",
      "102334155\n",
      "165580141\n",
      "267914296\n",
      "433494437\n",
      "701408733\n",
      "1134903170\n",
      "1836311903\n",
      "2971215073\n",
      "4807526976\n",
      "7778742049\n",
      "12586269025\n",
      "20365011074\n",
      "32951280099\n",
      "53316291173\n",
      "86267571272\n",
      "139583862445\n",
      "225851433717\n",
      "365435296162\n",
      "591286729879\n",
      "956722026041\n",
      "1548008755920\n",
      "2504730781961\n",
      "4052739537881\n",
      "6557470319842\n",
      "10610209857723\n",
      "17167680177565\n",
      "27777890035288\n",
      "44945570212853\n",
      "72723460248141\n",
      "117669030460994\n",
      "190392490709135\n",
      "308061521170129\n",
      "498454011879264\n",
      "806515533049393\n",
      "1304969544928657\n",
      "2111485077978050\n",
      "3416454622906707\n",
      "5527939700884757\n",
      "8944394323791464\n",
      "14472334024676221\n",
      "23416728348467685\n",
      "37889062373143906\n",
      "61305790721611591\n",
      "99194853094755497\n",
      "160500643816367088\n",
      "259695496911122585\n",
      "420196140727489673\n",
      "679891637638612258\n",
      "1100087778366101931\n",
      "1779979416004714189\n",
      "2880067194370816120\n",
      "4660046610375530309\n",
      "7540113804746346429\n",
      "12200160415121876738\n",
      "19740274219868223167\n",
      "31940434634990099905\n",
      "51680708854858323072\n",
      "83621143489848422977\n",
      "135301852344706746049\n",
      "218922995834555169026\n",
      "354224848179261915075\n",
      "573147844013817084101\n"
     ]
    }
   ],
   "source": [
    "#32. Write a program to print 1 to 100 prime numbers in fibonacci series\n",
    "a=0\n",
    "b=1\n",
    "print(a)\n",
    "print(b)\n",
    "n=100\n",
    "while(n):\n",
    "    c=a+b\n",
    "    print(c)\n",
    "    a,b=b,c\n",
    "    n-=1"
   ]
  },
  {
   "cell_type": "code",
   "execution_count": 25,
   "metadata": {},
   "outputs": [
    {
     "name": "stdout",
     "output_type": "stream",
     "text": [
      "1060\n"
     ]
    }
   ],
   "source": [
    "#33. Write a program Sum of prime numbers in a given collection\n",
    "m=1\n",
    "n=100\n",
    "sum=0\n",
    "while(m<=n):\n",
    "    i=1\n",
    "    k=m\n",
    "    count=0\n",
    "    while(i<=k):\n",
    "         if(k%i==0):\n",
    "            count+=1\n",
    "         i+=1     \n",
    "             \n",
    "    if(count==2):\n",
    "        sum=sum+k\n",
    "        \n",
    "    m+=1         \n",
    "print(sum)\n"
   ]
  },
  {
   "cell_type": "code",
   "execution_count": 44,
   "metadata": {},
   "outputs": [
    {
     "name": "stdout",
     "output_type": "stream",
     "text": [
      "pailndrome\n"
     ]
    }
   ],
   "source": [
    "#34. WAP to the given number is palindrome or not\n",
    "a=121\n",
    "temp=a\n",
    "rev=0\n",
    "while(a):\n",
    "    c=a%10\n",
    "    rev=rev*10+c\n",
    "    a=a//10\n",
    "if(rev==temp):\n",
    "    print(\"pailndrome\")\n",
    "else:\n",
    "    print(\"not\")   "
   ]
  }
 ],
 "metadata": {
  "kernelspec": {
   "display_name": "Python 3",
   "language": "python",
   "name": "python3"
  },
  "language_info": {
   "codemirror_mode": {
    "name": "ipython",
    "version": 3
   },
   "file_extension": ".py",
   "mimetype": "text/x-python",
   "name": "python",
   "nbconvert_exporter": "python",
   "pygments_lexer": "ipython3",
   "version": "3.11.4"
  },
  "orig_nbformat": 4
 },
 "nbformat": 4,
 "nbformat_minor": 2
}
